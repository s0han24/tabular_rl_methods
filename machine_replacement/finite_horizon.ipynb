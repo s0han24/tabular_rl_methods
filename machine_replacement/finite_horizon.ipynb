{
 "cells": [
  {
   "cell_type": "markdown",
   "id": "ca1e5a79",
   "metadata": {},
   "source": [
    "# DP solution to the MODIFIED Machine Replacement Problem\n",
    "### Modifications to the problem statement:\n",
    "- At the end of time T, the machine is sold for a price F(i) where i is the state of the machine\n",
    "- This payout is such that it favours machines in lower states\n",
    "- At the last time step, the only action allowed is the non-replacing action\n",
    "\n",
    "#### Transition Probabilities\n",
    "$$P_{ij}(0) = P_{0j}$$\n",
    "$$P_{ij}(1) = P_{ij}$$\n",
    "for all $0 \\le i < N-1$ at state N-1 the default action is the non-replacement action(action 1)\n",
    "\n",
    "#### One stage costs(rewards)\n",
    "$$C_t(i,0) = R+C(0)$$\n",
    "$$C_t(i,1) = C(i)$$\n",
    "$$C_T(i,0) = C_T(i,1) = -S(i)$$\n",
    "for all $0 \\le i\\le N$, $t < T$ where $S(i)$ is the selling price of the machine at time T\n",
    "\n",
    "## Assumptions:\n",
    "i. $\\{C(i) , i\\ge 0\\}$ is a bounded increasing sequence.  \n",
    "ii. $\\sum_{j=k}^{N}P_{ij}$ is an increasing function of i, for each $k\\ge 0$  \n",
    "iii. S(i) is a decreasing sequence in i\n"
   ]
  },
  {
   "cell_type": "markdown",
   "id": "d67dccdc",
   "metadata": {},
   "source": [
    "### Implementation details\n",
    "- transition probabilities are given by:\n",
    "    - $P_{i,i} = p$, $P_{i,i+1} = 1-p$ for $0 \\le i < N-1$\n",
    "    - $P_{N-1,N-1} = 1$\n",
    "- The cost function used here is $C(i) = i^2 + i$  \n",
    "- The final payout is $S(i) = N^2 - 5i^2$ where N is the total number of states"
   ]
  },
  {
   "cell_type": "code",
   "execution_count": 37,
   "id": "88a59f9c",
   "metadata": {},
   "outputs": [],
   "source": [
    "# %conda install -c conda-forge plotly \"notebook>=7.0\" \"anywidget>=0.9.13\"\n",
    "# %conda install nbformat"
   ]
  },
  {
   "cell_type": "code",
   "execution_count": 38,
   "id": "d3580e94",
   "metadata": {},
   "outputs": [],
   "source": [
    "import numpy as np\n",
    "import matplotlib.pyplot as plt\n",
    "import plotly.graph_objects as go\n",
    "import plotly.express as px"
   ]
  },
  {
   "cell_type": "code",
   "execution_count": 39,
   "id": "32640539",
   "metadata": {},
   "outputs": [],
   "source": [
    "N = 20 # number of states\n",
    "replacement_cost = 100 # cost of replacement\n",
    "transition_probability = np.zeros((2,N,N))\n",
    "time_steps = 60 # number of time steps"
   ]
  },
  {
   "cell_type": "code",
   "execution_count": 40,
   "id": "0752911e",
   "metadata": {},
   "outputs": [],
   "source": [
    "def final_payoff(state):\n",
    "    return 5*(state**2) - N**2 # final payoff function, negative because it is a cost\n",
    "\n",
    "def maintenance_cost(state):\n",
    "    return state**2 + state\n",
    "\n",
    "def cost_function(state, action, replacement_cost, time):\n",
    "    if time > time_steps:\n",
    "        return 0\n",
    "    if time == time_steps:\n",
    "        return final_payoff(state)\n",
    "    if action == 0:\n",
    "        return replacement_cost + maintenance_cost(0)\n",
    "    else:\n",
    "        return maintenance_cost(state)"
   ]
  },
  {
   "cell_type": "code",
   "execution_count": 41,
   "id": "a6964295",
   "metadata": {},
   "outputs": [],
   "source": [
    "C = [[[cost_function(i, j, replacement_cost, t) for i in range(N)] for j in range(2)] for t in range(time_steps + 1)]\n",
    "C = np.array(C)"
   ]
  },
  {
   "cell_type": "code",
   "execution_count": 42,
   "id": "10fc13a5",
   "metadata": {},
   "outputs": [
    {
     "data": {
      "application/vnd.plotly.v1+json": {
       "config": {
        "plotlyServerURL": "https://plot.ly"
       },
       "data": [
        {
         "colorscale": [
          [
           0,
           "#440154"
          ],
          [
           0.1111111111111111,
           "#482878"
          ],
          [
           0.2222222222222222,
           "#3e4989"
          ],
          [
           0.3333333333333333,
           "#31688e"
          ],
          [
           0.4444444444444444,
           "#26828e"
          ],
          [
           0.5555555555555556,
           "#1f9e89"
          ],
          [
           0.6666666666666666,
           "#35b779"
          ],
          [
           0.7777777777777778,
           "#6ece58"
          ],
          [
           0.8888888888888888,
           "#b5de2b"
          ],
          [
           1,
           "#fde725"
          ]
         ],
         "type": "surface",
         "x": {
          "bdata": "AAECAwQFBgcICQoLDA0ODxAREhMAAQIDBAUGBwgJCgsMDQ4PEBESEwABAgMEBQYHCAkKCwwNDg8QERITAAECAwQFBgcICQoLDA0ODxAREhMAAQIDBAUGBwgJCgsMDQ4PEBESEwABAgMEBQYHCAkKCwwNDg8QERITAAECAwQFBgcICQoLDA0ODxAREhMAAQIDBAUGBwgJCgsMDQ4PEBESEwABAgMEBQYHCAkKCwwNDg8QERITAAECAwQFBgcICQoLDA0ODxAREhMAAQIDBAUGBwgJCgsMDQ4PEBESEwABAgMEBQYHCAkKCwwNDg8QERITAAECAwQFBgcICQoLDA0ODxAREhMAAQIDBAUGBwgJCgsMDQ4PEBESEwABAgMEBQYHCAkKCwwNDg8QERITAAECAwQFBgcICQoLDA0ODxAREhMAAQIDBAUGBwgJCgsMDQ4PEBESEwABAgMEBQYHCAkKCwwNDg8QERITAAECAwQFBgcICQoLDA0ODxAREhMAAQIDBAUGBwgJCgsMDQ4PEBESEwABAgMEBQYHCAkKCwwNDg8QERITAAECAwQFBgcICQoLDA0ODxAREhMAAQIDBAUGBwgJCgsMDQ4PEBESEwABAgMEBQYHCAkKCwwNDg8QERITAAECAwQFBgcICQoLDA0ODxAREhMAAQIDBAUGBwgJCgsMDQ4PEBESEwABAgMEBQYHCAkKCwwNDg8QERITAAECAwQFBgcICQoLDA0ODxAREhMAAQIDBAUGBwgJCgsMDQ4PEBESEwABAgMEBQYHCAkKCwwNDg8QERITAAECAwQFBgcICQoLDA0ODxAREhMAAQIDBAUGBwgJCgsMDQ4PEBESEwABAgMEBQYHCAkKCwwNDg8QERITAAECAwQFBgcICQoLDA0ODxAREhMAAQIDBAUGBwgJCgsMDQ4PEBESEwABAgMEBQYHCAkKCwwNDg8QERITAAECAwQFBgcICQoLDA0ODxAREhMAAQIDBAUGBwgJCgsMDQ4PEBESEwABAgMEBQYHCAkKCwwNDg8QERITAAECAwQFBgcICQoLDA0ODxAREhMAAQIDBAUGBwgJCgsMDQ4PEBESEwABAgMEBQYHCAkKCwwNDg8QERITAAECAwQFBgcICQoLDA0ODxAREhMAAQIDBAUGBwgJCgsMDQ4PEBESEwABAgMEBQYHCAkKCwwNDg8QERITAAECAwQFBgcICQoLDA0ODxAREhMAAQIDBAUGBwgJCgsMDQ4PEBESEwABAgMEBQYHCAkKCwwNDg8QERITAAECAwQFBgcICQoLDA0ODxAREhMAAQIDBAUGBwgJCgsMDQ4PEBESEwABAgMEBQYHCAkKCwwNDg8QERITAAECAwQFBgcICQoLDA0ODxAREhMAAQIDBAUGBwgJCgsMDQ4PEBESEwABAgMEBQYHCAkKCwwNDg8QERITAAECAwQFBgcICQoLDA0ODxAREhMAAQIDBAUGBwgJCgsMDQ4PEBESEwABAgMEBQYHCAkKCwwNDg8QERITAAECAwQFBgcICQoLDA0ODxAREhMAAQIDBAUGBwgJCgsMDQ4PEBESEwABAgMEBQYHCAkKCwwNDg8QERITAAECAwQFBgcICQoLDA0ODxAREhM=",
          "dtype": "i1",
          "shape": "61, 20"
         },
         "y": {
          "bdata": "AAAAAAAAAAAAAAAAAAAAAAAAAAABAQEBAQEBAQEBAQEBAQEBAQEBAQICAgICAgICAgICAgICAgICAgICAwMDAwMDAwMDAwMDAwMDAwMDAwMEBAQEBAQEBAQEBAQEBAQEBAQEBAUFBQUFBQUFBQUFBQUFBQUFBQUFBgYGBgYGBgYGBgYGBgYGBgYGBgYHBwcHBwcHBwcHBwcHBwcHBwcHBwgICAgICAgICAgICAgICAgICAgICQkJCQkJCQkJCQkJCQkJCQkJCQkKCgoKCgoKCgoKCgoKCgoKCgoKCgsLCwsLCwsLCwsLCwsLCwsLCwsLDAwMDAwMDAwMDAwMDAwMDAwMDAwNDQ0NDQ0NDQ0NDQ0NDQ0NDQ0NDQ4ODg4ODg4ODg4ODg4ODg4ODg4ODw8PDw8PDw8PDw8PDw8PDw8PDw8QEBAQEBAQEBAQEBAQEBAQEBAQEBEREREREREREREREREREREREREREhISEhISEhISEhISEhISEhISEhITExMTExMTExMTExMTExMTExMTExQUFBQUFBQUFBQUFBQUFBQUFBQUFRUVFRUVFRUVFRUVFRUVFRUVFRUWFhYWFhYWFhYWFhYWFhYWFhYWFhcXFxcXFxcXFxcXFxcXFxcXFxcXGBgYGBgYGBgYGBgYGBgYGBgYGBgZGRkZGRkZGRkZGRkZGRkZGRkZGRoaGhoaGhoaGhoaGhoaGhoaGhoaGxsbGxsbGxsbGxsbGxsbGxsbGxscHBwcHBwcHBwcHBwcHBwcHBwcHB0dHR0dHR0dHR0dHR0dHR0dHR0dHh4eHh4eHh4eHh4eHh4eHh4eHh4fHx8fHx8fHx8fHx8fHx8fHx8fHyAgICAgICAgICAgICAgICAgICAgISEhISEhISEhISEhISEhISEhISEiIiIiIiIiIiIiIiIiIiIiIiIiIiMjIyMjIyMjIyMjIyMjIyMjIyMjJCQkJCQkJCQkJCQkJCQkJCQkJCQlJSUlJSUlJSUlJSUlJSUlJSUlJSYmJiYmJiYmJiYmJiYmJiYmJiYmJycnJycnJycnJycnJycnJycnJycoKCgoKCgoKCgoKCgoKCgoKCgoKCkpKSkpKSkpKSkpKSkpKSkpKSkpKioqKioqKioqKioqKioqKioqKiorKysrKysrKysrKysrKysrKysrKywsLCwsLCwsLCwsLCwsLCwsLCwsLS0tLS0tLS0tLS0tLS0tLS0tLS0uLi4uLi4uLi4uLi4uLi4uLi4uLi8vLy8vLy8vLy8vLy8vLy8vLy8vMDAwMDAwMDAwMDAwMDAwMDAwMDAxMTExMTExMTExMTExMTExMTExMTIyMjIyMjIyMjIyMjIyMjIyMjIyMzMzMzMzMzMzMzMzMzMzMzMzMzM0NDQ0NDQ0NDQ0NDQ0NDQ0NDQ0NDU1NTU1NTU1NTU1NTU1NTU1NTU1NjY2NjY2NjY2NjY2NjY2NjY2NjY3Nzc3Nzc3Nzc3Nzc3Nzc3Nzc3Nzg4ODg4ODg4ODg4ODg4ODg4ODg4OTk5OTk5OTk5OTk5OTk5OTk5OTk6Ojo6Ojo6Ojo6Ojo6Ojo6Ojo6Ojs7Ozs7Ozs7Ozs7Ozs7Ozs7Ozs7PDw8PDw8PDw8PDw8PDw8PDw8PDw=",
          "dtype": "i1",
          "shape": "61, 20"
         },
         "z": {
          "bdata": "ZABkAGQAZABkAGQAZABkAGQAZABkAGQAZABkAGQAZABkAGQAZABkAGQAZABkAGQAZABkAGQAZABkAGQAZABkAGQAZABkAGQAZABkAGQAZABkAGQAZABkAGQAZABkAGQAZABkAGQAZABkAGQAZABkAGQAZABkAGQAZABkAGQAZABkAGQAZABkAGQAZABkAGQAZABkAGQAZABkAGQAZABkAGQAZABkAGQAZABkAGQAZABkAGQAZABkAGQAZABkAGQAZABkAGQAZABkAGQAZABkAGQAZABkAGQAZABkAGQAZABkAGQAZABkAGQAZABkAGQAZABkAGQAZABkAGQAZABkAGQAZABkAGQAZABkAGQAZABkAGQAZABkAGQAZABkAGQAZABkAGQAZABkAGQAZABkAGQAZABkAGQAZABkAGQAZABkAGQAZABkAGQAZABkAGQAZABkAGQAZABkAGQAZABkAGQAZABkAGQAZABkAGQAZABkAGQAZABkAGQAZABkAGQAZABkAGQAZABkAGQAZABkAGQAZABkAGQAZABkAGQAZABkAGQAZABkAGQAZABkAGQAZABkAGQAZABkAGQAZABkAGQAZABkAGQAZABkAGQAZABkAGQAZABkAGQAZABkAGQAZABkAGQAZABkAGQAZABkAGQAZABkAGQAZABkAGQAZABkAGQAZABkAGQAZABkAGQAZABkAGQAZABkAGQAZABkAGQAZABkAGQAZABkAGQAZABkAGQAZABkAGQAZABkAGQAZABkAGQAZABkAGQAZABkAGQAZABkAGQAZABkAGQAZABkAGQAZABkAGQAZABkAGQAZABkAGQAZABkAGQAZABkAGQAZABkAGQAZABkAGQAZABkAGQAZABkAGQAZABkAGQAZABkAGQAZABkAGQAZABkAGQAZABkAGQAZABkAGQAZABkAGQAZABkAGQAZABkAGQAZABkAGQAZABkAGQAZABkAGQAZABkAGQAZABkAGQAZABkAGQAZABkAGQAZABkAGQAZABkAGQAZABkAGQAZABkAGQAZABkAGQAZABkAGQAZABkAGQAZABkAGQAZABkAGQAZABkAGQAZABkAGQAZABkAGQAZABkAGQAZABkAGQAZABkAGQAZABkAGQAZABkAGQAZABkAGQAZABkAGQAZABkAGQAZABkAGQAZABkAGQAZABkAGQAZABkAGQAZABkAGQAZABkAGQAZABkAGQAZABkAGQAZABkAGQAZABkAGQAZABkAGQAZABkAGQAZABkAGQAZABkAGQAZABkAGQAZABkAGQAZABkAGQAZABkAGQAZABkAGQAZABkAGQAZABkAGQAZABkAGQAZABkAGQAZABkAGQAZABkAGQAZABkAGQAZABkAGQAZABkAGQAZABkAGQAZABkAGQAZABkAGQAZABkAGQAZABkAGQAZABkAGQAZABkAGQAZABkAGQAZABkAGQAZABkAGQAZABkAGQAZABkAGQAZABkAGQAZABkAGQAZABkAGQAZABkAGQAZABkAGQAZABkAGQAZABkAGQAZABkAGQAZABkAGQAZABkAGQAZABkAGQAZABkAGQAZABkAGQAZABkAGQAZABkAGQAZABkAGQAZABkAGQAZABkAGQAZABkAGQAZABkAGQAZABkAGQAZABkAGQAZABkAGQAZABkAGQAZABkAGQAZABkAGQAZABkAGQAZABkAGQAZABkAGQAZABkAGQAZABkAGQAZABkAGQAZABkAGQAZABkAGQAZABkAGQAZABkAGQAZABkAGQAZABkAGQAZABkAGQAZABkAGQAZABkAGQAZABkAGQAZABkAGQAZABkAGQAZABkAGQAZABkAGQAZABkAGQAZABkAGQAZABkAGQAZABkAGQAZABkAGQAZABkAGQAZABkAGQAZABkAGQAZABkAGQAZABkAGQAZABkAGQAZABkAGQAZABkAGQAZABkAGQAZABkAGQAZABkAGQAZABkAGQAZABkAGQAZABkAGQAZABkAGQAZABkAGQAZABkAGQAZABkAGQAZABkAGQAZABkAGQAZABkAGQAZABkAGQAZABkAGQAZABkAGQAZABkAGQAZABkAGQAZABkAGQAZABkAGQAZABkAGQAZABkAGQAZABkAGQAZABkAGQAZABkAGQAZABkAGQAZABkAGQAZABkAGQAZABkAGQAZABkAGQAZABkAGQAZABkAGQAZABkAGQAZABkAGQAZABkAGQAZABkAGQAZABkAGQAZABkAGQAZABkAGQAZABkAGQAZABkAGQAZABkAGQAZABkAGQAZABkAGQAZABkAGQAZABkAGQAZABkAGQAZABkAGQAZABkAGQAZABkAGQAZABkAGQAZABkAGQAZABkAGQAZABkAGQAZABkAGQAZABkAGQAZABkAGQAZABkAGQAZABkAGQAZABkAGQAZABkAGQAZABkAGQAZABkAGQAZABkAGQAZABkAGQAZABkAGQAZABkAGQAZABkAGQAZABkAGQAZABkAGQAZABkAGQAZABkAGQAZABkAGQAZABkAGQAZABkAGQAZABkAGQAZABkAGQAZABkAGQAZABkAGQAZABkAGQAZABkAGQAZABkAGQAZABkAGQAZABkAGQAZABkAGQAZABkAGQAZABkAGQAZABkAGQAZABkAGQAZABkAGQAZABkAGQAZABkAGQAZABkAGQAZABkAGQAZABkAGQAZABkAGQAZABkAGQAZABkAGQAZABkAGQAZABkAGQAZABkAGQAZABkAGQAZABkAGQAZABkAGQAZABkAGQAZABkAGQAZABkAGQAZABkAGQAZABkAGQAZABkAGQAZABkAGQAZABkAGQAZABkAGQAZABkAGQAZABkAGQAZABkAGQAZABkAGQAZABkAGQAZABkAGQAZABkAGQAZABkAGQAZABkAGQAZABkAGQAZABkAGQAZABkAGQAZABkAGQAZABkAGQAZABkAGQAZABkAGQAZABkAGQAZABkAGQAZABkAGQAZABkAGQAZABkAGQAZABkAGQAZABkAGQAZABkAGQAZABkAGQAZABkAGQAZABkAGQAZABkAGQAZABkAGQAZABkAGQAZABkAGQAZABkAGQAZABkAGQAZABkAGQAZABkAGQAZABkAGQAZABkAGQAZABkAGQAZABkAGQAZABkAGQAZABkAGQAcP51/oT+nf7A/u3+JP9l/7D/BQBkAM0AQAG9AUQC1QJwAxUExAR9BQ==",
          "dtype": "i2",
          "shape": "61, 20"
         }
        }
       ],
       "layout": {
        "scene": {
         "xaxis": {
          "title": {
           "text": "State"
          }
         },
         "yaxis": {
          "title": {
           "text": "Time Steps"
          }
         },
         "zaxis": {
          "title": {
           "text": "Cost"
          }
         }
        },
        "template": {
         "data": {
          "bar": [
           {
            "error_x": {
             "color": "#2a3f5f"
            },
            "error_y": {
             "color": "#2a3f5f"
            },
            "marker": {
             "line": {
              "color": "#E5ECF6",
              "width": 0.5
             },
             "pattern": {
              "fillmode": "overlay",
              "size": 10,
              "solidity": 0.2
             }
            },
            "type": "bar"
           }
          ],
          "barpolar": [
           {
            "marker": {
             "line": {
              "color": "#E5ECF6",
              "width": 0.5
             },
             "pattern": {
              "fillmode": "overlay",
              "size": 10,
              "solidity": 0.2
             }
            },
            "type": "barpolar"
           }
          ],
          "carpet": [
           {
            "aaxis": {
             "endlinecolor": "#2a3f5f",
             "gridcolor": "white",
             "linecolor": "white",
             "minorgridcolor": "white",
             "startlinecolor": "#2a3f5f"
            },
            "baxis": {
             "endlinecolor": "#2a3f5f",
             "gridcolor": "white",
             "linecolor": "white",
             "minorgridcolor": "white",
             "startlinecolor": "#2a3f5f"
            },
            "type": "carpet"
           }
          ],
          "choropleth": [
           {
            "colorbar": {
             "outlinewidth": 0,
             "ticks": ""
            },
            "type": "choropleth"
           }
          ],
          "contour": [
           {
            "colorbar": {
             "outlinewidth": 0,
             "ticks": ""
            },
            "colorscale": [
             [
              0,
              "#0d0887"
             ],
             [
              0.1111111111111111,
              "#46039f"
             ],
             [
              0.2222222222222222,
              "#7201a8"
             ],
             [
              0.3333333333333333,
              "#9c179e"
             ],
             [
              0.4444444444444444,
              "#bd3786"
             ],
             [
              0.5555555555555556,
              "#d8576b"
             ],
             [
              0.6666666666666666,
              "#ed7953"
             ],
             [
              0.7777777777777778,
              "#fb9f3a"
             ],
             [
              0.8888888888888888,
              "#fdca26"
             ],
             [
              1,
              "#f0f921"
             ]
            ],
            "type": "contour"
           }
          ],
          "contourcarpet": [
           {
            "colorbar": {
             "outlinewidth": 0,
             "ticks": ""
            },
            "type": "contourcarpet"
           }
          ],
          "heatmap": [
           {
            "colorbar": {
             "outlinewidth": 0,
             "ticks": ""
            },
            "colorscale": [
             [
              0,
              "#0d0887"
             ],
             [
              0.1111111111111111,
              "#46039f"
             ],
             [
              0.2222222222222222,
              "#7201a8"
             ],
             [
              0.3333333333333333,
              "#9c179e"
             ],
             [
              0.4444444444444444,
              "#bd3786"
             ],
             [
              0.5555555555555556,
              "#d8576b"
             ],
             [
              0.6666666666666666,
              "#ed7953"
             ],
             [
              0.7777777777777778,
              "#fb9f3a"
             ],
             [
              0.8888888888888888,
              "#fdca26"
             ],
             [
              1,
              "#f0f921"
             ]
            ],
            "type": "heatmap"
           }
          ],
          "histogram": [
           {
            "marker": {
             "pattern": {
              "fillmode": "overlay",
              "size": 10,
              "solidity": 0.2
             }
            },
            "type": "histogram"
           }
          ],
          "histogram2d": [
           {
            "colorbar": {
             "outlinewidth": 0,
             "ticks": ""
            },
            "colorscale": [
             [
              0,
              "#0d0887"
             ],
             [
              0.1111111111111111,
              "#46039f"
             ],
             [
              0.2222222222222222,
              "#7201a8"
             ],
             [
              0.3333333333333333,
              "#9c179e"
             ],
             [
              0.4444444444444444,
              "#bd3786"
             ],
             [
              0.5555555555555556,
              "#d8576b"
             ],
             [
              0.6666666666666666,
              "#ed7953"
             ],
             [
              0.7777777777777778,
              "#fb9f3a"
             ],
             [
              0.8888888888888888,
              "#fdca26"
             ],
             [
              1,
              "#f0f921"
             ]
            ],
            "type": "histogram2d"
           }
          ],
          "histogram2dcontour": [
           {
            "colorbar": {
             "outlinewidth": 0,
             "ticks": ""
            },
            "colorscale": [
             [
              0,
              "#0d0887"
             ],
             [
              0.1111111111111111,
              "#46039f"
             ],
             [
              0.2222222222222222,
              "#7201a8"
             ],
             [
              0.3333333333333333,
              "#9c179e"
             ],
             [
              0.4444444444444444,
              "#bd3786"
             ],
             [
              0.5555555555555556,
              "#d8576b"
             ],
             [
              0.6666666666666666,
              "#ed7953"
             ],
             [
              0.7777777777777778,
              "#fb9f3a"
             ],
             [
              0.8888888888888888,
              "#fdca26"
             ],
             [
              1,
              "#f0f921"
             ]
            ],
            "type": "histogram2dcontour"
           }
          ],
          "mesh3d": [
           {
            "colorbar": {
             "outlinewidth": 0,
             "ticks": ""
            },
            "type": "mesh3d"
           }
          ],
          "parcoords": [
           {
            "line": {
             "colorbar": {
              "outlinewidth": 0,
              "ticks": ""
             }
            },
            "type": "parcoords"
           }
          ],
          "pie": [
           {
            "automargin": true,
            "type": "pie"
           }
          ],
          "scatter": [
           {
            "fillpattern": {
             "fillmode": "overlay",
             "size": 10,
             "solidity": 0.2
            },
            "type": "scatter"
           }
          ],
          "scatter3d": [
           {
            "line": {
             "colorbar": {
              "outlinewidth": 0,
              "ticks": ""
             }
            },
            "marker": {
             "colorbar": {
              "outlinewidth": 0,
              "ticks": ""
             }
            },
            "type": "scatter3d"
           }
          ],
          "scattercarpet": [
           {
            "marker": {
             "colorbar": {
              "outlinewidth": 0,
              "ticks": ""
             }
            },
            "type": "scattercarpet"
           }
          ],
          "scattergeo": [
           {
            "marker": {
             "colorbar": {
              "outlinewidth": 0,
              "ticks": ""
             }
            },
            "type": "scattergeo"
           }
          ],
          "scattergl": [
           {
            "marker": {
             "colorbar": {
              "outlinewidth": 0,
              "ticks": ""
             }
            },
            "type": "scattergl"
           }
          ],
          "scattermap": [
           {
            "marker": {
             "colorbar": {
              "outlinewidth": 0,
              "ticks": ""
             }
            },
            "type": "scattermap"
           }
          ],
          "scattermapbox": [
           {
            "marker": {
             "colorbar": {
              "outlinewidth": 0,
              "ticks": ""
             }
            },
            "type": "scattermapbox"
           }
          ],
          "scatterpolar": [
           {
            "marker": {
             "colorbar": {
              "outlinewidth": 0,
              "ticks": ""
             }
            },
            "type": "scatterpolar"
           }
          ],
          "scatterpolargl": [
           {
            "marker": {
             "colorbar": {
              "outlinewidth": 0,
              "ticks": ""
             }
            },
            "type": "scatterpolargl"
           }
          ],
          "scatterternary": [
           {
            "marker": {
             "colorbar": {
              "outlinewidth": 0,
              "ticks": ""
             }
            },
            "type": "scatterternary"
           }
          ],
          "surface": [
           {
            "colorbar": {
             "outlinewidth": 0,
             "ticks": ""
            },
            "colorscale": [
             [
              0,
              "#0d0887"
             ],
             [
              0.1111111111111111,
              "#46039f"
             ],
             [
              0.2222222222222222,
              "#7201a8"
             ],
             [
              0.3333333333333333,
              "#9c179e"
             ],
             [
              0.4444444444444444,
              "#bd3786"
             ],
             [
              0.5555555555555556,
              "#d8576b"
             ],
             [
              0.6666666666666666,
              "#ed7953"
             ],
             [
              0.7777777777777778,
              "#fb9f3a"
             ],
             [
              0.8888888888888888,
              "#fdca26"
             ],
             [
              1,
              "#f0f921"
             ]
            ],
            "type": "surface"
           }
          ],
          "table": [
           {
            "cells": {
             "fill": {
              "color": "#EBF0F8"
             },
             "line": {
              "color": "white"
             }
            },
            "header": {
             "fill": {
              "color": "#C8D4E3"
             },
             "line": {
              "color": "white"
             }
            },
            "type": "table"
           }
          ]
         },
         "layout": {
          "annotationdefaults": {
           "arrowcolor": "#2a3f5f",
           "arrowhead": 0,
           "arrowwidth": 1
          },
          "autotypenumbers": "strict",
          "coloraxis": {
           "colorbar": {
            "outlinewidth": 0,
            "ticks": ""
           }
          },
          "colorscale": {
           "diverging": [
            [
             0,
             "#8e0152"
            ],
            [
             0.1,
             "#c51b7d"
            ],
            [
             0.2,
             "#de77ae"
            ],
            [
             0.3,
             "#f1b6da"
            ],
            [
             0.4,
             "#fde0ef"
            ],
            [
             0.5,
             "#f7f7f7"
            ],
            [
             0.6,
             "#e6f5d0"
            ],
            [
             0.7,
             "#b8e186"
            ],
            [
             0.8,
             "#7fbc41"
            ],
            [
             0.9,
             "#4d9221"
            ],
            [
             1,
             "#276419"
            ]
           ],
           "sequential": [
            [
             0,
             "#0d0887"
            ],
            [
             0.1111111111111111,
             "#46039f"
            ],
            [
             0.2222222222222222,
             "#7201a8"
            ],
            [
             0.3333333333333333,
             "#9c179e"
            ],
            [
             0.4444444444444444,
             "#bd3786"
            ],
            [
             0.5555555555555556,
             "#d8576b"
            ],
            [
             0.6666666666666666,
             "#ed7953"
            ],
            [
             0.7777777777777778,
             "#fb9f3a"
            ],
            [
             0.8888888888888888,
             "#fdca26"
            ],
            [
             1,
             "#f0f921"
            ]
           ],
           "sequentialminus": [
            [
             0,
             "#0d0887"
            ],
            [
             0.1111111111111111,
             "#46039f"
            ],
            [
             0.2222222222222222,
             "#7201a8"
            ],
            [
             0.3333333333333333,
             "#9c179e"
            ],
            [
             0.4444444444444444,
             "#bd3786"
            ],
            [
             0.5555555555555556,
             "#d8576b"
            ],
            [
             0.6666666666666666,
             "#ed7953"
            ],
            [
             0.7777777777777778,
             "#fb9f3a"
            ],
            [
             0.8888888888888888,
             "#fdca26"
            ],
            [
             1,
             "#f0f921"
            ]
           ]
          },
          "colorway": [
           "#636efa",
           "#EF553B",
           "#00cc96",
           "#ab63fa",
           "#FFA15A",
           "#19d3f3",
           "#FF6692",
           "#B6E880",
           "#FF97FF",
           "#FECB52"
          ],
          "font": {
           "color": "#2a3f5f"
          },
          "geo": {
           "bgcolor": "white",
           "lakecolor": "white",
           "landcolor": "#E5ECF6",
           "showlakes": true,
           "showland": true,
           "subunitcolor": "white"
          },
          "hoverlabel": {
           "align": "left"
          },
          "hovermode": "closest",
          "mapbox": {
           "style": "light"
          },
          "paper_bgcolor": "white",
          "plot_bgcolor": "#E5ECF6",
          "polar": {
           "angularaxis": {
            "gridcolor": "white",
            "linecolor": "white",
            "ticks": ""
           },
           "bgcolor": "#E5ECF6",
           "radialaxis": {
            "gridcolor": "white",
            "linecolor": "white",
            "ticks": ""
           }
          },
          "scene": {
           "xaxis": {
            "backgroundcolor": "#E5ECF6",
            "gridcolor": "white",
            "gridwidth": 2,
            "linecolor": "white",
            "showbackground": true,
            "ticks": "",
            "zerolinecolor": "white"
           },
           "yaxis": {
            "backgroundcolor": "#E5ECF6",
            "gridcolor": "white",
            "gridwidth": 2,
            "linecolor": "white",
            "showbackground": true,
            "ticks": "",
            "zerolinecolor": "white"
           },
           "zaxis": {
            "backgroundcolor": "#E5ECF6",
            "gridcolor": "white",
            "gridwidth": 2,
            "linecolor": "white",
            "showbackground": true,
            "ticks": "",
            "zerolinecolor": "white"
           }
          },
          "shapedefaults": {
           "line": {
            "color": "#2a3f5f"
           }
          },
          "ternary": {
           "aaxis": {
            "gridcolor": "white",
            "linecolor": "white",
            "ticks": ""
           },
           "baxis": {
            "gridcolor": "white",
            "linecolor": "white",
            "ticks": ""
           },
           "bgcolor": "#E5ECF6",
           "caxis": {
            "gridcolor": "white",
            "linecolor": "white",
            "ticks": ""
           }
          },
          "title": {
           "x": 0.05
          },
          "xaxis": {
           "automargin": true,
           "gridcolor": "white",
           "linecolor": "white",
           "ticks": "",
           "title": {
            "standoff": 15
           },
           "zerolinecolor": "white",
           "zerolinewidth": 2
          },
          "yaxis": {
           "automargin": true,
           "gridcolor": "white",
           "linecolor": "white",
           "ticks": "",
           "title": {
            "standoff": 15
           },
           "zerolinecolor": "white",
           "zerolinewidth": 2
          }
         }
        },
        "title": {
         "text": "Cost Function Surface For Replacement"
        }
       }
      }
     },
     "metadata": {},
     "output_type": "display_data"
    }
   ],
   "source": [
    "# Create a meshgrid for plotting\n",
    "X, Y = np.meshgrid(np.arange(N), np.arange(time_steps + 1))\n",
    "Z = C[:, 0, :]\n",
    "\n",
    "fig = go.Figure(data=[go.Surface(z=Z, x=X, y=Y, colorscale='Viridis')])\n",
    "fig.update_layout(title='Cost Function Surface For Replacement', scene=dict(\n",
    "    xaxis_title='State',\n",
    "    yaxis_title='Time Steps',\n",
    "    zaxis_title='Cost'\n",
    "))\n",
    "\n",
    "fig.show()"
   ]
  },
  {
   "cell_type": "code",
   "execution_count": 43,
   "id": "3fb4207b",
   "metadata": {},
   "outputs": [
    {
     "data": {
      "application/vnd.plotly.v1+json": {
       "config": {
        "plotlyServerURL": "https://plot.ly"
       },
       "data": [
        {
         "colorscale": [
          [
           0,
           "#440154"
          ],
          [
           0.1111111111111111,
           "#482878"
          ],
          [
           0.2222222222222222,
           "#3e4989"
          ],
          [
           0.3333333333333333,
           "#31688e"
          ],
          [
           0.4444444444444444,
           "#26828e"
          ],
          [
           0.5555555555555556,
           "#1f9e89"
          ],
          [
           0.6666666666666666,
           "#35b779"
          ],
          [
           0.7777777777777778,
           "#6ece58"
          ],
          [
           0.8888888888888888,
           "#b5de2b"
          ],
          [
           1,
           "#fde725"
          ]
         ],
         "type": "surface",
         "x": {
          "bdata": "AAECAwQFBgcICQoLDA0ODxAREhMAAQIDBAUGBwgJCgsMDQ4PEBESEwABAgMEBQYHCAkKCwwNDg8QERITAAECAwQFBgcICQoLDA0ODxAREhMAAQIDBAUGBwgJCgsMDQ4PEBESEwABAgMEBQYHCAkKCwwNDg8QERITAAECAwQFBgcICQoLDA0ODxAREhMAAQIDBAUGBwgJCgsMDQ4PEBESEwABAgMEBQYHCAkKCwwNDg8QERITAAECAwQFBgcICQoLDA0ODxAREhMAAQIDBAUGBwgJCgsMDQ4PEBESEwABAgMEBQYHCAkKCwwNDg8QERITAAECAwQFBgcICQoLDA0ODxAREhMAAQIDBAUGBwgJCgsMDQ4PEBESEwABAgMEBQYHCAkKCwwNDg8QERITAAECAwQFBgcICQoLDA0ODxAREhMAAQIDBAUGBwgJCgsMDQ4PEBESEwABAgMEBQYHCAkKCwwNDg8QERITAAECAwQFBgcICQoLDA0ODxAREhMAAQIDBAUGBwgJCgsMDQ4PEBESEwABAgMEBQYHCAkKCwwNDg8QERITAAECAwQFBgcICQoLDA0ODxAREhMAAQIDBAUGBwgJCgsMDQ4PEBESEwABAgMEBQYHCAkKCwwNDg8QERITAAECAwQFBgcICQoLDA0ODxAREhMAAQIDBAUGBwgJCgsMDQ4PEBESEwABAgMEBQYHCAkKCwwNDg8QERITAAECAwQFBgcICQoLDA0ODxAREhMAAQIDBAUGBwgJCgsMDQ4PEBESEwABAgMEBQYHCAkKCwwNDg8QERITAAECAwQFBgcICQoLDA0ODxAREhMAAQIDBAUGBwgJCgsMDQ4PEBESEwABAgMEBQYHCAkKCwwNDg8QERITAAECAwQFBgcICQoLDA0ODxAREhMAAQIDBAUGBwgJCgsMDQ4PEBESEwABAgMEBQYHCAkKCwwNDg8QERITAAECAwQFBgcICQoLDA0ODxAREhMAAQIDBAUGBwgJCgsMDQ4PEBESEwABAgMEBQYHCAkKCwwNDg8QERITAAECAwQFBgcICQoLDA0ODxAREhMAAQIDBAUGBwgJCgsMDQ4PEBESEwABAgMEBQYHCAkKCwwNDg8QERITAAECAwQFBgcICQoLDA0ODxAREhMAAQIDBAUGBwgJCgsMDQ4PEBESEwABAgMEBQYHCAkKCwwNDg8QERITAAECAwQFBgcICQoLDA0ODxAREhMAAQIDBAUGBwgJCgsMDQ4PEBESEwABAgMEBQYHCAkKCwwNDg8QERITAAECAwQFBgcICQoLDA0ODxAREhMAAQIDBAUGBwgJCgsMDQ4PEBESEwABAgMEBQYHCAkKCwwNDg8QERITAAECAwQFBgcICQoLDA0ODxAREhMAAQIDBAUGBwgJCgsMDQ4PEBESEwABAgMEBQYHCAkKCwwNDg8QERITAAECAwQFBgcICQoLDA0ODxAREhMAAQIDBAUGBwgJCgsMDQ4PEBESEwABAgMEBQYHCAkKCwwNDg8QERITAAECAwQFBgcICQoLDA0ODxAREhMAAQIDBAUGBwgJCgsMDQ4PEBESEwABAgMEBQYHCAkKCwwNDg8QERITAAECAwQFBgcICQoLDA0ODxAREhM=",
          "dtype": "i1",
          "shape": "61, 20"
         },
         "y": {
          "bdata": "AAAAAAAAAAAAAAAAAAAAAAAAAAABAQEBAQEBAQEBAQEBAQEBAQEBAQICAgICAgICAgICAgICAgICAgICAwMDAwMDAwMDAwMDAwMDAwMDAwMEBAQEBAQEBAQEBAQEBAQEBAQEBAUFBQUFBQUFBQUFBQUFBQUFBQUFBgYGBgYGBgYGBgYGBgYGBgYGBgYHBwcHBwcHBwcHBwcHBwcHBwcHBwgICAgICAgICAgICAgICAgICAgICQkJCQkJCQkJCQkJCQkJCQkJCQkKCgoKCgoKCgoKCgoKCgoKCgoKCgsLCwsLCwsLCwsLCwsLCwsLCwsLDAwMDAwMDAwMDAwMDAwMDAwMDAwNDQ0NDQ0NDQ0NDQ0NDQ0NDQ0NDQ4ODg4ODg4ODg4ODg4ODg4ODg4ODw8PDw8PDw8PDw8PDw8PDw8PDw8QEBAQEBAQEBAQEBAQEBAQEBAQEBEREREREREREREREREREREREREREhISEhISEhISEhISEhISEhISEhITExMTExMTExMTExMTExMTExMTExQUFBQUFBQUFBQUFBQUFBQUFBQUFRUVFRUVFRUVFRUVFRUVFRUVFRUWFhYWFhYWFhYWFhYWFhYWFhYWFhcXFxcXFxcXFxcXFxcXFxcXFxcXGBgYGBgYGBgYGBgYGBgYGBgYGBgZGRkZGRkZGRkZGRkZGRkZGRkZGRoaGhoaGhoaGhoaGhoaGhoaGhoaGxsbGxsbGxsbGxsbGxsbGxsbGxscHBwcHBwcHBwcHBwcHBwcHBwcHB0dHR0dHR0dHR0dHR0dHR0dHR0dHh4eHh4eHh4eHh4eHh4eHh4eHh4fHx8fHx8fHx8fHx8fHx8fHx8fHyAgICAgICAgICAgICAgICAgICAgISEhISEhISEhISEhISEhISEhISEiIiIiIiIiIiIiIiIiIiIiIiIiIiMjIyMjIyMjIyMjIyMjIyMjIyMjJCQkJCQkJCQkJCQkJCQkJCQkJCQlJSUlJSUlJSUlJSUlJSUlJSUlJSYmJiYmJiYmJiYmJiYmJiYmJiYmJycnJycnJycnJycnJycnJycnJycoKCgoKCgoKCgoKCgoKCgoKCgoKCkpKSkpKSkpKSkpKSkpKSkpKSkpKioqKioqKioqKioqKioqKioqKiorKysrKysrKysrKysrKysrKysrKywsLCwsLCwsLCwsLCwsLCwsLCwsLS0tLS0tLS0tLS0tLS0tLS0tLS0uLi4uLi4uLi4uLi4uLi4uLi4uLi8vLy8vLy8vLy8vLy8vLy8vLy8vMDAwMDAwMDAwMDAwMDAwMDAwMDAxMTExMTExMTExMTExMTExMTExMTIyMjIyMjIyMjIyMjIyMjIyMjIyMzMzMzMzMzMzMzMzMzMzMzMzMzM0NDQ0NDQ0NDQ0NDQ0NDQ0NDQ0NDU1NTU1NTU1NTU1NTU1NTU1NTU1NjY2NjY2NjY2NjY2NjY2NjY2NjY3Nzc3Nzc3Nzc3Nzc3Nzc3Nzc3Nzg4ODg4ODg4ODg4ODg4ODg4ODg4OTk5OTk5OTk5OTk5OTk5OTk5OTk6Ojo6Ojo6Ojo6Ojo6Ojo6Ojo6Ojs7Ozs7Ozs7Ozs7Ozs7Ozs7Ozs7PDw8PDw8PDw8PDw8PDw8PDw8PDw=",
          "dtype": "i1",
          "shape": "61, 20"
         },
         "z": {
          "bdata": "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",
          "dtype": "i2",
          "shape": "61, 20"
         }
        }
       ],
       "layout": {
        "scene": {
         "xaxis": {
          "title": {
           "text": "State"
          }
         },
         "yaxis": {
          "title": {
           "text": "Time Steps"
          }
         },
         "zaxis": {
          "title": {
           "text": "Cost"
          }
         }
        },
        "template": {
         "data": {
          "bar": [
           {
            "error_x": {
             "color": "#2a3f5f"
            },
            "error_y": {
             "color": "#2a3f5f"
            },
            "marker": {
             "line": {
              "color": "#E5ECF6",
              "width": 0.5
             },
             "pattern": {
              "fillmode": "overlay",
              "size": 10,
              "solidity": 0.2
             }
            },
            "type": "bar"
           }
          ],
          "barpolar": [
           {
            "marker": {
             "line": {
              "color": "#E5ECF6",
              "width": 0.5
             },
             "pattern": {
              "fillmode": "overlay",
              "size": 10,
              "solidity": 0.2
             }
            },
            "type": "barpolar"
           }
          ],
          "carpet": [
           {
            "aaxis": {
             "endlinecolor": "#2a3f5f",
             "gridcolor": "white",
             "linecolor": "white",
             "minorgridcolor": "white",
             "startlinecolor": "#2a3f5f"
            },
            "baxis": {
             "endlinecolor": "#2a3f5f",
             "gridcolor": "white",
             "linecolor": "white",
             "minorgridcolor": "white",
             "startlinecolor": "#2a3f5f"
            },
            "type": "carpet"
           }
          ],
          "choropleth": [
           {
            "colorbar": {
             "outlinewidth": 0,
             "ticks": ""
            },
            "type": "choropleth"
           }
          ],
          "contour": [
           {
            "colorbar": {
             "outlinewidth": 0,
             "ticks": ""
            },
            "colorscale": [
             [
              0,
              "#0d0887"
             ],
             [
              0.1111111111111111,
              "#46039f"
             ],
             [
              0.2222222222222222,
              "#7201a8"
             ],
             [
              0.3333333333333333,
              "#9c179e"
             ],
             [
              0.4444444444444444,
              "#bd3786"
             ],
             [
              0.5555555555555556,
              "#d8576b"
             ],
             [
              0.6666666666666666,
              "#ed7953"
             ],
             [
              0.7777777777777778,
              "#fb9f3a"
             ],
             [
              0.8888888888888888,
              "#fdca26"
             ],
             [
              1,
              "#f0f921"
             ]
            ],
            "type": "contour"
           }
          ],
          "contourcarpet": [
           {
            "colorbar": {
             "outlinewidth": 0,
             "ticks": ""
            },
            "type": "contourcarpet"
           }
          ],
          "heatmap": [
           {
            "colorbar": {
             "outlinewidth": 0,
             "ticks": ""
            },
            "colorscale": [
             [
              0,
              "#0d0887"
             ],
             [
              0.1111111111111111,
              "#46039f"
             ],
             [
              0.2222222222222222,
              "#7201a8"
             ],
             [
              0.3333333333333333,
              "#9c179e"
             ],
             [
              0.4444444444444444,
              "#bd3786"
             ],
             [
              0.5555555555555556,
              "#d8576b"
             ],
             [
              0.6666666666666666,
              "#ed7953"
             ],
             [
              0.7777777777777778,
              "#fb9f3a"
             ],
             [
              0.8888888888888888,
              "#fdca26"
             ],
             [
              1,
              "#f0f921"
             ]
            ],
            "type": "heatmap"
           }
          ],
          "histogram": [
           {
            "marker": {
             "pattern": {
              "fillmode": "overlay",
              "size": 10,
              "solidity": 0.2
             }
            },
            "type": "histogram"
           }
          ],
          "histogram2d": [
           {
            "colorbar": {
             "outlinewidth": 0,
             "ticks": ""
            },
            "colorscale": [
             [
              0,
              "#0d0887"
             ],
             [
              0.1111111111111111,
              "#46039f"
             ],
             [
              0.2222222222222222,
              "#7201a8"
             ],
             [
              0.3333333333333333,
              "#9c179e"
             ],
             [
              0.4444444444444444,
              "#bd3786"
             ],
             [
              0.5555555555555556,
              "#d8576b"
             ],
             [
              0.6666666666666666,
              "#ed7953"
             ],
             [
              0.7777777777777778,
              "#fb9f3a"
             ],
             [
              0.8888888888888888,
              "#fdca26"
             ],
             [
              1,
              "#f0f921"
             ]
            ],
            "type": "histogram2d"
           }
          ],
          "histogram2dcontour": [
           {
            "colorbar": {
             "outlinewidth": 0,
             "ticks": ""
            },
            "colorscale": [
             [
              0,
              "#0d0887"
             ],
             [
              0.1111111111111111,
              "#46039f"
             ],
             [
              0.2222222222222222,
              "#7201a8"
             ],
             [
              0.3333333333333333,
              "#9c179e"
             ],
             [
              0.4444444444444444,
              "#bd3786"
             ],
             [
              0.5555555555555556,
              "#d8576b"
             ],
             [
              0.6666666666666666,
              "#ed7953"
             ],
             [
              0.7777777777777778,
              "#fb9f3a"
             ],
             [
              0.8888888888888888,
              "#fdca26"
             ],
             [
              1,
              "#f0f921"
             ]
            ],
            "type": "histogram2dcontour"
           }
          ],
          "mesh3d": [
           {
            "colorbar": {
             "outlinewidth": 0,
             "ticks": ""
            },
            "type": "mesh3d"
           }
          ],
          "parcoords": [
           {
            "line": {
             "colorbar": {
              "outlinewidth": 0,
              "ticks": ""
             }
            },
            "type": "parcoords"
           }
          ],
          "pie": [
           {
            "automargin": true,
            "type": "pie"
           }
          ],
          "scatter": [
           {
            "fillpattern": {
             "fillmode": "overlay",
             "size": 10,
             "solidity": 0.2
            },
            "type": "scatter"
           }
          ],
          "scatter3d": [
           {
            "line": {
             "colorbar": {
              "outlinewidth": 0,
              "ticks": ""
             }
            },
            "marker": {
             "colorbar": {
              "outlinewidth": 0,
              "ticks": ""
             }
            },
            "type": "scatter3d"
           }
          ],
          "scattercarpet": [
           {
            "marker": {
             "colorbar": {
              "outlinewidth": 0,
              "ticks": ""
             }
            },
            "type": "scattercarpet"
           }
          ],
          "scattergeo": [
           {
            "marker": {
             "colorbar": {
              "outlinewidth": 0,
              "ticks": ""
             }
            },
            "type": "scattergeo"
           }
          ],
          "scattergl": [
           {
            "marker": {
             "colorbar": {
              "outlinewidth": 0,
              "ticks": ""
             }
            },
            "type": "scattergl"
           }
          ],
          "scattermap": [
           {
            "marker": {
             "colorbar": {
              "outlinewidth": 0,
              "ticks": ""
             }
            },
            "type": "scattermap"
           }
          ],
          "scattermapbox": [
           {
            "marker": {
             "colorbar": {
              "outlinewidth": 0,
              "ticks": ""
             }
            },
            "type": "scattermapbox"
           }
          ],
          "scatterpolar": [
           {
            "marker": {
             "colorbar": {
              "outlinewidth": 0,
              "ticks": ""
             }
            },
            "type": "scatterpolar"
           }
          ],
          "scatterpolargl": [
           {
            "marker": {
             "colorbar": {
              "outlinewidth": 0,
              "ticks": ""
             }
            },
            "type": "scatterpolargl"
           }
          ],
          "scatterternary": [
           {
            "marker": {
             "colorbar": {
              "outlinewidth": 0,
              "ticks": ""
             }
            },
            "type": "scatterternary"
           }
          ],
          "surface": [
           {
            "colorbar": {
             "outlinewidth": 0,
             "ticks": ""
            },
            "colorscale": [
             [
              0,
              "#0d0887"
             ],
             [
              0.1111111111111111,
              "#46039f"
             ],
             [
              0.2222222222222222,
              "#7201a8"
             ],
             [
              0.3333333333333333,
              "#9c179e"
             ],
             [
              0.4444444444444444,
              "#bd3786"
             ],
             [
              0.5555555555555556,
              "#d8576b"
             ],
             [
              0.6666666666666666,
              "#ed7953"
             ],
             [
              0.7777777777777778,
              "#fb9f3a"
             ],
             [
              0.8888888888888888,
              "#fdca26"
             ],
             [
              1,
              "#f0f921"
             ]
            ],
            "type": "surface"
           }
          ],
          "table": [
           {
            "cells": {
             "fill": {
              "color": "#EBF0F8"
             },
             "line": {
              "color": "white"
             }
            },
            "header": {
             "fill": {
              "color": "#C8D4E3"
             },
             "line": {
              "color": "white"
             }
            },
            "type": "table"
           }
          ]
         },
         "layout": {
          "annotationdefaults": {
           "arrowcolor": "#2a3f5f",
           "arrowhead": 0,
           "arrowwidth": 1
          },
          "autotypenumbers": "strict",
          "coloraxis": {
           "colorbar": {
            "outlinewidth": 0,
            "ticks": ""
           }
          },
          "colorscale": {
           "diverging": [
            [
             0,
             "#8e0152"
            ],
            [
             0.1,
             "#c51b7d"
            ],
            [
             0.2,
             "#de77ae"
            ],
            [
             0.3,
             "#f1b6da"
            ],
            [
             0.4,
             "#fde0ef"
            ],
            [
             0.5,
             "#f7f7f7"
            ],
            [
             0.6,
             "#e6f5d0"
            ],
            [
             0.7,
             "#b8e186"
            ],
            [
             0.8,
             "#7fbc41"
            ],
            [
             0.9,
             "#4d9221"
            ],
            [
             1,
             "#276419"
            ]
           ],
           "sequential": [
            [
             0,
             "#0d0887"
            ],
            [
             0.1111111111111111,
             "#46039f"
            ],
            [
             0.2222222222222222,
             "#7201a8"
            ],
            [
             0.3333333333333333,
             "#9c179e"
            ],
            [
             0.4444444444444444,
             "#bd3786"
            ],
            [
             0.5555555555555556,
             "#d8576b"
            ],
            [
             0.6666666666666666,
             "#ed7953"
            ],
            [
             0.7777777777777778,
             "#fb9f3a"
            ],
            [
             0.8888888888888888,
             "#fdca26"
            ],
            [
             1,
             "#f0f921"
            ]
           ],
           "sequentialminus": [
            [
             0,
             "#0d0887"
            ],
            [
             0.1111111111111111,
             "#46039f"
            ],
            [
             0.2222222222222222,
             "#7201a8"
            ],
            [
             0.3333333333333333,
             "#9c179e"
            ],
            [
             0.4444444444444444,
             "#bd3786"
            ],
            [
             0.5555555555555556,
             "#d8576b"
            ],
            [
             0.6666666666666666,
             "#ed7953"
            ],
            [
             0.7777777777777778,
             "#fb9f3a"
            ],
            [
             0.8888888888888888,
             "#fdca26"
            ],
            [
             1,
             "#f0f921"
            ]
           ]
          },
          "colorway": [
           "#636efa",
           "#EF553B",
           "#00cc96",
           "#ab63fa",
           "#FFA15A",
           "#19d3f3",
           "#FF6692",
           "#B6E880",
           "#FF97FF",
           "#FECB52"
          ],
          "font": {
           "color": "#2a3f5f"
          },
          "geo": {
           "bgcolor": "white",
           "lakecolor": "white",
           "landcolor": "#E5ECF6",
           "showlakes": true,
           "showland": true,
           "subunitcolor": "white"
          },
          "hoverlabel": {
           "align": "left"
          },
          "hovermode": "closest",
          "mapbox": {
           "style": "light"
          },
          "paper_bgcolor": "white",
          "plot_bgcolor": "#E5ECF6",
          "polar": {
           "angularaxis": {
            "gridcolor": "white",
            "linecolor": "white",
            "ticks": ""
           },
           "bgcolor": "#E5ECF6",
           "radialaxis": {
            "gridcolor": "white",
            "linecolor": "white",
            "ticks": ""
           }
          },
          "scene": {
           "xaxis": {
            "backgroundcolor": "#E5ECF6",
            "gridcolor": "white",
            "gridwidth": 2,
            "linecolor": "white",
            "showbackground": true,
            "ticks": "",
            "zerolinecolor": "white"
           },
           "yaxis": {
            "backgroundcolor": "#E5ECF6",
            "gridcolor": "white",
            "gridwidth": 2,
            "linecolor": "white",
            "showbackground": true,
            "ticks": "",
            "zerolinecolor": "white"
           },
           "zaxis": {
            "backgroundcolor": "#E5ECF6",
            "gridcolor": "white",
            "gridwidth": 2,
            "linecolor": "white",
            "showbackground": true,
            "ticks": "",
            "zerolinecolor": "white"
           }
          },
          "shapedefaults": {
           "line": {
            "color": "#2a3f5f"
           }
          },
          "ternary": {
           "aaxis": {
            "gridcolor": "white",
            "linecolor": "white",
            "ticks": ""
           },
           "baxis": {
            "gridcolor": "white",
            "linecolor": "white",
            "ticks": ""
           },
           "bgcolor": "#E5ECF6",
           "caxis": {
            "gridcolor": "white",
            "linecolor": "white",
            "ticks": ""
           }
          },
          "title": {
           "x": 0.05
          },
          "xaxis": {
           "automargin": true,
           "gridcolor": "white",
           "linecolor": "white",
           "ticks": "",
           "title": {
            "standoff": 15
           },
           "zerolinecolor": "white",
           "zerolinewidth": 2
          },
          "yaxis": {
           "automargin": true,
           "gridcolor": "white",
           "linecolor": "white",
           "ticks": "",
           "title": {
            "standoff": 15
           },
           "zerolinecolor": "white",
           "zerolinewidth": 2
          }
         }
        },
        "title": {
         "text": "Cost Function Surface For Replacement"
        }
       }
      }
     },
     "metadata": {},
     "output_type": "display_data"
    }
   ],
   "source": [
    "X, Y = np.meshgrid(np.arange(N), np.arange(time_steps + 1))\n",
    "Z = C[:, 1, :]\n",
    "\n",
    "fig = go.Figure(data=[go.Surface(z=Z, x=X, y=Y, colorscale='Viridis')])\n",
    "fig.update_layout(title='Cost Function Surface For Replacement', scene=dict(\n",
    "    xaxis_title='State',\n",
    "    yaxis_title='Time Steps',\n",
    "    zaxis_title='Cost'\n",
    "))\n",
    "\n",
    "fig.show()"
   ]
  },
  {
   "cell_type": "code",
   "execution_count": 44,
   "id": "3c046947",
   "metadata": {},
   "outputs": [],
   "source": [
    "def fill_transition_probability_matrix(transition_probability, p=0.5):\n",
    "    for j in range(transition_probability.shape[1]-1):\n",
    "        transition_probability[1][j][j] = p\n",
    "        transition_probability[1][j][j+1] = 1-p\n",
    "    for i in range(transition_probability.shape[1]):\n",
    "        for j in range(transition_probability.shape[2]):\n",
    "            transition_probability[0][i][j] = transition_probability[1][0][j]\n",
    "    transition_probability[1, transition_probability.shape[1]-1, transition_probability.shape[1]-1] = 1"
   ]
  },
  {
   "cell_type": "code",
   "execution_count": 45,
   "id": "ff8037e9",
   "metadata": {},
   "outputs": [],
   "source": [
    "def policy_visualization(policy):\n",
    "    plt.plot(np.arange(N), policy, marker='o', linestyle='None', markersize=3)\n",
    "    plt.title(\"Policy Visualization\")\n",
    "    plt.xlabel(\"State\")\n",
    "    plt.ylabel(\"Action\")\n",
    "    plt.show()"
   ]
  },
  {
   "cell_type": "code",
   "execution_count": 46,
   "id": "eb15cdaf",
   "metadata": {},
   "outputs": [],
   "source": [
    "fill_transition_probability_matrix(transition_probability=transition_probability, p=0.2)"
   ]
  },
  {
   "cell_type": "code",
   "execution_count": 47,
   "id": "36199ca1",
   "metadata": {},
   "outputs": [
    {
     "data": {
      "application/vnd.plotly.v1+json": {
       "config": {
        "plotlyServerURL": "https://plot.ly"
       },
       "data": [
        {
         "coloraxis": "coloraxis",
         "hovertemplate": "Next State: %{x}<br>Current State: %{y}<br>Transition Probability: %{z}<extra></extra>",
         "name": "0",
         "type": "heatmap",
         "x": {
          "bdata": "AAECAwQFBgcICQoLDA0ODxAREhM=",
          "dtype": "i1"
         },
         "xaxis": "x",
         "y": {
          "bdata": "AAECAwQFBgcICQoLDA0ODxAREhM=",
          "dtype": "i1"
         },
         "yaxis": "y",
         "z": {
          "bdata": "mpmZmZmZyT+amZmZmZnpPwAAAAAAAAAAAAAAAAAAAAAAAAAAAAAAAAAAAAAAAAAAAAAAAAAAAAAAAAAAAAAAAAAAAAAAAAAAAAAAAAAAAAAAAAAAAAAAAAAAAAAAAAAAAAAAAAAAAAAAAAAAAAAAAAAAAAAAAAAAAAAAAAAAAAAAAAAAAAAAAAAAAAAAAAAAAAAAAAAAAAAAAAAAAAAAAAAAAAAAAAAAmpmZmZmZyT+amZmZmZnpPwAAAAAAAAAAAAAAAAAAAAAAAAAAAAAAAAAAAAAAAAAAAAAAAAAAAAAAAAAAAAAAAAAAAAAAAAAAAAAAAAAAAAAAAAAAAAAAAAAAAAAAAAAAAAAAAAAAAAAAAAAAAAAAAAAAAAAAAAAAAAAAAAAAAAAAAAAAAAAAAAAAAAAAAAAAAAAAAAAAAAAAAAAAAAAAAAAAAAAAAAAAmpmZmZmZyT+amZmZmZnpPwAAAAAAAAAAAAAAAAAAAAAAAAAAAAAAAAAAAAAAAAAAAAAAAAAAAAAAAAAAAAAAAAAAAAAAAAAAAAAAAAAAAAAAAAAAAAAAAAAAAAAAAAAAAAAAAAAAAAAAAAAAAAAAAAAAAAAAAAAAAAAAAAAAAAAAAAAAAAAAAAAAAAAAAAAAAAAAAAAAAAAAAAAAAAAAAAAAAAAAAAAAmpmZmZmZyT+amZmZmZnpPwAAAAAAAAAAAAAAAAAAAAAAAAAAAAAAAAAAAAAAAAAAAAAAAAAAAAAAAAAAAAAAAAAAAAAAAAAAAAAAAAAAAAAAAAAAAAAAAAAAAAAAAAAAAAAAAAAAAAAAAAAAAAAAAAAAAAAAAAAAAAAAAAAAAAAAAAAAAAAAAAAAAAAAAAAAAAAAAAAAAAAAAAAAAAAAAAAAAAAAAAAAmpmZmZmZyT+amZmZmZnpPwAAAAAAAAAAAAAAAAAAAAAAAAAAAAAAAAAAAAAAAAAAAAAAAAAAAAAAAAAAAAAAAAAAAAAAAAAAAAAAAAAAAAAAAAAAAAAAAAAAAAAAAAAAAAAAAAAAAAAAAAAAAAAAAAAAAAAAAAAAAAAAAAAAAAAAAAAAAAAAAAAAAAAAAAAAAAAAAAAAAAAAAAAAAAAAAAAAAAAAAAAAmpmZmZmZyT+amZmZmZnpPwAAAAAAAAAAAAAAAAAAAAAAAAAAAAAAAAAAAAAAAAAAAAAAAAAAAAAAAAAAAAAAAAAAAAAAAAAAAAAAAAAAAAAAAAAAAAAAAAAAAAAAAAAAAAAAAAAAAAAAAAAAAAAAAAAAAAAAAAAAAAAAAAAAAAAAAAAAAAAAAAAAAAAAAAAAAAAAAAAAAAAAAAAAAAAAAAAAAAAAAAAAmpmZmZmZyT+amZmZmZnpPwAAAAAAAAAAAAAAAAAAAAAAAAAAAAAAAAAAAAAAAAAAAAAAAAAAAAAAAAAAAAAAAAAAAAAAAAAAAAAAAAAAAAAAAAAAAAAAAAAAAAAAAAAAAAAAAAAAAAAAAAAAAAAAAAAAAAAAAAAAAAAAAAAAAAAAAAAAAAAAAAAAAAAAAAAAAAAAAAAAAAAAAAAAAAAAAAAAAAAAAAAAmpmZmZmZyT+amZmZmZnpPwAAAAAAAAAAAAAAAAAAAAAAAAAAAAAAAAAAAAAAAAAAAAAAAAAAAAAAAAAAAAAAAAAAAAAAAAAAAAAAAAAAAAAAAAAAAAAAAAAAAAAAAAAAAAAAAAAAAAAAAAAAAAAAAAAAAAAAAAAAAAAAAAAAAAAAAAAAAAAAAAAAAAAAAAAAAAAAAAAAAAAAAAAAAAAAAAAAAAAAAAAAmpmZmZmZyT+amZmZmZnpPwAAAAAAAAAAAAAAAAAAAAAAAAAAAAAAAAAAAAAAAAAAAAAAAAAAAAAAAAAAAAAAAAAAAAAAAAAAAAAAAAAAAAAAAAAAAAAAAAAAAAAAAAAAAAAAAAAAAAAAAAAAAAAAAAAAAAAAAAAAAAAAAAAAAAAAAAAAAAAAAAAAAAAAAAAAAAAAAAAAAAAAAAAAAAAAAAAAAAAAAAAAmpmZmZmZyT+amZmZmZnpPwAAAAAAAAAAAAAAAAAAAAAAAAAAAAAAAAAAAAAAAAAAAAAAAAAAAAAAAAAAAAAAAAAAAAAAAAAAAAAAAAAAAAAAAAAAAAAAAAAAAAAAAAAAAAAAAAAAAAAAAAAAAAAAAAAAAAAAAAAAAAAAAAAAAAAAAAAAAAAAAAAAAAAAAAAAAAAAAAAAAAAAAAAAAAAAAAAAAAAAAAAAmpmZmZmZyT+amZmZmZnpPwAAAAAAAAAAAAAAAAAAAAAAAAAAAAAAAAAAAAAAAAAAAAAAAAAAAAAAAAAAAAAAAAAAAAAAAAAAAAAAAAAAAAAAAAAAAAAAAAAAAAAAAAAAAAAAAAAAAAAAAAAAAAAAAAAAAAAAAAAAAAAAAAAAAAAAAAAAAAAAAAAAAAAAAAAAAAAAAAAAAAAAAAAAAAAAAAAAAAAAAAAAmpmZmZmZyT+amZmZmZnpPwAAAAAAAAAAAAAAAAAAAAAAAAAAAAAAAAAAAAAAAAAAAAAAAAAAAAAAAAAAAAAAAAAAAAAAAAAAAAAAAAAAAAAAAAAAAAAAAAAAAAAAAAAAAAAAAAAAAAAAAAAAAAAAAAAAAAAAAAAAAAAAAAAAAAAAAAAAAAAAAAAAAAAAAAAAAAAAAAAAAAAAAAAAAAAAAAAAAAAAAAAAmpmZmZmZyT+amZmZmZnpPwAAAAAAAAAAAAAAAAAAAAAAAAAAAAAAAAAAAAAAAAAAAAAAAAAAAAAAAAAAAAAAAAAAAAAAAAAAAAAAAAAAAAAAAAAAAAAAAAAAAAAAAAAAAAAAAAAAAAAAAAAAAAAAAAAAAAAAAAAAAAAAAAAAAAAAAAAAAAAAAAAAAAAAAAAAAAAAAAAAAAAAAAAAAAAAAAAAAAAAAAAAmpmZmZmZyT+amZmZmZnpPwAAAAAAAAAAAAAAAAAAAAAAAAAAAAAAAAAAAAAAAAAAAAAAAAAAAAAAAAAAAAAAAAAAAAAAAAAAAAAAAAAAAAAAAAAAAAAAAAAAAAAAAAAAAAAAAAAAAAAAAAAAAAAAAAAAAAAAAAAAAAAAAAAAAAAAAAAAAAAAAAAAAAAAAAAAAAAAAAAAAAAAAAAAAAAAAAAAAAAAAAAAmpmZmZmZyT+amZmZmZnpPwAAAAAAAAAAAAAAAAAAAAAAAAAAAAAAAAAAAAAAAAAAAAAAAAAAAAAAAAAAAAAAAAAAAAAAAAAAAAAAAAAAAAAAAAAAAAAAAAAAAAAAAAAAAAAAAAAAAAAAAAAAAAAAAAAAAAAAAAAAAAAAAAAAAAAAAAAAAAAAAAAAAAAAAAAAAAAAAAAAAAAAAAAAAAAAAAAAAAAAAAAAmpmZmZmZyT+amZmZmZnpPwAAAAAAAAAAAAAAAAAAAAAAAAAAAAAAAAAAAAAAAAAAAAAAAAAAAAAAAAAAAAAAAAAAAAAAAAAAAAAAAAAAAAAAAAAAAAAAAAAAAAAAAAAAAAAAAAAAAAAAAAAAAAAAAAAAAAAAAAAAAAAAAAAAAAAAAAAAAAAAAAAAAAAAAAAAAAAAAAAAAAAAAAAAAAAAAAAAAAAAAAAAmpmZmZmZyT+amZmZmZnpPwAAAAAAAAAAAAAAAAAAAAAAAAAAAAAAAAAAAAAAAAAAAAAAAAAAAAAAAAAAAAAAAAAAAAAAAAAAAAAAAAAAAAAAAAAAAAAAAAAAAAAAAAAAAAAAAAAAAAAAAAAAAAAAAAAAAAAAAAAAAAAAAAAAAAAAAAAAAAAAAAAAAAAAAAAAAAAAAAAAAAAAAAAAAAAAAAAAAAAAAAAAmpmZmZmZyT+amZmZmZnpPwAAAAAAAAAAAAAAAAAAAAAAAAAAAAAAAAAAAAAAAAAAAAAAAAAAAAAAAAAAAAAAAAAAAAAAAAAAAAAAAAAAAAAAAAAAAAAAAAAAAAAAAAAAAAAAAAAAAAAAAAAAAAAAAAAAAAAAAAAAAAAAAAAAAAAAAAAAAAAAAAAAAAAAAAAAAAAAAAAAAAAAAAAAAAAAAAAAAAAAAAAAmpmZmZmZyT+amZmZmZnpPwAAAAAAAAAAAAAAAAAAAAAAAAAAAAAAAAAAAAAAAAAAAAAAAAAAAAAAAAAAAAAAAAAAAAAAAAAAAAAAAAAAAAAAAAAAAAAAAAAAAAAAAAAAAAAAAAAAAAAAAAAAAAAAAAAAAAAAAAAAAAAAAAAAAAAAAAAAAAAAAAAAAAAAAAAAAAAAAAAAAAAAAAAAAAAAAAAAAAAAAAAAAAAAAAAA8D8=",
          "dtype": "f8",
          "shape": "20, 20"
         }
        }
       ],
       "layout": {
        "coloraxis": {
         "colorbar": {
          "title": {
           "text": "Transition Probability"
          }
         },
         "colorscale": [
          [
           0,
           "#440154"
          ],
          [
           0.1111111111111111,
           "#482878"
          ],
          [
           0.2222222222222222,
           "#3e4989"
          ],
          [
           0.3333333333333333,
           "#31688e"
          ],
          [
           0.4444444444444444,
           "#26828e"
          ],
          [
           0.5555555555555556,
           "#1f9e89"
          ],
          [
           0.6666666666666666,
           "#35b779"
          ],
          [
           0.7777777777777778,
           "#6ece58"
          ],
          [
           0.8888888888888888,
           "#b5de2b"
          ],
          [
           1,
           "#fde725"
          ]
         ]
        },
        "margin": {
         "t": 60
        },
        "template": {
         "data": {
          "bar": [
           {
            "error_x": {
             "color": "#2a3f5f"
            },
            "error_y": {
             "color": "#2a3f5f"
            },
            "marker": {
             "line": {
              "color": "#E5ECF6",
              "width": 0.5
             },
             "pattern": {
              "fillmode": "overlay",
              "size": 10,
              "solidity": 0.2
             }
            },
            "type": "bar"
           }
          ],
          "barpolar": [
           {
            "marker": {
             "line": {
              "color": "#E5ECF6",
              "width": 0.5
             },
             "pattern": {
              "fillmode": "overlay",
              "size": 10,
              "solidity": 0.2
             }
            },
            "type": "barpolar"
           }
          ],
          "carpet": [
           {
            "aaxis": {
             "endlinecolor": "#2a3f5f",
             "gridcolor": "white",
             "linecolor": "white",
             "minorgridcolor": "white",
             "startlinecolor": "#2a3f5f"
            },
            "baxis": {
             "endlinecolor": "#2a3f5f",
             "gridcolor": "white",
             "linecolor": "white",
             "minorgridcolor": "white",
             "startlinecolor": "#2a3f5f"
            },
            "type": "carpet"
           }
          ],
          "choropleth": [
           {
            "colorbar": {
             "outlinewidth": 0,
             "ticks": ""
            },
            "type": "choropleth"
           }
          ],
          "contour": [
           {
            "colorbar": {
             "outlinewidth": 0,
             "ticks": ""
            },
            "colorscale": [
             [
              0,
              "#0d0887"
             ],
             [
              0.1111111111111111,
              "#46039f"
             ],
             [
              0.2222222222222222,
              "#7201a8"
             ],
             [
              0.3333333333333333,
              "#9c179e"
             ],
             [
              0.4444444444444444,
              "#bd3786"
             ],
             [
              0.5555555555555556,
              "#d8576b"
             ],
             [
              0.6666666666666666,
              "#ed7953"
             ],
             [
              0.7777777777777778,
              "#fb9f3a"
             ],
             [
              0.8888888888888888,
              "#fdca26"
             ],
             [
              1,
              "#f0f921"
             ]
            ],
            "type": "contour"
           }
          ],
          "contourcarpet": [
           {
            "colorbar": {
             "outlinewidth": 0,
             "ticks": ""
            },
            "type": "contourcarpet"
           }
          ],
          "heatmap": [
           {
            "colorbar": {
             "outlinewidth": 0,
             "ticks": ""
            },
            "colorscale": [
             [
              0,
              "#0d0887"
             ],
             [
              0.1111111111111111,
              "#46039f"
             ],
             [
              0.2222222222222222,
              "#7201a8"
             ],
             [
              0.3333333333333333,
              "#9c179e"
             ],
             [
              0.4444444444444444,
              "#bd3786"
             ],
             [
              0.5555555555555556,
              "#d8576b"
             ],
             [
              0.6666666666666666,
              "#ed7953"
             ],
             [
              0.7777777777777778,
              "#fb9f3a"
             ],
             [
              0.8888888888888888,
              "#fdca26"
             ],
             [
              1,
              "#f0f921"
             ]
            ],
            "type": "heatmap"
           }
          ],
          "histogram": [
           {
            "marker": {
             "pattern": {
              "fillmode": "overlay",
              "size": 10,
              "solidity": 0.2
             }
            },
            "type": "histogram"
           }
          ],
          "histogram2d": [
           {
            "colorbar": {
             "outlinewidth": 0,
             "ticks": ""
            },
            "colorscale": [
             [
              0,
              "#0d0887"
             ],
             [
              0.1111111111111111,
              "#46039f"
             ],
             [
              0.2222222222222222,
              "#7201a8"
             ],
             [
              0.3333333333333333,
              "#9c179e"
             ],
             [
              0.4444444444444444,
              "#bd3786"
             ],
             [
              0.5555555555555556,
              "#d8576b"
             ],
             [
              0.6666666666666666,
              "#ed7953"
             ],
             [
              0.7777777777777778,
              "#fb9f3a"
             ],
             [
              0.8888888888888888,
              "#fdca26"
             ],
             [
              1,
              "#f0f921"
             ]
            ],
            "type": "histogram2d"
           }
          ],
          "histogram2dcontour": [
           {
            "colorbar": {
             "outlinewidth": 0,
             "ticks": ""
            },
            "colorscale": [
             [
              0,
              "#0d0887"
             ],
             [
              0.1111111111111111,
              "#46039f"
             ],
             [
              0.2222222222222222,
              "#7201a8"
             ],
             [
              0.3333333333333333,
              "#9c179e"
             ],
             [
              0.4444444444444444,
              "#bd3786"
             ],
             [
              0.5555555555555556,
              "#d8576b"
             ],
             [
              0.6666666666666666,
              "#ed7953"
             ],
             [
              0.7777777777777778,
              "#fb9f3a"
             ],
             [
              0.8888888888888888,
              "#fdca26"
             ],
             [
              1,
              "#f0f921"
             ]
            ],
            "type": "histogram2dcontour"
           }
          ],
          "mesh3d": [
           {
            "colorbar": {
             "outlinewidth": 0,
             "ticks": ""
            },
            "type": "mesh3d"
           }
          ],
          "parcoords": [
           {
            "line": {
             "colorbar": {
              "outlinewidth": 0,
              "ticks": ""
             }
            },
            "type": "parcoords"
           }
          ],
          "pie": [
           {
            "automargin": true,
            "type": "pie"
           }
          ],
          "scatter": [
           {
            "fillpattern": {
             "fillmode": "overlay",
             "size": 10,
             "solidity": 0.2
            },
            "type": "scatter"
           }
          ],
          "scatter3d": [
           {
            "line": {
             "colorbar": {
              "outlinewidth": 0,
              "ticks": ""
             }
            },
            "marker": {
             "colorbar": {
              "outlinewidth": 0,
              "ticks": ""
             }
            },
            "type": "scatter3d"
           }
          ],
          "scattercarpet": [
           {
            "marker": {
             "colorbar": {
              "outlinewidth": 0,
              "ticks": ""
             }
            },
            "type": "scattercarpet"
           }
          ],
          "scattergeo": [
           {
            "marker": {
             "colorbar": {
              "outlinewidth": 0,
              "ticks": ""
             }
            },
            "type": "scattergeo"
           }
          ],
          "scattergl": [
           {
            "marker": {
             "colorbar": {
              "outlinewidth": 0,
              "ticks": ""
             }
            },
            "type": "scattergl"
           }
          ],
          "scattermap": [
           {
            "marker": {
             "colorbar": {
              "outlinewidth": 0,
              "ticks": ""
             }
            },
            "type": "scattermap"
           }
          ],
          "scattermapbox": [
           {
            "marker": {
             "colorbar": {
              "outlinewidth": 0,
              "ticks": ""
             }
            },
            "type": "scattermapbox"
           }
          ],
          "scatterpolar": [
           {
            "marker": {
             "colorbar": {
              "outlinewidth": 0,
              "ticks": ""
             }
            },
            "type": "scatterpolar"
           }
          ],
          "scatterpolargl": [
           {
            "marker": {
             "colorbar": {
              "outlinewidth": 0,
              "ticks": ""
             }
            },
            "type": "scatterpolargl"
           }
          ],
          "scatterternary": [
           {
            "marker": {
             "colorbar": {
              "outlinewidth": 0,
              "ticks": ""
             }
            },
            "type": "scatterternary"
           }
          ],
          "surface": [
           {
            "colorbar": {
             "outlinewidth": 0,
             "ticks": ""
            },
            "colorscale": [
             [
              0,
              "#0d0887"
             ],
             [
              0.1111111111111111,
              "#46039f"
             ],
             [
              0.2222222222222222,
              "#7201a8"
             ],
             [
              0.3333333333333333,
              "#9c179e"
             ],
             [
              0.4444444444444444,
              "#bd3786"
             ],
             [
              0.5555555555555556,
              "#d8576b"
             ],
             [
              0.6666666666666666,
              "#ed7953"
             ],
             [
              0.7777777777777778,
              "#fb9f3a"
             ],
             [
              0.8888888888888888,
              "#fdca26"
             ],
             [
              1,
              "#f0f921"
             ]
            ],
            "type": "surface"
           }
          ],
          "table": [
           {
            "cells": {
             "fill": {
              "color": "#EBF0F8"
             },
             "line": {
              "color": "white"
             }
            },
            "header": {
             "fill": {
              "color": "#C8D4E3"
             },
             "line": {
              "color": "white"
             }
            },
            "type": "table"
           }
          ]
         },
         "layout": {
          "annotationdefaults": {
           "arrowcolor": "#2a3f5f",
           "arrowhead": 0,
           "arrowwidth": 1
          },
          "autotypenumbers": "strict",
          "coloraxis": {
           "colorbar": {
            "outlinewidth": 0,
            "ticks": ""
           }
          },
          "colorscale": {
           "diverging": [
            [
             0,
             "#8e0152"
            ],
            [
             0.1,
             "#c51b7d"
            ],
            [
             0.2,
             "#de77ae"
            ],
            [
             0.3,
             "#f1b6da"
            ],
            [
             0.4,
             "#fde0ef"
            ],
            [
             0.5,
             "#f7f7f7"
            ],
            [
             0.6,
             "#e6f5d0"
            ],
            [
             0.7,
             "#b8e186"
            ],
            [
             0.8,
             "#7fbc41"
            ],
            [
             0.9,
             "#4d9221"
            ],
            [
             1,
             "#276419"
            ]
           ],
           "sequential": [
            [
             0,
             "#0d0887"
            ],
            [
             0.1111111111111111,
             "#46039f"
            ],
            [
             0.2222222222222222,
             "#7201a8"
            ],
            [
             0.3333333333333333,
             "#9c179e"
            ],
            [
             0.4444444444444444,
             "#bd3786"
            ],
            [
             0.5555555555555556,
             "#d8576b"
            ],
            [
             0.6666666666666666,
             "#ed7953"
            ],
            [
             0.7777777777777778,
             "#fb9f3a"
            ],
            [
             0.8888888888888888,
             "#fdca26"
            ],
            [
             1,
             "#f0f921"
            ]
           ],
           "sequentialminus": [
            [
             0,
             "#0d0887"
            ],
            [
             0.1111111111111111,
             "#46039f"
            ],
            [
             0.2222222222222222,
             "#7201a8"
            ],
            [
             0.3333333333333333,
             "#9c179e"
            ],
            [
             0.4444444444444444,
             "#bd3786"
            ],
            [
             0.5555555555555556,
             "#d8576b"
            ],
            [
             0.6666666666666666,
             "#ed7953"
            ],
            [
             0.7777777777777778,
             "#fb9f3a"
            ],
            [
             0.8888888888888888,
             "#fdca26"
            ],
            [
             1,
             "#f0f921"
            ]
           ]
          },
          "colorway": [
           "#636efa",
           "#EF553B",
           "#00cc96",
           "#ab63fa",
           "#FFA15A",
           "#19d3f3",
           "#FF6692",
           "#B6E880",
           "#FF97FF",
           "#FECB52"
          ],
          "font": {
           "color": "#2a3f5f"
          },
          "geo": {
           "bgcolor": "white",
           "lakecolor": "white",
           "landcolor": "#E5ECF6",
           "showlakes": true,
           "showland": true,
           "subunitcolor": "white"
          },
          "hoverlabel": {
           "align": "left"
          },
          "hovermode": "closest",
          "mapbox": {
           "style": "light"
          },
          "paper_bgcolor": "white",
          "plot_bgcolor": "#E5ECF6",
          "polar": {
           "angularaxis": {
            "gridcolor": "white",
            "linecolor": "white",
            "ticks": ""
           },
           "bgcolor": "#E5ECF6",
           "radialaxis": {
            "gridcolor": "white",
            "linecolor": "white",
            "ticks": ""
           }
          },
          "scene": {
           "xaxis": {
            "backgroundcolor": "#E5ECF6",
            "gridcolor": "white",
            "gridwidth": 2,
            "linecolor": "white",
            "showbackground": true,
            "ticks": "",
            "zerolinecolor": "white"
           },
           "yaxis": {
            "backgroundcolor": "#E5ECF6",
            "gridcolor": "white",
            "gridwidth": 2,
            "linecolor": "white",
            "showbackground": true,
            "ticks": "",
            "zerolinecolor": "white"
           },
           "zaxis": {
            "backgroundcolor": "#E5ECF6",
            "gridcolor": "white",
            "gridwidth": 2,
            "linecolor": "white",
            "showbackground": true,
            "ticks": "",
            "zerolinecolor": "white"
           }
          },
          "shapedefaults": {
           "line": {
            "color": "#2a3f5f"
           }
          },
          "ternary": {
           "aaxis": {
            "gridcolor": "white",
            "linecolor": "white",
            "ticks": ""
           },
           "baxis": {
            "gridcolor": "white",
            "linecolor": "white",
            "ticks": ""
           },
           "bgcolor": "#E5ECF6",
           "caxis": {
            "gridcolor": "white",
            "linecolor": "white",
            "ticks": ""
           }
          },
          "title": {
           "x": 0.05
          },
          "xaxis": {
           "automargin": true,
           "gridcolor": "white",
           "linecolor": "white",
           "ticks": "",
           "title": {
            "standoff": 15
           },
           "zerolinecolor": "white",
           "zerolinewidth": 2
          },
          "yaxis": {
           "automargin": true,
           "gridcolor": "white",
           "linecolor": "white",
           "ticks": "",
           "title": {
            "standoff": 15
           },
           "zerolinecolor": "white",
           "zerolinewidth": 2
          }
         }
        },
        "title": {
         "text": "Transition Probability Heatmap For Non-Replacement"
        },
        "xaxis": {
         "anchor": "y",
         "constrain": "domain",
         "domain": [
          0,
          1
         ],
         "scaleanchor": "y",
         "title": {
          "text": "Next State"
         }
        },
        "yaxis": {
         "anchor": "x",
         "autorange": "reversed",
         "constrain": "domain",
         "domain": [
          0,
          1
         ],
         "title": {
          "text": "Current State"
         }
        }
       }
      }
     },
     "metadata": {},
     "output_type": "display_data"
    }
   ],
   "source": [
    "fig = px.imshow(transition_probability[1], color_continuous_scale='Viridis',\n",
    "                 labels=dict(x=\"Next State\", y=\"Current State\", color=\"Transition Probability\"),\n",
    "                 x=np.arange(N), y=np.arange(N))\n",
    "fig.update_layout(title='Transition Probability Heatmap For Non-Replacement')\n",
    "fig.show()"
   ]
  },
  {
   "cell_type": "code",
   "execution_count": 48,
   "id": "d943c726",
   "metadata": {},
   "outputs": [
    {
     "data": {
      "application/vnd.plotly.v1+json": {
       "config": {
        "plotlyServerURL": "https://plot.ly"
       },
       "data": [
        {
         "coloraxis": "coloraxis",
         "hovertemplate": "Next State: %{x}<br>Current State: %{y}<br>Transition Probability: %{z}<extra></extra>",
         "name": "0",
         "type": "heatmap",
         "x": {
          "bdata": "AAECAwQFBgcICQoLDA0ODxAREhM=",
          "dtype": "i1"
         },
         "xaxis": "x",
         "y": {
          "bdata": "AAECAwQFBgcICQoLDA0ODxAREhM=",
          "dtype": "i1"
         },
         "yaxis": "y",
         "z": {
          "bdata": "mpmZmZmZyT+amZmZmZnpPwAAAAAAAAAAAAAAAAAAAAAAAAAAAAAAAAAAAAAAAAAAAAAAAAAAAAAAAAAAAAAAAAAAAAAAAAAAAAAAAAAAAAAAAAAAAAAAAAAAAAAAAAAAAAAAAAAAAAAAAAAAAAAAAAAAAAAAAAAAAAAAAAAAAAAAAAAAAAAAAAAAAAAAAAAAAAAAAAAAAAAAAAAAAAAAAJqZmZmZmck/mpmZmZmZ6T8AAAAAAAAAAAAAAAAAAAAAAAAAAAAAAAAAAAAAAAAAAAAAAAAAAAAAAAAAAAAAAAAAAAAAAAAAAAAAAAAAAAAAAAAAAAAAAAAAAAAAAAAAAAAAAAAAAAAAAAAAAAAAAAAAAAAAAAAAAAAAAAAAAAAAAAAAAAAAAAAAAAAAAAAAAAAAAAAAAAAAAAAAAAAAAACamZmZmZnJP5qZmZmZmek/AAAAAAAAAAAAAAAAAAAAAAAAAAAAAAAAAAAAAAAAAAAAAAAAAAAAAAAAAAAAAAAAAAAAAAAAAAAAAAAAAAAAAAAAAAAAAAAAAAAAAAAAAAAAAAAAAAAAAAAAAAAAAAAAAAAAAAAAAAAAAAAAAAAAAAAAAAAAAAAAAAAAAAAAAAAAAAAAAAAAAAAAAAAAAAAAmpmZmZmZyT+amZmZmZnpPwAAAAAAAAAAAAAAAAAAAAAAAAAAAAAAAAAAAAAAAAAAAAAAAAAAAAAAAAAAAAAAAAAAAAAAAAAAAAAAAAAAAAAAAAAAAAAAAAAAAAAAAAAAAAAAAAAAAAAAAAAAAAAAAAAAAAAAAAAAAAAAAAAAAAAAAAAAAAAAAAAAAAAAAAAAAAAAAAAAAAAAAAAAAAAAAJqZmZmZmck/mpmZmZmZ6T8AAAAAAAAAAAAAAAAAAAAAAAAAAAAAAAAAAAAAAAAAAAAAAAAAAAAAAAAAAAAAAAAAAAAAAAAAAAAAAAAAAAAAAAAAAAAAAAAAAAAAAAAAAAAAAAAAAAAAAAAAAAAAAAAAAAAAAAAAAAAAAAAAAAAAAAAAAAAAAAAAAAAAAAAAAAAAAAAAAAAAAAAAAAAAAACamZmZmZnJP5qZmZmZmek/AAAAAAAAAAAAAAAAAAAAAAAAAAAAAAAAAAAAAAAAAAAAAAAAAAAAAAAAAAAAAAAAAAAAAAAAAAAAAAAAAAAAAAAAAAAAAAAAAAAAAAAAAAAAAAAAAAAAAAAAAAAAAAAAAAAAAAAAAAAAAAAAAAAAAAAAAAAAAAAAAAAAAAAAAAAAAAAAAAAAAAAAAAAAAAAAmpmZmZmZyT+amZmZmZnpPwAAAAAAAAAAAAAAAAAAAAAAAAAAAAAAAAAAAAAAAAAAAAAAAAAAAAAAAAAAAAAAAAAAAAAAAAAAAAAAAAAAAAAAAAAAAAAAAAAAAAAAAAAAAAAAAAAAAAAAAAAAAAAAAAAAAAAAAAAAAAAAAAAAAAAAAAAAAAAAAAAAAAAAAAAAAAAAAAAAAAAAAAAAAAAAAJqZmZmZmck/mpmZmZmZ6T8AAAAAAAAAAAAAAAAAAAAAAAAAAAAAAAAAAAAAAAAAAAAAAAAAAAAAAAAAAAAAAAAAAAAAAAAAAAAAAAAAAAAAAAAAAAAAAAAAAAAAAAAAAAAAAAAAAAAAAAAAAAAAAAAAAAAAAAAAAAAAAAAAAAAAAAAAAAAAAAAAAAAAAAAAAAAAAAAAAAAAAAAAAAAAAACamZmZmZnJP5qZmZmZmek/AAAAAAAAAAAAAAAAAAAAAAAAAAAAAAAAAAAAAAAAAAAAAAAAAAAAAAAAAAAAAAAAAAAAAAAAAAAAAAAAAAAAAAAAAAAAAAAAAAAAAAAAAAAAAAAAAAAAAAAAAAAAAAAAAAAAAAAAAAAAAAAAAAAAAAAAAAAAAAAAAAAAAAAAAAAAAAAAAAAAAAAAAAAAAAAAmpmZmZmZyT+amZmZmZnpPwAAAAAAAAAAAAAAAAAAAAAAAAAAAAAAAAAAAAAAAAAAAAAAAAAAAAAAAAAAAAAAAAAAAAAAAAAAAAAAAAAAAAAAAAAAAAAAAAAAAAAAAAAAAAAAAAAAAAAAAAAAAAAAAAAAAAAAAAAAAAAAAAAAAAAAAAAAAAAAAAAAAAAAAAAAAAAAAAAAAAAAAAAAAAAAAJqZmZmZmck/mpmZmZmZ6T8AAAAAAAAAAAAAAAAAAAAAAAAAAAAAAAAAAAAAAAAAAAAAAAAAAAAAAAAAAAAAAAAAAAAAAAAAAAAAAAAAAAAAAAAAAAAAAAAAAAAAAAAAAAAAAAAAAAAAAAAAAAAAAAAAAAAAAAAAAAAAAAAAAAAAAAAAAAAAAAAAAAAAAAAAAAAAAAAAAAAAAAAAAAAAAACamZmZmZnJP5qZmZmZmek/AAAAAAAAAAAAAAAAAAAAAAAAAAAAAAAAAAAAAAAAAAAAAAAAAAAAAAAAAAAAAAAAAAAAAAAAAAAAAAAAAAAAAAAAAAAAAAAAAAAAAAAAAAAAAAAAAAAAAAAAAAAAAAAAAAAAAAAAAAAAAAAAAAAAAAAAAAAAAAAAAAAAAAAAAAAAAAAAAAAAAAAAAAAAAAAAmpmZmZmZyT+amZmZmZnpPwAAAAAAAAAAAAAAAAAAAAAAAAAAAAAAAAAAAAAAAAAAAAAAAAAAAAAAAAAAAAAAAAAAAAAAAAAAAAAAAAAAAAAAAAAAAAAAAAAAAAAAAAAAAAAAAAAAAAAAAAAAAAAAAAAAAAAAAAAAAAAAAAAAAAAAAAAAAAAAAAAAAAAAAAAAAAAAAAAAAAAAAAAAAAAAAJqZmZmZmck/mpmZmZmZ6T8AAAAAAAAAAAAAAAAAAAAAAAAAAAAAAAAAAAAAAAAAAAAAAAAAAAAAAAAAAAAAAAAAAAAAAAAAAAAAAAAAAAAAAAAAAAAAAAAAAAAAAAAAAAAAAAAAAAAAAAAAAAAAAAAAAAAAAAAAAAAAAAAAAAAAAAAAAAAAAAAAAAAAAAAAAAAAAAAAAAAAAAAAAAAAAACamZmZmZnJP5qZmZmZmek/AAAAAAAAAAAAAAAAAAAAAAAAAAAAAAAAAAAAAAAAAAAAAAAAAAAAAAAAAAAAAAAAAAAAAAAAAAAAAAAAAAAAAAAAAAAAAAAAAAAAAAAAAAAAAAAAAAAAAAAAAAAAAAAAAAAAAAAAAAAAAAAAAAAAAAAAAAAAAAAAAAAAAAAAAAAAAAAAAAAAAAAAAAAAAAAAmpmZmZmZyT+amZmZmZnpPwAAAAAAAAAAAAAAAAAAAAAAAAAAAAAAAAAAAAAAAAAAAAAAAAAAAAAAAAAAAAAAAAAAAAAAAAAAAAAAAAAAAAAAAAAAAAAAAAAAAAAAAAAAAAAAAAAAAAAAAAAAAAAAAAAAAAAAAAAAAAAAAAAAAAAAAAAAAAAAAAAAAAAAAAAAAAAAAAAAAAAAAAAAAAAAAJqZmZmZmck/mpmZmZmZ6T8AAAAAAAAAAAAAAAAAAAAAAAAAAAAAAAAAAAAAAAAAAAAAAAAAAAAAAAAAAAAAAAAAAAAAAAAAAAAAAAAAAAAAAAAAAAAAAAAAAAAAAAAAAAAAAAAAAAAAAAAAAAAAAAAAAAAAAAAAAAAAAAAAAAAAAAAAAAAAAAAAAAAAAAAAAAAAAAAAAAAAAAAAAAAAAACamZmZmZnJP5qZmZmZmek/AAAAAAAAAAAAAAAAAAAAAAAAAAAAAAAAAAAAAAAAAAAAAAAAAAAAAAAAAAAAAAAAAAAAAAAAAAAAAAAAAAAAAAAAAAAAAAAAAAAAAAAAAAAAAAAAAAAAAAAAAAAAAAAAAAAAAAAAAAAAAAAAAAAAAAAAAAAAAAAAAAAAAAAAAAAAAAAAAAAAAAAAAAAAAAAAmpmZmZmZyT+amZmZmZnpPwAAAAAAAAAAAAAAAAAAAAAAAAAAAAAAAAAAAAAAAAAAAAAAAAAAAAAAAAAAAAAAAAAAAAAAAAAAAAAAAAAAAAAAAAAAAAAAAAAAAAAAAAAAAAAAAAAAAAAAAAAAAAAAAAAAAAAAAAAAAAAAAAAAAAAAAAAAAAAAAAAAAAAAAAAAAAAAAAAAAAAAAAAAAAAAAJqZmZmZmck/mpmZmZmZ6T8AAAAAAAAAAAAAAAAAAAAAAAAAAAAAAAAAAAAAAAAAAAAAAAAAAAAAAAAAAAAAAAAAAAAAAAAAAAAAAAAAAAAAAAAAAAAAAAAAAAAAAAAAAAAAAAAAAAAAAAAAAAAAAAAAAAAAAAAAAAAAAAAAAAAAAAAAAAAAAAAAAAAAAAAAAAAAAAAAAAAAAAAAAAAAAAA=",
          "dtype": "f8",
          "shape": "20, 20"
         }
        }
       ],
       "layout": {
        "coloraxis": {
         "colorbar": {
          "title": {
           "text": "Transition Probability"
          }
         },
         "colorscale": [
          [
           0,
           "#440154"
          ],
          [
           0.1111111111111111,
           "#482878"
          ],
          [
           0.2222222222222222,
           "#3e4989"
          ],
          [
           0.3333333333333333,
           "#31688e"
          ],
          [
           0.4444444444444444,
           "#26828e"
          ],
          [
           0.5555555555555556,
           "#1f9e89"
          ],
          [
           0.6666666666666666,
           "#35b779"
          ],
          [
           0.7777777777777778,
           "#6ece58"
          ],
          [
           0.8888888888888888,
           "#b5de2b"
          ],
          [
           1,
           "#fde725"
          ]
         ]
        },
        "margin": {
         "t": 60
        },
        "template": {
         "data": {
          "bar": [
           {
            "error_x": {
             "color": "#2a3f5f"
            },
            "error_y": {
             "color": "#2a3f5f"
            },
            "marker": {
             "line": {
              "color": "#E5ECF6",
              "width": 0.5
             },
             "pattern": {
              "fillmode": "overlay",
              "size": 10,
              "solidity": 0.2
             }
            },
            "type": "bar"
           }
          ],
          "barpolar": [
           {
            "marker": {
             "line": {
              "color": "#E5ECF6",
              "width": 0.5
             },
             "pattern": {
              "fillmode": "overlay",
              "size": 10,
              "solidity": 0.2
             }
            },
            "type": "barpolar"
           }
          ],
          "carpet": [
           {
            "aaxis": {
             "endlinecolor": "#2a3f5f",
             "gridcolor": "white",
             "linecolor": "white",
             "minorgridcolor": "white",
             "startlinecolor": "#2a3f5f"
            },
            "baxis": {
             "endlinecolor": "#2a3f5f",
             "gridcolor": "white",
             "linecolor": "white",
             "minorgridcolor": "white",
             "startlinecolor": "#2a3f5f"
            },
            "type": "carpet"
           }
          ],
          "choropleth": [
           {
            "colorbar": {
             "outlinewidth": 0,
             "ticks": ""
            },
            "type": "choropleth"
           }
          ],
          "contour": [
           {
            "colorbar": {
             "outlinewidth": 0,
             "ticks": ""
            },
            "colorscale": [
             [
              0,
              "#0d0887"
             ],
             [
              0.1111111111111111,
              "#46039f"
             ],
             [
              0.2222222222222222,
              "#7201a8"
             ],
             [
              0.3333333333333333,
              "#9c179e"
             ],
             [
              0.4444444444444444,
              "#bd3786"
             ],
             [
              0.5555555555555556,
              "#d8576b"
             ],
             [
              0.6666666666666666,
              "#ed7953"
             ],
             [
              0.7777777777777778,
              "#fb9f3a"
             ],
             [
              0.8888888888888888,
              "#fdca26"
             ],
             [
              1,
              "#f0f921"
             ]
            ],
            "type": "contour"
           }
          ],
          "contourcarpet": [
           {
            "colorbar": {
             "outlinewidth": 0,
             "ticks": ""
            },
            "type": "contourcarpet"
           }
          ],
          "heatmap": [
           {
            "colorbar": {
             "outlinewidth": 0,
             "ticks": ""
            },
            "colorscale": [
             [
              0,
              "#0d0887"
             ],
             [
              0.1111111111111111,
              "#46039f"
             ],
             [
              0.2222222222222222,
              "#7201a8"
             ],
             [
              0.3333333333333333,
              "#9c179e"
             ],
             [
              0.4444444444444444,
              "#bd3786"
             ],
             [
              0.5555555555555556,
              "#d8576b"
             ],
             [
              0.6666666666666666,
              "#ed7953"
             ],
             [
              0.7777777777777778,
              "#fb9f3a"
             ],
             [
              0.8888888888888888,
              "#fdca26"
             ],
             [
              1,
              "#f0f921"
             ]
            ],
            "type": "heatmap"
           }
          ],
          "histogram": [
           {
            "marker": {
             "pattern": {
              "fillmode": "overlay",
              "size": 10,
              "solidity": 0.2
             }
            },
            "type": "histogram"
           }
          ],
          "histogram2d": [
           {
            "colorbar": {
             "outlinewidth": 0,
             "ticks": ""
            },
            "colorscale": [
             [
              0,
              "#0d0887"
             ],
             [
              0.1111111111111111,
              "#46039f"
             ],
             [
              0.2222222222222222,
              "#7201a8"
             ],
             [
              0.3333333333333333,
              "#9c179e"
             ],
             [
              0.4444444444444444,
              "#bd3786"
             ],
             [
              0.5555555555555556,
              "#d8576b"
             ],
             [
              0.6666666666666666,
              "#ed7953"
             ],
             [
              0.7777777777777778,
              "#fb9f3a"
             ],
             [
              0.8888888888888888,
              "#fdca26"
             ],
             [
              1,
              "#f0f921"
             ]
            ],
            "type": "histogram2d"
           }
          ],
          "histogram2dcontour": [
           {
            "colorbar": {
             "outlinewidth": 0,
             "ticks": ""
            },
            "colorscale": [
             [
              0,
              "#0d0887"
             ],
             [
              0.1111111111111111,
              "#46039f"
             ],
             [
              0.2222222222222222,
              "#7201a8"
             ],
             [
              0.3333333333333333,
              "#9c179e"
             ],
             [
              0.4444444444444444,
              "#bd3786"
             ],
             [
              0.5555555555555556,
              "#d8576b"
             ],
             [
              0.6666666666666666,
              "#ed7953"
             ],
             [
              0.7777777777777778,
              "#fb9f3a"
             ],
             [
              0.8888888888888888,
              "#fdca26"
             ],
             [
              1,
              "#f0f921"
             ]
            ],
            "type": "histogram2dcontour"
           }
          ],
          "mesh3d": [
           {
            "colorbar": {
             "outlinewidth": 0,
             "ticks": ""
            },
            "type": "mesh3d"
           }
          ],
          "parcoords": [
           {
            "line": {
             "colorbar": {
              "outlinewidth": 0,
              "ticks": ""
             }
            },
            "type": "parcoords"
           }
          ],
          "pie": [
           {
            "automargin": true,
            "type": "pie"
           }
          ],
          "scatter": [
           {
            "fillpattern": {
             "fillmode": "overlay",
             "size": 10,
             "solidity": 0.2
            },
            "type": "scatter"
           }
          ],
          "scatter3d": [
           {
            "line": {
             "colorbar": {
              "outlinewidth": 0,
              "ticks": ""
             }
            },
            "marker": {
             "colorbar": {
              "outlinewidth": 0,
              "ticks": ""
             }
            },
            "type": "scatter3d"
           }
          ],
          "scattercarpet": [
           {
            "marker": {
             "colorbar": {
              "outlinewidth": 0,
              "ticks": ""
             }
            },
            "type": "scattercarpet"
           }
          ],
          "scattergeo": [
           {
            "marker": {
             "colorbar": {
              "outlinewidth": 0,
              "ticks": ""
             }
            },
            "type": "scattergeo"
           }
          ],
          "scattergl": [
           {
            "marker": {
             "colorbar": {
              "outlinewidth": 0,
              "ticks": ""
             }
            },
            "type": "scattergl"
           }
          ],
          "scattermap": [
           {
            "marker": {
             "colorbar": {
              "outlinewidth": 0,
              "ticks": ""
             }
            },
            "type": "scattermap"
           }
          ],
          "scattermapbox": [
           {
            "marker": {
             "colorbar": {
              "outlinewidth": 0,
              "ticks": ""
             }
            },
            "type": "scattermapbox"
           }
          ],
          "scatterpolar": [
           {
            "marker": {
             "colorbar": {
              "outlinewidth": 0,
              "ticks": ""
             }
            },
            "type": "scatterpolar"
           }
          ],
          "scatterpolargl": [
           {
            "marker": {
             "colorbar": {
              "outlinewidth": 0,
              "ticks": ""
             }
            },
            "type": "scatterpolargl"
           }
          ],
          "scatterternary": [
           {
            "marker": {
             "colorbar": {
              "outlinewidth": 0,
              "ticks": ""
             }
            },
            "type": "scatterternary"
           }
          ],
          "surface": [
           {
            "colorbar": {
             "outlinewidth": 0,
             "ticks": ""
            },
            "colorscale": [
             [
              0,
              "#0d0887"
             ],
             [
              0.1111111111111111,
              "#46039f"
             ],
             [
              0.2222222222222222,
              "#7201a8"
             ],
             [
              0.3333333333333333,
              "#9c179e"
             ],
             [
              0.4444444444444444,
              "#bd3786"
             ],
             [
              0.5555555555555556,
              "#d8576b"
             ],
             [
              0.6666666666666666,
              "#ed7953"
             ],
             [
              0.7777777777777778,
              "#fb9f3a"
             ],
             [
              0.8888888888888888,
              "#fdca26"
             ],
             [
              1,
              "#f0f921"
             ]
            ],
            "type": "surface"
           }
          ],
          "table": [
           {
            "cells": {
             "fill": {
              "color": "#EBF0F8"
             },
             "line": {
              "color": "white"
             }
            },
            "header": {
             "fill": {
              "color": "#C8D4E3"
             },
             "line": {
              "color": "white"
             }
            },
            "type": "table"
           }
          ]
         },
         "layout": {
          "annotationdefaults": {
           "arrowcolor": "#2a3f5f",
           "arrowhead": 0,
           "arrowwidth": 1
          },
          "autotypenumbers": "strict",
          "coloraxis": {
           "colorbar": {
            "outlinewidth": 0,
            "ticks": ""
           }
          },
          "colorscale": {
           "diverging": [
            [
             0,
             "#8e0152"
            ],
            [
             0.1,
             "#c51b7d"
            ],
            [
             0.2,
             "#de77ae"
            ],
            [
             0.3,
             "#f1b6da"
            ],
            [
             0.4,
             "#fde0ef"
            ],
            [
             0.5,
             "#f7f7f7"
            ],
            [
             0.6,
             "#e6f5d0"
            ],
            [
             0.7,
             "#b8e186"
            ],
            [
             0.8,
             "#7fbc41"
            ],
            [
             0.9,
             "#4d9221"
            ],
            [
             1,
             "#276419"
            ]
           ],
           "sequential": [
            [
             0,
             "#0d0887"
            ],
            [
             0.1111111111111111,
             "#46039f"
            ],
            [
             0.2222222222222222,
             "#7201a8"
            ],
            [
             0.3333333333333333,
             "#9c179e"
            ],
            [
             0.4444444444444444,
             "#bd3786"
            ],
            [
             0.5555555555555556,
             "#d8576b"
            ],
            [
             0.6666666666666666,
             "#ed7953"
            ],
            [
             0.7777777777777778,
             "#fb9f3a"
            ],
            [
             0.8888888888888888,
             "#fdca26"
            ],
            [
             1,
             "#f0f921"
            ]
           ],
           "sequentialminus": [
            [
             0,
             "#0d0887"
            ],
            [
             0.1111111111111111,
             "#46039f"
            ],
            [
             0.2222222222222222,
             "#7201a8"
            ],
            [
             0.3333333333333333,
             "#9c179e"
            ],
            [
             0.4444444444444444,
             "#bd3786"
            ],
            [
             0.5555555555555556,
             "#d8576b"
            ],
            [
             0.6666666666666666,
             "#ed7953"
            ],
            [
             0.7777777777777778,
             "#fb9f3a"
            ],
            [
             0.8888888888888888,
             "#fdca26"
            ],
            [
             1,
             "#f0f921"
            ]
           ]
          },
          "colorway": [
           "#636efa",
           "#EF553B",
           "#00cc96",
           "#ab63fa",
           "#FFA15A",
           "#19d3f3",
           "#FF6692",
           "#B6E880",
           "#FF97FF",
           "#FECB52"
          ],
          "font": {
           "color": "#2a3f5f"
          },
          "geo": {
           "bgcolor": "white",
           "lakecolor": "white",
           "landcolor": "#E5ECF6",
           "showlakes": true,
           "showland": true,
           "subunitcolor": "white"
          },
          "hoverlabel": {
           "align": "left"
          },
          "hovermode": "closest",
          "mapbox": {
           "style": "light"
          },
          "paper_bgcolor": "white",
          "plot_bgcolor": "#E5ECF6",
          "polar": {
           "angularaxis": {
            "gridcolor": "white",
            "linecolor": "white",
            "ticks": ""
           },
           "bgcolor": "#E5ECF6",
           "radialaxis": {
            "gridcolor": "white",
            "linecolor": "white",
            "ticks": ""
           }
          },
          "scene": {
           "xaxis": {
            "backgroundcolor": "#E5ECF6",
            "gridcolor": "white",
            "gridwidth": 2,
            "linecolor": "white",
            "showbackground": true,
            "ticks": "",
            "zerolinecolor": "white"
           },
           "yaxis": {
            "backgroundcolor": "#E5ECF6",
            "gridcolor": "white",
            "gridwidth": 2,
            "linecolor": "white",
            "showbackground": true,
            "ticks": "",
            "zerolinecolor": "white"
           },
           "zaxis": {
            "backgroundcolor": "#E5ECF6",
            "gridcolor": "white",
            "gridwidth": 2,
            "linecolor": "white",
            "showbackground": true,
            "ticks": "",
            "zerolinecolor": "white"
           }
          },
          "shapedefaults": {
           "line": {
            "color": "#2a3f5f"
           }
          },
          "ternary": {
           "aaxis": {
            "gridcolor": "white",
            "linecolor": "white",
            "ticks": ""
           },
           "baxis": {
            "gridcolor": "white",
            "linecolor": "white",
            "ticks": ""
           },
           "bgcolor": "#E5ECF6",
           "caxis": {
            "gridcolor": "white",
            "linecolor": "white",
            "ticks": ""
           }
          },
          "title": {
           "x": 0.05
          },
          "xaxis": {
           "automargin": true,
           "gridcolor": "white",
           "linecolor": "white",
           "ticks": "",
           "title": {
            "standoff": 15
           },
           "zerolinecolor": "white",
           "zerolinewidth": 2
          },
          "yaxis": {
           "automargin": true,
           "gridcolor": "white",
           "linecolor": "white",
           "ticks": "",
           "title": {
            "standoff": 15
           },
           "zerolinecolor": "white",
           "zerolinewidth": 2
          }
         }
        },
        "title": {
         "text": "Transition Probability Heatmap For Replacement"
        },
        "xaxis": {
         "anchor": "y",
         "constrain": "domain",
         "domain": [
          0,
          1
         ],
         "scaleanchor": "y",
         "title": {
          "text": "Next State"
         }
        },
        "yaxis": {
         "anchor": "x",
         "autorange": "reversed",
         "constrain": "domain",
         "domain": [
          0,
          1
         ],
         "title": {
          "text": "Current State"
         }
        }
       }
      }
     },
     "metadata": {},
     "output_type": "display_data"
    }
   ],
   "source": [
    "fig = px.imshow(transition_probability[0], color_continuous_scale='Viridis',\n",
    "                 labels=dict(x=\"Next State\", y=\"Current State\", color=\"Transition Probability\"),\n",
    "                 x=np.arange(N), y=np.arange(N))\n",
    "fig.update_layout(title='Transition Probability Heatmap For Replacement')\n",
    "fig.show()"
   ]
  },
  {
   "cell_type": "code",
   "execution_count": 49,
   "id": "31e11806",
   "metadata": {},
   "outputs": [],
   "source": [
    "def T(R, P, V, alpha=0.5):\n",
    "    return R + alpha* (P @ V)"
   ]
  },
  {
   "cell_type": "code",
   "execution_count": 50,
   "id": "1ac7b096",
   "metadata": {},
   "outputs": [],
   "source": [
    "# DP algorithm for finite horizon\n",
    "def backward_induction(C, P, time_steps, alpha=0.5):\n",
    "    V = np.zeros((time_steps + 1, N))\n",
    "    policy = np.zeros((time_steps + 1, N), dtype=int)\n",
    "    V[time_steps] = C[time_steps][0]  # Initialize with final costs\n",
    "    policy[time_steps] = np.zeros(N)  # Default action at the last time step\n",
    "    for t in range(time_steps - 1, -1, -1):\n",
    "        Q = T(C[t], P, V[t + 1], alpha)\n",
    "        V[t] = np.min(Q, axis=0)\n",
    "        policy[t] = np.argmin(Q, axis=0)\n",
    "\n",
    "    return V, policy"
   ]
  },
  {
   "cell_type": "markdown",
   "id": "6fc04aca",
   "metadata": {},
   "source": [
    "# Discounted Case"
   ]
  },
  {
   "cell_type": "code",
   "execution_count": 51,
   "id": "53685c93",
   "metadata": {},
   "outputs": [],
   "source": [
    "V, policy = backward_induction(C, transition_probability, time_steps, alpha=0.5)"
   ]
  },
  {
   "cell_type": "code",
   "execution_count": 52,
   "id": "3b5d5ea6",
   "metadata": {},
   "outputs": [
    {
     "data": {
      "image/png": "[encoded data removed]",
      "text/plain": [
       "<Figure size 640x480 with 1 Axes>"
      ]
     },
     "metadata": {},
     "output_type": "display_data"
    }
   ],
   "source": [
    "for t in range(1, time_steps + 1):\n",
    "    plt.plot(range(N), V[t], label=f'Time step {t}')\n",
    "plt.xlabel(\"State\")\n",
    "plt.ylabel(\"Value Function\")\n",
    "plt.title(\"Value Function Over States for Each Time Step\")\n",
    "plt.show()"
   ]
  },
  {
   "cell_type": "code",
   "execution_count": 53,
   "id": "e2da79df",
   "metadata": {},
   "outputs": [
    {
     "data": {
      "image/png": "[encoded data removed]",
      "text/plain": [
       "<Figure size 640x480 with 1 Axes>"
      ]
     },
     "metadata": {},
     "output_type": "display_data"
    }
   ],
   "source": [
    "for s in range(N):\n",
    "    plt.plot(range(time_steps + 1), V[:, s], label=f'State {s}')\n",
    "plt.xlabel(\"Time Step\")\n",
    "plt.ylabel(\"Value Function\")\n",
    "plt.title(\"Value Function Over Time Steps for Each State\")\n",
    "plt.show()"
   ]
  },
  {
   "cell_type": "code",
   "execution_count": 54,
   "id": "7db48c82",
   "metadata": {},
   "outputs": [
    {
     "name": "stdout",
     "output_type": "stream",
     "text": [
      "The policy remains threshold type throughout.\n"
     ]
    }
   ],
   "source": [
    "# check if policy remains threshold type throughout time\n",
    "flag = True\n",
    "for t in range(time_steps):\n",
    "    if np.any(policy[t] == 0):\n",
    "        threshold_state = np.min(np.where(policy[t] == 0))\n",
    "    else:\n",
    "        threshold_state = N\n",
    "    for s in range(threshold_state, N):\n",
    "        if policy[t, s] != 0:\n",
    "            flag = False\n",
    "            break\n",
    "if flag:\n",
    "    print(\"The policy remains threshold type throughout.\")"
   ]
  },
  {
   "cell_type": "code",
   "execution_count": 55,
   "id": "764d6245",
   "metadata": {},
   "outputs": [
    {
     "data": {
      "image/png": "[encoded data removed]",
      "text/plain": [
       "<Figure size 640x480 with 1 Axes>"
      ]
     },
     "metadata": {},
     "output_type": "display_data"
    }
   ],
   "source": [
    "# plot of threshold over time\n",
    "thresholds = np.zeros(time_steps)\n",
    "for t in range(time_steps):\n",
    "    thresholds[t] = np.min(np.where(policy[t] == 0)) if np.any(policy[t] == 0) else N\n",
    "plt.plot(range(time_steps), thresholds)\n",
    "plt.xlabel(\"Time Step\")\n",
    "plt.ylabel(\"Threshold State\")\n",
    "plt.title(\"Threshold State Over Time\")\n",
    "plt.show()"
   ]
  },
  {
   "cell_type": "code",
   "execution_count": 56,
   "id": "e0656c49",
   "metadata": {},
   "outputs": [
    {
     "data": {
      "application/vnd.plotly.v1+json": {
       "config": {
        "plotlyServerURL": "https://plot.ly"
       },
       "data": [
        {
         "type": "surface",
         "x": {
          "bdata": "AAECAwQFBgcICQoLDA0ODxAREhMAAQIDBAUGBwgJCgsMDQ4PEBESEwABAgMEBQYHCAkKCwwNDg8QERITAAECAwQFBgcICQoLDA0ODxAREhMAAQIDBAUGBwgJCgsMDQ4PEBESEwABAgMEBQYHCAkKCwwNDg8QERITAAECAwQFBgcICQoLDA0ODxAREhMAAQIDBAUGBwgJCgsMDQ4PEBESEwABAgMEBQYHCAkKCwwNDg8QERITAAECAwQFBgcICQoLDA0ODxAREhMAAQIDBAUGBwgJCgsMDQ4PEBESEwABAgMEBQYHCAkKCwwNDg8QERITAAECAwQFBgcICQoLDA0ODxAREhMAAQIDBAUGBwgJCgsMDQ4PEBESEwABAgMEBQYHCAkKCwwNDg8QERITAAECAwQFBgcICQoLDA0ODxAREhMAAQIDBAUGBwgJCgsMDQ4PEBESEwABAgMEBQYHCAkKCwwNDg8QERITAAECAwQFBgcICQoLDA0ODxAREhMAAQIDBAUGBwgJCgsMDQ4PEBESEwABAgMEBQYHCAkKCwwNDg8QERITAAECAwQFBgcICQoLDA0ODxAREhMAAQIDBAUGBwgJCgsMDQ4PEBESEwABAgMEBQYHCAkKCwwNDg8QERITAAECAwQFBgcICQoLDA0ODxAREhMAAQIDBAUGBwgJCgsMDQ4PEBESEwABAgMEBQYHCAkKCwwNDg8QERITAAECAwQFBgcICQoLDA0ODxAREhMAAQIDBAUGBwgJCgsMDQ4PEBESEwABAgMEBQYHCAkKCwwNDg8QERITAAECAwQFBgcICQoLDA0ODxAREhMAAQIDBAUGBwgJCgsMDQ4PEBESEwABAgMEBQYHCAkKCwwNDg8QERITAAECAwQFBgcICQoLDA0ODxAREhMAAQIDBAUGBwgJCgsMDQ4PEBESEwABAgMEBQYHCAkKCwwNDg8QERITAAECAwQFBgcICQoLDA0ODxAREhMAAQIDBAUGBwgJCgsMDQ4PEBESEwABAgMEBQYHCAkKCwwNDg8QERITAAECAwQFBgcICQoLDA0ODxAREhMAAQIDBAUGBwgJCgsMDQ4PEBESEwABAgMEBQYHCAkKCwwNDg8QERITAAECAwQFBgcICQoLDA0ODxAREhMAAQIDBAUGBwgJCgsMDQ4PEBESEwABAgMEBQYHCAkKCwwNDg8QERITAAECAwQFBgcICQoLDA0ODxAREhMAAQIDBAUGBwgJCgsMDQ4PEBESEwABAgMEBQYHCAkKCwwNDg8QERITAAECAwQFBgcICQoLDA0ODxAREhMAAQIDBAUGBwgJCgsMDQ4PEBESEwABAgMEBQYHCAkKCwwNDg8QERITAAECAwQFBgcICQoLDA0ODxAREhMAAQIDBAUGBwgJCgsMDQ4PEBESEwABAgMEBQYHCAkKCwwNDg8QERITAAECAwQFBgcICQoLDA0ODxAREhMAAQIDBAUGBwgJCgsMDQ4PEBESEwABAgMEBQYHCAkKCwwNDg8QERITAAECAwQFBgcICQoLDA0ODxAREhMAAQIDBAUGBwgJCgsMDQ4PEBESEwABAgMEBQYHCAkKCwwNDg8QERITAAECAwQFBgcICQoLDA0ODxAREhM=",
          "dtype": "i1",
          "shape": "61, 20"
         },
         "y": {
          "bdata": "AAAAAAAAAAAAAAAAAAAAAAAAAAABAQEBAQEBAQEBAQEBAQEBAQEBAQICAgICAgICAgICAgICAgICAgICAwMDAwMDAwMDAwMDAwMDAwMDAwMEBAQEBAQEBAQEBAQEBAQEBAQEBAUFBQUFBQUFBQUFBQUFBQUFBQUFBgYGBgYGBgYGBgYGBgYGBgYGBgYHBwcHBwcHBwcHBwcHBwcHBwcHBwgICAgICAgICAgICAgICAgICAgICQkJCQkJCQkJCQkJCQkJCQkJCQkKCgoKCgoKCgoKCgoKCgoKCgoKCgsLCwsLCwsLCwsLCwsLCwsLCwsLDAwMDAwMDAwMDAwMDAwMDAwMDAwNDQ0NDQ0NDQ0NDQ0NDQ0NDQ0NDQ4ODg4ODg4ODg4ODg4ODg4ODg4ODw8PDw8PDw8PDw8PDw8PDw8PDw8QEBAQEBAQEBAQEBAQEBAQEBAQEBEREREREREREREREREREREREREREhISEhISEhISEhISEhISEhISEhITExMTExMTExMTExMTExMTExMTExQUFBQUFBQUFBQUFBQUFBQUFBQUFRUVFRUVFRUVFRUVFRUVFRUVFRUWFhYWFhYWFhYWFhYWFhYWFhYWFhcXFxcXFxcXFxcXFxcXFxcXFxcXGBgYGBgYGBgYGBgYGBgYGBgYGBgZGRkZGRkZGRkZGRkZGRkZGRkZGRoaGhoaGhoaGhoaGhoaGhoaGhoaGxsbGxsbGxsbGxsbGxsbGxsbGxscHBwcHBwcHBwcHBwcHBwcHBwcHB0dHR0dHR0dHR0dHR0dHR0dHR0dHh4eHh4eHh4eHh4eHh4eHh4eHh4fHx8fHx8fHx8fHx8fHx8fHx8fHyAgICAgICAgICAgICAgICAgICAgISEhISEhISEhISEhISEhISEhISEiIiIiIiIiIiIiIiIiIiIiIiIiIiMjIyMjIyMjIyMjIyMjIyMjIyMjJCQkJCQkJCQkJCQkJCQkJCQkJCQlJSUlJSUlJSUlJSUlJSUlJSUlJSYmJiYmJiYmJiYmJiYmJiYmJiYmJycnJycnJycnJycnJycnJycnJycoKCgoKCgoKCgoKCgoKCgoKCgoKCkpKSkpKSkpKSkpKSkpKSkpKSkpKioqKioqKioqKioqKioqKioqKiorKysrKysrKysrKysrKysrKysrKywsLCwsLCwsLCwsLCwsLCwsLCwsLS0tLS0tLS0tLS0tLS0tLS0tLS0uLi4uLi4uLi4uLi4uLi4uLi4uLi8vLy8vLy8vLy8vLy8vLy8vLy8vMDAwMDAwMDAwMDAwMDAwMDAwMDAxMTExMTExMTExMTExMTExMTExMTIyMjIyMjIyMjIyMjIyMjIyMjIyMzMzMzMzMzMzMzMzMzMzMzMzMzM0NDQ0NDQ0NDQ0NDQ0NDQ0NDQ0NDU1NTU1NTU1NTU1NTU1NTU1NTU1NjY2NjY2NjY2NjY2NjY2NjY2NjY3Nzc3Nzc3Nzc3Nzc3Nzc3Nzc3Nzg4ODg4ODg4ODg4ODg4ODg4ODg4OTk5OTk5OTk5OTk5OTk5OTk5OTk6Ojo6Ojo6Ojo6Ojo6Ojo6Ojo6Ojs7Ozs7Ozs7Ozs7Ozs7Ozs7Ozs7PDw8PDw8PDw8PDw8PDw8PDw8PDw=",
          "dtype": "i1",
          "shape": "61, 20"
         },
         "z": {
          "bdata": "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",
          "dtype": "f8",
          "shape": "61, 20"
         }
        }
       ],
       "layout": {
        "scene": {
         "xaxis": {
          "title": {
           "text": "State"
          }
         },
         "yaxis": {
          "title": {
           "text": "Time Step"
          }
         },
         "zaxis": {
          "title": {
           "text": "Value Function"
          }
         }
        },
        "template": {
         "data": {
          "bar": [
           {
            "error_x": {
             "color": "#2a3f5f"
            },
            "error_y": {
             "color": "#2a3f5f"
            },
            "marker": {
             "line": {
              "color": "#E5ECF6",
              "width": 0.5
             },
             "pattern": {
              "fillmode": "overlay",
              "size": 10,
              "solidity": 0.2
             }
            },
            "type": "bar"
           }
          ],
          "barpolar": [
           {
            "marker": {
             "line": {
              "color": "#E5ECF6",
              "width": 0.5
             },
             "pattern": {
              "fillmode": "overlay",
              "size": 10,
              "solidity": 0.2
             }
            },
            "type": "barpolar"
           }
          ],
          "carpet": [
           {
            "aaxis": {
             "endlinecolor": "#2a3f5f",
             "gridcolor": "white",
             "linecolor": "white",
             "minorgridcolor": "white",
             "startlinecolor": "#2a3f5f"
            },
            "baxis": {
             "endlinecolor": "#2a3f5f",
             "gridcolor": "white",
             "linecolor": "white",
             "minorgridcolor": "white",
             "startlinecolor": "#2a3f5f"
            },
            "type": "carpet"
           }
          ],
          "choropleth": [
           {
            "colorbar": {
             "outlinewidth": 0,
             "ticks": ""
            },
            "type": "choropleth"
           }
          ],
          "contour": [
           {
            "colorbar": {
             "outlinewidth": 0,
             "ticks": ""
            },
            "colorscale": [
             [
              0,
              "#0d0887"
             ],
             [
              0.1111111111111111,
              "#46039f"
             ],
             [
              0.2222222222222222,
              "#7201a8"
             ],
             [
              0.3333333333333333,
              "#9c179e"
             ],
             [
              0.4444444444444444,
              "#bd3786"
             ],
             [
              0.5555555555555556,
              "#d8576b"
             ],
             [
              0.6666666666666666,
              "#ed7953"
             ],
             [
              0.7777777777777778,
              "#fb9f3a"
             ],
             [
              0.8888888888888888,
              "#fdca26"
             ],
             [
              1,
              "#f0f921"
             ]
            ],
            "type": "contour"
           }
          ],
          "contourcarpet": [
           {
            "colorbar": {
             "outlinewidth": 0,
             "ticks": ""
            },
            "type": "contourcarpet"
           }
          ],
          "heatmap": [
           {
            "colorbar": {
             "outlinewidth": 0,
             "ticks": ""
            },
            "colorscale": [
             [
              0,
              "#0d0887"
             ],
             [
              0.1111111111111111,
              "#46039f"
             ],
             [
              0.2222222222222222,
              "#7201a8"
             ],
             [
              0.3333333333333333,
              "#9c179e"
             ],
             [
              0.4444444444444444,
              "#bd3786"
             ],
             [
              0.5555555555555556,
              "#d8576b"
             ],
             [
              0.6666666666666666,
              "#ed7953"
             ],
             [
              0.7777777777777778,
              "#fb9f3a"
             ],
             [
              0.8888888888888888,
              "#fdca26"
             ],
             [
              1,
              "#f0f921"
             ]
            ],
            "type": "heatmap"
           }
          ],
          "histogram": [
           {
            "marker": {
             "pattern": {
              "fillmode": "overlay",
              "size": 10,
              "solidity": 0.2
             }
            },
            "type": "histogram"
           }
          ],
          "histogram2d": [
           {
            "colorbar": {
             "outlinewidth": 0,
             "ticks": ""
            },
            "colorscale": [
             [
              0,
              "#0d0887"
             ],
             [
              0.1111111111111111,
              "#46039f"
             ],
             [
              0.2222222222222222,
              "#7201a8"
             ],
             [
              0.3333333333333333,
              "#9c179e"
             ],
             [
              0.4444444444444444,
              "#bd3786"
             ],
             [
              0.5555555555555556,
              "#d8576b"
             ],
             [
              0.6666666666666666,
              "#ed7953"
             ],
             [
              0.7777777777777778,
              "#fb9f3a"
             ],
             [
              0.8888888888888888,
              "#fdca26"
             ],
             [
              1,
              "#f0f921"
             ]
            ],
            "type": "histogram2d"
           }
          ],
          "histogram2dcontour": [
           {
            "colorbar": {
             "outlinewidth": 0,
             "ticks": ""
            },
            "colorscale": [
             [
              0,
              "#0d0887"
             ],
             [
              0.1111111111111111,
              "#46039f"
             ],
             [
              0.2222222222222222,
              "#7201a8"
             ],
             [
              0.3333333333333333,
              "#9c179e"
             ],
             [
              0.4444444444444444,
              "#bd3786"
             ],
             [
              0.5555555555555556,
              "#d8576b"
             ],
             [
              0.6666666666666666,
              "#ed7953"
             ],
             [
              0.7777777777777778,
              "#fb9f3a"
             ],
             [
              0.8888888888888888,
              "#fdca26"
             ],
             [
              1,
              "#f0f921"
             ]
            ],
            "type": "histogram2dcontour"
           }
          ],
          "mesh3d": [
           {
            "colorbar": {
             "outlinewidth": 0,
             "ticks": ""
            },
            "type": "mesh3d"
           }
          ],
          "parcoords": [
           {
            "line": {
             "colorbar": {
              "outlinewidth": 0,
              "ticks": ""
             }
            },
            "type": "parcoords"
           }
          ],
          "pie": [
           {
            "automargin": true,
            "type": "pie"
           }
          ],
          "scatter": [
           {
            "fillpattern": {
             "fillmode": "overlay",
             "size": 10,
             "solidity": 0.2
            },
            "type": "scatter"
           }
          ],
          "scatter3d": [
           {
            "line": {
             "colorbar": {
              "outlinewidth": 0,
              "ticks": ""
             }
            },
            "marker": {
             "colorbar": {
              "outlinewidth": 0,
              "ticks": ""
             }
            },
            "type": "scatter3d"
           }
          ],
          "scattercarpet": [
           {
            "marker": {
             "colorbar": {
              "outlinewidth": 0,
              "ticks": ""
             }
            },
            "type": "scattercarpet"
           }
          ],
          "scattergeo": [
           {
            "marker": {
             "colorbar": {
              "outlinewidth": 0,
              "ticks": ""
             }
            },
            "type": "scattergeo"
           }
          ],
          "scattergl": [
           {
            "marker": {
             "colorbar": {
              "outlinewidth": 0,
              "ticks": ""
             }
            },
            "type": "scattergl"
           }
          ],
          "scattermap": [
           {
            "marker": {
             "colorbar": {
              "outlinewidth": 0,
              "ticks": ""
             }
            },
            "type": "scattermap"
           }
          ],
          "scattermapbox": [
           {
            "marker": {
             "colorbar": {
              "outlinewidth": 0,
              "ticks": ""
             }
            },
            "type": "scattermapbox"
           }
          ],
          "scatterpolar": [
           {
            "marker": {
             "colorbar": {
              "outlinewidth": 0,
              "ticks": ""
             }
            },
            "type": "scatterpolar"
           }
          ],
          "scatterpolargl": [
           {
            "marker": {
             "colorbar": {
              "outlinewidth": 0,
              "ticks": ""
             }
            },
            "type": "scatterpolargl"
           }
          ],
          "scatterternary": [
           {
            "marker": {
             "colorbar": {
              "outlinewidth": 0,
              "ticks": ""
             }
            },
            "type": "scatterternary"
           }
          ],
          "surface": [
           {
            "colorbar": {
             "outlinewidth": 0,
             "ticks": ""
            },
            "colorscale": [
             [
              0,
              "#0d0887"
             ],
             [
              0.1111111111111111,
              "#46039f"
             ],
             [
              0.2222222222222222,
              "#7201a8"
             ],
             [
              0.3333333333333333,
              "#9c179e"
             ],
             [
              0.4444444444444444,
              "#bd3786"
             ],
             [
              0.5555555555555556,
              "#d8576b"
             ],
             [
              0.6666666666666666,
              "#ed7953"
             ],
             [
              0.7777777777777778,
              "#fb9f3a"
             ],
             [
              0.8888888888888888,
              "#fdca26"
             ],
             [
              1,
              "#f0f921"
             ]
            ],
            "type": "surface"
           }
          ],
          "table": [
           {
            "cells": {
             "fill": {
              "color": "#EBF0F8"
             },
             "line": {
              "color": "white"
             }
            },
            "header": {
             "fill": {
              "color": "#C8D4E3"
             },
             "line": {
              "color": "white"
             }
            },
            "type": "table"
           }
          ]
         },
         "layout": {
          "annotationdefaults": {
           "arrowcolor": "#2a3f5f",
           "arrowhead": 0,
           "arrowwidth": 1
          },
          "autotypenumbers": "strict",
          "coloraxis": {
           "colorbar": {
            "outlinewidth": 0,
            "ticks": ""
           }
          },
          "colorscale": {
           "diverging": [
            [
             0,
             "#8e0152"
            ],
            [
             0.1,
             "#c51b7d"
            ],
            [
             0.2,
             "#de77ae"
            ],
            [
             0.3,
             "#f1b6da"
            ],
            [
             0.4,
             "#fde0ef"
            ],
            [
             0.5,
             "#f7f7f7"
            ],
            [
             0.6,
             "#e6f5d0"
            ],
            [
             0.7,
             "#b8e186"
            ],
            [
             0.8,
             "#7fbc41"
            ],
            [
             0.9,
             "#4d9221"
            ],
            [
             1,
             "#276419"
            ]
           ],
           "sequential": [
            [
             0,
             "#0d0887"
            ],
            [
             0.1111111111111111,
             "#46039f"
            ],
            [
             0.2222222222222222,
             "#7201a8"
            ],
            [
             0.3333333333333333,
             "#9c179e"
            ],
            [
             0.4444444444444444,
             "#bd3786"
            ],
            [
             0.5555555555555556,
             "#d8576b"
            ],
            [
             0.6666666666666666,
             "#ed7953"
            ],
            [
             0.7777777777777778,
             "#fb9f3a"
            ],
            [
             0.8888888888888888,
             "#fdca26"
            ],
            [
             1,
             "#f0f921"
            ]
           ],
           "sequentialminus": [
            [
             0,
             "#0d0887"
            ],
            [
             0.1111111111111111,
             "#46039f"
            ],
            [
             0.2222222222222222,
             "#7201a8"
            ],
            [
             0.3333333333333333,
             "#9c179e"
            ],
            [
             0.4444444444444444,
             "#bd3786"
            ],
            [
             0.5555555555555556,
             "#d8576b"
            ],
            [
             0.6666666666666666,
             "#ed7953"
            ],
            [
             0.7777777777777778,
             "#fb9f3a"
            ],
            [
             0.8888888888888888,
             "#fdca26"
            ],
            [
             1,
             "#f0f921"
            ]
           ]
          },
          "colorway": [
           "#636efa",
           "#EF553B",
           "#00cc96",
           "#ab63fa",
           "#FFA15A",
           "#19d3f3",
           "#FF6692",
           "#B6E880",
           "#FF97FF",
           "#FECB52"
          ],
          "font": {
           "color": "#2a3f5f"
          },
          "geo": {
           "bgcolor": "white",
           "lakecolor": "white",
           "landcolor": "#E5ECF6",
           "showlakes": true,
           "showland": true,
           "subunitcolor": "white"
          },
          "hoverlabel": {
           "align": "left"
          },
          "hovermode": "closest",
          "mapbox": {
           "style": "light"
          },
          "paper_bgcolor": "white",
          "plot_bgcolor": "#E5ECF6",
          "polar": {
           "angularaxis": {
            "gridcolor": "white",
            "linecolor": "white",
            "ticks": ""
           },
           "bgcolor": "#E5ECF6",
           "radialaxis": {
            "gridcolor": "white",
            "linecolor": "white",
            "ticks": ""
           }
          },
          "scene": {
           "xaxis": {
            "backgroundcolor": "#E5ECF6",
            "gridcolor": "white",
            "gridwidth": 2,
            "linecolor": "white",
            "showbackground": true,
            "ticks": "",
            "zerolinecolor": "white"
           },
           "yaxis": {
            "backgroundcolor": "#E5ECF6",
            "gridcolor": "white",
            "gridwidth": 2,
            "linecolor": "white",
            "showbackground": true,
            "ticks": "",
            "zerolinecolor": "white"
           },
           "zaxis": {
            "backgroundcolor": "#E5ECF6",
            "gridcolor": "white",
            "gridwidth": 2,
            "linecolor": "white",
            "showbackground": true,
            "ticks": "",
            "zerolinecolor": "white"
           }
          },
          "shapedefaults": {
           "line": {
            "color": "#2a3f5f"
           }
          },
          "ternary": {
           "aaxis": {
            "gridcolor": "white",
            "linecolor": "white",
            "ticks": ""
           },
           "baxis": {
            "gridcolor": "white",
            "linecolor": "white",
            "ticks": ""
           },
           "bgcolor": "#E5ECF6",
           "caxis": {
            "gridcolor": "white",
            "linecolor": "white",
            "ticks": ""
           }
          },
          "title": {
           "x": 0.05
          },
          "xaxis": {
           "automargin": true,
           "gridcolor": "white",
           "linecolor": "white",
           "ticks": "",
           "title": {
            "standoff": 15
           },
           "zerolinecolor": "white",
           "zerolinewidth": 2
          },
          "yaxis": {
           "automargin": true,
           "gridcolor": "white",
           "linecolor": "white",
           "ticks": "",
           "title": {
            "standoff": 15
           },
           "zerolinecolor": "white",
           "zerolinewidth": 2
          }
         }
        },
        "title": {
         "text": "Value Function Surface Plot"
        }
       }
      }
     },
     "metadata": {},
     "output_type": "display_data"
    }
   ],
   "source": [
    "# mesh plot of value function\n",
    "X, Y = np.meshgrid(range(N), range(time_steps + 1))\n",
    "Z = V\n",
    "\n",
    "fig = go.Figure(data=[go.Surface(z=Z, x=X, y=Y)])\n",
    "fig.update_layout(title='Value Function Surface Plot', scene=dict(\n",
    "    xaxis_title='State',\n",
    "    yaxis_title='Time Step',\n",
    "    zaxis_title='Value Function'))\n",
    "fig.show()"
   ]
  },
  {
   "cell_type": "markdown",
   "id": "9567a74d",
   "metadata": {},
   "source": [
    "Note: The values are similar even upto time step 60 but at time: time_steps there is a sudden change, this is because the higher valued states at time: time_steps are never reached due to the replacement action by the higher valued states in the previous time steps"
   ]
  },
  {
   "cell_type": "code",
   "execution_count": 57,
   "id": "eb866083",
   "metadata": {},
   "outputs": [
    {
     "data": {
      "application/vnd.plotly.v1+json": {
       "config": {
        "plotlyServerURL": "https://plot.ly"
       },
       "data": [
        {
         "type": "surface",
         "x": {
          "bdata": "AAECAwQFBgcICQoLDA0ODxAREhMAAQIDBAUGBwgJCgsMDQ4PEBESEwABAgMEBQYHCAkKCwwNDg8QERITAAECAwQFBgcICQoLDA0ODxAREhMAAQIDBAUGBwgJCgsMDQ4PEBESEwABAgMEBQYHCAkKCwwNDg8QERITAAECAwQFBgcICQoLDA0ODxAREhMAAQIDBAUGBwgJCgsMDQ4PEBESEwABAgMEBQYHCAkKCwwNDg8QERITAAECAwQFBgcICQoLDA0ODxAREhMAAQIDBAUGBwgJCgsMDQ4PEBESEwABAgMEBQYHCAkKCwwNDg8QERITAAECAwQFBgcICQoLDA0ODxAREhMAAQIDBAUGBwgJCgsMDQ4PEBESEwABAgMEBQYHCAkKCwwNDg8QERITAAECAwQFBgcICQoLDA0ODxAREhMAAQIDBAUGBwgJCgsMDQ4PEBESEwABAgMEBQYHCAkKCwwNDg8QERITAAECAwQFBgcICQoLDA0ODxAREhMAAQIDBAUGBwgJCgsMDQ4PEBESEwABAgMEBQYHCAkKCwwNDg8QERITAAECAwQFBgcICQoLDA0ODxAREhMAAQIDBAUGBwgJCgsMDQ4PEBESEwABAgMEBQYHCAkKCwwNDg8QERITAAECAwQFBgcICQoLDA0ODxAREhMAAQIDBAUGBwgJCgsMDQ4PEBESEwABAgMEBQYHCAkKCwwNDg8QERITAAECAwQFBgcICQoLDA0ODxAREhMAAQIDBAUGBwgJCgsMDQ4PEBESEwABAgMEBQYHCAkKCwwNDg8QERITAAECAwQFBgcICQoLDA0ODxAREhMAAQIDBAUGBwgJCgsMDQ4PEBESEwABAgMEBQYHCAkKCwwNDg8QERITAAECAwQFBgcICQoLDA0ODxAREhMAAQIDBAUGBwgJCgsMDQ4PEBESEwABAgMEBQYHCAkKCwwNDg8QERITAAECAwQFBgcICQoLDA0ODxAREhMAAQIDBAUGBwgJCgsMDQ4PEBESEwABAgMEBQYHCAkKCwwNDg8QERITAAECAwQFBgcICQoLDA0ODxAREhMAAQIDBAUGBwgJCgsMDQ4PEBESEwABAgMEBQYHCAkKCwwNDg8QERITAAECAwQFBgcICQoLDA0ODxAREhMAAQIDBAUGBwgJCgsMDQ4PEBESEwABAgMEBQYHCAkKCwwNDg8QERITAAECAwQFBgcICQoLDA0ODxAREhMAAQIDBAUGBwgJCgsMDQ4PEBESEwABAgMEBQYHCAkKCwwNDg8QERITAAECAwQFBgcICQoLDA0ODxAREhMAAQIDBAUGBwgJCgsMDQ4PEBESEwABAgMEBQYHCAkKCwwNDg8QERITAAECAwQFBgcICQoLDA0ODxAREhMAAQIDBAUGBwgJCgsMDQ4PEBESEwABAgMEBQYHCAkKCwwNDg8QERITAAECAwQFBgcICQoLDA0ODxAREhMAAQIDBAUGBwgJCgsMDQ4PEBESEwABAgMEBQYHCAkKCwwNDg8QERITAAECAwQFBgcICQoLDA0ODxAREhMAAQIDBAUGBwgJCgsMDQ4PEBESEwABAgMEBQYHCAkKCwwNDg8QERITAAECAwQFBgcICQoLDA0ODxAREhM=",
          "dtype": "i1",
          "shape": "61, 20"
         },
         "y": {
          "bdata": "AAAAAAAAAAAAAAAAAAAAAAAAAAABAQEBAQEBAQEBAQEBAQEBAQEBAQICAgICAgICAgICAgICAgICAgICAwMDAwMDAwMDAwMDAwMDAwMDAwMEBAQEBAQEBAQEBAQEBAQEBAQEBAUFBQUFBQUFBQUFBQUFBQUFBQUFBgYGBgYGBgYGBgYGBgYGBgYGBgYHBwcHBwcHBwcHBwcHBwcHBwcHBwgICAgICAgICAgICAgICAgICAgICQkJCQkJCQkJCQkJCQkJCQkJCQkKCgoKCgoKCgoKCgoKCgoKCgoKCgsLCwsLCwsLCwsLCwsLCwsLCwsLDAwMDAwMDAwMDAwMDAwMDAwMDAwNDQ0NDQ0NDQ0NDQ0NDQ0NDQ0NDQ4ODg4ODg4ODg4ODg4ODg4ODg4ODw8PDw8PDw8PDw8PDw8PDw8PDw8QEBAQEBAQEBAQEBAQEBAQEBAQEBEREREREREREREREREREREREREREhISEhISEhISEhISEhISEhISEhITExMTExMTExMTExMTExMTExMTExQUFBQUFBQUFBQUFBQUFBQUFBQUFRUVFRUVFRUVFRUVFRUVFRUVFRUWFhYWFhYWFhYWFhYWFhYWFhYWFhcXFxcXFxcXFxcXFxcXFxcXFxcXGBgYGBgYGBgYGBgYGBgYGBgYGBgZGRkZGRkZGRkZGRkZGRkZGRkZGRoaGhoaGhoaGhoaGhoaGhoaGhoaGxsbGxsbGxsbGxsbGxsbGxsbGxscHBwcHBwcHBwcHBwcHBwcHBwcHB0dHR0dHR0dHR0dHR0dHR0dHR0dHh4eHh4eHh4eHh4eHh4eHh4eHh4fHx8fHx8fHx8fHx8fHx8fHx8fHyAgICAgICAgICAgICAgICAgICAgISEhISEhISEhISEhISEhISEhISEiIiIiIiIiIiIiIiIiIiIiIiIiIiMjIyMjIyMjIyMjIyMjIyMjIyMjJCQkJCQkJCQkJCQkJCQkJCQkJCQlJSUlJSUlJSUlJSUlJSUlJSUlJSYmJiYmJiYmJiYmJiYmJiYmJiYmJycnJycnJycnJycnJycnJycnJycoKCgoKCgoKCgoKCgoKCgoKCgoKCkpKSkpKSkpKSkpKSkpKSkpKSkpKioqKioqKioqKioqKioqKioqKiorKysrKysrKysrKysrKysrKysrKywsLCwsLCwsLCwsLCwsLCwsLCwsLS0tLS0tLS0tLS0tLS0tLS0tLS0uLi4uLi4uLi4uLi4uLi4uLi4uLi8vLy8vLy8vLy8vLy8vLy8vLy8vMDAwMDAwMDAwMDAwMDAwMDAwMDAxMTExMTExMTExMTExMTExMTExMTIyMjIyMjIyMjIyMjIyMjIyMjIyMzMzMzMzMzMzMzMzMzMzMzMzMzM0NDQ0NDQ0NDQ0NDQ0NDQ0NDQ0NDU1NTU1NTU1NTU1NTU1NTU1NTU1NjY2NjY2NjY2NjY2NjY2NjY2NjY3Nzc3Nzc3Nzc3Nzc3Nzc3Nzc3Nzg4ODg4ODg4ODg4ODg4ODg4ODg4OTk5OTk5OTk5OTk5OTk5OTk5OTk6Ojo6Ojo6Ojo6Ojo6Ojo6Ojo6Ojs7Ozs7Ozs7Ozs7Ozs7Ozs7Ozs7PDw8PDw8PDw8PDw8PDw8PDw8PDw=",
          "dtype": "i1",
          "shape": "61, 20"
         },
         "z": {
          "bdata": "AQEBAQEBAQAAAAAAAAAAAAAAAAABAQEBAQEBAAAAAAAAAAAAAAAAAAEBAQEBAQEAAAAAAAAAAAAAAAAAAQEBAQEBAQAAAAAAAAAAAAAAAAABAQEBAQEBAAAAAAAAAAAAAAAAAAEBAQEBAQEAAAAAAAAAAAAAAAAAAQEBAQEBAQAAAAAAAAAAAAAAAAABAQEBAQEBAAAAAAAAAAAAAAAAAAEBAQEBAQEAAAAAAAAAAAAAAAAAAQEBAQEBAQAAAAAAAAAAAAAAAAABAQEBAQEBAAAAAAAAAAAAAAAAAAEBAQEBAQEAAAAAAAAAAAAAAAAAAQEBAQEBAQAAAAAAAAAAAAAAAAABAQEBAQEBAAAAAAAAAAAAAAAAAAEBAQEBAQEAAAAAAAAAAAAAAAAAAQEBAQEBAQAAAAAAAAAAAAAAAAABAQEBAQEBAAAAAAAAAAAAAAAAAAEBAQEBAQEAAAAAAAAAAAAAAAAAAQEBAQEBAQAAAAAAAAAAAAAAAAABAQEBAQEBAAAAAAAAAAAAAAAAAAEBAQEBAQEAAAAAAAAAAAAAAAAAAQEBAQEBAQAAAAAAAAAAAAAAAAABAQEBAQEBAAAAAAAAAAAAAAAAAAEBAQEBAQEAAAAAAAAAAAAAAAAAAQEBAQEBAQAAAAAAAAAAAAAAAAABAQEBAQEBAAAAAAAAAAAAAAAAAAEBAQEBAQEAAAAAAAAAAAAAAAAAAQEBAQEBAQAAAAAAAAAAAAAAAAABAQEBAQEBAAAAAAAAAAAAAAAAAAEBAQEBAQEAAAAAAAAAAAAAAAAAAQEBAQEBAQAAAAAAAAAAAAAAAAABAQEBAQEBAAAAAAAAAAAAAAAAAAEBAQEBAQEAAAAAAAAAAAAAAAAAAQEBAQEBAQAAAAAAAAAAAAAAAAABAQEBAQEBAAAAAAAAAAAAAAAAAAEBAQEBAQEAAAAAAAAAAAAAAAAAAQEBAQEBAQAAAAAAAAAAAAAAAAABAQEBAQEBAAAAAAAAAAAAAAAAAAEBAQEBAQEAAAAAAAAAAAAAAAAAAQEBAQEBAQAAAAAAAAAAAAAAAAABAQEBAQEBAAAAAAAAAAAAAAAAAAEBAQEBAQEAAAAAAAAAAAAAAAAAAQEBAQEBAQAAAAAAAAAAAAAAAAABAQEBAQEBAAAAAAAAAAAAAAAAAAEBAQEBAQEAAAAAAAAAAAAAAAAAAQEBAQEBAQAAAAAAAAAAAAAAAAABAQEBAQEBAAAAAAAAAAAAAAAAAAEBAQEBAQEAAAAAAAAAAAAAAAAAAQEBAQEBAQAAAAAAAAAAAAAAAAABAQEBAQEBAAAAAAAAAAAAAAAAAAEBAQEBAQEAAAAAAAAAAAAAAAAAAQEBAQEBAQAAAAAAAAAAAAAAAAABAQEBAQEBAAAAAAAAAAAAAAAAAAEBAQEBAQEAAAAAAAAAAAAAAAAAAQEBAQEBAQAAAAAAAAAAAAAAAAABAQEBAQEBAAAAAAAAAAAAAAAAAAEBAQEBAQEAAAAAAAAAAAAAAAAAAQEBAQEBAQAAAAAAAAAAAAAAAAABAQEBAQEBAAAAAAAAAAAAAAAAAAEBAQEBAAAAAAAAAAAAAAAAAAAAAAAAAAAAAAAAAAAAAAAAAAAAAAA=",
          "dtype": "i1",
          "shape": "61, 20"
         }
        }
       ],
       "layout": {
        "scene": {
         "xaxis": {
          "title": {
           "text": "State"
          }
         },
         "yaxis": {
          "title": {
           "text": "Time Step"
          }
         },
         "zaxis": {
          "title": {
           "text": "Action"
          }
         }
        },
        "template": {
         "data": {
          "bar": [
           {
            "error_x": {
             "color": "#2a3f5f"
            },
            "error_y": {
             "color": "#2a3f5f"
            },
            "marker": {
             "line": {
              "color": "#E5ECF6",
              "width": 0.5
             },
             "pattern": {
              "fillmode": "overlay",
              "size": 10,
              "solidity": 0.2
             }
            },
            "type": "bar"
           }
          ],
          "barpolar": [
           {
            "marker": {
             "line": {
              "color": "#E5ECF6",
              "width": 0.5
             },
             "pattern": {
              "fillmode": "overlay",
              "size": 10,
              "solidity": 0.2
             }
            },
            "type": "barpolar"
           }
          ],
          "carpet": [
           {
            "aaxis": {
             "endlinecolor": "#2a3f5f",
             "gridcolor": "white",
             "linecolor": "white",
             "minorgridcolor": "white",
             "startlinecolor": "#2a3f5f"
            },
            "baxis": {
             "endlinecolor": "#2a3f5f",
             "gridcolor": "white",
             "linecolor": "white",
             "minorgridcolor": "white",
             "startlinecolor": "#2a3f5f"
            },
            "type": "carpet"
           }
          ],
          "choropleth": [
           {
            "colorbar": {
             "outlinewidth": 0,
             "ticks": ""
            },
            "type": "choropleth"
           }
          ],
          "contour": [
           {
            "colorbar": {
             "outlinewidth": 0,
             "ticks": ""
            },
            "colorscale": [
             [
              0,
              "#0d0887"
             ],
             [
              0.1111111111111111,
              "#46039f"
             ],
             [
              0.2222222222222222,
              "#7201a8"
             ],
             [
              0.3333333333333333,
              "#9c179e"
             ],
             [
              0.4444444444444444,
              "#bd3786"
             ],
             [
              0.5555555555555556,
              "#d8576b"
             ],
             [
              0.6666666666666666,
              "#ed7953"
             ],
             [
              0.7777777777777778,
              "#fb9f3a"
             ],
             [
              0.8888888888888888,
              "#fdca26"
             ],
             [
              1,
              "#f0f921"
             ]
            ],
            "type": "contour"
           }
          ],
          "contourcarpet": [
           {
            "colorbar": {
             "outlinewidth": 0,
             "ticks": ""
            },
            "type": "contourcarpet"
           }
          ],
          "heatmap": [
           {
            "colorbar": {
             "outlinewidth": 0,
             "ticks": ""
            },
            "colorscale": [
             [
              0,
              "#0d0887"
             ],
             [
              0.1111111111111111,
              "#46039f"
             ],
             [
              0.2222222222222222,
              "#7201a8"
             ],
             [
              0.3333333333333333,
              "#9c179e"
             ],
             [
              0.4444444444444444,
              "#bd3786"
             ],
             [
              0.5555555555555556,
              "#d8576b"
             ],
             [
              0.6666666666666666,
              "#ed7953"
             ],
             [
              0.7777777777777778,
              "#fb9f3a"
             ],
             [
              0.8888888888888888,
              "#fdca26"
             ],
             [
              1,
              "#f0f921"
             ]
            ],
            "type": "heatmap"
           }
          ],
          "histogram": [
           {
            "marker": {
             "pattern": {
              "fillmode": "overlay",
              "size": 10,
              "solidity": 0.2
             }
            },
            "type": "histogram"
           }
          ],
          "histogram2d": [
           {
            "colorbar": {
             "outlinewidth": 0,
             "ticks": ""
            },
            "colorscale": [
             [
              0,
              "#0d0887"
             ],
             [
              0.1111111111111111,
              "#46039f"
             ],
             [
              0.2222222222222222,
              "#7201a8"
             ],
             [
              0.3333333333333333,
              "#9c179e"
             ],
             [
              0.4444444444444444,
              "#bd3786"
             ],
             [
              0.5555555555555556,
              "#d8576b"
             ],
             [
              0.6666666666666666,
              "#ed7953"
             ],
             [
              0.7777777777777778,
              "#fb9f3a"
             ],
             [
              0.8888888888888888,
              "#fdca26"
             ],
             [
              1,
              "#f0f921"
             ]
            ],
            "type": "histogram2d"
           }
          ],
          "histogram2dcontour": [
           {
            "colorbar": {
             "outlinewidth": 0,
             "ticks": ""
            },
            "colorscale": [
             [
              0,
              "#0d0887"
             ],
             [
              0.1111111111111111,
              "#46039f"
             ],
             [
              0.2222222222222222,
              "#7201a8"
             ],
             [
              0.3333333333333333,
              "#9c179e"
             ],
             [
              0.4444444444444444,
              "#bd3786"
             ],
             [
              0.5555555555555556,
              "#d8576b"
             ],
             [
              0.6666666666666666,
              "#ed7953"
             ],
             [
              0.7777777777777778,
              "#fb9f3a"
             ],
             [
              0.8888888888888888,
              "#fdca26"
             ],
             [
              1,
              "#f0f921"
             ]
            ],
            "type": "histogram2dcontour"
           }
          ],
          "mesh3d": [
           {
            "colorbar": {
             "outlinewidth": 0,
             "ticks": ""
            },
            "type": "mesh3d"
           }
          ],
          "parcoords": [
           {
            "line": {
             "colorbar": {
              "outlinewidth": 0,
              "ticks": ""
             }
            },
            "type": "parcoords"
           }
          ],
          "pie": [
           {
            "automargin": true,
            "type": "pie"
           }
          ],
          "scatter": [
           {
            "fillpattern": {
             "fillmode": "overlay",
             "size": 10,
             "solidity": 0.2
            },
            "type": "scatter"
           }
          ],
          "scatter3d": [
           {
            "line": {
             "colorbar": {
              "outlinewidth": 0,
              "ticks": ""
             }
            },
            "marker": {
             "colorbar": {
              "outlinewidth": 0,
              "ticks": ""
             }
            },
            "type": "scatter3d"
           }
          ],
          "scattercarpet": [
           {
            "marker": {
             "colorbar": {
              "outlinewidth": 0,
              "ticks": ""
             }
            },
            "type": "scattercarpet"
           }
          ],
          "scattergeo": [
           {
            "marker": {
             "colorbar": {
              "outlinewidth": 0,
              "ticks": ""
             }
            },
            "type": "scattergeo"
           }
          ],
          "scattergl": [
           {
            "marker": {
             "colorbar": {
              "outlinewidth": 0,
              "ticks": ""
             }
            },
            "type": "scattergl"
           }
          ],
          "scattermap": [
           {
            "marker": {
             "colorbar": {
              "outlinewidth": 0,
              "ticks": ""
             }
            },
            "type": "scattermap"
           }
          ],
          "scattermapbox": [
           {
            "marker": {
             "colorbar": {
              "outlinewidth": 0,
              "ticks": ""
             }
            },
            "type": "scattermapbox"
           }
          ],
          "scatterpolar": [
           {
            "marker": {
             "colorbar": {
              "outlinewidth": 0,
              "ticks": ""
             }
            },
            "type": "scatterpolar"
           }
          ],
          "scatterpolargl": [
           {
            "marker": {
             "colorbar": {
              "outlinewidth": 0,
              "ticks": ""
             }
            },
            "type": "scatterpolargl"
           }
          ],
          "scatterternary": [
           {
            "marker": {
             "colorbar": {
              "outlinewidth": 0,
              "ticks": ""
             }
            },
            "type": "scatterternary"
           }
          ],
          "surface": [
           {
            "colorbar": {
             "outlinewidth": 0,
             "ticks": ""
            },
            "colorscale": [
             [
              0,
              "#0d0887"
             ],
             [
              0.1111111111111111,
              "#46039f"
             ],
             [
              0.2222222222222222,
              "#7201a8"
             ],
             [
              0.3333333333333333,
              "#9c179e"
             ],
             [
              0.4444444444444444,
              "#bd3786"
             ],
             [
              0.5555555555555556,
              "#d8576b"
             ],
             [
              0.6666666666666666,
              "#ed7953"
             ],
             [
              0.7777777777777778,
              "#fb9f3a"
             ],
             [
              0.8888888888888888,
              "#fdca26"
             ],
             [
              1,
              "#f0f921"
             ]
            ],
            "type": "surface"
           }
          ],
          "table": [
           {
            "cells": {
             "fill": {
              "color": "#EBF0F8"
             },
             "line": {
              "color": "white"
             }
            },
            "header": {
             "fill": {
              "color": "#C8D4E3"
             },
             "line": {
              "color": "white"
             }
            },
            "type": "table"
           }
          ]
         },
         "layout": {
          "annotationdefaults": {
           "arrowcolor": "#2a3f5f",
           "arrowhead": 0,
           "arrowwidth": 1
          },
          "autotypenumbers": "strict",
          "coloraxis": {
           "colorbar": {
            "outlinewidth": 0,
            "ticks": ""
           }
          },
          "colorscale": {
           "diverging": [
            [
             0,
             "#8e0152"
            ],
            [
             0.1,
             "#c51b7d"
            ],
            [
             0.2,
             "#de77ae"
            ],
            [
             0.3,
             "#f1b6da"
            ],
            [
             0.4,
             "#fde0ef"
            ],
            [
             0.5,
             "#f7f7f7"
            ],
            [
             0.6,
             "#e6f5d0"
            ],
            [
             0.7,
             "#b8e186"
            ],
            [
             0.8,
             "#7fbc41"
            ],
            [
             0.9,
             "#4d9221"
            ],
            [
             1,
             "#276419"
            ]
           ],
           "sequential": [
            [
             0,
             "#0d0887"
            ],
            [
             0.1111111111111111,
             "#46039f"
            ],
            [
             0.2222222222222222,
             "#7201a8"
            ],
            [
             0.3333333333333333,
             "#9c179e"
            ],
            [
             0.4444444444444444,
             "#bd3786"
            ],
            [
             0.5555555555555556,
             "#d8576b"
            ],
            [
             0.6666666666666666,
             "#ed7953"
            ],
            [
             0.7777777777777778,
             "#fb9f3a"
            ],
            [
             0.8888888888888888,
             "#fdca26"
            ],
            [
             1,
             "#f0f921"
            ]
           ],
           "sequentialminus": [
            [
             0,
             "#0d0887"
            ],
            [
             0.1111111111111111,
             "#46039f"
            ],
            [
             0.2222222222222222,
             "#7201a8"
            ],
            [
             0.3333333333333333,
             "#9c179e"
            ],
            [
             0.4444444444444444,
             "#bd3786"
            ],
            [
             0.5555555555555556,
             "#d8576b"
            ],
            [
             0.6666666666666666,
             "#ed7953"
            ],
            [
             0.7777777777777778,
             "#fb9f3a"
            ],
            [
             0.8888888888888888,
             "#fdca26"
            ],
            [
             1,
             "#f0f921"
            ]
           ]
          },
          "colorway": [
           "#636efa",
           "#EF553B",
           "#00cc96",
           "#ab63fa",
           "#FFA15A",
           "#19d3f3",
           "#FF6692",
           "#B6E880",
           "#FF97FF",
           "#FECB52"
          ],
          "font": {
           "color": "#2a3f5f"
          },
          "geo": {
           "bgcolor": "white",
           "lakecolor": "white",
           "landcolor": "#E5ECF6",
           "showlakes": true,
           "showland": true,
           "subunitcolor": "white"
          },
          "hoverlabel": {
           "align": "left"
          },
          "hovermode": "closest",
          "mapbox": {
           "style": "light"
          },
          "paper_bgcolor": "white",
          "plot_bgcolor": "#E5ECF6",
          "polar": {
           "angularaxis": {
            "gridcolor": "white",
            "linecolor": "white",
            "ticks": ""
           },
           "bgcolor": "#E5ECF6",
           "radialaxis": {
            "gridcolor": "white",
            "linecolor": "white",
            "ticks": ""
           }
          },
          "scene": {
           "xaxis": {
            "backgroundcolor": "#E5ECF6",
            "gridcolor": "white",
            "gridwidth": 2,
            "linecolor": "white",
            "showbackground": true,
            "ticks": "",
            "zerolinecolor": "white"
           },
           "yaxis": {
            "backgroundcolor": "#E5ECF6",
            "gridcolor": "white",
            "gridwidth": 2,
            "linecolor": "white",
            "showbackground": true,
            "ticks": "",
            "zerolinecolor": "white"
           },
           "zaxis": {
            "backgroundcolor": "#E5ECF6",
            "gridcolor": "white",
            "gridwidth": 2,
            "linecolor": "white",
            "showbackground": true,
            "ticks": "",
            "zerolinecolor": "white"
           }
          },
          "shapedefaults": {
           "line": {
            "color": "#2a3f5f"
           }
          },
          "ternary": {
           "aaxis": {
            "gridcolor": "white",
            "linecolor": "white",
            "ticks": ""
           },
           "baxis": {
            "gridcolor": "white",
            "linecolor": "white",
            "ticks": ""
           },
           "bgcolor": "#E5ECF6",
           "caxis": {
            "gridcolor": "white",
            "linecolor": "white",
            "ticks": ""
           }
          },
          "title": {
           "x": 0.05
          },
          "xaxis": {
           "automargin": true,
           "gridcolor": "white",
           "linecolor": "white",
           "ticks": "",
           "title": {
            "standoff": 15
           },
           "zerolinecolor": "white",
           "zerolinewidth": 2
          },
          "yaxis": {
           "automargin": true,
           "gridcolor": "white",
           "linecolor": "white",
           "ticks": "",
           "title": {
            "standoff": 15
           },
           "zerolinecolor": "white",
           "zerolinewidth": 2
          }
         }
        },
        "title": {
         "text": "Policy Surface Plot"
        }
       }
      }
     },
     "metadata": {},
     "output_type": "display_data"
    }
   ],
   "source": [
    "# mesh plot of policy\n",
    "Z_policy = policy\n",
    "\n",
    "fig_policy = go.Figure(data=[go.Surface(z=Z_policy, x=X, y=Y)])\n",
    "fig_policy.update_layout(title='Policy Surface Plot', scene=dict(\n",
    "    xaxis_title='State',\n",
    "    yaxis_title='Time Step',\n",
    "    zaxis_title='Action'))\n",
    "fig_policy.show()"
   ]
  },
  {
   "cell_type": "markdown",
   "id": "2b202f2f",
   "metadata": {},
   "source": [
    "# Undiscounted Case"
   ]
  },
  {
   "cell_type": "code",
   "execution_count": 58,
   "id": "00da829c",
   "metadata": {},
   "outputs": [],
   "source": [
    "V, policy = backward_induction(C, transition_probability, time_steps, alpha=1.0)"
   ]
  },
  {
   "cell_type": "code",
   "execution_count": 59,
   "id": "237e8504",
   "metadata": {},
   "outputs": [
    {
     "data": {
      "image/png": "[encoded data removed]",
      "text/plain": [
       "<Figure size 640x480 with 1 Axes>"
      ]
     },
     "metadata": {},
     "output_type": "display_data"
    }
   ],
   "source": [
    "plt.plot(range(N), V[:time_steps+1, :].T)\n",
    "plt.xlabel(\"State\")\n",
    "plt.ylabel(\"Value Function\")\n",
    "plt.title(\"Value Function Over States for Each Time Step\")\n",
    "plt.show()"
   ]
  },
  {
   "cell_type": "code",
   "execution_count": 60,
   "id": "e374109f",
   "metadata": {},
   "outputs": [
    {
     "data": {
      "image/png": "[encoded data removed]",
      "text/plain": [
       "<Figure size 640x480 with 1 Axes>"
      ]
     },
     "metadata": {},
     "output_type": "display_data"
    }
   ],
   "source": [
    "plt.plot(range(time_steps + 1), V[:, :])\n",
    "plt.xlabel(\"Time Step\")\n",
    "plt.ylabel(\"Value Function\")\n",
    "plt.title(\"Value Function Over Time Steps for Each State\")\n",
    "plt.show()"
   ]
  },
  {
   "cell_type": "code",
   "execution_count": 61,
   "id": "fc5dc6be",
   "metadata": {},
   "outputs": [
    {
     "name": "stdout",
     "output_type": "stream",
     "text": [
      "The policy remains threshold type throughout.\n"
     ]
    }
   ],
   "source": [
    "# check if policy remains threshold type throughout time\n",
    "flag = True\n",
    "for t in range(time_steps):\n",
    "    if np.any(policy[t] == 0):\n",
    "        threshold_state = np.min(np.where(policy[t] == 0))\n",
    "    else:\n",
    "        threshold_state = N\n",
    "    for s in range(threshold_state, N):\n",
    "        if policy[t, s] != 0:\n",
    "            flag = False\n",
    "            break\n",
    "if flag:\n",
    "    print(\"The policy remains threshold type throughout.\")"
   ]
  },
  {
   "cell_type": "code",
   "execution_count": 62,
   "id": "52225858",
   "metadata": {},
   "outputs": [
    {
     "data": {
      "image/png": "[encoded data removed]",
      "text/plain": [
       "<Figure size 640x480 with 1 Axes>"
      ]
     },
     "metadata": {},
     "output_type": "display_data"
    }
   ],
   "source": [
    "# plot of threshold over time\n",
    "thresholds = np.zeros(time_steps)\n",
    "for t in range(time_steps):\n",
    "    thresholds[t] = np.min(np.where(policy[t] == 0)) if np.any(policy[t] == 0) else N\n",
    "plt.plot(range(time_steps), thresholds)\n",
    "plt.xlabel(\"Time Step\")\n",
    "plt.ylabel(\"Threshold State\")\n",
    "plt.title(\"Threshold State Over Time\")\n",
    "plt.show()"
   ]
  },
  {
   "cell_type": "code",
   "execution_count": 63,
   "id": "93f1b105",
   "metadata": {},
   "outputs": [
    {
     "data": {
      "application/vnd.plotly.v1+json": {
       "config": {
        "plotlyServerURL": "https://plot.ly"
       },
       "data": [
        {
         "type": "surface",
         "x": {
          "bdata": "AAECAwQFBgcICQoLDA0ODxAREhMAAQIDBAUGBwgJCgsMDQ4PEBESEwABAgMEBQYHCAkKCwwNDg8QERITAAECAwQFBgcICQoLDA0ODxAREhMAAQIDBAUGBwgJCgsMDQ4PEBESEwABAgMEBQYHCAkKCwwNDg8QERITAAECAwQFBgcICQoLDA0ODxAREhMAAQIDBAUGBwgJCgsMDQ4PEBESEwABAgMEBQYHCAkKCwwNDg8QERITAAECAwQFBgcICQoLDA0ODxAREhMAAQIDBAUGBwgJCgsMDQ4PEBESEwABAgMEBQYHCAkKCwwNDg8QERITAAECAwQFBgcICQoLDA0ODxAREhMAAQIDBAUGBwgJCgsMDQ4PEBESEwABAgMEBQYHCAkKCwwNDg8QERITAAECAwQFBgcICQoLDA0ODxAREhMAAQIDBAUGBwgJCgsMDQ4PEBESEwABAgMEBQYHCAkKCwwNDg8QERITAAECAwQFBgcICQoLDA0ODxAREhMAAQIDBAUGBwgJCgsMDQ4PEBESEwABAgMEBQYHCAkKCwwNDg8QERITAAECAwQFBgcICQoLDA0ODxAREhMAAQIDBAUGBwgJCgsMDQ4PEBESEwABAgMEBQYHCAkKCwwNDg8QERITAAECAwQFBgcICQoLDA0ODxAREhMAAQIDBAUGBwgJCgsMDQ4PEBESEwABAgMEBQYHCAkKCwwNDg8QERITAAECAwQFBgcICQoLDA0ODxAREhMAAQIDBAUGBwgJCgsMDQ4PEBESEwABAgMEBQYHCAkKCwwNDg8QERITAAECAwQFBgcICQoLDA0ODxAREhMAAQIDBAUGBwgJCgsMDQ4PEBESEwABAgMEBQYHCAkKCwwNDg8QERITAAECAwQFBgcICQoLDA0ODxAREhMAAQIDBAUGBwgJCgsMDQ4PEBESEwABAgMEBQYHCAkKCwwNDg8QERITAAECAwQFBgcICQoLDA0ODxAREhMAAQIDBAUGBwgJCgsMDQ4PEBESEwABAgMEBQYHCAkKCwwNDg8QERITAAECAwQFBgcICQoLDA0ODxAREhMAAQIDBAUGBwgJCgsMDQ4PEBESEwABAgMEBQYHCAkKCwwNDg8QERITAAECAwQFBgcICQoLDA0ODxAREhMAAQIDBAUGBwgJCgsMDQ4PEBESEwABAgMEBQYHCAkKCwwNDg8QERITAAECAwQFBgcICQoLDA0ODxAREhMAAQIDBAUGBwgJCgsMDQ4PEBESEwABAgMEBQYHCAkKCwwNDg8QERITAAECAwQFBgcICQoLDA0ODxAREhMAAQIDBAUGBwgJCgsMDQ4PEBESEwABAgMEBQYHCAkKCwwNDg8QERITAAECAwQFBgcICQoLDA0ODxAREhMAAQIDBAUGBwgJCgsMDQ4PEBESEwABAgMEBQYHCAkKCwwNDg8QERITAAECAwQFBgcICQoLDA0ODxAREhMAAQIDBAUGBwgJCgsMDQ4PEBESEwABAgMEBQYHCAkKCwwNDg8QERITAAECAwQFBgcICQoLDA0ODxAREhMAAQIDBAUGBwgJCgsMDQ4PEBESEwABAgMEBQYHCAkKCwwNDg8QERITAAECAwQFBgcICQoLDA0ODxAREhM=",
          "dtype": "i1",
          "shape": "61, 20"
         },
         "y": {
          "bdata": "AAAAAAAAAAAAAAAAAAAAAAAAAAABAQEBAQEBAQEBAQEBAQEBAQEBAQICAgICAgICAgICAgICAgICAgICAwMDAwMDAwMDAwMDAwMDAwMDAwMEBAQEBAQEBAQEBAQEBAQEBAQEBAUFBQUFBQUFBQUFBQUFBQUFBQUFBgYGBgYGBgYGBgYGBgYGBgYGBgYHBwcHBwcHBwcHBwcHBwcHBwcHBwgICAgICAgICAgICAgICAgICAgICQkJCQkJCQkJCQkJCQkJCQkJCQkKCgoKCgoKCgoKCgoKCgoKCgoKCgsLCwsLCwsLCwsLCwsLCwsLCwsLDAwMDAwMDAwMDAwMDAwMDAwMDAwNDQ0NDQ0NDQ0NDQ0NDQ0NDQ0NDQ4ODg4ODg4ODg4ODg4ODg4ODg4ODw8PDw8PDw8PDw8PDw8PDw8PDw8QEBAQEBAQEBAQEBAQEBAQEBAQEBEREREREREREREREREREREREREREhISEhISEhISEhISEhISEhISEhITExMTExMTExMTExMTExMTExMTExQUFBQUFBQUFBQUFBQUFBQUFBQUFRUVFRUVFRUVFRUVFRUVFRUVFRUWFhYWFhYWFhYWFhYWFhYWFhYWFhcXFxcXFxcXFxcXFxcXFxcXFxcXGBgYGBgYGBgYGBgYGBgYGBgYGBgZGRkZGRkZGRkZGRkZGRkZGRkZGRoaGhoaGhoaGhoaGhoaGhoaGhoaGxsbGxsbGxsbGxsbGxsbGxsbGxscHBwcHBwcHBwcHBwcHBwcHBwcHB0dHR0dHR0dHR0dHR0dHR0dHR0dHh4eHh4eHh4eHh4eHh4eHh4eHh4fHx8fHx8fHx8fHx8fHx8fHx8fHyAgICAgICAgICAgICAgICAgICAgISEhISEhISEhISEhISEhISEhISEiIiIiIiIiIiIiIiIiIiIiIiIiIiMjIyMjIyMjIyMjIyMjIyMjIyMjJCQkJCQkJCQkJCQkJCQkJCQkJCQlJSUlJSUlJSUlJSUlJSUlJSUlJSYmJiYmJiYmJiYmJiYmJiYmJiYmJycnJycnJycnJycnJycnJycnJycoKCgoKCgoKCgoKCgoKCgoKCgoKCkpKSkpKSkpKSkpKSkpKSkpKSkpKioqKioqKioqKioqKioqKioqKiorKysrKysrKysrKysrKysrKysrKywsLCwsLCwsLCwsLCwsLCwsLCwsLS0tLS0tLS0tLS0tLS0tLS0tLS0uLi4uLi4uLi4uLi4uLi4uLi4uLi8vLy8vLy8vLy8vLy8vLy8vLy8vMDAwMDAwMDAwMDAwMDAwMDAwMDAxMTExMTExMTExMTExMTExMTExMTIyMjIyMjIyMjIyMjIyMjIyMjIyMzMzMzMzMzMzMzMzMzMzMzMzMzM0NDQ0NDQ0NDQ0NDQ0NDQ0NDQ0NDU1NTU1NTU1NTU1NTU1NTU1NTU1NjY2NjY2NjY2NjY2NjY2NjY2NjY3Nzc3Nzc3Nzc3Nzc3Nzc3Nzc3Nzg4ODg4ODg4ODg4ODg4ODg4ODg4OTk5OTk5OTk5OTk5OTk5OTk5OTk6Ojo6Ojo6Ojo6Ojo6Ojo6Ojo6Ojs7Ozs7Ozs7Ozs7Ozs7Ozs7Ozs7PDw8PDw8PDw8PDw8PDw8PDw8PDw=",
          "dtype": "i1",
          "shape": "61, 20"
         },
         "z": {
          "bdata": "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",
          "dtype": "f8",
          "shape": "61, 20"
         }
        }
       ],
       "layout": {
        "scene": {
         "xaxis": {
          "title": {
           "text": "State"
          }
         },
         "yaxis": {
          "range": [
           0,
           61
          ],
          "title": {
           "text": "Time Step"
          }
         },
         "zaxis": {
          "title": {
           "text": "Value Function"
          }
         }
        },
        "template": {
         "data": {
          "bar": [
           {
            "error_x": {
             "color": "#2a3f5f"
            },
            "error_y": {
             "color": "#2a3f5f"
            },
            "marker": {
             "line": {
              "color": "#E5ECF6",
              "width": 0.5
             },
             "pattern": {
              "fillmode": "overlay",
              "size": 10,
              "solidity": 0.2
             }
            },
            "type": "bar"
           }
          ],
          "barpolar": [
           {
            "marker": {
             "line": {
              "color": "#E5ECF6",
              "width": 0.5
             },
             "pattern": {
              "fillmode": "overlay",
              "size": 10,
              "solidity": 0.2
             }
            },
            "type": "barpolar"
           }
          ],
          "carpet": [
           {
            "aaxis": {
             "endlinecolor": "#2a3f5f",
             "gridcolor": "white",
             "linecolor": "white",
             "minorgridcolor": "white",
             "startlinecolor": "#2a3f5f"
            },
            "baxis": {
             "endlinecolor": "#2a3f5f",
             "gridcolor": "white",
             "linecolor": "white",
             "minorgridcolor": "white",
             "startlinecolor": "#2a3f5f"
            },
            "type": "carpet"
           }
          ],
          "choropleth": [
           {
            "colorbar": {
             "outlinewidth": 0,
             "ticks": ""
            },
            "type": "choropleth"
           }
          ],
          "contour": [
           {
            "colorbar": {
             "outlinewidth": 0,
             "ticks": ""
            },
            "colorscale": [
             [
              0,
              "#0d0887"
             ],
             [
              0.1111111111111111,
              "#46039f"
             ],
             [
              0.2222222222222222,
              "#7201a8"
             ],
             [
              0.3333333333333333,
              "#9c179e"
             ],
             [
              0.4444444444444444,
              "#bd3786"
             ],
             [
              0.5555555555555556,
              "#d8576b"
             ],
             [
              0.6666666666666666,
              "#ed7953"
             ],
             [
              0.7777777777777778,
              "#fb9f3a"
             ],
             [
              0.8888888888888888,
              "#fdca26"
             ],
             [
              1,
              "#f0f921"
             ]
            ],
            "type": "contour"
           }
          ],
          "contourcarpet": [
           {
            "colorbar": {
             "outlinewidth": 0,
             "ticks": ""
            },
            "type": "contourcarpet"
           }
          ],
          "heatmap": [
           {
            "colorbar": {
             "outlinewidth": 0,
             "ticks": ""
            },
            "colorscale": [
             [
              0,
              "#0d0887"
             ],
             [
              0.1111111111111111,
              "#46039f"
             ],
             [
              0.2222222222222222,
              "#7201a8"
             ],
             [
              0.3333333333333333,
              "#9c179e"
             ],
             [
              0.4444444444444444,
              "#bd3786"
             ],
             [
              0.5555555555555556,
              "#d8576b"
             ],
             [
              0.6666666666666666,
              "#ed7953"
             ],
             [
              0.7777777777777778,
              "#fb9f3a"
             ],
             [
              0.8888888888888888,
              "#fdca26"
             ],
             [
              1,
              "#f0f921"
             ]
            ],
            "type": "heatmap"
           }
          ],
          "histogram": [
           {
            "marker": {
             "pattern": {
              "fillmode": "overlay",
              "size": 10,
              "solidity": 0.2
             }
            },
            "type": "histogram"
           }
          ],
          "histogram2d": [
           {
            "colorbar": {
             "outlinewidth": 0,
             "ticks": ""
            },
            "colorscale": [
             [
              0,
              "#0d0887"
             ],
             [
              0.1111111111111111,
              "#46039f"
             ],
             [
              0.2222222222222222,
              "#7201a8"
             ],
             [
              0.3333333333333333,
              "#9c179e"
             ],
             [
              0.4444444444444444,
              "#bd3786"
             ],
             [
              0.5555555555555556,
              "#d8576b"
             ],
             [
              0.6666666666666666,
              "#ed7953"
             ],
             [
              0.7777777777777778,
              "#fb9f3a"
             ],
             [
              0.8888888888888888,
              "#fdca26"
             ],
             [
              1,
              "#f0f921"
             ]
            ],
            "type": "histogram2d"
           }
          ],
          "histogram2dcontour": [
           {
            "colorbar": {
             "outlinewidth": 0,
             "ticks": ""
            },
            "colorscale": [
             [
              0,
              "#0d0887"
             ],
             [
              0.1111111111111111,
              "#46039f"
             ],
             [
              0.2222222222222222,
              "#7201a8"
             ],
             [
              0.3333333333333333,
              "#9c179e"
             ],
             [
              0.4444444444444444,
              "#bd3786"
             ],
             [
              0.5555555555555556,
              "#d8576b"
             ],
             [
              0.6666666666666666,
              "#ed7953"
             ],
             [
              0.7777777777777778,
              "#fb9f3a"
             ],
             [
              0.8888888888888888,
              "#fdca26"
             ],
             [
              1,
              "#f0f921"
             ]
            ],
            "type": "histogram2dcontour"
           }
          ],
          "mesh3d": [
           {
            "colorbar": {
             "outlinewidth": 0,
             "ticks": ""
            },
            "type": "mesh3d"
           }
          ],
          "parcoords": [
           {
            "line": {
             "colorbar": {
              "outlinewidth": 0,
              "ticks": ""
             }
            },
            "type": "parcoords"
           }
          ],
          "pie": [
           {
            "automargin": true,
            "type": "pie"
           }
          ],
          "scatter": [
           {
            "fillpattern": {
             "fillmode": "overlay",
             "size": 10,
             "solidity": 0.2
            },
            "type": "scatter"
           }
          ],
          "scatter3d": [
           {
            "line": {
             "colorbar": {
              "outlinewidth": 0,
              "ticks": ""
             }
            },
            "marker": {
             "colorbar": {
              "outlinewidth": 0,
              "ticks": ""
             }
            },
            "type": "scatter3d"
           }
          ],
          "scattercarpet": [
           {
            "marker": {
             "colorbar": {
              "outlinewidth": 0,
              "ticks": ""
             }
            },
            "type": "scattercarpet"
           }
          ],
          "scattergeo": [
           {
            "marker": {
             "colorbar": {
              "outlinewidth": 0,
              "ticks": ""
             }
            },
            "type": "scattergeo"
           }
          ],
          "scattergl": [
           {
            "marker": {
             "colorbar": {
              "outlinewidth": 0,
              "ticks": ""
             }
            },
            "type": "scattergl"
           }
          ],
          "scattermap": [
           {
            "marker": {
             "colorbar": {
              "outlinewidth": 0,
              "ticks": ""
             }
            },
            "type": "scattermap"
           }
          ],
          "scattermapbox": [
           {
            "marker": {
             "colorbar": {
              "outlinewidth": 0,
              "ticks": ""
             }
            },
            "type": "scattermapbox"
           }
          ],
          "scatterpolar": [
           {
            "marker": {
             "colorbar": {
              "outlinewidth": 0,
              "ticks": ""
             }
            },
            "type": "scatterpolar"
           }
          ],
          "scatterpolargl": [
           {
            "marker": {
             "colorbar": {
              "outlinewidth": 0,
              "ticks": ""
             }
            },
            "type": "scatterpolargl"
           }
          ],
          "scatterternary": [
           {
            "marker": {
             "colorbar": {
              "outlinewidth": 0,
              "ticks": ""
             }
            },
            "type": "scatterternary"
           }
          ],
          "surface": [
           {
            "colorbar": {
             "outlinewidth": 0,
             "ticks": ""
            },
            "colorscale": [
             [
              0,
              "#0d0887"
             ],
             [
              0.1111111111111111,
              "#46039f"
             ],
             [
              0.2222222222222222,
              "#7201a8"
             ],
             [
              0.3333333333333333,
              "#9c179e"
             ],
             [
              0.4444444444444444,
              "#bd3786"
             ],
             [
              0.5555555555555556,
              "#d8576b"
             ],
             [
              0.6666666666666666,
              "#ed7953"
             ],
             [
              0.7777777777777778,
              "#fb9f3a"
             ],
             [
              0.8888888888888888,
              "#fdca26"
             ],
             [
              1,
              "#f0f921"
             ]
            ],
            "type": "surface"
           }
          ],
          "table": [
           {
            "cells": {
             "fill": {
              "color": "#EBF0F8"
             },
             "line": {
              "color": "white"
             }
            },
            "header": {
             "fill": {
              "color": "#C8D4E3"
             },
             "line": {
              "color": "white"
             }
            },
            "type": "table"
           }
          ]
         },
         "layout": {
          "annotationdefaults": {
           "arrowcolor": "#2a3f5f",
           "arrowhead": 0,
           "arrowwidth": 1
          },
          "autotypenumbers": "strict",
          "coloraxis": {
           "colorbar": {
            "outlinewidth": 0,
            "ticks": ""
           }
          },
          "colorscale": {
           "diverging": [
            [
             0,
             "#8e0152"
            ],
            [
             0.1,
             "#c51b7d"
            ],
            [
             0.2,
             "#de77ae"
            ],
            [
             0.3,
             "#f1b6da"
            ],
            [
             0.4,
             "#fde0ef"
            ],
            [
             0.5,
             "#f7f7f7"
            ],
            [
             0.6,
             "#e6f5d0"
            ],
            [
             0.7,
             "#b8e186"
            ],
            [
             0.8,
             "#7fbc41"
            ],
            [
             0.9,
             "#4d9221"
            ],
            [
             1,
             "#276419"
            ]
           ],
           "sequential": [
            [
             0,
             "#0d0887"
            ],
            [
             0.1111111111111111,
             "#46039f"
            ],
            [
             0.2222222222222222,
             "#7201a8"
            ],
            [
             0.3333333333333333,
             "#9c179e"
            ],
            [
             0.4444444444444444,
             "#bd3786"
            ],
            [
             0.5555555555555556,
             "#d8576b"
            ],
            [
             0.6666666666666666,
             "#ed7953"
            ],
            [
             0.7777777777777778,
             "#fb9f3a"
            ],
            [
             0.8888888888888888,
             "#fdca26"
            ],
            [
             1,
             "#f0f921"
            ]
           ],
           "sequentialminus": [
            [
             0,
             "#0d0887"
            ],
            [
             0.1111111111111111,
             "#46039f"
            ],
            [
             0.2222222222222222,
             "#7201a8"
            ],
            [
             0.3333333333333333,
             "#9c179e"
            ],
            [
             0.4444444444444444,
             "#bd3786"
            ],
            [
             0.5555555555555556,
             "#d8576b"
            ],
            [
             0.6666666666666666,
             "#ed7953"
            ],
            [
             0.7777777777777778,
             "#fb9f3a"
            ],
            [
             0.8888888888888888,
             "#fdca26"
            ],
            [
             1,
             "#f0f921"
            ]
           ]
          },
          "colorway": [
           "#636efa",
           "#EF553B",
           "#00cc96",
           "#ab63fa",
           "#FFA15A",
           "#19d3f3",
           "#FF6692",
           "#B6E880",
           "#FF97FF",
           "#FECB52"
          ],
          "font": {
           "color": "#2a3f5f"
          },
          "geo": {
           "bgcolor": "white",
           "lakecolor": "white",
           "landcolor": "#E5ECF6",
           "showlakes": true,
           "showland": true,
           "subunitcolor": "white"
          },
          "hoverlabel": {
           "align": "left"
          },
          "hovermode": "closest",
          "mapbox": {
           "style": "light"
          },
          "paper_bgcolor": "white",
          "plot_bgcolor": "#E5ECF6",
          "polar": {
           "angularaxis": {
            "gridcolor": "white",
            "linecolor": "white",
            "ticks": ""
           },
           "bgcolor": "#E5ECF6",
           "radialaxis": {
            "gridcolor": "white",
            "linecolor": "white",
            "ticks": ""
           }
          },
          "scene": {
           "xaxis": {
            "backgroundcolor": "#E5ECF6",
            "gridcolor": "white",
            "gridwidth": 2,
            "linecolor": "white",
            "showbackground": true,
            "ticks": "",
            "zerolinecolor": "white"
           },
           "yaxis": {
            "backgroundcolor": "#E5ECF6",
            "gridcolor": "white",
            "gridwidth": 2,
            "linecolor": "white",
            "showbackground": true,
            "ticks": "",
            "zerolinecolor": "white"
           },
           "zaxis": {
            "backgroundcolor": "#E5ECF6",
            "gridcolor": "white",
            "gridwidth": 2,
            "linecolor": "white",
            "showbackground": true,
            "ticks": "",
            "zerolinecolor": "white"
           }
          },
          "shapedefaults": {
           "line": {
            "color": "#2a3f5f"
           }
          },
          "ternary": {
           "aaxis": {
            "gridcolor": "white",
            "linecolor": "white",
            "ticks": ""
           },
           "baxis": {
            "gridcolor": "white",
            "linecolor": "white",
            "ticks": ""
           },
           "bgcolor": "#E5ECF6",
           "caxis": {
            "gridcolor": "white",
            "linecolor": "white",
            "ticks": ""
           }
          },
          "title": {
           "x": 0.05
          },
          "xaxis": {
           "automargin": true,
           "gridcolor": "white",
           "linecolor": "white",
           "ticks": "",
           "title": {
            "standoff": 15
           },
           "zerolinecolor": "white",
           "zerolinewidth": 2
          },
          "yaxis": {
           "automargin": true,
           "gridcolor": "white",
           "linecolor": "white",
           "ticks": "",
           "title": {
            "standoff": 15
           },
           "zerolinecolor": "white",
           "zerolinewidth": 2
          }
         }
        },
        "title": {
         "text": "Value Function Surface Plot"
        }
       }
      }
     },
     "metadata": {},
     "output_type": "display_data"
    }
   ],
   "source": [
    "# mesh plot of value function\n",
    "X, Y = np.meshgrid(range(N), range(time_steps + 1))\n",
    "Z = V\n",
    "\n",
    "fig = go.Figure(data=[go.Surface(x=X, y=Y, z=Z)])\n",
    "fig.update_layout(title='Value Function Surface Plot', scene=dict(\n",
    "    xaxis_title='State',\n",
    "    yaxis_title='Time Step',\n",
    "    zaxis_title='Value Function',\n",
    "    yaxis=dict(range=[0,time_steps + 1])\n",
    "    ))\n",
    "fig.show()"
   ]
  },
  {
   "cell_type": "markdown",
   "id": "2144ff88",
   "metadata": {},
   "source": [
    "Note: The values are similar even upto time step 60 but at time: time_steps there is a sudden change, this is because the higher valued states at time: time_steps are never reached due to the replacement action by the higher valued states in the previous time steps"
   ]
  },
  {
   "cell_type": "code",
   "execution_count": 64,
   "id": "b84c2cc6",
   "metadata": {},
   "outputs": [
    {
     "data": {
      "application/vnd.plotly.v1+json": {
       "config": {
        "plotlyServerURL": "https://plot.ly"
       },
       "data": [
        {
         "type": "surface",
         "x": {
          "bdata": "AAECAwQFBgcICQoLDA0ODxAREhMAAQIDBAUGBwgJCgsMDQ4PEBESEwABAgMEBQYHCAkKCwwNDg8QERITAAECAwQFBgcICQoLDA0ODxAREhMAAQIDBAUGBwgJCgsMDQ4PEBESEwABAgMEBQYHCAkKCwwNDg8QERITAAECAwQFBgcICQoLDA0ODxAREhMAAQIDBAUGBwgJCgsMDQ4PEBESEwABAgMEBQYHCAkKCwwNDg8QERITAAECAwQFBgcICQoLDA0ODxAREhMAAQIDBAUGBwgJCgsMDQ4PEBESEwABAgMEBQYHCAkKCwwNDg8QERITAAECAwQFBgcICQoLDA0ODxAREhMAAQIDBAUGBwgJCgsMDQ4PEBESEwABAgMEBQYHCAkKCwwNDg8QERITAAECAwQFBgcICQoLDA0ODxAREhMAAQIDBAUGBwgJCgsMDQ4PEBESEwABAgMEBQYHCAkKCwwNDg8QERITAAECAwQFBgcICQoLDA0ODxAREhMAAQIDBAUGBwgJCgsMDQ4PEBESEwABAgMEBQYHCAkKCwwNDg8QERITAAECAwQFBgcICQoLDA0ODxAREhMAAQIDBAUGBwgJCgsMDQ4PEBESEwABAgMEBQYHCAkKCwwNDg8QERITAAECAwQFBgcICQoLDA0ODxAREhMAAQIDBAUGBwgJCgsMDQ4PEBESEwABAgMEBQYHCAkKCwwNDg8QERITAAECAwQFBgcICQoLDA0ODxAREhMAAQIDBAUGBwgJCgsMDQ4PEBESEwABAgMEBQYHCAkKCwwNDg8QERITAAECAwQFBgcICQoLDA0ODxAREhMAAQIDBAUGBwgJCgsMDQ4PEBESEwABAgMEBQYHCAkKCwwNDg8QERITAAECAwQFBgcICQoLDA0ODxAREhMAAQIDBAUGBwgJCgsMDQ4PEBESEwABAgMEBQYHCAkKCwwNDg8QERITAAECAwQFBgcICQoLDA0ODxAREhMAAQIDBAUGBwgJCgsMDQ4PEBESEwABAgMEBQYHCAkKCwwNDg8QERITAAECAwQFBgcICQoLDA0ODxAREhMAAQIDBAUGBwgJCgsMDQ4PEBESEwABAgMEBQYHCAkKCwwNDg8QERITAAECAwQFBgcICQoLDA0ODxAREhMAAQIDBAUGBwgJCgsMDQ4PEBESEwABAgMEBQYHCAkKCwwNDg8QERITAAECAwQFBgcICQoLDA0ODxAREhMAAQIDBAUGBwgJCgsMDQ4PEBESEwABAgMEBQYHCAkKCwwNDg8QERITAAECAwQFBgcICQoLDA0ODxAREhMAAQIDBAUGBwgJCgsMDQ4PEBESEwABAgMEBQYHCAkKCwwNDg8QERITAAECAwQFBgcICQoLDA0ODxAREhMAAQIDBAUGBwgJCgsMDQ4PEBESEwABAgMEBQYHCAkKCwwNDg8QERITAAECAwQFBgcICQoLDA0ODxAREhMAAQIDBAUGBwgJCgsMDQ4PEBESEwABAgMEBQYHCAkKCwwNDg8QERITAAECAwQFBgcICQoLDA0ODxAREhMAAQIDBAUGBwgJCgsMDQ4PEBESEwABAgMEBQYHCAkKCwwNDg8QERITAAECAwQFBgcICQoLDA0ODxAREhM=",
          "dtype": "i1",
          "shape": "61, 20"
         },
         "y": {
          "bdata": "AAAAAAAAAAAAAAAAAAAAAAAAAAABAQEBAQEBAQEBAQEBAQEBAQEBAQICAgICAgICAgICAgICAgICAgICAwMDAwMDAwMDAwMDAwMDAwMDAwMEBAQEBAQEBAQEBAQEBAQEBAQEBAUFBQUFBQUFBQUFBQUFBQUFBQUFBgYGBgYGBgYGBgYGBgYGBgYGBgYHBwcHBwcHBwcHBwcHBwcHBwcHBwgICAgICAgICAgICAgICAgICAgICQkJCQkJCQkJCQkJCQkJCQkJCQkKCgoKCgoKCgoKCgoKCgoKCgoKCgsLCwsLCwsLCwsLCwsLCwsLCwsLDAwMDAwMDAwMDAwMDAwMDAwMDAwNDQ0NDQ0NDQ0NDQ0NDQ0NDQ0NDQ4ODg4ODg4ODg4ODg4ODg4ODg4ODw8PDw8PDw8PDw8PDw8PDw8PDw8QEBAQEBAQEBAQEBAQEBAQEBAQEBEREREREREREREREREREREREREREhISEhISEhISEhISEhISEhISEhITExMTExMTExMTExMTExMTExMTExQUFBQUFBQUFBQUFBQUFBQUFBQUFRUVFRUVFRUVFRUVFRUVFRUVFRUWFhYWFhYWFhYWFhYWFhYWFhYWFhcXFxcXFxcXFxcXFxcXFxcXFxcXGBgYGBgYGBgYGBgYGBgYGBgYGBgZGRkZGRkZGRkZGRkZGRkZGRkZGRoaGhoaGhoaGhoaGhoaGhoaGhoaGxsbGxsbGxsbGxsbGxsbGxsbGxscHBwcHBwcHBwcHBwcHBwcHBwcHB0dHR0dHR0dHR0dHR0dHR0dHR0dHh4eHh4eHh4eHh4eHh4eHh4eHh4fHx8fHx8fHx8fHx8fHx8fHx8fHyAgICAgICAgICAgICAgICAgICAgISEhISEhISEhISEhISEhISEhISEiIiIiIiIiIiIiIiIiIiIiIiIiIiMjIyMjIyMjIyMjIyMjIyMjIyMjJCQkJCQkJCQkJCQkJCQkJCQkJCQlJSUlJSUlJSUlJSUlJSUlJSUlJSYmJiYmJiYmJiYmJiYmJiYmJiYmJycnJycnJycnJycnJycnJycnJycoKCgoKCgoKCgoKCgoKCgoKCgoKCkpKSkpKSkpKSkpKSkpKSkpKSkpKioqKioqKioqKioqKioqKioqKiorKysrKysrKysrKysrKysrKysrKywsLCwsLCwsLCwsLCwsLCwsLCwsLS0tLS0tLS0tLS0tLS0tLS0tLS0uLi4uLi4uLi4uLi4uLi4uLi4uLi8vLy8vLy8vLy8vLy8vLy8vLy8vMDAwMDAwMDAwMDAwMDAwMDAwMDAxMTExMTExMTExMTExMTExMTExMTIyMjIyMjIyMjIyMjIyMjIyMjIyMzMzMzMzMzMzMzMzMzMzMzMzMzM0NDQ0NDQ0NDQ0NDQ0NDQ0NDQ0NDU1NTU1NTU1NTU1NTU1NTU1NTU1NjY2NjY2NjY2NjY2NjY2NjY2NjY3Nzc3Nzc3Nzc3Nzc3Nzc3Nzc3Nzg4ODg4ODg4ODg4ODg4ODg4ODg4OTk5OTk5OTk5OTk5OTk5OTk5OTk6Ojo6Ojo6Ojo6Ojo6Ojo6Ojo6Ojs7Ozs7Ozs7Ozs7Ozs7Ozs7Ozs7PDw8PDw8PDw8PDw8PDw8PDw8PDw=",
          "dtype": "i1",
          "shape": "61, 20"
         },
         "z": {
          "bdata": "AQEBAQEAAAAAAAAAAAAAAAAAAAABAQEBAQAAAAAAAAAAAAAAAAAAAAEBAQEBAAAAAAAAAAAAAAAAAAAAAQEBAQEAAAAAAAAAAAAAAAAAAAABAQEBAQAAAAAAAAAAAAAAAAAAAAEBAQEBAAAAAAAAAAAAAAAAAAAAAQEBAQEAAAAAAAAAAAAAAAAAAAABAQEBAQAAAAAAAAAAAAAAAAAAAAEBAQEBAAAAAAAAAAAAAAAAAAAAAQEBAQEAAAAAAAAAAAAAAAAAAAABAQEBAQAAAAAAAAAAAAAAAAAAAAEBAQEBAAAAAAAAAAAAAAAAAAAAAQEBAQEAAAAAAAAAAAAAAAAAAAABAQEBAQAAAAAAAAAAAAAAAAAAAAEBAQEBAAAAAAAAAAAAAAAAAAAAAQEBAQEAAAAAAAAAAAAAAAAAAAABAQEBAQAAAAAAAAAAAAAAAAAAAAEBAQEBAAAAAAAAAAAAAAAAAAAAAQEBAQEAAAAAAAAAAAAAAAAAAAABAQEBAQAAAAAAAAAAAAAAAAAAAAEBAQEBAAAAAAAAAAAAAAAAAAAAAQEBAQEAAAAAAAAAAAAAAAAAAAABAQEBAQAAAAAAAAAAAAAAAAAAAAEBAQEBAAAAAAAAAAAAAAAAAAAAAQEBAQEAAAAAAAAAAAAAAAAAAAABAQEBAQAAAAAAAAAAAAAAAAAAAAEBAQEBAAAAAAAAAAAAAAAAAAAAAQEBAQEAAAAAAAAAAAAAAAAAAAABAQEBAQAAAAAAAAAAAAAAAAAAAAEBAQEBAAAAAAAAAAAAAAAAAAAAAQEBAQEAAAAAAAAAAAAAAAAAAAABAQEBAQAAAAAAAAAAAAAAAAAAAAEBAQEBAAAAAAAAAAAAAAAAAAAAAQEBAQEAAAAAAAAAAAAAAAAAAAABAQEBAQAAAAAAAAAAAAAAAAAAAAEBAQEBAAAAAAAAAAAAAAAAAAAAAQEBAQEAAAAAAAAAAAAAAAAAAAABAQEBAQAAAAAAAAAAAAAAAAAAAAEBAQEBAAAAAAAAAAAAAAAAAAAAAQEBAQEAAAAAAAAAAAAAAAAAAAABAQEBAQAAAAAAAAAAAAAAAAAAAAEBAQEBAAAAAAAAAAAAAAAAAAAAAQEBAQEAAAAAAAAAAAAAAAAAAAABAQEBAQAAAAAAAAAAAAAAAAAAAAEBAQEBAAAAAAAAAAAAAAAAAAAAAQEBAQEAAAAAAAAAAAAAAAAAAAABAQEBAQAAAAAAAAAAAAAAAAAAAAEBAQEBAAAAAAAAAAAAAAAAAAAAAQEBAQEAAAAAAAAAAAAAAAAAAAABAQEBAQAAAAAAAAAAAAAAAAAAAAEBAQEBAAAAAAAAAAAAAAAAAAAAAQEBAQEAAAAAAAAAAAAAAAAAAAABAQEBAQAAAAAAAAAAAAAAAAAAAAEBAQEBAAAAAAAAAAAAAAAAAAAAAQEBAQEAAAAAAAAAAAAAAAAAAAABAQEBAQEAAAAAAAAAAAAAAAAAAAEBAQEBAQAAAAAAAAAAAAAAAAAAAQEBAQEAAAAAAAAAAAAAAAAAAAABAQEBAAAAAAAAAAAAAAAAAAAAAAEBAQEAAAAAAAAAAAAAAAAAAAAAAAAAAAAAAAAAAAAAAAAAAAAAAAA=",
          "dtype": "i1",
          "shape": "61, 20"
         }
        }
       ],
       "layout": {
        "scene": {
         "xaxis": {
          "title": {
           "text": "State"
          }
         },
         "yaxis": {
          "title": {
           "text": "Time Step"
          }
         },
         "zaxis": {
          "title": {
           "text": "Action"
          }
         }
        },
        "template": {
         "data": {
          "bar": [
           {
            "error_x": {
             "color": "#2a3f5f"
            },
            "error_y": {
             "color": "#2a3f5f"
            },
            "marker": {
             "line": {
              "color": "#E5ECF6",
              "width": 0.5
             },
             "pattern": {
              "fillmode": "overlay",
              "size": 10,
              "solidity": 0.2
             }
            },
            "type": "bar"
           }
          ],
          "barpolar": [
           {
            "marker": {
             "line": {
              "color": "#E5ECF6",
              "width": 0.5
             },
             "pattern": {
              "fillmode": "overlay",
              "size": 10,
              "solidity": 0.2
             }
            },
            "type": "barpolar"
           }
          ],
          "carpet": [
           {
            "aaxis": {
             "endlinecolor": "#2a3f5f",
             "gridcolor": "white",
             "linecolor": "white",
             "minorgridcolor": "white",
             "startlinecolor": "#2a3f5f"
            },
            "baxis": {
             "endlinecolor": "#2a3f5f",
             "gridcolor": "white",
             "linecolor": "white",
             "minorgridcolor": "white",
             "startlinecolor": "#2a3f5f"
            },
            "type": "carpet"
           }
          ],
          "choropleth": [
           {
            "colorbar": {
             "outlinewidth": 0,
             "ticks": ""
            },
            "type": "choropleth"
           }
          ],
          "contour": [
           {
            "colorbar": {
             "outlinewidth": 0,
             "ticks": ""
            },
            "colorscale": [
             [
              0,
              "#0d0887"
             ],
             [
              0.1111111111111111,
              "#46039f"
             ],
             [
              0.2222222222222222,
              "#7201a8"
             ],
             [
              0.3333333333333333,
              "#9c179e"
             ],
             [
              0.4444444444444444,
              "#bd3786"
             ],
             [
              0.5555555555555556,
              "#d8576b"
             ],
             [
              0.6666666666666666,
              "#ed7953"
             ],
             [
              0.7777777777777778,
              "#fb9f3a"
             ],
             [
              0.8888888888888888,
              "#fdca26"
             ],
             [
              1,
              "#f0f921"
             ]
            ],
            "type": "contour"
           }
          ],
          "contourcarpet": [
           {
            "colorbar": {
             "outlinewidth": 0,
             "ticks": ""
            },
            "type": "contourcarpet"
           }
          ],
          "heatmap": [
           {
            "colorbar": {
             "outlinewidth": 0,
             "ticks": ""
            },
            "colorscale": [
             [
              0,
              "#0d0887"
             ],
             [
              0.1111111111111111,
              "#46039f"
             ],
             [
              0.2222222222222222,
              "#7201a8"
             ],
             [
              0.3333333333333333,
              "#9c179e"
             ],
             [
              0.4444444444444444,
              "#bd3786"
             ],
             [
              0.5555555555555556,
              "#d8576b"
             ],
             [
              0.6666666666666666,
              "#ed7953"
             ],
             [
              0.7777777777777778,
              "#fb9f3a"
             ],
             [
              0.8888888888888888,
              "#fdca26"
             ],
             [
              1,
              "#f0f921"
             ]
            ],
            "type": "heatmap"
           }
          ],
          "histogram": [
           {
            "marker": {
             "pattern": {
              "fillmode": "overlay",
              "size": 10,
              "solidity": 0.2
             }
            },
            "type": "histogram"
           }
          ],
          "histogram2d": [
           {
            "colorbar": {
             "outlinewidth": 0,
             "ticks": ""
            },
            "colorscale": [
             [
              0,
              "#0d0887"
             ],
             [
              0.1111111111111111,
              "#46039f"
             ],
             [
              0.2222222222222222,
              "#7201a8"
             ],
             [
              0.3333333333333333,
              "#9c179e"
             ],
             [
              0.4444444444444444,
              "#bd3786"
             ],
             [
              0.5555555555555556,
              "#d8576b"
             ],
             [
              0.6666666666666666,
              "#ed7953"
             ],
             [
              0.7777777777777778,
              "#fb9f3a"
             ],
             [
              0.8888888888888888,
              "#fdca26"
             ],
             [
              1,
              "#f0f921"
             ]
            ],
            "type": "histogram2d"
           }
          ],
          "histogram2dcontour": [
           {
            "colorbar": {
             "outlinewidth": 0,
             "ticks": ""
            },
            "colorscale": [
             [
              0,
              "#0d0887"
             ],
             [
              0.1111111111111111,
              "#46039f"
             ],
             [
              0.2222222222222222,
              "#7201a8"
             ],
             [
              0.3333333333333333,
              "#9c179e"
             ],
             [
              0.4444444444444444,
              "#bd3786"
             ],
             [
              0.5555555555555556,
              "#d8576b"
             ],
             [
              0.6666666666666666,
              "#ed7953"
             ],
             [
              0.7777777777777778,
              "#fb9f3a"
             ],
             [
              0.8888888888888888,
              "#fdca26"
             ],
             [
              1,
              "#f0f921"
             ]
            ],
            "type": "histogram2dcontour"
           }
          ],
          "mesh3d": [
           {
            "colorbar": {
             "outlinewidth": 0,
             "ticks": ""
            },
            "type": "mesh3d"
           }
          ],
          "parcoords": [
           {
            "line": {
             "colorbar": {
              "outlinewidth": 0,
              "ticks": ""
             }
            },
            "type": "parcoords"
           }
          ],
          "pie": [
           {
            "automargin": true,
            "type": "pie"
           }
          ],
          "scatter": [
           {
            "fillpattern": {
             "fillmode": "overlay",
             "size": 10,
             "solidity": 0.2
            },
            "type": "scatter"
           }
          ],
          "scatter3d": [
           {
            "line": {
             "colorbar": {
              "outlinewidth": 0,
              "ticks": ""
             }
            },
            "marker": {
             "colorbar": {
              "outlinewidth": 0,
              "ticks": ""
             }
            },
            "type": "scatter3d"
           }
          ],
          "scattercarpet": [
           {
            "marker": {
             "colorbar": {
              "outlinewidth": 0,
              "ticks": ""
             }
            },
            "type": "scattercarpet"
           }
          ],
          "scattergeo": [
           {
            "marker": {
             "colorbar": {
              "outlinewidth": 0,
              "ticks": ""
             }
            },
            "type": "scattergeo"
           }
          ],
          "scattergl": [
           {
            "marker": {
             "colorbar": {
              "outlinewidth": 0,
              "ticks": ""
             }
            },
            "type": "scattergl"
           }
          ],
          "scattermap": [
           {
            "marker": {
             "colorbar": {
              "outlinewidth": 0,
              "ticks": ""
             }
            },
            "type": "scattermap"
           }
          ],
          "scattermapbox": [
           {
            "marker": {
             "colorbar": {
              "outlinewidth": 0,
              "ticks": ""
             }
            },
            "type": "scattermapbox"
           }
          ],
          "scatterpolar": [
           {
            "marker": {
             "colorbar": {
              "outlinewidth": 0,
              "ticks": ""
             }
            },
            "type": "scatterpolar"
           }
          ],
          "scatterpolargl": [
           {
            "marker": {
             "colorbar": {
              "outlinewidth": 0,
              "ticks": ""
             }
            },
            "type": "scatterpolargl"
           }
          ],
          "scatterternary": [
           {
            "marker": {
             "colorbar": {
              "outlinewidth": 0,
              "ticks": ""
             }
            },
            "type": "scatterternary"
           }
          ],
          "surface": [
           {
            "colorbar": {
             "outlinewidth": 0,
             "ticks": ""
            },
            "colorscale": [
             [
              0,
              "#0d0887"
             ],
             [
              0.1111111111111111,
              "#46039f"
             ],
             [
              0.2222222222222222,
              "#7201a8"
             ],
             [
              0.3333333333333333,
              "#9c179e"
             ],
             [
              0.4444444444444444,
              "#bd3786"
             ],
             [
              0.5555555555555556,
              "#d8576b"
             ],
             [
              0.6666666666666666,
              "#ed7953"
             ],
             [
              0.7777777777777778,
              "#fb9f3a"
             ],
             [
              0.8888888888888888,
              "#fdca26"
             ],
             [
              1,
              "#f0f921"
             ]
            ],
            "type": "surface"
           }
          ],
          "table": [
           {
            "cells": {
             "fill": {
              "color": "#EBF0F8"
             },
             "line": {
              "color": "white"
             }
            },
            "header": {
             "fill": {
              "color": "#C8D4E3"
             },
             "line": {
              "color": "white"
             }
            },
            "type": "table"
           }
          ]
         },
         "layout": {
          "annotationdefaults": {
           "arrowcolor": "#2a3f5f",
           "arrowhead": 0,
           "arrowwidth": 1
          },
          "autotypenumbers": "strict",
          "coloraxis": {
           "colorbar": {
            "outlinewidth": 0,
            "ticks": ""
           }
          },
          "colorscale": {
           "diverging": [
            [
             0,
             "#8e0152"
            ],
            [
             0.1,
             "#c51b7d"
            ],
            [
             0.2,
             "#de77ae"
            ],
            [
             0.3,
             "#f1b6da"
            ],
            [
             0.4,
             "#fde0ef"
            ],
            [
             0.5,
             "#f7f7f7"
            ],
            [
             0.6,
             "#e6f5d0"
            ],
            [
             0.7,
             "#b8e186"
            ],
            [
             0.8,
             "#7fbc41"
            ],
            [
             0.9,
             "#4d9221"
            ],
            [
             1,
             "#276419"
            ]
           ],
           "sequential": [
            [
             0,
             "#0d0887"
            ],
            [
             0.1111111111111111,
             "#46039f"
            ],
            [
             0.2222222222222222,
             "#7201a8"
            ],
            [
             0.3333333333333333,
             "#9c179e"
            ],
            [
             0.4444444444444444,
             "#bd3786"
            ],
            [
             0.5555555555555556,
             "#d8576b"
            ],
            [
             0.6666666666666666,
             "#ed7953"
            ],
            [
             0.7777777777777778,
             "#fb9f3a"
            ],
            [
             0.8888888888888888,
             "#fdca26"
            ],
            [
             1,
             "#f0f921"
            ]
           ],
           "sequentialminus": [
            [
             0,
             "#0d0887"
            ],
            [
             0.1111111111111111,
             "#46039f"
            ],
            [
             0.2222222222222222,
             "#7201a8"
            ],
            [
             0.3333333333333333,
             "#9c179e"
            ],
            [
             0.4444444444444444,
             "#bd3786"
            ],
            [
             0.5555555555555556,
             "#d8576b"
            ],
            [
             0.6666666666666666,
             "#ed7953"
            ],
            [
             0.7777777777777778,
             "#fb9f3a"
            ],
            [
             0.8888888888888888,
             "#fdca26"
            ],
            [
             1,
             "#f0f921"
            ]
           ]
          },
          "colorway": [
           "#636efa",
           "#EF553B",
           "#00cc96",
           "#ab63fa",
           "#FFA15A",
           "#19d3f3",
           "#FF6692",
           "#B6E880",
           "#FF97FF",
           "#FECB52"
          ],
          "font": {
           "color": "#2a3f5f"
          },
          "geo": {
           "bgcolor": "white",
           "lakecolor": "white",
           "landcolor": "#E5ECF6",
           "showlakes": true,
           "showland": true,
           "subunitcolor": "white"
          },
          "hoverlabel": {
           "align": "left"
          },
          "hovermode": "closest",
          "mapbox": {
           "style": "light"
          },
          "paper_bgcolor": "white",
          "plot_bgcolor": "#E5ECF6",
          "polar": {
           "angularaxis": {
            "gridcolor": "white",
            "linecolor": "white",
            "ticks": ""
           },
           "bgcolor": "#E5ECF6",
           "radialaxis": {
            "gridcolor": "white",
            "linecolor": "white",
            "ticks": ""
           }
          },
          "scene": {
           "xaxis": {
            "backgroundcolor": "#E5ECF6",
            "gridcolor": "white",
            "gridwidth": 2,
            "linecolor": "white",
            "showbackground": true,
            "ticks": "",
            "zerolinecolor": "white"
           },
           "yaxis": {
            "backgroundcolor": "#E5ECF6",
            "gridcolor": "white",
            "gridwidth": 2,
            "linecolor": "white",
            "showbackground": true,
            "ticks": "",
            "zerolinecolor": "white"
           },
           "zaxis": {
            "backgroundcolor": "#E5ECF6",
            "gridcolor": "white",
            "gridwidth": 2,
            "linecolor": "white",
            "showbackground": true,
            "ticks": "",
            "zerolinecolor": "white"
           }
          },
          "shapedefaults": {
           "line": {
            "color": "#2a3f5f"
           }
          },
          "ternary": {
           "aaxis": {
            "gridcolor": "white",
            "linecolor": "white",
            "ticks": ""
           },
           "baxis": {
            "gridcolor": "white",
            "linecolor": "white",
            "ticks": ""
           },
           "bgcolor": "#E5ECF6",
           "caxis": {
            "gridcolor": "white",
            "linecolor": "white",
            "ticks": ""
           }
          },
          "title": {
           "x": 0.05
          },
          "xaxis": {
           "automargin": true,
           "gridcolor": "white",
           "linecolor": "white",
           "ticks": "",
           "title": {
            "standoff": 15
           },
           "zerolinecolor": "white",
           "zerolinewidth": 2
          },
          "yaxis": {
           "automargin": true,
           "gridcolor": "white",
           "linecolor": "white",
           "ticks": "",
           "title": {
            "standoff": 15
           },
           "zerolinecolor": "white",
           "zerolinewidth": 2
          }
         }
        },
        "title": {
         "text": "Policy Surface Plot"
        }
       }
      }
     },
     "metadata": {},
     "output_type": "display_data"
    }
   ],
   "source": [
    "# policy over time as  a mesh plot\n",
    "Z_policy = policy\n",
    "Z_policy[-1] = np.zeros(N)  # Set the last column to 0 for better visualization\n",
    "\n",
    "fig_policy = go.Figure(data=[go.Surface(z=Z_policy, x=X, y=Y)])\n",
    "fig_policy.update_layout(title='Policy Surface Plot', scene=dict(\n",
    "    xaxis_title='State',\n",
    "    yaxis_title='Time Step',\n",
    "    zaxis_title='Action'))\n",
    "fig_policy.show()"
   ]
  },
  {
   "cell_type": "markdown",
   "id": "9152673b",
   "metadata": {},
   "source": [
    "# Modified Policy Iteration Implementation for time dependant policy"
   ]
  },
  {
   "cell_type": "code",
   "execution_count": 65,
   "id": "02438911",
   "metadata": {},
   "outputs": [],
   "source": [
    "def evaluate_policy(policy, C, P, V, threshold = 0.01, max_iter=100, alpha=0.5):\n",
    "    for _ in range(max_iter):\n",
    "        V_new = np.zeros_like(V)\n",
    "        V_new[time_steps] =  C[time_steps][0]  # Initialize with final costs\n",
    "        for t in range(time_steps - 1, -1, -1):\n",
    "            P_pi = np.array([P[int(policy[t][i])][i] for i in range(N)])\n",
    "            R_pi = np.array([C[t][int(policy[t][i])][i] for i in range(N)])\n",
    "            V_new[t] = T(R_pi,P_pi,V[t+1], alpha)\n",
    "        if np.linalg.norm(V_new-V, np.inf) < threshold:\n",
    "            return V_new\n",
    "        V = V_new\n",
    "    return V"
   ]
  },
  {
   "cell_type": "code",
   "execution_count": 66,
   "id": "31f5013f",
   "metadata": {},
   "outputs": [],
   "source": [
    "def improve_policy_greedy(C, P, V, alpha=0.5):\n",
    "    new_policy = np.zeros((time_steps+1, N))\n",
    "    for t in range(time_steps):\n",
    "        Q = T(C[t], P, V[t + 1], alpha)\n",
    "        new_policy[t] = np.argmin(Q, axis=0)\n",
    "    return new_policy"
   ]
  },
  {
   "cell_type": "code",
   "execution_count": 67,
   "id": "4999ce58",
   "metadata": {},
   "outputs": [],
   "source": [
    "def modified_policy_iteration(C, P, max_evaluation_iter=100, max_iter=100, epsilon=0.01, alpha=0.5):\n",
    "    V = np.zeros((time_steps+1, N))\n",
    "    policy = np.zeros((time_steps+1, N))\n",
    "    V[time_steps] = np.array(C[time_steps][0])\n",
    "    for _ in range(max_iter):\n",
    "        V_new = evaluate_policy(policy, C, P, V, max_iter=max_evaluation_iter, alpha=alpha)\n",
    "        policy = improve_policy_greedy(C, P, V_new, alpha=alpha)\n",
    "        if np.linalg.norm(V_new-V, np.inf) < epsilon:\n",
    "            return policy, V\n",
    "        V = V_new\n",
    "    return policy, V"
   ]
  },
  {
   "cell_type": "code",
   "execution_count": 68,
   "id": "d243a159",
   "metadata": {},
   "outputs": [],
   "source": [
    "policy, V = modified_policy_iteration(C, transition_probability, max_iter=100, alpha=1.0, max_evaluation_iter=1)"
   ]
  },
  {
   "cell_type": "code",
   "execution_count": 69,
   "id": "2420fdd4",
   "metadata": {},
   "outputs": [
    {
     "name": "stdout",
     "output_type": "stream",
     "text": [
      "The policy remains threshold type throughout.\n"
     ]
    }
   ],
   "source": [
    "# check if policy remains threshold type throughout time\n",
    "flag = True\n",
    "for t in range(time_steps):\n",
    "    if np.any(policy[t] == 0):\n",
    "        threshold_state = np.min(np.where(policy[t] == 0))\n",
    "    else:\n",
    "        threshold_state = N\n",
    "    for s in range(threshold_state, N):\n",
    "        if policy[t, s] != 0:\n",
    "            flag = False\n",
    "            break\n",
    "if flag:\n",
    "    print(\"The policy remains threshold type throughout.\")\n",
    "else:\n",
    "    print(\"Threshold type policy is not maintained\")"
   ]
  },
  {
   "cell_type": "code",
   "execution_count": 70,
   "id": "e84c7018",
   "metadata": {},
   "outputs": [
    {
     "data": {
      "image/png": "[encoded data removed]",
      "text/plain": [
       "<Figure size 640x480 with 1 Axes>"
      ]
     },
     "metadata": {},
     "output_type": "display_data"
    }
   ],
   "source": [
    "# plot of threshold over time\n",
    "thresholds = np.zeros(time_steps)\n",
    "for t in range(time_steps):\n",
    "    thresholds[t] = np.min(np.where(policy[t] == 0)) if np.any(policy[t] == 0) else N\n",
    "plt.plot(range(time_steps), thresholds)\n",
    "plt.xlabel(\"Time Step\")\n",
    "plt.ylabel(\"Threshold State\")\n",
    "plt.title(\"Threshold State Over Time\")\n",
    "plt.show()"
   ]
  },
  {
   "cell_type": "code",
   "execution_count": 71,
   "id": "66e4fc3f",
   "metadata": {},
   "outputs": [
    {
     "data": {
      "application/vnd.plotly.v1+json": {
       "config": {
        "plotlyServerURL": "https://plot.ly"
       },
       "data": [
        {
         "type": "surface",
         "x": {
          "bdata": "AAECAwQFBgcICQoLDA0ODxAREhMAAQIDBAUGBwgJCgsMDQ4PEBESEwABAgMEBQYHCAkKCwwNDg8QERITAAECAwQFBgcICQoLDA0ODxAREhMAAQIDBAUGBwgJCgsMDQ4PEBESEwABAgMEBQYHCAkKCwwNDg8QERITAAECAwQFBgcICQoLDA0ODxAREhMAAQIDBAUGBwgJCgsMDQ4PEBESEwABAgMEBQYHCAkKCwwNDg8QERITAAECAwQFBgcICQoLDA0ODxAREhMAAQIDBAUGBwgJCgsMDQ4PEBESEwABAgMEBQYHCAkKCwwNDg8QERITAAECAwQFBgcICQoLDA0ODxAREhMAAQIDBAUGBwgJCgsMDQ4PEBESEwABAgMEBQYHCAkKCwwNDg8QERITAAECAwQFBgcICQoLDA0ODxAREhMAAQIDBAUGBwgJCgsMDQ4PEBESEwABAgMEBQYHCAkKCwwNDg8QERITAAECAwQFBgcICQoLDA0ODxAREhMAAQIDBAUGBwgJCgsMDQ4PEBESEwABAgMEBQYHCAkKCwwNDg8QERITAAECAwQFBgcICQoLDA0ODxAREhMAAQIDBAUGBwgJCgsMDQ4PEBESEwABAgMEBQYHCAkKCwwNDg8QERITAAECAwQFBgcICQoLDA0ODxAREhMAAQIDBAUGBwgJCgsMDQ4PEBESEwABAgMEBQYHCAkKCwwNDg8QERITAAECAwQFBgcICQoLDA0ODxAREhMAAQIDBAUGBwgJCgsMDQ4PEBESEwABAgMEBQYHCAkKCwwNDg8QERITAAECAwQFBgcICQoLDA0ODxAREhMAAQIDBAUGBwgJCgsMDQ4PEBESEwABAgMEBQYHCAkKCwwNDg8QERITAAECAwQFBgcICQoLDA0ODxAREhMAAQIDBAUGBwgJCgsMDQ4PEBESEwABAgMEBQYHCAkKCwwNDg8QERITAAECAwQFBgcICQoLDA0ODxAREhMAAQIDBAUGBwgJCgsMDQ4PEBESEwABAgMEBQYHCAkKCwwNDg8QERITAAECAwQFBgcICQoLDA0ODxAREhMAAQIDBAUGBwgJCgsMDQ4PEBESEwABAgMEBQYHCAkKCwwNDg8QERITAAECAwQFBgcICQoLDA0ODxAREhMAAQIDBAUGBwgJCgsMDQ4PEBESEwABAgMEBQYHCAkKCwwNDg8QERITAAECAwQFBgcICQoLDA0ODxAREhMAAQIDBAUGBwgJCgsMDQ4PEBESEwABAgMEBQYHCAkKCwwNDg8QERITAAECAwQFBgcICQoLDA0ODxAREhMAAQIDBAUGBwgJCgsMDQ4PEBESEwABAgMEBQYHCAkKCwwNDg8QERITAAECAwQFBgcICQoLDA0ODxAREhMAAQIDBAUGBwgJCgsMDQ4PEBESEwABAgMEBQYHCAkKCwwNDg8QERITAAECAwQFBgcICQoLDA0ODxAREhMAAQIDBAUGBwgJCgsMDQ4PEBESEwABAgMEBQYHCAkKCwwNDg8QERITAAECAwQFBgcICQoLDA0ODxAREhMAAQIDBAUGBwgJCgsMDQ4PEBESEwABAgMEBQYHCAkKCwwNDg8QERITAAECAwQFBgcICQoLDA0ODxAREhM=",
          "dtype": "i1",
          "shape": "61, 20"
         },
         "y": {
          "bdata": "AAAAAAAAAAAAAAAAAAAAAAAAAAABAQEBAQEBAQEBAQEBAQEBAQEBAQICAgICAgICAgICAgICAgICAgICAwMDAwMDAwMDAwMDAwMDAwMDAwMEBAQEBAQEBAQEBAQEBAQEBAQEBAUFBQUFBQUFBQUFBQUFBQUFBQUFBgYGBgYGBgYGBgYGBgYGBgYGBgYHBwcHBwcHBwcHBwcHBwcHBwcHBwgICAgICAgICAgICAgICAgICAgICQkJCQkJCQkJCQkJCQkJCQkJCQkKCgoKCgoKCgoKCgoKCgoKCgoKCgsLCwsLCwsLCwsLCwsLCwsLCwsLDAwMDAwMDAwMDAwMDAwMDAwMDAwNDQ0NDQ0NDQ0NDQ0NDQ0NDQ0NDQ4ODg4ODg4ODg4ODg4ODg4ODg4ODw8PDw8PDw8PDw8PDw8PDw8PDw8QEBAQEBAQEBAQEBAQEBAQEBAQEBEREREREREREREREREREREREREREhISEhISEhISEhISEhISEhISEhITExMTExMTExMTExMTExMTExMTExQUFBQUFBQUFBQUFBQUFBQUFBQUFRUVFRUVFRUVFRUVFRUVFRUVFRUWFhYWFhYWFhYWFhYWFhYWFhYWFhcXFxcXFxcXFxcXFxcXFxcXFxcXGBgYGBgYGBgYGBgYGBgYGBgYGBgZGRkZGRkZGRkZGRkZGRkZGRkZGRoaGhoaGhoaGhoaGhoaGhoaGhoaGxsbGxsbGxsbGxsbGxsbGxsbGxscHBwcHBwcHBwcHBwcHBwcHBwcHB0dHR0dHR0dHR0dHR0dHR0dHR0dHh4eHh4eHh4eHh4eHh4eHh4eHh4fHx8fHx8fHx8fHx8fHx8fHx8fHyAgICAgICAgICAgICAgICAgICAgISEhISEhISEhISEhISEhISEhISEiIiIiIiIiIiIiIiIiIiIiIiIiIiMjIyMjIyMjIyMjIyMjIyMjIyMjJCQkJCQkJCQkJCQkJCQkJCQkJCQlJSUlJSUlJSUlJSUlJSUlJSUlJSYmJiYmJiYmJiYmJiYmJiYmJiYmJycnJycnJycnJycnJycnJycnJycoKCgoKCgoKCgoKCgoKCgoKCgoKCkpKSkpKSkpKSkpKSkpKSkpKSkpKioqKioqKioqKioqKioqKioqKiorKysrKysrKysrKysrKysrKysrKywsLCwsLCwsLCwsLCwsLCwsLCwsLS0tLS0tLS0tLS0tLS0tLS0tLS0uLi4uLi4uLi4uLi4uLi4uLi4uLi8vLy8vLy8vLy8vLy8vLy8vLy8vMDAwMDAwMDAwMDAwMDAwMDAwMDAxMTExMTExMTExMTExMTExMTExMTIyMjIyMjIyMjIyMjIyMjIyMjIyMzMzMzMzMzMzMzMzMzMzMzMzMzM0NDQ0NDQ0NDQ0NDQ0NDQ0NDQ0NDU1NTU1NTU1NTU1NTU1NTU1NTU1NjY2NjY2NjY2NjY2NjY2NjY2NjY3Nzc3Nzc3Nzc3Nzc3Nzc3Nzc3Nzg4ODg4ODg4ODg4ODg4ODg4ODg4OTk5OTk5OTk5OTk5OTk5OTk5OTk6Ojo6Ojo6Ojo6Ojo6Ojo6Ojo6Ojs7Ozs7Ozs7Ozs7Ozs7Ozs7Ozs7PDw8PDw8PDw8PDw8PDw8PDw8PDw=",
          "dtype": "i1",
          "shape": "61, 20"
         },
         "z": {
          "bdata": "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",
          "dtype": "f8",
          "shape": "61, 20"
         }
        }
       ],
       "layout": {
        "scene": {
         "xaxis": {
          "title": {
           "text": "State"
          }
         },
         "yaxis": {
          "title": {
           "text": "Time Step"
          }
         },
         "zaxis": {
          "title": {
           "text": "Value Function"
          }
         }
        },
        "template": {
         "data": {
          "bar": [
           {
            "error_x": {
             "color": "#2a3f5f"
            },
            "error_y": {
             "color": "#2a3f5f"
            },
            "marker": {
             "line": {
              "color": "#E5ECF6",
              "width": 0.5
             },
             "pattern": {
              "fillmode": "overlay",
              "size": 10,
              "solidity": 0.2
             }
            },
            "type": "bar"
           }
          ],
          "barpolar": [
           {
            "marker": {
             "line": {
              "color": "#E5ECF6",
              "width": 0.5
             },
             "pattern": {
              "fillmode": "overlay",
              "size": 10,
              "solidity": 0.2
             }
            },
            "type": "barpolar"
           }
          ],
          "carpet": [
           {
            "aaxis": {
             "endlinecolor": "#2a3f5f",
             "gridcolor": "white",
             "linecolor": "white",
             "minorgridcolor": "white",
             "startlinecolor": "#2a3f5f"
            },
            "baxis": {
             "endlinecolor": "#2a3f5f",
             "gridcolor": "white",
             "linecolor": "white",
             "minorgridcolor": "white",
             "startlinecolor": "#2a3f5f"
            },
            "type": "carpet"
           }
          ],
          "choropleth": [
           {
            "colorbar": {
             "outlinewidth": 0,
             "ticks": ""
            },
            "type": "choropleth"
           }
          ],
          "contour": [
           {
            "colorbar": {
             "outlinewidth": 0,
             "ticks": ""
            },
            "colorscale": [
             [
              0,
              "#0d0887"
             ],
             [
              0.1111111111111111,
              "#46039f"
             ],
             [
              0.2222222222222222,
              "#7201a8"
             ],
             [
              0.3333333333333333,
              "#9c179e"
             ],
             [
              0.4444444444444444,
              "#bd3786"
             ],
             [
              0.5555555555555556,
              "#d8576b"
             ],
             [
              0.6666666666666666,
              "#ed7953"
             ],
             [
              0.7777777777777778,
              "#fb9f3a"
             ],
             [
              0.8888888888888888,
              "#fdca26"
             ],
             [
              1,
              "#f0f921"
             ]
            ],
            "type": "contour"
           }
          ],
          "contourcarpet": [
           {
            "colorbar": {
             "outlinewidth": 0,
             "ticks": ""
            },
            "type": "contourcarpet"
           }
          ],
          "heatmap": [
           {
            "colorbar": {
             "outlinewidth": 0,
             "ticks": ""
            },
            "colorscale": [
             [
              0,
              "#0d0887"
             ],
             [
              0.1111111111111111,
              "#46039f"
             ],
             [
              0.2222222222222222,
              "#7201a8"
             ],
             [
              0.3333333333333333,
              "#9c179e"
             ],
             [
              0.4444444444444444,
              "#bd3786"
             ],
             [
              0.5555555555555556,
              "#d8576b"
             ],
             [
              0.6666666666666666,
              "#ed7953"
             ],
             [
              0.7777777777777778,
              "#fb9f3a"
             ],
             [
              0.8888888888888888,
              "#fdca26"
             ],
             [
              1,
              "#f0f921"
             ]
            ],
            "type": "heatmap"
           }
          ],
          "histogram": [
           {
            "marker": {
             "pattern": {
              "fillmode": "overlay",
              "size": 10,
              "solidity": 0.2
             }
            },
            "type": "histogram"
           }
          ],
          "histogram2d": [
           {
            "colorbar": {
             "outlinewidth": 0,
             "ticks": ""
            },
            "colorscale": [
             [
              0,
              "#0d0887"
             ],
             [
              0.1111111111111111,
              "#46039f"
             ],
             [
              0.2222222222222222,
              "#7201a8"
             ],
             [
              0.3333333333333333,
              "#9c179e"
             ],
             [
              0.4444444444444444,
              "#bd3786"
             ],
             [
              0.5555555555555556,
              "#d8576b"
             ],
             [
              0.6666666666666666,
              "#ed7953"
             ],
             [
              0.7777777777777778,
              "#fb9f3a"
             ],
             [
              0.8888888888888888,
              "#fdca26"
             ],
             [
              1,
              "#f0f921"
             ]
            ],
            "type": "histogram2d"
           }
          ],
          "histogram2dcontour": [
           {
            "colorbar": {
             "outlinewidth": 0,
             "ticks": ""
            },
            "colorscale": [
             [
              0,
              "#0d0887"
             ],
             [
              0.1111111111111111,
              "#46039f"
             ],
             [
              0.2222222222222222,
              "#7201a8"
             ],
             [
              0.3333333333333333,
              "#9c179e"
             ],
             [
              0.4444444444444444,
              "#bd3786"
             ],
             [
              0.5555555555555556,
              "#d8576b"
             ],
             [
              0.6666666666666666,
              "#ed7953"
             ],
             [
              0.7777777777777778,
              "#fb9f3a"
             ],
             [
              0.8888888888888888,
              "#fdca26"
             ],
             [
              1,
              "#f0f921"
             ]
            ],
            "type": "histogram2dcontour"
           }
          ],
          "mesh3d": [
           {
            "colorbar": {
             "outlinewidth": 0,
             "ticks": ""
            },
            "type": "mesh3d"
           }
          ],
          "parcoords": [
           {
            "line": {
             "colorbar": {
              "outlinewidth": 0,
              "ticks": ""
             }
            },
            "type": "parcoords"
           }
          ],
          "pie": [
           {
            "automargin": true,
            "type": "pie"
           }
          ],
          "scatter": [
           {
            "fillpattern": {
             "fillmode": "overlay",
             "size": 10,
             "solidity": 0.2
            },
            "type": "scatter"
           }
          ],
          "scatter3d": [
           {
            "line": {
             "colorbar": {
              "outlinewidth": 0,
              "ticks": ""
             }
            },
            "marker": {
             "colorbar": {
              "outlinewidth": 0,
              "ticks": ""
             }
            },
            "type": "scatter3d"
           }
          ],
          "scattercarpet": [
           {
            "marker": {
             "colorbar": {
              "outlinewidth": 0,
              "ticks": ""
             }
            },
            "type": "scattercarpet"
           }
          ],
          "scattergeo": [
           {
            "marker": {
             "colorbar": {
              "outlinewidth": 0,
              "ticks": ""
             }
            },
            "type": "scattergeo"
           }
          ],
          "scattergl": [
           {
            "marker": {
             "colorbar": {
              "outlinewidth": 0,
              "ticks": ""
             }
            },
            "type": "scattergl"
           }
          ],
          "scattermap": [
           {
            "marker": {
             "colorbar": {
              "outlinewidth": 0,
              "ticks": ""
             }
            },
            "type": "scattermap"
           }
          ],
          "scattermapbox": [
           {
            "marker": {
             "colorbar": {
              "outlinewidth": 0,
              "ticks": ""
             }
            },
            "type": "scattermapbox"
           }
          ],
          "scatterpolar": [
           {
            "marker": {
             "colorbar": {
              "outlinewidth": 0,
              "ticks": ""
             }
            },
            "type": "scatterpolar"
           }
          ],
          "scatterpolargl": [
           {
            "marker": {
             "colorbar": {
              "outlinewidth": 0,
              "ticks": ""
             }
            },
            "type": "scatterpolargl"
           }
          ],
          "scatterternary": [
           {
            "marker": {
             "colorbar": {
              "outlinewidth": 0,
              "ticks": ""
             }
            },
            "type": "scatterternary"
           }
          ],
          "surface": [
           {
            "colorbar": {
             "outlinewidth": 0,
             "ticks": ""
            },
            "colorscale": [
             [
              0,
              "#0d0887"
             ],
             [
              0.1111111111111111,
              "#46039f"
             ],
             [
              0.2222222222222222,
              "#7201a8"
             ],
             [
              0.3333333333333333,
              "#9c179e"
             ],
             [
              0.4444444444444444,
              "#bd3786"
             ],
             [
              0.5555555555555556,
              "#d8576b"
             ],
             [
              0.6666666666666666,
              "#ed7953"
             ],
             [
              0.7777777777777778,
              "#fb9f3a"
             ],
             [
              0.8888888888888888,
              "#fdca26"
             ],
             [
              1,
              "#f0f921"
             ]
            ],
            "type": "surface"
           }
          ],
          "table": [
           {
            "cells": {
             "fill": {
              "color": "#EBF0F8"
             },
             "line": {
              "color": "white"
             }
            },
            "header": {
             "fill": {
              "color": "#C8D4E3"
             },
             "line": {
              "color": "white"
             }
            },
            "type": "table"
           }
          ]
         },
         "layout": {
          "annotationdefaults": {
           "arrowcolor": "#2a3f5f",
           "arrowhead": 0,
           "arrowwidth": 1
          },
          "autotypenumbers": "strict",
          "coloraxis": {
           "colorbar": {
            "outlinewidth": 0,
            "ticks": ""
           }
          },
          "colorscale": {
           "diverging": [
            [
             0,
             "#8e0152"
            ],
            [
             0.1,
             "#c51b7d"
            ],
            [
             0.2,
             "#de77ae"
            ],
            [
             0.3,
             "#f1b6da"
            ],
            [
             0.4,
             "#fde0ef"
            ],
            [
             0.5,
             "#f7f7f7"
            ],
            [
             0.6,
             "#e6f5d0"
            ],
            [
             0.7,
             "#b8e186"
            ],
            [
             0.8,
             "#7fbc41"
            ],
            [
             0.9,
             "#4d9221"
            ],
            [
             1,
             "#276419"
            ]
           ],
           "sequential": [
            [
             0,
             "#0d0887"
            ],
            [
             0.1111111111111111,
             "#46039f"
            ],
            [
             0.2222222222222222,
             "#7201a8"
            ],
            [
             0.3333333333333333,
             "#9c179e"
            ],
            [
             0.4444444444444444,
             "#bd3786"
            ],
            [
             0.5555555555555556,
             "#d8576b"
            ],
            [
             0.6666666666666666,
             "#ed7953"
            ],
            [
             0.7777777777777778,
             "#fb9f3a"
            ],
            [
             0.8888888888888888,
             "#fdca26"
            ],
            [
             1,
             "#f0f921"
            ]
           ],
           "sequentialminus": [
            [
             0,
             "#0d0887"
            ],
            [
             0.1111111111111111,
             "#46039f"
            ],
            [
             0.2222222222222222,
             "#7201a8"
            ],
            [
             0.3333333333333333,
             "#9c179e"
            ],
            [
             0.4444444444444444,
             "#bd3786"
            ],
            [
             0.5555555555555556,
             "#d8576b"
            ],
            [
             0.6666666666666666,
             "#ed7953"
            ],
            [
             0.7777777777777778,
             "#fb9f3a"
            ],
            [
             0.8888888888888888,
             "#fdca26"
            ],
            [
             1,
             "#f0f921"
            ]
           ]
          },
          "colorway": [
           "#636efa",
           "#EF553B",
           "#00cc96",
           "#ab63fa",
           "#FFA15A",
           "#19d3f3",
           "#FF6692",
           "#B6E880",
           "#FF97FF",
           "#FECB52"
          ],
          "font": {
           "color": "#2a3f5f"
          },
          "geo": {
           "bgcolor": "white",
           "lakecolor": "white",
           "landcolor": "#E5ECF6",
           "showlakes": true,
           "showland": true,
           "subunitcolor": "white"
          },
          "hoverlabel": {
           "align": "left"
          },
          "hovermode": "closest",
          "mapbox": {
           "style": "light"
          },
          "paper_bgcolor": "white",
          "plot_bgcolor": "#E5ECF6",
          "polar": {
           "angularaxis": {
            "gridcolor": "white",
            "linecolor": "white",
            "ticks": ""
           },
           "bgcolor": "#E5ECF6",
           "radialaxis": {
            "gridcolor": "white",
            "linecolor": "white",
            "ticks": ""
           }
          },
          "scene": {
           "xaxis": {
            "backgroundcolor": "#E5ECF6",
            "gridcolor": "white",
            "gridwidth": 2,
            "linecolor": "white",
            "showbackground": true,
            "ticks": "",
            "zerolinecolor": "white"
           },
           "yaxis": {
            "backgroundcolor": "#E5ECF6",
            "gridcolor": "white",
            "gridwidth": 2,
            "linecolor": "white",
            "showbackground": true,
            "ticks": "",
            "zerolinecolor": "white"
           },
           "zaxis": {
            "backgroundcolor": "#E5ECF6",
            "gridcolor": "white",
            "gridwidth": 2,
            "linecolor": "white",
            "showbackground": true,
            "ticks": "",
            "zerolinecolor": "white"
           }
          },
          "shapedefaults": {
           "line": {
            "color": "#2a3f5f"
           }
          },
          "ternary": {
           "aaxis": {
            "gridcolor": "white",
            "linecolor": "white",
            "ticks": ""
           },
           "baxis": {
            "gridcolor": "white",
            "linecolor": "white",
            "ticks": ""
           },
           "bgcolor": "#E5ECF6",
           "caxis": {
            "gridcolor": "white",
            "linecolor": "white",
            "ticks": ""
           }
          },
          "title": {
           "x": 0.05
          },
          "xaxis": {
           "automargin": true,
           "gridcolor": "white",
           "linecolor": "white",
           "ticks": "",
           "title": {
            "standoff": 15
           },
           "zerolinecolor": "white",
           "zerolinewidth": 2
          },
          "yaxis": {
           "automargin": true,
           "gridcolor": "white",
           "linecolor": "white",
           "ticks": "",
           "title": {
            "standoff": 15
           },
           "zerolinecolor": "white",
           "zerolinewidth": 2
          }
         }
        },
        "title": {
         "text": "Value Function Surface Plot"
        }
       }
      }
     },
     "metadata": {},
     "output_type": "display_data"
    }
   ],
   "source": [
    "# mesh plot of value function\n",
    "X, Y = np.meshgrid(range(N), range(time_steps + 1))\n",
    "Z = V\n",
    "\n",
    "fig = go.Figure(data=[go.Surface(z=Z, x=X, y=Y)])\n",
    "fig.update_layout(title='Value Function Surface Plot', scene=dict(\n",
    "    xaxis_title='State',\n",
    "    yaxis_title='Time Step',\n",
    "    zaxis_title='Value Function'))\n",
    "fig.show()"
   ]
  },
  {
   "cell_type": "code",
   "execution_count": 72,
   "id": "6949ad01",
   "metadata": {},
   "outputs": [
    {
     "data": {
      "application/vnd.plotly.v1+json": {
       "config": {
        "plotlyServerURL": "https://plot.ly"
       },
       "data": [
        {
         "type": "surface",
         "x": {
          "bdata": "AAECAwQFBgcICQoLDA0ODxAREhMAAQIDBAUGBwgJCgsMDQ4PEBESEwABAgMEBQYHCAkKCwwNDg8QERITAAECAwQFBgcICQoLDA0ODxAREhMAAQIDBAUGBwgJCgsMDQ4PEBESEwABAgMEBQYHCAkKCwwNDg8QERITAAECAwQFBgcICQoLDA0ODxAREhMAAQIDBAUGBwgJCgsMDQ4PEBESEwABAgMEBQYHCAkKCwwNDg8QERITAAECAwQFBgcICQoLDA0ODxAREhMAAQIDBAUGBwgJCgsMDQ4PEBESEwABAgMEBQYHCAkKCwwNDg8QERITAAECAwQFBgcICQoLDA0ODxAREhMAAQIDBAUGBwgJCgsMDQ4PEBESEwABAgMEBQYHCAkKCwwNDg8QERITAAECAwQFBgcICQoLDA0ODxAREhMAAQIDBAUGBwgJCgsMDQ4PEBESEwABAgMEBQYHCAkKCwwNDg8QERITAAECAwQFBgcICQoLDA0ODxAREhMAAQIDBAUGBwgJCgsMDQ4PEBESEwABAgMEBQYHCAkKCwwNDg8QERITAAECAwQFBgcICQoLDA0ODxAREhMAAQIDBAUGBwgJCgsMDQ4PEBESEwABAgMEBQYHCAkKCwwNDg8QERITAAECAwQFBgcICQoLDA0ODxAREhMAAQIDBAUGBwgJCgsMDQ4PEBESEwABAgMEBQYHCAkKCwwNDg8QERITAAECAwQFBgcICQoLDA0ODxAREhMAAQIDBAUGBwgJCgsMDQ4PEBESEwABAgMEBQYHCAkKCwwNDg8QERITAAECAwQFBgcICQoLDA0ODxAREhMAAQIDBAUGBwgJCgsMDQ4PEBESEwABAgMEBQYHCAkKCwwNDg8QERITAAECAwQFBgcICQoLDA0ODxAREhMAAQIDBAUGBwgJCgsMDQ4PEBESEwABAgMEBQYHCAkKCwwNDg8QERITAAECAwQFBgcICQoLDA0ODxAREhMAAQIDBAUGBwgJCgsMDQ4PEBESEwABAgMEBQYHCAkKCwwNDg8QERITAAECAwQFBgcICQoLDA0ODxAREhMAAQIDBAUGBwgJCgsMDQ4PEBESEwABAgMEBQYHCAkKCwwNDg8QERITAAECAwQFBgcICQoLDA0ODxAREhMAAQIDBAUGBwgJCgsMDQ4PEBESEwABAgMEBQYHCAkKCwwNDg8QERITAAECAwQFBgcICQoLDA0ODxAREhMAAQIDBAUGBwgJCgsMDQ4PEBESEwABAgMEBQYHCAkKCwwNDg8QERITAAECAwQFBgcICQoLDA0ODxAREhMAAQIDBAUGBwgJCgsMDQ4PEBESEwABAgMEBQYHCAkKCwwNDg8QERITAAECAwQFBgcICQoLDA0ODxAREhMAAQIDBAUGBwgJCgsMDQ4PEBESEwABAgMEBQYHCAkKCwwNDg8QERITAAECAwQFBgcICQoLDA0ODxAREhMAAQIDBAUGBwgJCgsMDQ4PEBESEwABAgMEBQYHCAkKCwwNDg8QERITAAECAwQFBgcICQoLDA0ODxAREhMAAQIDBAUGBwgJCgsMDQ4PEBESEwABAgMEBQYHCAkKCwwNDg8QERITAAECAwQFBgcICQoLDA0ODxAREhM=",
          "dtype": "i1",
          "shape": "61, 20"
         },
         "y": {
          "bdata": "AAAAAAAAAAAAAAAAAAAAAAAAAAABAQEBAQEBAQEBAQEBAQEBAQEBAQICAgICAgICAgICAgICAgICAgICAwMDAwMDAwMDAwMDAwMDAwMDAwMEBAQEBAQEBAQEBAQEBAQEBAQEBAUFBQUFBQUFBQUFBQUFBQUFBQUFBgYGBgYGBgYGBgYGBgYGBgYGBgYHBwcHBwcHBwcHBwcHBwcHBwcHBwgICAgICAgICAgICAgICAgICAgICQkJCQkJCQkJCQkJCQkJCQkJCQkKCgoKCgoKCgoKCgoKCgoKCgoKCgsLCwsLCwsLCwsLCwsLCwsLCwsLDAwMDAwMDAwMDAwMDAwMDAwMDAwNDQ0NDQ0NDQ0NDQ0NDQ0NDQ0NDQ4ODg4ODg4ODg4ODg4ODg4ODg4ODw8PDw8PDw8PDw8PDw8PDw8PDw8QEBAQEBAQEBAQEBAQEBAQEBAQEBEREREREREREREREREREREREREREhISEhISEhISEhISEhISEhISEhITExMTExMTExMTExMTExMTExMTExQUFBQUFBQUFBQUFBQUFBQUFBQUFRUVFRUVFRUVFRUVFRUVFRUVFRUWFhYWFhYWFhYWFhYWFhYWFhYWFhcXFxcXFxcXFxcXFxcXFxcXFxcXGBgYGBgYGBgYGBgYGBgYGBgYGBgZGRkZGRkZGRkZGRkZGRkZGRkZGRoaGhoaGhoaGhoaGhoaGhoaGhoaGxsbGxsbGxsbGxsbGxsbGxsbGxscHBwcHBwcHBwcHBwcHBwcHBwcHB0dHR0dHR0dHR0dHR0dHR0dHR0dHh4eHh4eHh4eHh4eHh4eHh4eHh4fHx8fHx8fHx8fHx8fHx8fHx8fHyAgICAgICAgICAgICAgICAgICAgISEhISEhISEhISEhISEhISEhISEiIiIiIiIiIiIiIiIiIiIiIiIiIiMjIyMjIyMjIyMjIyMjIyMjIyMjJCQkJCQkJCQkJCQkJCQkJCQkJCQlJSUlJSUlJSUlJSUlJSUlJSUlJSYmJiYmJiYmJiYmJiYmJiYmJiYmJycnJycnJycnJycnJycnJycnJycoKCgoKCgoKCgoKCgoKCgoKCgoKCkpKSkpKSkpKSkpKSkpKSkpKSkpKioqKioqKioqKioqKioqKioqKiorKysrKysrKysrKysrKysrKysrKywsLCwsLCwsLCwsLCwsLCwsLCwsLS0tLS0tLS0tLS0tLS0tLS0tLS0uLi4uLi4uLi4uLi4uLi4uLi4uLi8vLy8vLy8vLy8vLy8vLy8vLy8vMDAwMDAwMDAwMDAwMDAwMDAwMDAxMTExMTExMTExMTExMTExMTExMTIyMjIyMjIyMjIyMjIyMjIyMjIyMzMzMzMzMzMzMzMzMzMzMzMzMzM0NDQ0NDQ0NDQ0NDQ0NDQ0NDQ0NDU1NTU1NTU1NTU1NTU1NTU1NTU1NjY2NjY2NjY2NjY2NjY2NjY2NjY3Nzc3Nzc3Nzc3Nzc3Nzc3Nzc3Nzg4ODg4ODg4ODg4ODg4ODg4ODg4OTk5OTk5OTk5OTk5OTk5OTk5OTk6Ojo6Ojo6Ojo6Ojo6Ojo6Ojo6Ojs7Ozs7Ozs7Ozs7Ozs7Ozs7Ozs7PDw8PDw8PDw8PDw8PDw8PDw8PDw=",
          "dtype": "i1",
          "shape": "61, 20"
         },
         "z": {
          "bdata": "AAAAAAAA8D8AAAAAAADwPwAAAAAAAPA/AAAAAAAA8D8AAAAAAADwPwAAAAAAAAAAAAAAAAAAAAAAAAAAAAAAAAAAAAAAAAAAAAAAAAAAAAAAAAAAAAAAAAAAAAAAAAAAAAAAAAAAAAAAAAAAAAAAAAAAAAAAAAAAAAAAAAAAAAAAAAAAAAAAAAAAAAAAAAAAAAAAAAAAAAAAAAAAAAAAAAAAAAAAAPA/AAAAAAAA8D8AAAAAAADwPwAAAAAAAPA/AAAAAAAA8D8AAAAAAAAAAAAAAAAAAAAAAAAAAAAAAAAAAAAAAAAAAAAAAAAAAAAAAAAAAAAAAAAAAAAAAAAAAAAAAAAAAAAAAAAAAAAAAAAAAAAAAAAAAAAAAAAAAAAAAAAAAAAAAAAAAAAAAAAAAAAAAAAAAAAAAAAAAAAAAAAAAAAAAADwPwAAAAAAAPA/AAAAAAAA8D8AAAAAAADwPwAAAAAAAPA/AAAAAAAAAAAAAAAAAAAAAAAAAAAAAAAAAAAAAAAAAAAAAAAAAAAAAAAAAAAAAAAAAAAAAAAAAAAAAAAAAAAAAAAAAAAAAAAAAAAAAAAAAAAAAAAAAAAAAAAAAAAAAAAAAAAAAAAAAAAAAAAAAAAAAAAAAAAAAAAAAAAAAAAA8D8AAAAAAADwPwAAAAAAAPA/AAAAAAAA8D8AAAAAAADwPwAAAAAAAAAAAAAAAAAAAAAAAAAAAAAAAAAAAAAAAAAAAAAAAAAAAAAAAAAAAAAAAAAAAAAAAAAAAAAAAAAAAAAAAAAAAAAAAAAAAAAAAAAAAAAAAAAAAAAAAAAAAAAAAAAAAAAAAAAAAAAAAAAAAAAAAAAAAAAAAAAAAAAAAPA/AAAAAAAA8D8AAAAAAADwPwAAAAAAAPA/AAAAAAAA8D8AAAAAAAAAAAAAAAAAAAAAAAAAAAAAAAAAAAAAAAAAAAAAAAAAAAAAAAAAAAAAAAAAAAAAAAAAAAAAAAAAAAAAAAAAAAAAAAAAAAAAAAAAAAAAAAAAAAAAAAAAAAAAAAAAAAAAAAAAAAAAAAAAAAAAAAAAAAAAAAAAAAAAAADwPwAAAAAAAPA/AAAAAAAA8D8AAAAAAADwPwAAAAAAAPA/AAAAAAAAAAAAAAAAAAAAAAAAAAAAAAAAAAAAAAAAAAAAAAAAAAAAAAAAAAAAAAAAAAAAAAAAAAAAAAAAAAAAAAAAAAAAAAAAAAAAAAAAAAAAAAAAAAAAAAAAAAAAAAAAAAAAAAAAAAAAAAAAAAAAAAAAAAAAAAAAAAAAAAAA8D8AAAAAAADwPwAAAAAAAPA/AAAAAAAA8D8AAAAAAADwPwAAAAAAAAAAAAAAAAAAAAAAAAAAAAAAAAAAAAAAAAAAAAAAAAAAAAAAAAAAAAAAAAAAAAAAAAAAAAAAAAAAAAAAAAAAAAAAAAAAAAAAAAAAAAAAAAAAAAAAAAAAAAAAAAAAAAAAAAAAAAAAAAAAAAAAAAAAAAAAAAAAAAAAAPA/AAAAAAAA8D8AAAAAAADwPwAAAAAAAPA/AAAAAAAA8D8AAAAAAAAAAAAAAAAAAAAAAAAAAAAAAAAAAAAAAAAAAAAAAAAAAAAAAAAAAAAAAAAAAAAAAAAAAAAAAAAAAAAAAAAAAAAAAAAAAAAAAAAAAAAAAAAAAAAAAAAAAAAAAAAAAAAAAAAAAAAAAAAAAAAAAAAAAAAAAAAAAAAAAADwPwAAAAAAAPA/AAAAAAAA8D8AAAAAAADwPwAAAAAAAPA/AAAAAAAAAAAAAAAAAAAAAAAAAAAAAAAAAAAAAAAAAAAAAAAAAAAAAAAAAAAAAAAAAAAAAAAAAAAAAAAAAAAAAAAAAAAAAAAAAAAAAAAAAAAAAAAAAAAAAAAAAAAAAAAAAAAAAAAAAAAAAAAAAAAAAAAAAAAAAAAAAAAAAAAA8D8AAAAAAADwPwAAAAAAAPA/AAAAAAAA8D8AAAAAAADwPwAAAAAAAAAAAAAAAAAAAAAAAAAAAAAAAAAAAAAAAAAAAAAAAAAAAAAAAAAAAAAAAAAAAAAAAAAAAAAAAAAAAAAAAAAAAAAAAAAAAAAAAAAAAAAAAAAAAAAAAAAAAAAAAAAAAAAAAAAAAAAAAAAAAAAAAAAAAAAAAAAAAAAAAPA/AAAAAAAA8D8AAAAAAADwPwAAAAAAAPA/AAAAAAAA8D8AAAAAAAAAAAAAAAAAAAAAAAAAAAAAAAAAAAAAAAAAAAAAAAAAAAAAAAAAAAAAAAAAAAAAAAAAAAAAAAAAAAAAAAAAAAAAAAAAAAAAAAAAAAAAAAAAAAAAAAAAAAAAAAAAAAAAAAAAAAAAAAAAAAAAAAAAAAAAAAAAAAAAAADwPwAAAAAAAPA/AAAAAAAA8D8AAAAAAADwPwAAAAAAAPA/AAAAAAAAAAAAAAAAAAAAAAAAAAAAAAAAAAAAAAAAAAAAAAAAAAAAAAAAAAAAAAAAAAAAAAAAAAAAAAAAAAAAAAAAAAAAAAAAAAAAAAAAAAAAAAAAAAAAAAAAAAAAAAAAAAAAAAAAAAAAAAAAAAAAAAAAAAAAAAAAAAAAAAAA8D8AAAAAAADwPwAAAAAAAPA/AAAAAAAA8D8AAAAAAADwPwAAAAAAAAAAAAAAAAAAAAAAAAAAAAAAAAAAAAAAAAAAAAAAAAAAAAAAAAAAAAAAAAAAAAAAAAAAAAAAAAAAAAAAAAAAAAAAAAAAAAAAAAAAAAAAAAAAAAAAAAAAAAAAAAAAAAAAAAAAAAAAAAAAAAAAAAAAAAAAAAAAAAAAAPA/AAAAAAAA8D8AAAAAAADwPwAAAAAAAPA/AAAAAAAA8D8AAAAAAAAAAAAAAAAAAAAAAAAAAAAAAAAAAAAAAAAAAAAAAAAAAAAAAAAAAAAAAAAAAAAAAAAAAAAAAAAAAAAAAAAAAAAAAAAAAAAAAAAAAAAAAAAAAAAAAAAAAAAAAAAAAAAAAAAAAAAAAAAAAAAAAAAAAAAAAAAAAAAAAADwPwAAAAAAAPA/AAAAAAAA8D8AAAAAAADwPwAAAAAAAPA/AAAAAAAAAAAAAAAAAAAAAAAAAAAAAAAAAAAAAAAAAAAAAAAAAAAAAAAAAAAAAAAAAAAAAAAAAAAAAAAAAAAAAAAAAAAAAAAAAAAAAAAAAAAAAAAAAAAAAAAAAAAAAAAAAAAAAAAAAAAAAAAAAAAAAAAAAAAAAAAAAAAAAAAA8D8AAAAAAADwPwAAAAAAAPA/AAAAAAAA8D8AAAAAAADwPwAAAAAAAAAAAAAAAAAAAAAAAAAAAAAAAAAAAAAAAAAAAAAAAAAAAAAAAAAAAAAAAAAAAAAAAAAAAAAAAAAAAAAAAAAAAAAAAAAAAAAAAAAAAAAAAAAAAAAAAAAAAAAAAAAAAAAAAAAAAAAAAAAAAAAAAAAAAAAAAAAAAAAAAPA/AAAAAAAA8D8AAAAAAADwPwAAAAAAAPA/AAAAAAAA8D8AAAAAAAAAAAAAAAAAAAAAAAAAAAAAAAAAAAAAAAAAAAAAAAAAAAAAAAAAAAAAAAAAAAAAAAAAAAAAAAAAAAAAAAAAAAAAAAAAAAAAAAAAAAAAAAAAAAAAAAAAAAAAAAAAAAAAAAAAAAAAAAAAAAAAAAAAAAAAAAAAAAAAAADwPwAAAAAAAPA/AAAAAAAA8D8AAAAAAADwPwAAAAAAAPA/AAAAAAAAAAAAAAAAAAAAAAAAAAAAAAAAAAAAAAAAAAAAAAAAAAAAAAAAAAAAAAAAAAAAAAAAAAAAAAAAAAAAAAAAAAAAAAAAAAAAAAAAAAAAAAAAAAAAAAAAAAAAAAAAAAAAAAAAAAAAAAAAAAAAAAAAAAAAAAAAAAAAAAAA8D8AAAAAAADwPwAAAAAAAPA/AAAAAAAA8D8AAAAAAADwPwAAAAAAAAAAAAAAAAAAAAAAAAAAAAAAAAAAAAAAAAAAAAAAAAAAAAAAAAAAAAAAAAAAAAAAAAAAAAAAAAAAAAAAAAAAAAAAAAAAAAAAAAAAAAAAAAAAAAAAAAAAAAAAAAAAAAAAAAAAAAAAAAAAAAAAAAAAAAAAAAAAAAAAAPA/AAAAAAAA8D8AAAAAAADwPwAAAAAAAPA/AAAAAAAA8D8AAAAAAAAAAAAAAAAAAAAAAAAAAAAAAAAAAAAAAAAAAAAAAAAAAAAAAAAAAAAAAAAAAAAAAAAAAAAAAAAAAAAAAAAAAAAAAAAAAAAAAAAAAAAAAAAAAAAAAAAAAAAAAAAAAAAAAAAAAAAAAAAAAAAAAAAAAAAAAAAAAAAAAADwPwAAAAAAAPA/AAAAAAAA8D8AAAAAAADwPwAAAAAAAPA/AAAAAAAAAAAAAAAAAAAAAAAAAAAAAAAAAAAAAAAAAAAAAAAAAAAAAAAAAAAAAAAAAAAAAAAAAAAAAAAAAAAAAAAAAAAAAAAAAAAAAAAAAAAAAAAAAAAAAAAAAAAAAAAAAAAAAAAAAAAAAAAAAAAAAAAAAAAAAAAAAAAAAAAA8D8AAAAAAADwPwAAAAAAAPA/AAAAAAAA8D8AAAAAAADwPwAAAAAAAAAAAAAAAAAAAAAAAAAAAAAAAAAAAAAAAAAAAAAAAAAAAAAAAAAAAAAAAAAAAAAAAAAAAAAAAAAAAAAAAAAAAAAAAAAAAAAAAAAAAAAAAAAAAAAAAAAAAAAAAAAAAAAAAAAAAAAAAAAAAAAAAAAAAAAAAAAAAAAAAPA/AAAAAAAA8D8AAAAAAADwPwAAAAAAAPA/AAAAAAAA8D8AAAAAAAAAAAAAAAAAAAAAAAAAAAAAAAAAAAAAAAAAAAAAAAAAAAAAAAAAAAAAAAAAAAAAAAAAAAAAAAAAAAAAAAAAAAAAAAAAAAAAAAAAAAAAAAAAAAAAAAAAAAAAAAAAAAAAAAAAAAAAAAAAAAAAAAAAAAAAAAAAAAAAAADwPwAAAAAAAPA/AAAAAAAA8D8AAAAAAADwPwAAAAAAAPA/AAAAAAAAAAAAAAAAAAAAAAAAAAAAAAAAAAAAAAAAAAAAAAAAAAAAAAAAAAAAAAAAAAAAAAAAAAAAAAAAAAAAAAAAAAAAAAAAAAAAAAAAAAAAAAAAAAAAAAAAAAAAAAAAAAAAAAAAAAAAAAAAAAAAAAAAAAAAAAAAAAAAAAAA8D8AAAAAAADwPwAAAAAAAPA/AAAAAAAA8D8AAAAAAADwPwAAAAAAAAAAAAAAAAAAAAAAAAAAAAAAAAAAAAAAAAAAAAAAAAAAAAAAAAAAAAAAAAAAAAAAAAAAAAAAAAAAAAAAAAAAAAAAAAAAAAAAAAAAAAAAAAAAAAAAAAAAAAAAAAAAAAAAAAAAAAAAAAAAAAAAAAAAAAAAAAAAAAAAAPA/AAAAAAAA8D8AAAAAAADwPwAAAAAAAPA/AAAAAAAA8D8AAAAAAAAAAAAAAAAAAAAAAAAAAAAAAAAAAAAAAAAAAAAAAAAAAAAAAAAAAAAAAAAAAAAAAAAAAAAAAAAAAAAAAAAAAAAAAAAAAAAAAAAAAAAAAAAAAAAAAAAAAAAAAAAAAAAAAAAAAAAAAAAAAAAAAAAAAAAAAAAAAAAAAADwPwAAAAAAAPA/AAAAAAAA8D8AAAAAAADwPwAAAAAAAPA/AAAAAAAAAAAAAAAAAAAAAAAAAAAAAAAAAAAAAAAAAAAAAAAAAAAAAAAAAAAAAAAAAAAAAAAAAAAAAAAAAAAAAAAAAAAAAAAAAAAAAAAAAAAAAAAAAAAAAAAAAAAAAAAAAAAAAAAAAAAAAAAAAAAAAAAAAAAAAAAAAAAAAAAA8D8AAAAAAADwPwAAAAAAAPA/AAAAAAAA8D8AAAAAAADwPwAAAAAAAAAAAAAAAAAAAAAAAAAAAAAAAAAAAAAAAAAAAAAAAAAAAAAAAAAAAAAAAAAAAAAAAAAAAAAAAAAAAAAAAAAAAAAAAAAAAAAAAAAAAAAAAAAAAAAAAAAAAAAAAAAAAAAAAAAAAAAAAAAAAAAAAAAAAAAAAAAAAAAAAPA/AAAAAAAA8D8AAAAAAADwPwAAAAAAAPA/AAAAAAAA8D8AAAAAAAAAAAAAAAAAAAAAAAAAAAAAAAAAAAAAAAAAAAAAAAAAAAAAAAAAAAAAAAAAAAAAAAAAAAAAAAAAAAAAAAAAAAAAAAAAAAAAAAAAAAAAAAAAAAAAAAAAAAAAAAAAAAAAAAAAAAAAAAAAAAAAAAAAAAAAAAAAAAAAAADwPwAAAAAAAPA/AAAAAAAA8D8AAAAAAADwPwAAAAAAAPA/AAAAAAAAAAAAAAAAAAAAAAAAAAAAAAAAAAAAAAAAAAAAAAAAAAAAAAAAAAAAAAAAAAAAAAAAAAAAAAAAAAAAAAAAAAAAAAAAAAAAAAAAAAAAAAAAAAAAAAAAAAAAAAAAAAAAAAAAAAAAAAAAAAAAAAAAAAAAAAAAAAAAAAAA8D8AAAAAAADwPwAAAAAAAPA/AAAAAAAA8D8AAAAAAADwPwAAAAAAAAAAAAAAAAAAAAAAAAAAAAAAAAAAAAAAAAAAAAAAAAAAAAAAAAAAAAAAAAAAAAAAAAAAAAAAAAAAAAAAAAAAAAAAAAAAAAAAAAAAAAAAAAAAAAAAAAAAAAAAAAAAAAAAAAAAAAAAAAAAAAAAAAAAAAAAAAAAAAAAAPA/AAAAAAAA8D8AAAAAAADwPwAAAAAAAPA/AAAAAAAA8D8AAAAAAAAAAAAAAAAAAAAAAAAAAAAAAAAAAAAAAAAAAAAAAAAAAAAAAAAAAAAAAAAAAAAAAAAAAAAAAAAAAAAAAAAAAAAAAAAAAAAAAAAAAAAAAAAAAAAAAAAAAAAAAAAAAAAAAAAAAAAAAAAAAAAAAAAAAAAAAAAAAAAAAADwPwAAAAAAAPA/AAAAAAAA8D8AAAAAAADwPwAAAAAAAPA/AAAAAAAAAAAAAAAAAAAAAAAAAAAAAAAAAAAAAAAAAAAAAAAAAAAAAAAAAAAAAAAAAAAAAAAAAAAAAAAAAAAAAAAAAAAAAAAAAAAAAAAAAAAAAAAAAAAAAAAAAAAAAAAAAAAAAAAAAAAAAAAAAAAAAAAAAAAAAAAAAAAAAAAA8D8AAAAAAADwPwAAAAAAAPA/AAAAAAAA8D8AAAAAAADwPwAAAAAAAAAAAAAAAAAAAAAAAAAAAAAAAAAAAAAAAAAAAAAAAAAAAAAAAAAAAAAAAAAAAAAAAAAAAAAAAAAAAAAAAAAAAAAAAAAAAAAAAAAAAAAAAAAAAAAAAAAAAAAAAAAAAAAAAAAAAAAAAAAAAAAAAAAAAAAAAAAAAAAAAPA/AAAAAAAA8D8AAAAAAADwPwAAAAAAAPA/AAAAAAAA8D8AAAAAAAAAAAAAAAAAAAAAAAAAAAAAAAAAAAAAAAAAAAAAAAAAAAAAAAAAAAAAAAAAAAAAAAAAAAAAAAAAAAAAAAAAAAAAAAAAAAAAAAAAAAAAAAAAAAAAAAAAAAAAAAAAAAAAAAAAAAAAAAAAAAAAAAAAAAAAAAAAAAAAAADwPwAAAAAAAPA/AAAAAAAA8D8AAAAAAADwPwAAAAAAAPA/AAAAAAAAAAAAAAAAAAAAAAAAAAAAAAAAAAAAAAAAAAAAAAAAAAAAAAAAAAAAAAAAAAAAAAAAAAAAAAAAAAAAAAAAAAAAAAAAAAAAAAAAAAAAAAAAAAAAAAAAAAAAAAAAAAAAAAAAAAAAAAAAAAAAAAAAAAAAAAAAAAAAAAAA8D8AAAAAAADwPwAAAAAAAPA/AAAAAAAA8D8AAAAAAADwPwAAAAAAAAAAAAAAAAAAAAAAAAAAAAAAAAAAAAAAAAAAAAAAAAAAAAAAAAAAAAAAAAAAAAAAAAAAAAAAAAAAAAAAAAAAAAAAAAAAAAAAAAAAAAAAAAAAAAAAAAAAAAAAAAAAAAAAAAAAAAAAAAAAAAAAAAAAAAAAAAAAAAAAAPA/AAAAAAAA8D8AAAAAAADwPwAAAAAAAPA/AAAAAAAA8D8AAAAAAAAAAAAAAAAAAAAAAAAAAAAAAAAAAAAAAAAAAAAAAAAAAAAAAAAAAAAAAAAAAAAAAAAAAAAAAAAAAAAAAAAAAAAAAAAAAAAAAAAAAAAAAAAAAAAAAAAAAAAAAAAAAAAAAAAAAAAAAAAAAAAAAAAAAAAAAAAAAAAAAADwPwAAAAAAAPA/AAAAAAAA8D8AAAAAAADwPwAAAAAAAPA/AAAAAAAAAAAAAAAAAAAAAAAAAAAAAAAAAAAAAAAAAAAAAAAAAAAAAAAAAAAAAAAAAAAAAAAAAAAAAAAAAAAAAAAAAAAAAAAAAAAAAAAAAAAAAAAAAAAAAAAAAAAAAAAAAAAAAAAAAAAAAAAAAAAAAAAAAAAAAAAAAAAAAAAA8D8AAAAAAADwPwAAAAAAAPA/AAAAAAAA8D8AAAAAAADwPwAAAAAAAAAAAAAAAAAAAAAAAAAAAAAAAAAAAAAAAAAAAAAAAAAAAAAAAAAAAAAAAAAAAAAAAAAAAAAAAAAAAAAAAAAAAAAAAAAAAAAAAAAAAAAAAAAAAAAAAAAAAAAAAAAAAAAAAAAAAAAAAAAAAAAAAAAAAAAAAAAAAAAAAPA/AAAAAAAA8D8AAAAAAADwPwAAAAAAAPA/AAAAAAAA8D8AAAAAAAAAAAAAAAAAAAAAAAAAAAAAAAAAAAAAAAAAAAAAAAAAAAAAAAAAAAAAAAAAAAAAAAAAAAAAAAAAAAAAAAAAAAAAAAAAAAAAAAAAAAAAAAAAAAAAAAAAAAAAAAAAAAAAAAAAAAAAAAAAAAAAAAAAAAAAAAAAAAAAAADwPwAAAAAAAPA/AAAAAAAA8D8AAAAAAADwPwAAAAAAAPA/AAAAAAAAAAAAAAAAAAAAAAAAAAAAAAAAAAAAAAAAAAAAAAAAAAAAAAAAAAAAAAAAAAAAAAAAAAAAAAAAAAAAAAAAAAAAAAAAAAAAAAAAAAAAAAAAAAAAAAAAAAAAAAAAAAAAAAAAAAAAAAAAAAAAAAAAAAAAAAAAAAAAAAAA8D8AAAAAAADwPwAAAAAAAPA/AAAAAAAA8D8AAAAAAADwPwAAAAAAAAAAAAAAAAAAAAAAAAAAAAAAAAAAAAAAAAAAAAAAAAAAAAAAAAAAAAAAAAAAAAAAAAAAAAAAAAAAAAAAAAAAAAAAAAAAAAAAAAAAAAAAAAAAAAAAAAAAAAAAAAAAAAAAAAAAAAAAAAAAAAAAAAAAAAAAAAAAAAAAAPA/AAAAAAAA8D8AAAAAAADwPwAAAAAAAPA/AAAAAAAA8D8AAAAAAAAAAAAAAAAAAAAAAAAAAAAAAAAAAAAAAAAAAAAAAAAAAAAAAAAAAAAAAAAAAAAAAAAAAAAAAAAAAAAAAAAAAAAAAAAAAAAAAAAAAAAAAAAAAAAAAAAAAAAAAAAAAAAAAAAAAAAAAAAAAAAAAAAAAAAAAAAAAAAAAADwPwAAAAAAAPA/AAAAAAAA8D8AAAAAAADwPwAAAAAAAPA/AAAAAAAAAAAAAAAAAAAAAAAAAAAAAAAAAAAAAAAAAAAAAAAAAAAAAAAAAAAAAAAAAAAAAAAAAAAAAAAAAAAAAAAAAAAAAAAAAAAAAAAAAAAAAAAAAAAAAAAAAAAAAAAAAAAAAAAAAAAAAAAAAAAAAAAAAAAAAAAAAAAAAAAA8D8AAAAAAADwPwAAAAAAAPA/AAAAAAAA8D8AAAAAAADwPwAAAAAAAAAAAAAAAAAAAAAAAAAAAAAAAAAAAAAAAAAAAAAAAAAAAAAAAAAAAAAAAAAAAAAAAAAAAAAAAAAAAAAAAAAAAAAAAAAAAAAAAAAAAAAAAAAAAAAAAAAAAAAAAAAAAAAAAAAAAAAAAAAAAAAAAAAAAAAAAAAAAAAAAPA/AAAAAAAA8D8AAAAAAADwPwAAAAAAAPA/AAAAAAAA8D8AAAAAAAAAAAAAAAAAAAAAAAAAAAAAAAAAAAAAAAAAAAAAAAAAAAAAAAAAAAAAAAAAAAAAAAAAAAAAAAAAAAAAAAAAAAAAAAAAAAAAAAAAAAAAAAAAAAAAAAAAAAAAAAAAAAAAAAAAAAAAAAAAAAAAAAAAAAAAAAAAAAAAAADwPwAAAAAAAPA/AAAAAAAA8D8AAAAAAADwPwAAAAAAAPA/AAAAAAAAAAAAAAAAAAAAAAAAAAAAAAAAAAAAAAAAAAAAAAAAAAAAAAAAAAAAAAAAAAAAAAAAAAAAAAAAAAAAAAAAAAAAAAAAAAAAAAAAAAAAAAAAAAAAAAAAAAAAAAAAAAAAAAAAAAAAAAAAAAAAAAAAAAAAAAAAAAAAAAAA8D8AAAAAAADwPwAAAAAAAPA/AAAAAAAA8D8AAAAAAADwPwAAAAAAAAAAAAAAAAAAAAAAAAAAAAAAAAAAAAAAAAAAAAAAAAAAAAAAAAAAAAAAAAAAAAAAAAAAAAAAAAAAAAAAAAAAAAAAAAAAAAAAAAAAAAAAAAAAAAAAAAAAAAAAAAAAAAAAAAAAAAAAAAAAAAAAAAAAAAAAAAAAAAAAAPA/AAAAAAAA8D8AAAAAAADwPwAAAAAAAPA/AAAAAAAA8D8AAAAAAAAAAAAAAAAAAAAAAAAAAAAAAAAAAAAAAAAAAAAAAAAAAAAAAAAAAAAAAAAAAAAAAAAAAAAAAAAAAAAAAAAAAAAAAAAAAAAAAAAAAAAAAAAAAAAAAAAAAAAAAAAAAAAAAAAAAAAAAAAAAAAAAAAAAAAAAAAAAAAAAADwPwAAAAAAAPA/AAAAAAAA8D8AAAAAAADwPwAAAAAAAPA/AAAAAAAAAAAAAAAAAAAAAAAAAAAAAAAAAAAAAAAAAAAAAAAAAAAAAAAAAAAAAAAAAAAAAAAAAAAAAAAAAAAAAAAAAAAAAAAAAAAAAAAAAAAAAAAAAAAAAAAAAAAAAAAAAAAAAAAAAAAAAAAAAAAAAAAAAAAAAAAAAAAAAAAA8D8AAAAAAADwPwAAAAAAAPA/AAAAAAAA8D8AAAAAAADwPwAAAAAAAAAAAAAAAAAAAAAAAAAAAAAAAAAAAAAAAAAAAAAAAAAAAAAAAAAAAAAAAAAAAAAAAAAAAAAAAAAAAAAAAAAAAAAAAAAAAAAAAAAAAAAAAAAAAAAAAAAAAAAAAAAAAAAAAAAAAAAAAAAAAAAAAAAAAAAAAAAAAAAAAPA/AAAAAAAA8D8AAAAAAADwPwAAAAAAAPA/AAAAAAAA8D8AAAAAAAAAAAAAAAAAAAAAAAAAAAAAAAAAAAAAAAAAAAAAAAAAAAAAAAAAAAAAAAAAAAAAAAAAAAAAAAAAAAAAAAAAAAAAAAAAAAAAAAAAAAAAAAAAAAAAAAAAAAAAAAAAAAAAAAAAAAAAAAAAAAAAAAAAAAAAAAAAAAAAAADwPwAAAAAAAPA/AAAAAAAA8D8AAAAAAADwPwAAAAAAAPA/AAAAAAAAAAAAAAAAAAAAAAAAAAAAAAAAAAAAAAAAAAAAAAAAAAAAAAAAAAAAAAAAAAAAAAAAAAAAAAAAAAAAAAAAAAAAAAAAAAAAAAAAAAAAAAAAAAAAAAAAAAAAAAAAAAAAAAAAAAAAAAAAAAAAAAAAAAAAAAAAAAAAAAAA8D8AAAAAAADwPwAAAAAAAPA/AAAAAAAA8D8AAAAAAADwPwAAAAAAAAAAAAAAAAAAAAAAAAAAAAAAAAAAAAAAAAAAAAAAAAAAAAAAAAAAAAAAAAAAAAAAAAAAAAAAAAAAAAAAAAAAAAAAAAAAAAAAAAAAAAAAAAAAAAAAAAAAAAAAAAAAAAAAAAAAAAAAAAAAAAAAAAAAAAAAAAAAAAAAAPA/AAAAAAAA8D8AAAAAAADwPwAAAAAAAPA/AAAAAAAA8D8AAAAAAADwPwAAAAAAAAAAAAAAAAAAAAAAAAAAAAAAAAAAAAAAAAAAAAAAAAAAAAAAAAAAAAAAAAAAAAAAAAAAAAAAAAAAAAAAAAAAAAAAAAAAAAAAAAAAAAAAAAAAAAAAAAAAAAAAAAAAAAAAAAAAAAAAAAAAAAAAAAAAAADwPwAAAAAAAPA/AAAAAAAA8D8AAAAAAADwPwAAAAAAAPA/AAAAAAAA8D8AAAAAAAAAAAAAAAAAAAAAAAAAAAAAAAAAAAAAAAAAAAAAAAAAAAAAAAAAAAAAAAAAAAAAAAAAAAAAAAAAAAAAAAAAAAAAAAAAAAAAAAAAAAAAAAAAAAAAAAAAAAAAAAAAAAAAAAAAAAAAAAAAAAAAAAAAAAAA8D8AAAAAAADwPwAAAAAAAPA/AAAAAAAA8D8AAAAAAADwPwAAAAAAAAAAAAAAAAAAAAAAAAAAAAAAAAAAAAAAAAAAAAAAAAAAAAAAAAAAAAAAAAAAAAAAAAAAAAAAAAAAAAAAAAAAAAAAAAAAAAAAAAAAAAAAAAAAAAAAAAAAAAAAAAAAAAAAAAAAAAAAAAAAAAAAAAAAAAAAAAAAAAAAAPA/AAAAAAAA8D8AAAAAAADwPwAAAAAAAPA/AAAAAAAAAAAAAAAAAAAAAAAAAAAAAAAAAAAAAAAAAAAAAAAAAAAAAAAAAAAAAAAAAAAAAAAAAAAAAAAAAAAAAAAAAAAAAAAAAAAAAAAAAAAAAAAAAAAAAAAAAAAAAAAAAAAAAAAAAAAAAAAAAAAAAAAAAAAAAAAAAAAAAAAAAAAAAAAAAADwPwAAAAAAAPA/AAAAAAAA8D8AAAAAAADwPwAAAAAAAAAAAAAAAAAAAAAAAAAAAAAAAAAAAAAAAAAAAAAAAAAAAAAAAAAAAAAAAAAAAAAAAAAAAAAAAAAAAAAAAAAAAAAAAAAAAAAAAAAAAAAAAAAAAAAAAAAAAAAAAAAAAAAAAAAAAAAAAAAAAAAAAAAAAAAAAAAAAAAAAAAAAAAAAAAAAAAAAAAAAAAAAAAAAAAAAAAAAAAAAAAAAAAAAAAAAAAAAAAAAAAAAAAAAAAAAAAAAAAAAAAAAAAAAAAAAAAAAAAAAAAAAAAAAAAAAAAAAAAAAAAAAAAAAAAAAAAAAAAAAAAAAAAAAAAAAAAAAAAAAAAAAAAAAAAAAAAAAAAAAAAAAAAAAAAAAAAAAAAAAAAAAAAAAAAAAAAAAA==",
          "dtype": "f8",
          "shape": "61, 20"
         }
        }
       ],
       "layout": {
        "scene": {
         "xaxis": {
          "title": {
           "text": "State"
          }
         },
         "yaxis": {
          "title": {
           "text": "Time Step"
          }
         },
         "zaxis": {
          "title": {
           "text": "Action"
          }
         }
        },
        "template": {
         "data": {
          "bar": [
           {
            "error_x": {
             "color": "#2a3f5f"
            },
            "error_y": {
             "color": "#2a3f5f"
            },
            "marker": {
             "line": {
              "color": "#E5ECF6",
              "width": 0.5
             },
             "pattern": {
              "fillmode": "overlay",
              "size": 10,
              "solidity": 0.2
             }
            },
            "type": "bar"
           }
          ],
          "barpolar": [
           {
            "marker": {
             "line": {
              "color": "#E5ECF6",
              "width": 0.5
             },
             "pattern": {
              "fillmode": "overlay",
              "size": 10,
              "solidity": 0.2
             }
            },
            "type": "barpolar"
           }
          ],
          "carpet": [
           {
            "aaxis": {
             "endlinecolor": "#2a3f5f",
             "gridcolor": "white",
             "linecolor": "white",
             "minorgridcolor": "white",
             "startlinecolor": "#2a3f5f"
            },
            "baxis": {
             "endlinecolor": "#2a3f5f",
             "gridcolor": "white",
             "linecolor": "white",
             "minorgridcolor": "white",
             "startlinecolor": "#2a3f5f"
            },
            "type": "carpet"
           }
          ],
          "choropleth": [
           {
            "colorbar": {
             "outlinewidth": 0,
             "ticks": ""
            },
            "type": "choropleth"
           }
          ],
          "contour": [
           {
            "colorbar": {
             "outlinewidth": 0,
             "ticks": ""
            },
            "colorscale": [
             [
              0,
              "#0d0887"
             ],
             [
              0.1111111111111111,
              "#46039f"
             ],
             [
              0.2222222222222222,
              "#7201a8"
             ],
             [
              0.3333333333333333,
              "#9c179e"
             ],
             [
              0.4444444444444444,
              "#bd3786"
             ],
             [
              0.5555555555555556,
              "#d8576b"
             ],
             [
              0.6666666666666666,
              "#ed7953"
             ],
             [
              0.7777777777777778,
              "#fb9f3a"
             ],
             [
              0.8888888888888888,
              "#fdca26"
             ],
             [
              1,
              "#f0f921"
             ]
            ],
            "type": "contour"
           }
          ],
          "contourcarpet": [
           {
            "colorbar": {
             "outlinewidth": 0,
             "ticks": ""
            },
            "type": "contourcarpet"
           }
          ],
          "heatmap": [
           {
            "colorbar": {
             "outlinewidth": 0,
             "ticks": ""
            },
            "colorscale": [
             [
              0,
              "#0d0887"
             ],
             [
              0.1111111111111111,
              "#46039f"
             ],
             [
              0.2222222222222222,
              "#7201a8"
             ],
             [
              0.3333333333333333,
              "#9c179e"
             ],
             [
              0.4444444444444444,
              "#bd3786"
             ],
             [
              0.5555555555555556,
              "#d8576b"
             ],
             [
              0.6666666666666666,
              "#ed7953"
             ],
             [
              0.7777777777777778,
              "#fb9f3a"
             ],
             [
              0.8888888888888888,
              "#fdca26"
             ],
             [
              1,
              "#f0f921"
             ]
            ],
            "type": "heatmap"
           }
          ],
          "histogram": [
           {
            "marker": {
             "pattern": {
              "fillmode": "overlay",
              "size": 10,
              "solidity": 0.2
             }
            },
            "type": "histogram"
           }
          ],
          "histogram2d": [
           {
            "colorbar": {
             "outlinewidth": 0,
             "ticks": ""
            },
            "colorscale": [
             [
              0,
              "#0d0887"
             ],
             [
              0.1111111111111111,
              "#46039f"
             ],
             [
              0.2222222222222222,
              "#7201a8"
             ],
             [
              0.3333333333333333,
              "#9c179e"
             ],
             [
              0.4444444444444444,
              "#bd3786"
             ],
             [
              0.5555555555555556,
              "#d8576b"
             ],
             [
              0.6666666666666666,
              "#ed7953"
             ],
             [
              0.7777777777777778,
              "#fb9f3a"
             ],
             [
              0.8888888888888888,
              "#fdca26"
             ],
             [
              1,
              "#f0f921"
             ]
            ],
            "type": "histogram2d"
           }
          ],
          "histogram2dcontour": [
           {
            "colorbar": {
             "outlinewidth": 0,
             "ticks": ""
            },
            "colorscale": [
             [
              0,
              "#0d0887"
             ],
             [
              0.1111111111111111,
              "#46039f"
             ],
             [
              0.2222222222222222,
              "#7201a8"
             ],
             [
              0.3333333333333333,
              "#9c179e"
             ],
             [
              0.4444444444444444,
              "#bd3786"
             ],
             [
              0.5555555555555556,
              "#d8576b"
             ],
             [
              0.6666666666666666,
              "#ed7953"
             ],
             [
              0.7777777777777778,
              "#fb9f3a"
             ],
             [
              0.8888888888888888,
              "#fdca26"
             ],
             [
              1,
              "#f0f921"
             ]
            ],
            "type": "histogram2dcontour"
           }
          ],
          "mesh3d": [
           {
            "colorbar": {
             "outlinewidth": 0,
             "ticks": ""
            },
            "type": "mesh3d"
           }
          ],
          "parcoords": [
           {
            "line": {
             "colorbar": {
              "outlinewidth": 0,
              "ticks": ""
             }
            },
            "type": "parcoords"
           }
          ],
          "pie": [
           {
            "automargin": true,
            "type": "pie"
           }
          ],
          "scatter": [
           {
            "fillpattern": {
             "fillmode": "overlay",
             "size": 10,
             "solidity": 0.2
            },
            "type": "scatter"
           }
          ],
          "scatter3d": [
           {
            "line": {
             "colorbar": {
              "outlinewidth": 0,
              "ticks": ""
             }
            },
            "marker": {
             "colorbar": {
              "outlinewidth": 0,
              "ticks": ""
             }
            },
            "type": "scatter3d"
           }
          ],
          "scattercarpet": [
           {
            "marker": {
             "colorbar": {
              "outlinewidth": 0,
              "ticks": ""
             }
            },
            "type": "scattercarpet"
           }
          ],
          "scattergeo": [
           {
            "marker": {
             "colorbar": {
              "outlinewidth": 0,
              "ticks": ""
             }
            },
            "type": "scattergeo"
           }
          ],
          "scattergl": [
           {
            "marker": {
             "colorbar": {
              "outlinewidth": 0,
              "ticks": ""
             }
            },
            "type": "scattergl"
           }
          ],
          "scattermap": [
           {
            "marker": {
             "colorbar": {
              "outlinewidth": 0,
              "ticks": ""
             }
            },
            "type": "scattermap"
           }
          ],
          "scattermapbox": [
           {
            "marker": {
             "colorbar": {
              "outlinewidth": 0,
              "ticks": ""
             }
            },
            "type": "scattermapbox"
           }
          ],
          "scatterpolar": [
           {
            "marker": {
             "colorbar": {
              "outlinewidth": 0,
              "ticks": ""
             }
            },
            "type": "scatterpolar"
           }
          ],
          "scatterpolargl": [
           {
            "marker": {
             "colorbar": {
              "outlinewidth": 0,
              "ticks": ""
             }
            },
            "type": "scatterpolargl"
           }
          ],
          "scatterternary": [
           {
            "marker": {
             "colorbar": {
              "outlinewidth": 0,
              "ticks": ""
             }
            },
            "type": "scatterternary"
           }
          ],
          "surface": [
           {
            "colorbar": {
             "outlinewidth": 0,
             "ticks": ""
            },
            "colorscale": [
             [
              0,
              "#0d0887"
             ],
             [
              0.1111111111111111,
              "#46039f"
             ],
             [
              0.2222222222222222,
              "#7201a8"
             ],
             [
              0.3333333333333333,
              "#9c179e"
             ],
             [
              0.4444444444444444,
              "#bd3786"
             ],
             [
              0.5555555555555556,
              "#d8576b"
             ],
             [
              0.6666666666666666,
              "#ed7953"
             ],
             [
              0.7777777777777778,
              "#fb9f3a"
             ],
             [
              0.8888888888888888,
              "#fdca26"
             ],
             [
              1,
              "#f0f921"
             ]
            ],
            "type": "surface"
           }
          ],
          "table": [
           {
            "cells": {
             "fill": {
              "color": "#EBF0F8"
             },
             "line": {
              "color": "white"
             }
            },
            "header": {
             "fill": {
              "color": "#C8D4E3"
             },
             "line": {
              "color": "white"
             }
            },
            "type": "table"
           }
          ]
         },
         "layout": {
          "annotationdefaults": {
           "arrowcolor": "#2a3f5f",
           "arrowhead": 0,
           "arrowwidth": 1
          },
          "autotypenumbers": "strict",
          "coloraxis": {
           "colorbar": {
            "outlinewidth": 0,
            "ticks": ""
           }
          },
          "colorscale": {
           "diverging": [
            [
             0,
             "#8e0152"
            ],
            [
             0.1,
             "#c51b7d"
            ],
            [
             0.2,
             "#de77ae"
            ],
            [
             0.3,
             "#f1b6da"
            ],
            [
             0.4,
             "#fde0ef"
            ],
            [
             0.5,
             "#f7f7f7"
            ],
            [
             0.6,
             "#e6f5d0"
            ],
            [
             0.7,
             "#b8e186"
            ],
            [
             0.8,
             "#7fbc41"
            ],
            [
             0.9,
             "#4d9221"
            ],
            [
             1,
             "#276419"
            ]
           ],
           "sequential": [
            [
             0,
             "#0d0887"
            ],
            [
             0.1111111111111111,
             "#46039f"
            ],
            [
             0.2222222222222222,
             "#7201a8"
            ],
            [
             0.3333333333333333,
             "#9c179e"
            ],
            [
             0.4444444444444444,
             "#bd3786"
            ],
            [
             0.5555555555555556,
             "#d8576b"
            ],
            [
             0.6666666666666666,
             "#ed7953"
            ],
            [
             0.7777777777777778,
             "#fb9f3a"
            ],
            [
             0.8888888888888888,
             "#fdca26"
            ],
            [
             1,
             "#f0f921"
            ]
           ],
           "sequentialminus": [
            [
             0,
             "#0d0887"
            ],
            [
             0.1111111111111111,
             "#46039f"
            ],
            [
             0.2222222222222222,
             "#7201a8"
            ],
            [
             0.3333333333333333,
             "#9c179e"
            ],
            [
             0.4444444444444444,
             "#bd3786"
            ],
            [
             0.5555555555555556,
             "#d8576b"
            ],
            [
             0.6666666666666666,
             "#ed7953"
            ],
            [
             0.7777777777777778,
             "#fb9f3a"
            ],
            [
             0.8888888888888888,
             "#fdca26"
            ],
            [
             1,
             "#f0f921"
            ]
           ]
          },
          "colorway": [
           "#636efa",
           "#EF553B",
           "#00cc96",
           "#ab63fa",
           "#FFA15A",
           "#19d3f3",
           "#FF6692",
           "#B6E880",
           "#FF97FF",
           "#FECB52"
          ],
          "font": {
           "color": "#2a3f5f"
          },
          "geo": {
           "bgcolor": "white",
           "lakecolor": "white",
           "landcolor": "#E5ECF6",
           "showlakes": true,
           "showland": true,
           "subunitcolor": "white"
          },
          "hoverlabel": {
           "align": "left"
          },
          "hovermode": "closest",
          "mapbox": {
           "style": "light"
          },
          "paper_bgcolor": "white",
          "plot_bgcolor": "#E5ECF6",
          "polar": {
           "angularaxis": {
            "gridcolor": "white",
            "linecolor": "white",
            "ticks": ""
           },
           "bgcolor": "#E5ECF6",
           "radialaxis": {
            "gridcolor": "white",
            "linecolor": "white",
            "ticks": ""
           }
          },
          "scene": {
           "xaxis": {
            "backgroundcolor": "#E5ECF6",
            "gridcolor": "white",
            "gridwidth": 2,
            "linecolor": "white",
            "showbackground": true,
            "ticks": "",
            "zerolinecolor": "white"
           },
           "yaxis": {
            "backgroundcolor": "#E5ECF6",
            "gridcolor": "white",
            "gridwidth": 2,
            "linecolor": "white",
            "showbackground": true,
            "ticks": "",
            "zerolinecolor": "white"
           },
           "zaxis": {
            "backgroundcolor": "#E5ECF6",
            "gridcolor": "white",
            "gridwidth": 2,
            "linecolor": "white",
            "showbackground": true,
            "ticks": "",
            "zerolinecolor": "white"
           }
          },
          "shapedefaults": {
           "line": {
            "color": "#2a3f5f"
           }
          },
          "ternary": {
           "aaxis": {
            "gridcolor": "white",
            "linecolor": "white",
            "ticks": ""
           },
           "baxis": {
            "gridcolor": "white",
            "linecolor": "white",
            "ticks": ""
           },
           "bgcolor": "#E5ECF6",
           "caxis": {
            "gridcolor": "white",
            "linecolor": "white",
            "ticks": ""
           }
          },
          "title": {
           "x": 0.05
          },
          "xaxis": {
           "automargin": true,
           "gridcolor": "white",
           "linecolor": "white",
           "ticks": "",
           "title": {
            "standoff": 15
           },
           "zerolinecolor": "white",
           "zerolinewidth": 2
          },
          "yaxis": {
           "automargin": true,
           "gridcolor": "white",
           "linecolor": "white",
           "ticks": "",
           "title": {
            "standoff": 15
           },
           "zerolinecolor": "white",
           "zerolinewidth": 2
          }
         }
        },
        "title": {
         "text": "Policy Surface Plot"
        }
       }
      }
     },
     "metadata": {},
     "output_type": "display_data"
    }
   ],
   "source": [
    "# policy over time as  a mesh plot\n",
    "Z_policy = policy\n",
    "\n",
    "fig_policy = go.Figure(data=[go.Surface(z=Z_policy, x=X, y=Y)])\n",
    "fig_policy.update_layout(title='Policy Surface Plot', scene=dict(\n",
    "    xaxis_title='State',\n",
    "    yaxis_title='Time Step',\n",
    "    zaxis_title='Action'))\n",
    "fig_policy.show()"
   ]
  },
  {
   "cell_type": "markdown",
   "id": "3fccfbca",
   "metadata": {},
   "source": [
    "## Observations:\n",
    "- Interesting policies when discount factor is small(<0.6) with fluctuating thresholds at the last few steps\n",
    "- For the highly discounted case(discount factor > 0.6) the policy is intuitive, higher states always replace, lower ones refrain with a few of the lower states replacing at the last time step to get a better payout"
   ]
  }
 ],
 "metadata": {
  "kernelspec": {
   "display_name": "rl",
   "language": "python",
   "name": "python3"
  },
  "language_info": {
   "codemirror_mode": {
    "name": "ipython",
    "version": 3
   },
   "file_extension": ".py",
   "mimetype": "text/x-python",
   "name": "python",
   "nbconvert_exporter": "python",
   "pygments_lexer": "ipython3",
   "version": "3.13.4"
  }
 },
 "nbformat": 4,
 "nbformat_minor": 5
}
