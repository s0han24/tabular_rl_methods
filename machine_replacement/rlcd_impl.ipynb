{
 "cells": [
  {
   "cell_type": "code",
   "execution_count": null,
   "id": "428fa2d4",
   "metadata": {},
   "outputs": [],
   "source": [
    "import numpy as np\n",
    "from queue import PriorityQueue"
   ]
  },
  {
   "cell_type": "code",
   "execution_count": null,
   "id": "c86831e4",
   "metadata": {},
   "outputs": [],
   "source": [
    "class PartialModel:\n",
    "    # Assumed that number of actions is same for all states which is true for the machine replacement problem\n",
    "    def __init__(self, num_states, num_actions, M, quality_interpolation_factor, quality_adjustment_coeff):\n",
    "        self.num_states = num_states\n",
    "        self.num_actions = num_actions\n",
    "        self.T = np.ones((num_actions, num_states, num_states)) / num_states\n",
    "        self.R = np.zeros((num_actions, num_states))\n",
    "        self.N = np.zeros((num_actions, num_states))\n",
    "        self.M = M\n",
    "        self.quality = 0 # Initial quality\n",
    "        self.quality_interpolation_factor = quality_interpolation_factor\n",
    "        self.quality_adjustment_coeff = quality_adjustment_coeff\n",
    "        self.R_max = 0\n",
    "        self.R_min = 0\n",
    "\n",
    "    def update_quality(self, state, action, reward, next_state):\n",
    "        c = self.N[action, state] / self.M\n",
    "        delta_R = (reward - self.R[action, state]) / (self.N[action, state] + 1)\n",
    "        self.R_max = max(self.R_max, self.R[action, state])\n",
    "        self.R_min = min(self.R_min, self.R[action, state])\n",
    "        e_R = 1 - 2*delta_R*delta_R/(self.R_max - self.R_min + 1e-5)\n",
    "        e_T = 1\n",
    "        for k in range(self.num_states):\n",
    "            delta_T = (1 - self.T[action, state, k]) / (self.N[action, state] + 1) if k == next_state else -self.T[action, state, k] / (self.N[action, state] + 1)\n",
    "            e_T -= delta_T*delta_T*self.N[action, state]*self.N[action, state]\n",
    "        e = c*(self.quality_interpolation_factor*e_R + (1-self.quality_interpolation_factor)*e_T)\n",
    "        self.quality = (1 - self.quality_adjustment_coeff) * self.quality + self.quality_adjustment_coeff * e\n",
    "\n",
    "\n",
    "    def update_model(self, state, action, reward, next_state):\n",
    "        delta_R = (reward - self.R[action, state]) / (self.N[action, state] + 1)\n",
    "        self.R[action, state] += delta_R\n",
    "\n",
    "        for k in range(self.num_states):\n",
    "            delta_T = (1 - self.T[action, state, k]) / (self.N[action, state] + 1) if k == next_state else -self.T[action, state, k] / (self.N[action, state] + 1)\n",
    "            self.T[action, state, k] += delta_T\n",
    "        self.N[action, state] = min(self.N[action, state] + 1, self.M)\n",
    "\n",
    "    def get_quality(self):\n",
    "        return self.quality\n",
    "\n",
    "    def get_reward(self, state, action):\n",
    "        return self.R[action, state]\n",
    "\n",
    "    def get_next_state(self, state, action):\n",
    "        return np.random.choice(self.num_states, p=self.T[action, state])"
   ]
  },
  {
   "cell_type": "code",
   "execution_count": null,
   "id": "381176bf",
   "metadata": {},
   "outputs": [],
   "source": [
    "def prioritized_sweep(queue: PriorityQueue, model: PartialModel, Q: np.ndarray, theta: float = 0.01):\n",
    "    while not queue.empty() and queue.queue[0][0] > theta:\n",
    "        state, action = queue.get()\n",
    "        # Perform the prioritized sweeping update\n",
    "        reward = model.get_reward(state, action)\n",
    "        Q[action, state] = reward + discount_factor * np.sum(model.T[action, state, :] * np.min(Q, axis=0))"
   ]
  }
 ],
 "metadata": {
  "language_info": {
   "name": "python"
  }
 },
 "nbformat": 4,
 "nbformat_minor": 5
}
