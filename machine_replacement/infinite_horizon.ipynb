{
  "cells": [
    {
      "cell_type": "markdown",
      "metadata": {
        "id": "dZx3kRhHH2TL"
      },
      "source": [
        "# DP solution to the Machine Replacement Problem\n",
        "## Problem statement:\n",
        "- A machine can be in any of the states 1,2, ... , N considering a finite set of states for convenience\n",
        "- At the beginning of each day, the state of the machine is noted and a decision upon whether or not to replace the machine is made\n",
        "- If the decision to replace is made, then we assume that the machine is instantaneously replaced by a new machine whose state is O\n",
        "- The cost of replacing the machine will be denoted by R\n",
        "- a maintenance cost C(i) is incurred each day that the machine is in state i.\n",
        "- we let $P_{ij}$ represent the probability that a machine in state i at the beginning of one day will be in state j at the beginning of the next day.\n",
        "\n",
        "## Precise definition:\n",
        "- the above is a two-action Markov decision model in which action 1 is the replacement action and action 2 the nonreplacement action.\n",
        "\n",
        "#### Transition Probabilities\n",
        "$$P_{ij}(0) = P_{0j}$$\n",
        "$$P_{ij}(1) = P_{ij}$$\n",
        "for all $i\\ge 0$\n",
        "\n",
        "#### One stage costs(rewards)\n",
        "$$C(i,0) = R+C(0)$$\n",
        "$$C(i,1) = C(i)$$\n",
        "for all $i\\ge 0$\n",
        "\n",
        "## Assumptions:\n",
        "i. $\\{C(i) , i\\ge 0\\}$ is a bounded increasing sequence.  \n",
        "ii. $\\sum_{j=k}^{\\infty}P_{ij}$ is an increasing function of i, for each $k\\ge 0$\n"
      ]
    },
    {
      "cell_type": "markdown",
      "metadata": {
        "id": "bndEuL4PXUBT"
      },
      "source": [
        "## Cost function:\n",
        "- A simple cost function with $C(i) = i^2 + i$ is used"
      ]
    },
    {
      "cell_type": "code",
      "execution_count": 21,
      "metadata": {
        "id": "N7LB8YD3ZQum"
      },
      "outputs": [],
      "source": [
        "import numpy as np\n",
        "import matplotlib.pyplot as plt"
      ]
    },
    {
      "cell_type": "code",
      "execution_count": 22,
      "metadata": {
        "id": "ugvQ1sVFXTaP"
      },
      "outputs": [],
      "source": [
        "def maintenance_cost(state):\n",
        "    return state**2 + state\n",
        "\n",
        "def cost_function(state, action, replacement_cost):\n",
        "    if action == 0:\n",
        "        return replacement_cost + maintenance_cost(0)\n",
        "    else:\n",
        "        return maintenance_cost(state)"
      ]
    },
    {
      "cell_type": "code",
      "execution_count": 23,
      "metadata": {
        "id": "p9W27URHHxOd"
      },
      "outputs": [],
      "source": [
        "# set total number of states and define a transition probability matrix of that size\n",
        "N = 10\n",
        "replacement_cost = 50\n",
        "transition_probability = np.zeros((2,N,N))"
      ]
    },
    {
      "cell_type": "code",
      "execution_count": 24,
      "metadata": {
        "colab": {
          "base_uri": "https://localhost:8080/"
        },
        "id": "stttyFFwkFMq",
        "outputId": "6ba53dd0-9ddf-412f-d40c-d1d23a7315ca"
      },
      "outputs": [
        {
          "data": {
            "text/plain": [
              "array([[50, 50, 50, 50, 50, 50, 50, 50, 50, 50],\n",
              "       [ 0,  2,  6, 12, 20, 30, 42, 56, 72, 90]])"
            ]
          },
          "execution_count": 24,
          "metadata": {},
          "output_type": "execute_result"
        }
      ],
      "source": [
        "C = [[cost_function(i, j, replacement_cost) for i in range(N)] for j in range(2)]\n",
        "C = np.array(C)\n",
        "C"
      ]
    },
    {
      "cell_type": "code",
      "execution_count": 25,
      "metadata": {
        "id": "wKDt2TCnZHbf"
      },
      "outputs": [],
      "source": [
        "def fill_transition_probability_matrix(transition_probability, p=0.5):\n",
        "    for j in range(transition_probability.shape[1]-1):\n",
        "        transition_probability[1][j][j] = p\n",
        "        transition_probability[1][j][j+1] = 1-p\n",
        "    for i in range(transition_probability.shape[1]):\n",
        "        for j in range(transition_probability.shape[2]):\n",
        "            transition_probability[0][i][j] = transition_probability[1][0][j]\n",
        "    transition_probability[1, transition_probability.shape[1]-1, transition_probability.shape[1]-1] = 1\n",
        "\n"
      ]
    },
    {
      "cell_type": "code",
      "execution_count": 26,
      "metadata": {
        "id": "b53yFW_-Yt4T"
      },
      "outputs": [],
      "source": [
        "def policy_visualization(policy):\n",
        "    plt.bar(range(N), policy)\n",
        "    plt.xlabel(\"State\")\n",
        "    plt.ylabel(\"Action\")\n",
        "    plt.show()"
      ]
    },
    {
      "cell_type": "code",
      "execution_count": 27,
      "metadata": {
        "colab": {
          "base_uri": "https://localhost:8080/"
        },
        "id": "e2n8l-CTaqdQ",
        "outputId": "745d6712-e281-47c3-dde1-a553c7fb4756"
      },
      "outputs": [
        {
          "data": {
            "text/plain": [
              "array([[[0.2, 0.8, 0. , 0. , 0. , 0. , 0. , 0. , 0. , 0. ],\n",
              "        [0.2, 0.8, 0. , 0. , 0. , 0. , 0. , 0. , 0. , 0. ],\n",
              "        [0.2, 0.8, 0. , 0. , 0. , 0. , 0. , 0. , 0. , 0. ],\n",
              "        [0.2, 0.8, 0. , 0. , 0. , 0. , 0. , 0. , 0. , 0. ],\n",
              "        [0.2, 0.8, 0. , 0. , 0. , 0. , 0. , 0. , 0. , 0. ],\n",
              "        [0.2, 0.8, 0. , 0. , 0. , 0. , 0. , 0. , 0. , 0. ],\n",
              "        [0.2, 0.8, 0. , 0. , 0. , 0. , 0. , 0. , 0. , 0. ],\n",
              "        [0.2, 0.8, 0. , 0. , 0. , 0. , 0. , 0. , 0. , 0. ],\n",
              "        [0.2, 0.8, 0. , 0. , 0. , 0. , 0. , 0. , 0. , 0. ],\n",
              "        [0.2, 0.8, 0. , 0. , 0. , 0. , 0. , 0. , 0. , 0. ]],\n",
              "\n",
              "       [[0.2, 0.8, 0. , 0. , 0. , 0. , 0. , 0. , 0. , 0. ],\n",
              "        [0. , 0.2, 0.8, 0. , 0. , 0. , 0. , 0. , 0. , 0. ],\n",
              "        [0. , 0. , 0.2, 0.8, 0. , 0. , 0. , 0. , 0. , 0. ],\n",
              "        [0. , 0. , 0. , 0.2, 0.8, 0. , 0. , 0. , 0. , 0. ],\n",
              "        [0. , 0. , 0. , 0. , 0.2, 0.8, 0. , 0. , 0. , 0. ],\n",
              "        [0. , 0. , 0. , 0. , 0. , 0.2, 0.8, 0. , 0. , 0. ],\n",
              "        [0. , 0. , 0. , 0. , 0. , 0. , 0.2, 0.8, 0. , 0. ],\n",
              "        [0. , 0. , 0. , 0. , 0. , 0. , 0. , 0.2, 0.8, 0. ],\n",
              "        [0. , 0. , 0. , 0. , 0. , 0. , 0. , 0. , 0.2, 0.8],\n",
              "        [0. , 0. , 0. , 0. , 0. , 0. , 0. , 0. , 0. , 1. ]]])"
            ]
          },
          "execution_count": 27,
          "metadata": {},
          "output_type": "execute_result"
        }
      ],
      "source": [
        "fill_transition_probability_matrix(transition_probability=transition_probability, p=0.2)\n",
        "transition_probability"
      ]
    },
    {
      "cell_type": "code",
      "execution_count": 28,
      "metadata": {
        "id": "I-4VhPUVltBK"
      },
      "outputs": [],
      "source": [
        "def T(R, P, V, alpha=0.5):\n",
        "    return R + alpha* (P @ V)\n"
      ]
    },
    {
      "cell_type": "code",
      "execution_count": 29,
      "metadata": {
        "id": "lww2-eJ7n5Mg"
      },
      "outputs": [],
      "source": [
        "def evaluate_policy(f, C, P, V, delta=0.01, max_iter=10):\n",
        "    R = np.array([C[int(f[i])][i] for i in range(N)])\n",
        "    P = np.array([transition_probability[int(f[i]), i, :] for i in range(N) ])\n",
        "    for i in range(max_iter):\n",
        "        V_new = T(R, P, V)\n",
        "        if(np.linalg.norm(V_new-V, np.inf) < delta):\n",
        "            return V_new\n",
        "        V = V_new\n",
        "    return V"
      ]
    },
    {
      "cell_type": "code",
      "execution_count": 30,
      "metadata": {
        "id": "Hhcq_39_rM-5"
      },
      "outputs": [],
      "source": [
        "def improve_policy_greedy(C, P, V):\n",
        "    q = [T(C[i], P[i], V) for i in range(2)]\n",
        "    return np.argmin(q,axis=0)"
      ]
    },
    {
      "cell_type": "code",
      "execution_count": 38,
      "metadata": {
        "id": "AWa2hXORiQ3Y"
      },
      "outputs": [],
      "source": [
        "def modified_policy_iteration(C, P, max_evaluation_iter=100, initial_policy=np.random.random(N), max_iter=100, epsilon=0.01):\n",
        "    V = np.zeros(N)\n",
        "    V_history = []\n",
        "    V_history.append(V.copy())\n",
        "    policy = initial_policy\n",
        "    for i in range(max_iter):\n",
        "        V_new = evaluate_policy(policy, C, P, V, max_iter=max_evaluation_iter)\n",
        "        policy = improve_policy_greedy(C, P, V_new)\n",
        "        print(policy)\n",
        "        V_history.append(V_new.copy())\n",
        "        if np.linalg.norm(V_new-V, np.inf) < epsilon:\n",
        "            return policy, V\n",
        "        V = V_new\n",
        "    return policy, V, V_history\n"
      ]
    },
    {
      "cell_type": "code",
      "execution_count": 32,
      "metadata": {
        "colab": {
          "base_uri": "https://localhost:8080/",
          "height": 982
        },
        "id": "eAvjDSkZxYxc",
        "outputId": "ba0d1940-77ef-4b4b-8e38-961a4f3b6f6b"
      },
      "outputs": [
        {
          "name": "stdout",
          "output_type": "stream",
          "text": [
            "[1 1 1 1 1 1 1 0 0 0]\n",
            "[1 1 1 1 1 0 0 0 0 0]\n",
            "[1 1 1 1 1 0 0 0 0 0]\n",
            "[1 1 1 1 1 0 0 0 0 0]\n"
          ]
        },
        {
          "data": {
            "image/png": "[encoded data removed]",
            "text/plain": [
              "<Figure size 640x480 with 1 Axes>"
            ]
          },
          "metadata": {},
          "output_type": "display_data"
        },
        {
          "name": "stdout",
          "output_type": "stream",
          "text": [
            "[ 5.30424363 11.93172553 21.84068272 34.13588236 46.8024375  55.30424363\n",
            " 55.30424363 55.30424363 55.30424363 55.30424363]\n"
          ]
        }
      ],
      "source": [
        "policy, V = modified_policy_iteration(C, transition_probability, max_iter=10)\n",
        "policy_visualization(policy)\n",
        "print(V)"
      ]
    },
    {
      "cell_type": "code",
      "execution_count": 33,
      "metadata": {
        "colab": {
          "base_uri": "https://localhost:8080/",
          "height": 1000
        },
        "id": "lDyN3dDex29e",
        "outputId": "8878da9f-1ab9-471c-bf55-22f48ee44a79"
      },
      "outputs": [
        {
          "name": "stdout",
          "output_type": "stream",
          "text": [
            "[1 1 1 1 1 1 1 0 0 0]\n",
            "[1 1 1 1 1 1 0 0 0 0]\n",
            "[1 1 1 1 1 0 0 0 0 0]\n",
            "[1 1 1 1 1 0 0 0 0 0]\n",
            "[1 1 1 1 1 0 0 0 0 0]\n",
            "[1 1 1 1 1 0 0 0 0 0]\n",
            "[1 1 1 1 1 0 0 0 0 0]\n",
            "[1 1 1 1 1 0 0 0 0 0]\n",
            "[1 1 1 1 1 0 0 0 0 0]\n",
            "[1 1 1 1 1 0 0 0 0 0]\n",
            "[1 1 1 1 1 0 0 0 0 0]\n",
            "[1 1 1 1 1 0 0 0 0 0]\n"
          ]
        },
        {
          "data": {
            "image/png": "[encoded data removed]",
            "text/plain": [
              "<Figure size 640x480 with 1 Axes>"
            ]
          },
          "metadata": {},
          "output_type": "display_data"
        },
        {
          "name": "stdout",
          "output_type": "stream",
          "text": [
            "[ 5.31368513 11.93351587 21.84321638 34.14628663 46.81681162 55.31368512\n",
            " 55.31368512 55.31368512 55.31368512 55.31368512]\n"
          ]
        }
      ],
      "source": [
        "policy, V = modified_policy_iteration(C, transition_probability, max_evaluation_iter=1, max_iter=100)\n",
        "policy_visualization(policy)\n",
        "print(V)"
      ]
    },
    {
      "cell_type": "code",
      "execution_count": 34,
      "metadata": {
        "colab": {
          "base_uri": "https://localhost:8080/"
        },
        "id": "3LkPbpVv8BAa",
        "outputId": "21343913-547d-4a21-a6ab-66739cda614a"
      },
      "outputs": [
        {
          "name": "stdout",
          "output_type": "stream",
          "text": [
            "[ 5.29624909 11.9232463  21.83277795 34.12864641 46.79525213 55.29624909\n",
            " 55.29624909 55.29624909 55.29624909 55.29624909]\n"
          ]
        }
      ],
      "source": [
        "# Solution for the problem given in Sheldon Ross\n",
        "\n",
        "V_a = np.zeros(N)\n",
        "while True:\n",
        "    V_new = np.zeros(N)\n",
        "    for i in range(N):\n",
        "        V_new[i] = min(maintenance_cost(i) + 0.5*(transition_probability[1][i] @ V_a), replacement_cost + maintenance_cost(0) + 0.5*(transition_probability[0][i] @ V_a))\n",
        "\n",
        "    if np.linalg.norm(V_new-V_a, ord=np.inf) < 0.01:\n",
        "        print(V_new)\n",
        "        break\n",
        "\n",
        "    V_a = V_new\n"
      ]
    },
    {
      "cell_type": "markdown",
      "metadata": {},
      "source": [
        "### Known optimal policy for N=10"
      ]
    },
    {
      "cell_type": "code",
      "execution_count": 35,
      "metadata": {
        "colab": {
          "base_uri": "https://localhost:8080/",
          "height": 449
        },
        "id": "V6HUIvizapU0",
        "outputId": "50e49842-f8c7-4edf-ba4e-3776b548dd43"
      },
      "outputs": [
        {
          "data": {
            "image/png": "[encoded data removed]",
            "text/plain": [
              "<Figure size 640x480 with 1 Axes>"
            ]
          },
          "metadata": {},
          "output_type": "display_data"
        }
      ],
      "source": [
        "optimal_policy = np.array([1, 1, 1, 1, 1, 0, 0, 0, 0, 0])\n",
        "policy_visualization(optimal_policy)"
      ]
    },
    {
      "cell_type": "code",
      "execution_count": 40,
      "metadata": {
        "colab": {
          "base_uri": "https://localhost:8080/",
          "height": 1000
        },
        "id": "pnIV34fxZes0",
        "outputId": "063e1d46-4eff-4d7c-a66d-edc4cf0d6c99"
      },
      "outputs": [
        {
          "name": "stdout",
          "output_type": "stream",
          "text": [
            "[1 1 1 1 1 1 1 0 0 0]\n",
            "[1 1 1 1 1 1 1 0 0 0]\n",
            "[1 1 1 1 1 1 0 0 0 0]\n",
            "[1 1 1 1 1 1 1 0 0 0]\n",
            "[1 1 1 1 1 1 0 0 0 0]\n",
            "[1 1 1 1 1 0 0 0 0 0]\n",
            "[1 1 1 1 1 1 1 0 0 0]\n",
            "[1 1 1 1 1 1 1 0 0 0]\n",
            "[1 1 1 1 1 0 0 0 0 0]\n",
            "[1 1 1 1 1 1 1 0 0 0]\n",
            "[1 1 1 1 1 1 1 0 0 0]\n",
            "[1 1 1 1 1 0 0 0 0 0]\n",
            "[1 1 1 1 1 1 1 0 0 0]\n",
            "[1 1 1 1 1 1 1 0 0 0]\n",
            "[1 1 1 1 1 0 0 0 0 0]\n",
            "[1 1 1 1 1 1 1 0 0 0]\n",
            "[1 1 1 1 1 1 1 0 0 0]\n",
            "[1 1 1 1 1 0 0 0 0 0]\n",
            "[1 1 1 1 1 1 1 0 0 0]\n",
            "[1 1 1 1 1 1 1 0 0 0]\n",
            "[1 1 1 1 1 0 0 0 0 0]\n",
            "[1 1 1 1 1 1 1 0 0 0]\n",
            "[1 1 1 1 1 1 1 0 0 0]\n",
            "[1 1 1 1 1 0 0 0 0 0]\n",
            "[1 1 1 1 1 1 1 0 0 0]\n",
            "[1 1 1 1 1 1 1 0 0 0]\n",
            "[1 1 1 1 1 0 0 0 0 0]\n",
            "[1 1 1 1 1 1 1 0 0 0]\n",
            "[1 1 1 1 1 1 1 0 0 0]\n",
            "[1 1 1 1 1 0 0 0 0 0]\n",
            "[1 1 1 1 1 1 1 0 0 0]\n",
            "[1 1 1 1 1 1 1 0 0 0]\n",
            "[1 1 1 1 1 0 0 0 0 0]\n"
          ]
        },
        {
          "data": {
            "text/plain": [
              "<function matplotlib.pyplot.show(close=None, block=None)>"
            ]
          },
          "execution_count": 40,
          "metadata": {},
          "output_type": "execute_result"
        },
        {
          "data": {
            "image/png": "[encoded data removed]",
            "text/plain": [
              "<Figure size 640x480 with 1 Axes>"
            ]
          },
          "metadata": {},
          "output_type": "display_data"
        }
      ],
      "source": [
        "num_eval_data = {}\n",
        "\n",
        "for i in range(1, 11):\n",
        "    for j in range(5):\n",
        "        policy, V, history = modified_policy_iteration(C, transition_probability, max_evaluation_iter=i, max_iter=j)\n",
        "\n",
        "        if np.array_equal(policy, optimal_policy):\n",
        "            num_eval_data[i] = j\n",
        "            break\n",
        "\n",
        "plt.plot(num_eval_data.keys(), num_eval_data.values())\n",
        "plt.xticks(range(1, 11))\n",
        "plt.xlabel(\"Number of iterations for evaluation\")\n",
        "plt.ylabel(\"Number of iterations to convergence\")\n",
        "plt.show"
      ]
    },
    {
      "cell_type": "code",
      "execution_count": 41,
      "metadata": {},
      "outputs": [
        {
          "data": {
            "image/png": "[encoded data removed]",
            "text/plain": [
              "<Figure size 1000x500 with 1 Axes>"
            ]
          },
          "metadata": {},
          "output_type": "display_data"
        }
      ],
      "source": [
        "# Q value convergence analysis consider best Q value for each state\n",
        "plt.figure(figsize=(10, 5))\n",
        "for i, V in enumerate(history):\n",
        "    plt.plot(V, label=f\"Iteration {i+1}\")\n",
        "plt.xlabel(\"State\")\n",
        "plt.ylabel(\"Value\")\n",
        "plt.title(\"Value Function Convergence\")\n",
        "plt.legend()\n",
        "plt.show()"
      ]
    },
    {
      "cell_type": "code",
      "execution_count": 42,
      "metadata": {},
      "outputs": [
        {
          "name": "stdout",
          "output_type": "stream",
          "text": [
            "[ 5.53802364 12.37561772 22.75130721 36.10392681 51.16497321 65.07485083\n",
            " 71.37735176 55.53802364 55.53802364 55.53802364]\n"
          ]
        }
      ],
      "source": [
        "print(V)"
      ]
    }
  ],
  "metadata": {
    "colab": {
      "provenance": []
    },
    "kernelspec": {
      "display_name": "rl",
      "language": "python",
      "name": "python3"
    },
    "language_info": {
      "codemirror_mode": {
        "name": "ipython",
        "version": 3
      },
      "file_extension": ".py",
      "mimetype": "text/x-python",
      "name": "python",
      "nbconvert_exporter": "python",
      "pygments_lexer": "ipython3",
      "version": "3.13.1"
    }
  },
  "nbformat": 4,
  "nbformat_minor": 0
}
