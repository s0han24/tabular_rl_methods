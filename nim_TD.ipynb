{
 "cells": [
  {
   "cell_type": "markdown",
   "id": "e31d5431",
   "metadata": {},
   "source": [
    "# RL solutions for combinatorial games: Temporal Difference Methods"
   ]
  },
  {
   "cell_type": "markdown",
   "id": "772549cb",
   "metadata": {},
   "source": [
    "**Refer [the notebook on Monte Carlo Control](nim_MC_on_policy.ipynb) for the problem set up**"
   ]
  },
  {
   "cell_type": "code",
   "execution_count": 92,
   "id": "684d28df",
   "metadata": {},
   "outputs": [],
   "source": [
    "import numpy as np\n",
    "from tqdm import tqdm\n",
    "import matplotlib.pyplot as plt"
   ]
  },
  {
   "cell_type": "code",
   "execution_count": 93,
   "id": "b284063d",
   "metadata": {},
   "outputs": [],
   "source": [
    "np.random.seed(42)"
   ]
  },
  {
   "cell_type": "code",
   "execution_count": 94,
   "id": "2505f339",
   "metadata": {},
   "outputs": [],
   "source": [
    "# A Simple Nim Game\n",
    "class SimpleNim:\n",
    "    def __init__(self, state):\n",
    "        self.heaps = state\n",
    "        self.turn = 0\n",
    "        self.num_heaps = len(self.heaps)\n",
    "\n",
    "    def get_state(self):\n",
    "        if isinstance(self.heaps, list):\n",
    "            return tuple(self.heaps)\n",
    "        else:\n",
    "            return tuple(self.heaps.tolist())\n",
    "\n",
    "    def get_num_heaps(self):\n",
    "        return self.num_heaps\n",
    "\n",
    "    def get_heap_size(self, heap_index):\n",
    "        if 0 <= heap_index < self.num_heaps:\n",
    "            return self.heaps[heap_index]\n",
    "        return None\n",
    "\n",
    "    def is_game_over(self):\n",
    "        return all(pebbles == 0 for pebbles in self.heaps)\n",
    "\n",
    "    def make_move(self, heap_index, num_pebbles):\n",
    "        if self.is_game_over():\n",
    "            return False\n",
    "\n",
    "        # Validate the move\n",
    "        if 0 <= heap_index < self.num_heaps and 0 < num_pebbles <= self.heaps[heap_index]:\n",
    "            self.heaps[heap_index] -= num_pebbles\n",
    "            self.turn = 1 - self.turn  # Switch turns\n",
    "            return True\n",
    "        return False\n",
    "\n",
    "    def winner(self):\n",
    "        if self.is_game_over():\n",
    "            return 1-self.turn\n",
    "        return None"
   ]
  },
  {
   "cell_type": "code",
   "execution_count": 95,
   "id": "06dc64fc",
   "metadata": {},
   "outputs": [],
   "source": [
    "def nim_sum(s):\n",
    "    xor = 0\n",
    "    for heap in s:\n",
    "        xor ^= heap\n",
    "    return xor"
   ]
  },
  {
   "cell_type": "code",
   "execution_count": 96,
   "id": "87e0f596",
   "metadata": {},
   "outputs": [],
   "source": [
    "# Function to play the optimal move in Nim, end on a zero nim-sum\n",
    "def play_optimal(game):\n",
    "    if game.is_game_over():\n",
    "        return None\n",
    "\n",
    "    nim_sum_value = nim_sum(game.get_state())\n",
    "    heaps = game.get_state()\n",
    "    for i in range(game.get_num_heaps()):\n",
    "        if heaps[i] > 0 and (nim_sum_value ^ heaps[i]) < heaps[i]:\n",
    "            # Make the move that results in a zero nim-sum\n",
    "            game.make_move(i, heaps[i] - (nim_sum_value ^ heaps[i]))\n",
    "            return True\n",
    "    # If no optimal move is found\n",
    "    index = np.random.randint(0, game.get_num_heaps())\n",
    "    while game.get_heap_size(index) == 0:\n",
    "        index = np.random.randint(0, game.get_num_heaps())\n",
    "    game.make_move(index, 1)"
   ]
  },
  {
   "cell_type": "code",
   "execution_count": 97,
   "id": "0c0b4515",
   "metadata": {},
   "outputs": [],
   "source": [
    "def play_random(game):\n",
    "    if game.is_game_over():\n",
    "        return\n",
    "    heaps = game.get_state()\n",
    "\n",
    "    index = np.random.randint(0, len(heaps))\n",
    "    while heaps[index] == 0:\n",
    "        index = np.random.randint(0, len(heaps))\n",
    "\n",
    "    num_pebbles = np.random.randint(1, heaps[index] + 1)\n",
    "    game.make_move(index, num_pebbles)"
   ]
  },
  {
   "cell_type": "code",
   "execution_count": 98,
   "id": "20057822",
   "metadata": {},
   "outputs": [],
   "source": [
    "# opponent that plays optimal with probability prob_optimal\n",
    "def play_optimal_random(game, prob_optimal=1.0):\n",
    "    random_choice = np.random.rand()\n",
    "    if random_choice < prob_optimal:\n",
    "        play_optimal(game)\n",
    "    else:\n",
    "        play_random(game)"
   ]
  },
  {
   "cell_type": "code",
   "execution_count": 99,
   "id": "e04686a1",
   "metadata": {},
   "outputs": [
    {
     "name": "stdout",
     "output_type": "stream",
     "text": [
      "(0, 10, 10)\n",
      "(0, 10, 9)\n",
      "(0, 9, 9)\n",
      "(0, 9, 8)\n",
      "(0, 8, 8)\n",
      "(0, 8, 7)\n",
      "(0, 7, 7)\n",
      "(0, 7, 6)\n",
      "(0, 6, 6)\n",
      "(0, 5, 6)\n",
      "(0, 5, 5)\n",
      "(0, 5, 4)\n",
      "(0, 4, 4)\n",
      "(0, 4, 3)\n",
      "(0, 3, 3)\n",
      "(0, 3, 2)\n",
      "(0, 2, 2)\n",
      "(0, 2, 1)\n",
      "(0, 1, 1)\n",
      "(0, 1, 0)\n",
      "(0, 0, 0)\n",
      "The winner is Player  0\n"
     ]
    }
   ],
   "source": [
    "# simple simulation of a nim game with both players using the optimal strategy\n",
    "heaps = [10] * 3\n",
    "game = SimpleNim(heaps)\n",
    "while not game.is_game_over():\n",
    "    play_optimal(game)\n",
    "    print(game.get_state())\n",
    "print(\"The winner is Player \", game.winner())"
   ]
  },
  {
   "cell_type": "markdown",
   "id": "d390b9b1",
   "metadata": {},
   "source": [
    "## Defining State and Action Spaces:\n",
    "**The State** is given by a configuration of heaps($\\N_0$ means the set of naturals that includes zero):\n",
    "$$ \\mathcal S = \\N_0^h $$\n",
    "where h is the number of heaps\n",
    "**Actions** are given by two tuples of heap number and number of pebbles to be taken out:\n",
    "$$ \\mathcal A(s) = H(s) \\times \\N $$ \n",
    "where $\\N$ does not include zero and $H(s)$ is the set of heaps having non zero number of pebbles in the state s"
   ]
  },
  {
   "cell_type": "code",
   "execution_count": 100,
   "id": "047a71ea",
   "metadata": {},
   "outputs": [],
   "source": [
    "# helper function that evaluates a policy based on whether the turn ends on a nim sum of 0\n",
    "def is_optimal(s, a):\n",
    "    s = list(s)\n",
    "    if a[1] == 0: return False\n",
    "    s[a[0]] -= a[1]\n",
    "    return nim_sum(s) == 0"
   ]
  },
  {
   "cell_type": "code",
   "execution_count": null,
   "id": "e1ebe0a7",
   "metadata": {},
   "outputs": [],
   "source": [
    "# for simplicity consider the version of the problem that starts off with same number of pebbles in each heap\n",
    "num_heaps = 3\n",
    "initial_pebbles = 4\n",
    "max_episodes = 100000\n",
    "\n",
    "start_state = (initial_pebbles,) * num_heaps"
   ]
  },
  {
   "cell_type": "code",
   "execution_count": 102,
   "id": "bf53019f",
   "metadata": {},
   "outputs": [],
   "source": [
    "# Defining a class for epsilon greedy policy that has methods to update epsilon to account for GLIE conditions and to sample from epsilon greedy policy\n",
    "class EpsilonGreedyPolicy:\n",
    "    def __init__(self):\n",
    "        self.epsilon = 1\n",
    "\n",
    "    def update(self, epsilon):\n",
    "        self.epsilon = epsilon\n",
    "\n",
    "    def policy(self, s, Q):\n",
    "        if s not in Q or np.random.random() < self.epsilon:\n",
    "            index = np.random.randint(0, len(s))\n",
    "            while s[index] == 0:\n",
    "                index = np.random.randint(0, len(s))\n",
    "            return (index, 1)\n",
    "        else:\n",
    "            return max(Q[s], key=Q[s].get)\n",
    "\n",
    "    # Returns a policy that does not explore\n",
    "    def final_policy(self, s, Q):\n",
    "        if s not in Q or len(Q[s]) == 0:\n",
    "            return (0,0)\n",
    "        return max(Q[s], key=Q[s].get)"
   ]
  },
  {
   "cell_type": "code",
   "execution_count": 103,
   "id": "84c0ed1f",
   "metadata": {},
   "outputs": [],
   "source": [
    "class SimpleGreedyPolicy:\n",
    "    def update(self, epsilon): pass\n",
    "\n",
    "    def policy(self, s, Q):\n",
    "        if s not in Q:\n",
    "            index = np.random.randint(0, len(s))\n",
    "            while s[index] == 0:\n",
    "                index = np.random.randint(0, len(s))\n",
    "            return (index, 1)\n",
    "        return max(Q[s], key=Q[s].get)\n",
    "\n",
    "    def final_policy(self, s, Q):\n",
    "        if s not in Q:\n",
    "            return (0,0)\n",
    "        return max(Q[s], key=Q[s].get)"
   ]
  },
  {
   "cell_type": "code",
   "execution_count": 104,
   "id": "ca8f4fd7",
   "metadata": {},
   "outputs": [],
   "source": [
    "def sample_step_reward_zero_on_loss(game, A, prob_optimal=1.0):\n",
    "    game.make_move(A[0],A[1])\n",
    "    play_optimal_random(game, prob_optimal)\n",
    "    S_next = game.get_state()\n",
    "    if game.is_game_over() and game.winner() == 0: return 1, S_next\n",
    "    else: return 0, S_next"
   ]
  },
  {
   "cell_type": "markdown",
   "id": "db461281",
   "metadata": {},
   "source": [
    "### SARSA: On policy TD(0)"
   ]
  },
  {
   "cell_type": "markdown",
   "id": "5e6bb33d",
   "metadata": {},
   "source": [
    "SARSA (State-Action-Reward-State-Action) is an on-policy temporal-difference (TD) learning algorithm used to estimate the action-value function $Q(s, a)$ using Bootstrapping i.e. it makes use of an estimate of $Q(s, a)$(a guess) to update our current estimate of $Q(s, a)$(another guess) for a particular state-action pair using a sample reward over one step.\n",
    "\n",
    "Bootstrapping basically refers to how we are using a guess to update another guess using some experience information.\n",
    "\n",
    "The update rule is:\n",
    "\n",
    "$$\n",
    "Q(s_t, a_t) \\leftarrow Q(s_t, a_t) + \\alpha \\left[ r_{t+1} + \\gamma Q(s_{t+1}, a_{t+1}) - Q(s_t, a_t) \\right]\n",
    "$$\n",
    "\n",
    "Here:\n",
    "\n",
    "* $\\alpha$ is the learning rate,\n",
    "* $\\gamma$ is the discount factor,\n",
    "* $(s_t, a_t, r_{t+1}, s_{t+1}, a_{t+1})$ is the observed transition following the current policy."
   ]
  },
  {
   "cell_type": "code",
   "execution_count": 105,
   "id": "7d4cdc2e",
   "metadata": {},
   "outputs": [],
   "source": [
    "# SARSA\n",
    "def sarsa(gamma=1, policy=EpsilonGreedyPolicy(), step_size=0.02, exploring_starts=True, sample_step=sample_step_reward_zero_on_loss, epsilon_schedule=None, prob_optimal=1.0, epsilon_schedule_update=None):\n",
    "    Q = {} # take default to be zero\n",
    "\n",
    "    Q_history = []  # To keep track of the Q-value over episodes for plotting\n",
    "\n",
    "    if epsilon_schedule is None and epsilon_schedule_update is None:\n",
    "        policy.update(0.05)\n",
    "\n",
    "    for i in tqdm(range(max_episodes)):\n",
    "        if exploring_starts:\n",
    "            # Start with a random state and action\n",
    "            S = tuple(np.random.randint(0, initial_pebbles + 1, num_heaps).tolist())\n",
    "            while all(pebble == 0 for pebble in S):\n",
    "                S = tuple(np.random.randint(0, initial_pebbles + 1, num_heaps).tolist())\n",
    "            heap_index = np.random.randint(0, num_heaps)\n",
    "            while S[heap_index] == 0:\n",
    "                heap_index = np.random.randint(0, num_heaps)\n",
    "            A = (heap_index, np.random.randint(1, S[heap_index] + 1))\n",
    "        else:\n",
    "            S = start_state\n",
    "            A = policy.policy(S, Q)\n",
    "\n",
    "        game = SimpleNim(list(S))  # Reset the game\n",
    "\n",
    "        while not game.is_game_over():\n",
    "            R, S1 = sample_step(game, A, prob_optimal)\n",
    "            if game.is_game_over():\n",
    "                A1 = (0,0)\n",
    "            else:\n",
    "                A1 = policy.policy(S1, Q)\n",
    "\n",
    "            if S1 not in Q:\n",
    "                Q[S1] = {}\n",
    "            if A1 not in Q[S1]:\n",
    "                Q[S1][A1] = 0\n",
    "            if S not in Q:\n",
    "                Q[S] = {}\n",
    "            if A not in Q[S]:\n",
    "                Q[S][A] = 0\n",
    "            target = R + gamma*Q[S1][A1]\n",
    "            delta = target-Q[S][A]\n",
    "            Q[S][A] = Q[S][A] + step_size*delta\n",
    "\n",
    "            A = A1\n",
    "            S = S1\n",
    "\n",
    "        if epsilon_schedule is not None: policy.update(epsilon=epsilon_schedule[i])\n",
    "        if epsilon_schedule_update is not None: epsilon_schedule_update(policy, i)\n",
    "\n",
    "        # Track the Q-value for plotting\n",
    "        if Q:\n",
    "            toAdd = max(Q[start_state].values()) if start_state in Q and Q[start_state] else 0\n",
    "            Q_history.append(toAdd)\n",
    "\n",
    "    print(\"Q values at start state:\", Q.get(start_state, {}))\n",
    "\n",
    "    return policy, Q, Q_history"
   ]
  },
  {
   "cell_type": "code",
   "execution_count": 106,
   "id": "bacb5d7f",
   "metadata": {},
   "outputs": [],
   "source": [
    "import itertools\n",
    "\n",
    "def evaluate_on_winning_positions(policy, Q):\n",
    "    fumbles = 0\n",
    "    num_winning_pos = 0\n",
    "    for s in itertools.product(range(initial_pebbles), repeat=num_heaps):\n",
    "        if s == (0)*num_heaps: continue\n",
    "        action = policy.final_policy(s, Q)\n",
    "        if nim_sum(s) == 0: continue\n",
    "        if not is_optimal(s, action):\n",
    "            fumbles+=1\n",
    "        num_winning_pos+=1\n",
    "    return fumbles, num_winning_pos"
   ]
  },
  {
   "cell_type": "code",
   "execution_count": 107,
   "id": "6606c464",
   "metadata": {},
   "outputs": [],
   "source": [
    "def evaluate_using_fumbles(policy, Q):\n",
    "    fumbles, num_winning_pos = evaluate_on_winning_positions(policy, Q)\n",
    "    print('number of fumbles:', fumbles)\n",
    "    print('total number of winning positions:', num_winning_pos)\n",
    "    print('percentage of winning positions fumbled: {:.2f} %'.format(fumbles/num_winning_pos*100))"
   ]
  },
  {
   "cell_type": "code",
   "execution_count": 108,
   "id": "0df8bf8e",
   "metadata": {},
   "outputs": [
    {
     "name": "stderr",
     "output_type": "stream",
     "text": [
      "100%|██████████| 100000/100000 [00:01<00:00, 52927.86it/s]"
     ]
    },
    {
     "name": "stdout",
     "output_type": "stream",
     "text": [
      "Q values at start state: {(1, 3): 0.0, (1, 4): 0.672364022942806, (0, 4): 0.4753924860103017, (2, 2): 0.0, (0, 3): 0.0, (2, 4): 0.5506734155340843, (1, 1): 0.0, (0, 1): 0.0, (0, 2): 0.0, (2, 3): 0.0, (2, 1): 0.0, (1, 2): 0.0}\n",
      "{(1, 3): 0.0, (1, 4): 0.672364022942806, (0, 4): 0.4753924860103017, (2, 2): 0.0, (0, 3): 0.0, (2, 4): 0.5506734155340843, (1, 1): 0.0, (0, 1): 0.0, (0, 2): 0.0, (2, 3): 0.0, (2, 1): 0.0, (1, 2): 0.0}\n",
      "number of fumbles: 0\n",
      "total number of winning positions: 48\n",
      "percentage of winning positions fumbled: 0.00 %\n"
     ]
    },
    {
     "name": "stderr",
     "output_type": "stream",
     "text": [
      "\n"
     ]
    }
   ],
   "source": [
    "# Epsilon Greedy and exploring starts\n",
    "policy, Q, history = sarsa()\n",
    "\n",
    "print(Q[start_state] if start_state in Q else \"No Q-values for start state\")\n",
    "evaluate_using_fumbles(policy, Q)"
   ]
  },
  {
   "cell_type": "code",
   "execution_count": 109,
   "id": "8c99cc61",
   "metadata": {},
   "outputs": [
    {
     "data": {
      "image/png": "[encoded data removed]",
      "text/plain": [
       "<Figure size 640x480 with 1 Axes>"
      ]
     },
     "metadata": {},
     "output_type": "display_data"
    }
   ],
   "source": [
    "plt.plot(history)\n",
    "plt.xlabel('Episodes')\n",
    "plt.ylabel('Q-value')\n",
    "plt.title('Q-value over episodes for Sarsa with zero rewards on losing')\n",
    "plt.show()"
   ]
  },
  {
   "cell_type": "code",
   "execution_count": 110,
   "id": "612d97dc",
   "metadata": {},
   "outputs": [
    {
     "name": "stderr",
     "output_type": "stream",
     "text": [
      "100%|██████████| 100000/100000 [00:01<00:00, 67548.40it/s]"
     ]
    },
    {
     "name": "stdout",
     "output_type": "stream",
     "text": [
      "Q values at start state: {(2, 1): 0.0, (0, 1): 0.0, (1, 1): 0.0}\n",
      "{(2, 1): 0.0, (0, 1): 0.0, (1, 1): 0.0}\n",
      "number of fumbles: 48\n",
      "total number of winning positions: 48\n",
      "percentage of winning positions fumbled: 100.00 %\n"
     ]
    },
    {
     "name": "stderr",
     "output_type": "stream",
     "text": [
      "\n"
     ]
    }
   ],
   "source": [
    "# Epsilon Greedy but no exploring starts\n",
    "policy, Q, history = sarsa(exploring_starts=False)\n",
    "\n",
    "print(Q[start_state])\n",
    "evaluate_using_fumbles(policy, Q)"
   ]
  },
  {
   "cell_type": "code",
   "execution_count": 111,
   "id": "f4d02525",
   "metadata": {},
   "outputs": [
    {
     "data": {
      "image/png": "[encoded data removed]",
      "text/plain": [
       "<Figure size 640x480 with 1 Axes>"
      ]
     },
     "metadata": {},
     "output_type": "display_data"
    }
   ],
   "source": [
    "plt.plot(history)\n",
    "plt.xlabel('Episodes')\n",
    "plt.ylabel('Q-value')\n",
    "plt.title('Q-value over episodes for Sarsa with zero rewards on losing')\n",
    "plt.show()"
   ]
  },
  {
   "cell_type": "code",
   "execution_count": 112,
   "id": "f5decd5d",
   "metadata": {},
   "outputs": [],
   "source": [
    "# Apply the new rewards model with negative rewards for losses\n",
    "def sample_step_reward_negative_on_loss(game, A, prob_optimal=1.0):\n",
    "    game.make_move(A[0],A[1])\n",
    "    play_optimal_random(game, prob_optimal=prob_optimal)\n",
    "    S_next = game.get_state()\n",
    "    if game.is_game_over() and game.winner() == 0: return 1, S_next\n",
    "    elif game.is_game_over(): return -1, S_next\n",
    "    else: return 0, S_next"
   ]
  },
  {
   "cell_type": "code",
   "execution_count": 113,
   "id": "6ffaad16",
   "metadata": {},
   "outputs": [
    {
     "name": "stderr",
     "output_type": "stream",
     "text": [
      "100%|██████████| 100000/100000 [00:01<00:00, 63507.42it/s]"
     ]
    },
    {
     "name": "stdout",
     "output_type": "stream",
     "text": [
      "Q values at start state: {(2, 1): -0.9999999999999867, (0, 1): -0.9999999999999867, (1, 1): -0.9999999999999867}\n",
      "{(2, 1): -0.9999999999999867, (0, 1): -0.9999999999999867, (1, 1): -0.9999999999999867}\n",
      "number of fumbles: 48\n",
      "total number of winning positions: 48\n",
      "percentage of winning positions fumbled: 100.00 %\n"
     ]
    },
    {
     "name": "stderr",
     "output_type": "stream",
     "text": [
      "\n"
     ]
    }
   ],
   "source": [
    "# Epsilon Greedy with exploring starts negative rewards on losing\n",
    "policy, Q, history = sarsa(exploring_starts=False, sample_step=sample_step_reward_negative_on_loss)\n",
    "\n",
    "print(Q[start_state])\n",
    "evaluate_using_fumbles(policy, Q)"
   ]
  },
  {
   "cell_type": "code",
   "execution_count": 114,
   "id": "c72a6276",
   "metadata": {},
   "outputs": [
    {
     "data": {
      "image/png": "[encoded data removed]",
      "text/plain": [
       "<Figure size 640x480 with 1 Axes>"
      ]
     },
     "metadata": {},
     "output_type": "display_data"
    }
   ],
   "source": [
    "plt.plot(history)\n",
    "plt.xlabel('Episodes')\n",
    "plt.ylabel('Q-value')\n",
    "plt.title('Q-value over episodes for Sarsa with negative rewards on losing')\n",
    "plt.show()"
   ]
  },
  {
   "cell_type": "code",
   "execution_count": 115,
   "id": "895739bf",
   "metadata": {},
   "outputs": [
    {
     "name": "stderr",
     "output_type": "stream",
     "text": [
      "100%|██████████| 100000/100000 [00:01<00:00, 54148.62it/s]"
     ]
    },
    {
     "name": "stdout",
     "output_type": "stream",
     "text": [
      "Q values at start state: {(1, 4): 0.6621840190920736, (1, 3): -0.5872475678772217, (1, 1): -0.5463827181945399, (0, 2): -0.5983901538190322, (0, 1): -0.5682663387482371, (2, 3): -0.5445006429199939, (2, 4): 0.5361838010942536, (0, 3): -0.649068143531815, (2, 2): -0.530850072246699, (0, 4): 0.4875310572448288, (2, 1): -0.5750839607495659, (1, 2): -0.5932091097247346}\n",
      "{(1, 4): 0.6621840190920736, (1, 3): -0.5872475678772217, (1, 1): -0.5463827181945399, (0, 2): -0.5983901538190322, (0, 1): -0.5682663387482371, (2, 3): -0.5445006429199939, (2, 4): 0.5361838010942536, (0, 3): -0.649068143531815, (2, 2): -0.530850072246699, (0, 4): 0.4875310572448288, (2, 1): -0.5750839607495659, (1, 2): -0.5932091097247346}\n",
      "number of fumbles: 0\n",
      "total number of winning positions: 48\n",
      "percentage of winning positions fumbled: 0.00 %\n"
     ]
    },
    {
     "name": "stderr",
     "output_type": "stream",
     "text": [
      "\n"
     ]
    }
   ],
   "source": [
    "# Epsilon Greedy with exploring starts negative rewards on losing\n",
    "policy, Q, history = sarsa(sample_step=sample_step_reward_negative_on_loss)\n",
    "\n",
    "print(Q[start_state])\n",
    "evaluate_using_fumbles(policy, Q)"
   ]
  },
  {
   "cell_type": "code",
   "execution_count": 116,
   "id": "5d5a51af",
   "metadata": {},
   "outputs": [
    {
     "data": {
      "image/png": "[encoded data removed]",
      "text/plain": [
       "<Figure size 640x480 with 1 Axes>"
      ]
     },
     "metadata": {},
     "output_type": "display_data"
    }
   ],
   "source": [
    "plt.plot(history)\n",
    "plt.xlabel('Episodes')\n",
    "plt.ylabel('Q-value')\n",
    "plt.title('Q-value over episodes for Sarsa with negative rewards on losing')\n",
    "plt.show()"
   ]
  },
  {
   "cell_type": "code",
   "execution_count": 117,
   "id": "77eaa90e",
   "metadata": {},
   "outputs": [],
   "source": [
    "# providing a way to check performance more reliably\n",
    "def evaluate_using_fumbles_averaged(train, num_iters=5, prob_optimal=None, sample_step=sample_step_reward_negative_on_loss, play_against_optimal_until=None, epsilon_schedule=None, epsilon_schedule_update=None):\n",
    "    num_winning_pos = 0\n",
    "    total_fumbles = 0\n",
    "    for i in range(num_iters):\n",
    "        print(f'iteration {i+1}')\n",
    "        if prob_optimal is None:\n",
    "            if play_against_optimal_until is not None:\n",
    "                policy, Q, history = train(sample_step=sample_step, play_against_optimal_until=play_against_optimal_until, epsilon_schedule=epsilon_schedule, epsilon_schedule_update=epsilon_schedule_update)\n",
    "            else:\n",
    "                policy, Q, history = train(sample_step=sample_step, epsilon_schedule=epsilon_schedule, epsilon_schedule_update=epsilon_schedule_update)\n",
    "        else:\n",
    "            policy, Q, history = train(sample_step=sample_step, prob_optimal=prob_optimal, epsilon_schedule=epsilon_schedule, epsilon_schedule_update=epsilon_schedule_update)\n",
    "\n",
    "        fumbles, num_winning_pos = evaluate_on_winning_positions(policy, Q)\n",
    "        total_fumbles += fumbles\n",
    "    return total_fumbles, num_winning_pos"
   ]
  },
  {
   "cell_type": "code",
   "execution_count": 118,
   "id": "1a9a7d67",
   "metadata": {},
   "outputs": [],
   "source": [
    "# num_iters = 5\n",
    "# total_fumbles, num_winning_pos = evaluate_using_fumbles_averaged(sarsa, num_iters=num_iters)\n",
    "# print('average number of fumbles: ', total_fumbles/num_iters)\n",
    "# print('fumble rate: {:.2f}%'.format(total_fumbles/float(num_winning_pos*num_iters)*100))"
   ]
  },
  {
   "cell_type": "markdown",
   "id": "633d0b2c",
   "metadata": {},
   "source": [
    "### Q-learning: Off-policy TD(0) Control\n",
    "\n",
    "Q-learning is an off-policy temporal-difference (TD) algorithm used to learn the optimal action-value function $Q^*(s, a)$, independent of the agent's behavior policy. It uses the maximum estimated value of the next state to update the current Q-value, allowing it to learn the optimal policy even while following a non-optimal (e.g. $\\epsilon$-greedy) policy.\n",
    "\n",
    "The update rule is:\n",
    "\n",
    "$$\n",
    "Q(s_t, a_t) \\leftarrow Q(s_t, a_t) + \\alpha \\left[ r_{t+1} + \\gamma \\max_{a} Q(s_{t+1}, a) - Q(s_t, a_t) \\right]\n",
    "$$\n",
    "\n",
    "Here:\n",
    "\n",
    "* $\\alpha$ is the learning rate,\n",
    "* $\\gamma$ is the discount factor,\n",
    "* $r_{t+1} + \\gamma \\max_{a} Q(s_{t+1}, a)$ is called the target\n",
    "* The update targets the best possible next action, not necessarily the one actually taken.\n",
    "\n",
    "**How is this different from SARSA?**  \n",
    "The update rule looks very similar to SARSA but there is a subtle but very important difference.\n",
    "- The difference lies in the target, specifically in the action chosen for the Q-value.\n",
    "- The action is the one that is greedy with respect to the Q-function. This means that this action is chosen to be the greedy action no matter what the policy dictates.\n",
    "- This property of Q-learning is what makes it an **Off-policy** method because the target doesn't depend on the current policy which means that the policy used for exploration(updating the Q-values) need not be the same as that which is used for control, while SARSA targets have actions chosen according to the current policy."
   ]
  },
  {
   "cell_type": "code",
   "execution_count": 119,
   "id": "f063a71f",
   "metadata": {},
   "outputs": [],
   "source": [
    "# Q-Learning\n",
    "def qlearning(gamma=1, policy=EpsilonGreedyPolicy(), step_size=0.02, exploring_starts=True, sample_step=sample_step_reward_zero_on_loss, epsilon_schedule=None, epsilon_schedule_update=None, step_size_schedule=None, prob_optimal=1.0):\n",
    "    Q = {} # take default to be zero\n",
    "\n",
    "    Q_history = []  # To keep track of the initial Q-values\n",
    "\n",
    "    if epsilon_schedule_update is None and epsilon_schedule is None: policy.update(0.05)\n",
    "\n",
    "    for i in tqdm(range(max_episodes)):\n",
    "        if exploring_starts:\n",
    "            # Start with a random state and action\n",
    "            S = tuple(np.random.randint(0, initial_pebbles + 1, num_heaps).tolist())\n",
    "            while all(pebble == 0 for pebble in S):\n",
    "                S = tuple(np.random.randint(0, initial_pebbles + 1, num_heaps).tolist())\n",
    "            heap_index = np.random.randint(0, num_heaps)\n",
    "            while S[heap_index] == 0:\n",
    "                heap_index = np.random.randint(0, num_heaps)\n",
    "            A = (heap_index, np.random.randint(1, S[heap_index] + 1))\n",
    "        else:\n",
    "            S = start_state\n",
    "            A = policy.policy(S, Q)\n",
    "\n",
    "        game = SimpleNim(list(S))  # Reset the game\n",
    "\n",
    "        while not game.is_game_over():\n",
    "            R, S1 = sample_step(game, A, prob_optimal=prob_optimal)\n",
    "            if game.is_game_over():\n",
    "                A1 = (0,0)\n",
    "            else:\n",
    "                A1 = policy.policy(S1, Q)\n",
    "\n",
    "            if S1 not in Q:\n",
    "                Q[S1] = {}\n",
    "\n",
    "            if len(Q[S1]) != 0: Q_max = Q[S1][max(Q[S1])]\n",
    "            else: Q_max = 0\n",
    "\n",
    "            if S not in Q:\n",
    "                Q[S] = {}\n",
    "            if A not in Q[S]:\n",
    "                Q[S][A] = 0\n",
    "            target = R + gamma*Q_max\n",
    "            delta = target-Q[S][A]\n",
    "            current_step_size = step_size_schedule[i] if step_size_schedule is not None else step_size\n",
    "            Q[S][A] = Q[S][A] + current_step_size*delta\n",
    "\n",
    "            A = A1\n",
    "            S = game.get_state()\n",
    "\n",
    "        if epsilon_schedule_update is not None: epsilon_schedule_update(policy, i)\n",
    "        if epsilon_schedule is not None: policy.update(epsilon_schedule[i])\n",
    "\n",
    "        # Track the Q-value for plotting\n",
    "        if Q:\n",
    "            toAdd = max(Q[start_state].values()) if start_state in Q and Q[start_state] else 0\n",
    "            Q_history.append(toAdd)\n",
    "\n",
    "    print(\"Q values at start state:\", Q.get(start_state, {}))\n",
    "\n",
    "    return policy, Q, Q_history"
   ]
  },
  {
   "cell_type": "code",
   "execution_count": 120,
   "id": "f5687ea4",
   "metadata": {},
   "outputs": [
    {
     "name": "stderr",
     "output_type": "stream",
     "text": [
      "100%|██████████| 100000/100000 [00:01<00:00, 54804.89it/s]"
     ]
    },
    {
     "name": "stdout",
     "output_type": "stream",
     "text": [
      "Q values at start state: {(2, 1): -0.6456617846168806, (2, 4): -0.5697841975257171, (1, 3): -0.504935164310203, (1, 1): -0.5888097365789594, (2, 3): -0.4880701782561438, (1, 4): -0.5715929536824637, (0, 2): -0.6026999409656865, (0, 1): -0.4722399961024772, (1, 2): -0.5373215724928471, (2, 2): -0.5501366250602275, (0, 3): -0.5506086014628475, (0, 4): -0.5430524353814421}\n",
      "{(2, 1): -0.6456617846168806, (2, 4): -0.5697841975257171, (1, 3): -0.504935164310203, (1, 1): -0.5888097365789594, (2, 3): -0.4880701782561438, (1, 4): -0.5715929536824637, (0, 2): -0.6026999409656865, (0, 1): -0.4722399961024772, (1, 2): -0.5373215724928471, (2, 2): -0.5501366250602275, (0, 3): -0.5506086014628475, (0, 4): -0.5430524353814421}\n"
     ]
    },
    {
     "name": "stderr",
     "output_type": "stream",
     "text": [
      "\n"
     ]
    }
   ],
   "source": [
    "policy, Q, history = qlearning(sample_step=sample_step_reward_negative_on_loss)\n",
    "\n",
    "print(Q[start_state])"
   ]
  },
  {
   "cell_type": "code",
   "execution_count": 121,
   "id": "3b206a83",
   "metadata": {},
   "outputs": [
    {
     "data": {
      "image/png": "[encoded data removed]",
      "text/plain": [
       "<Figure size 640x480 with 1 Axes>"
      ]
     },
     "metadata": {},
     "output_type": "display_data"
    }
   ],
   "source": [
    "plt.plot(history)\n",
    "plt.xlabel('Episodes')\n",
    "plt.ylabel('Q-value')\n",
    "plt.title('Q-value over episodes for Q-learning with no epsilon decay')\n",
    "plt.show()"
   ]
  },
  {
   "cell_type": "code",
   "execution_count": 122,
   "id": "2b9507dc",
   "metadata": {},
   "outputs": [
    {
     "name": "stdout",
     "output_type": "stream",
     "text": [
      "number of fumbles: 5\n",
      "total number of winning positions: 48\n",
      "percentage of winning positions fumbled: 10.42 %\n"
     ]
    }
   ],
   "source": [
    "evaluate_using_fumbles(policy, Q)"
   ]
  },
  {
   "cell_type": "code",
   "execution_count": 123,
   "id": "67597cd5",
   "metadata": {},
   "outputs": [],
   "source": [
    "def simplest_schedule(policy, i):\n",
    "    policy.update(1.0/(i+1))"
   ]
  },
  {
   "cell_type": "code",
   "execution_count": 124,
   "id": "5184ae2e",
   "metadata": {},
   "outputs": [
    {
     "name": "stderr",
     "output_type": "stream",
     "text": [
      "100%|██████████| 100000/100000 [00:01<00:00, 53296.87it/s]"
     ]
    },
    {
     "name": "stdout",
     "output_type": "stream",
     "text": [
      "Q values at start state: {(0, 3): -0.5971606825951782, (2, 4): -0.6037947705198171, (2, 2): -0.4934817648961254, (1, 3): -0.5567604472576879, (1, 4): -0.47647651405819, (2, 3): -0.5798472184350972, (0, 2): -0.5978157442796008, (0, 1): -0.5797556730272032, (2, 1): -0.6040374512330857, (1, 1): -0.55165962731258, (0, 4): -0.5131786606758143, (1, 2): -0.6313512855903842}\n",
      "number of fumbles: 4\n",
      "total number of winning positions: 48\n",
      "percentage of winning positions fumbled: 8.33 %\n"
     ]
    },
    {
     "name": "stderr",
     "output_type": "stream",
     "text": [
      "\n"
     ]
    }
   ],
   "source": [
    "policy, Q, history = qlearning(sample_step=sample_step_reward_negative_on_loss, epsilon_schedule_update=simplest_schedule)\n",
    "evaluate_using_fumbles(policy, Q)"
   ]
  },
  {
   "cell_type": "code",
   "execution_count": null,
   "id": "f0c0ae0f",
   "metadata": {},
   "outputs": [
    {
     "data": {
      "text/plain": [
       "Text(0.5, 1.0, 'Q-value over episodes for Q-learning with epsilon decaying as 1/number of episodes')"
      ]
     },
     "execution_count": 125,
     "metadata": {},
     "output_type": "execute_result"
    },
    {
     "data": {
      "image/png": "[encoded data removed]",
      "text/plain": [
       "<Figure size 640x480 with 1 Axes>"
      ]
     },
     "metadata": {},
     "output_type": "display_data"
    }
   ],
   "source": [
    "plt.plot(history)\n",
    "plt.xlabel('Episodes')\n",
    "plt.ylabel('Q-value')\n",
    "plt.title('Q-value over episodes for Q-learning with epsilon decaying as 1/number of episodes')\n",
    "plt.show()"
   ]
  },
  {
   "cell_type": "code",
   "execution_count": 126,
   "id": "e5e162e3",
   "metadata": {},
   "outputs": [],
   "source": [
    "def get_geometric_schedule(decay):\n",
    "    epsilon_schedule = []\n",
    "    for i in range(max_episodes):\n",
    "        epsilon_schedule.append((1-decay)*(decay**i))\n",
    "    return epsilon_schedule"
   ]
  },
  {
   "cell_type": "code",
   "execution_count": 127,
   "id": "2105a29d",
   "metadata": {},
   "outputs": [
    {
     "name": "stderr",
     "output_type": "stream",
     "text": [
      "100%|██████████| 100000/100000 [00:01<00:00, 54482.11it/s]"
     ]
    },
    {
     "name": "stdout",
     "output_type": "stream",
     "text": [
      "Q values at start state: {(2, 4): -0.527380354814793, (2, 1): -0.6092429326863605, (1, 3): -0.5536872266364212, (0, 2): -0.6342957428417499, (0, 3): -0.48479550041597297, (0, 1): -0.6247991112780998, (1, 1): -0.6184967359891832, (1, 2): -0.5949220662590424, (2, 2): -0.5111112069756562, (0, 4): -0.5963104641747954, (2, 3): -0.49188987404947654, (1, 4): -0.6089135804702148}\n",
      "number of fumbles: 4\n",
      "total number of winning positions: 48\n",
      "percentage of winning positions fumbled: 8.33 %\n"
     ]
    },
    {
     "name": "stderr",
     "output_type": "stream",
     "text": [
      "\n"
     ]
    }
   ],
   "source": [
    "policy, Q, history = qlearning(sample_step=sample_step_reward_negative_on_loss, epsilon_schedule=get_geometric_schedule(decay=0.7))\n",
    "evaluate_using_fumbles(policy, Q)"
   ]
  },
  {
   "cell_type": "code",
   "execution_count": 128,
   "id": "aa9faced",
   "metadata": {},
   "outputs": [
    {
     "name": "stdout",
     "output_type": "stream",
     "text": [
      "decay: 0.1\n",
      "iteration 1\n"
     ]
    },
    {
     "name": "stderr",
     "output_type": "stream",
     "text": [
      "100%|██████████| 100000/100000 [00:01<00:00, 52688.87it/s]\n"
     ]
    },
    {
     "name": "stdout",
     "output_type": "stream",
     "text": [
      "Q values at start state: {(0, 1): -0.5204845497813751, (2, 4): -0.4289407023142471, (2, 1): -0.4940800604451287, (1, 1): -0.5824549170454087, (2, 3): -0.5373466809628943, (1, 2): -0.520980061531831, (0, 3): -0.5467280958391044, (1, 3): -0.52262329319527, (1, 4): -0.5691447370094527, (0, 2): -0.5969273830327023, (2, 2): -0.5725997753231061, (0, 4): -0.5056872616782422}\n",
      "iteration 2\n"
     ]
    },
    {
     "name": "stderr",
     "output_type": "stream",
     "text": [
      "100%|██████████| 100000/100000 [00:01<00:00, 55650.78it/s]\n"
     ]
    },
    {
     "name": "stdout",
     "output_type": "stream",
     "text": [
      "Q values at start state: {(1, 2): -0.5478775649511867, (1, 3): -0.6227112131274557, (1, 1): -0.5565651358655671, (2, 4): -0.5822095044075873, (0, 3): -0.49242616583256577, (2, 2): -0.5419036647032296, (0, 2): -0.6032397153921782, (2, 3): -0.549846400738054, (0, 1): -0.5186738374200479, (0, 4): -0.556846910264514, (1, 4): -0.507144399702433, (2, 1): -0.5013718771565242}\n",
      "iteration 3\n"
     ]
    },
    {
     "name": "stderr",
     "output_type": "stream",
     "text": [
      "100%|██████████| 100000/100000 [00:01<00:00, 55693.61it/s]\n"
     ]
    },
    {
     "name": "stdout",
     "output_type": "stream",
     "text": [
      "Q values at start state: {(1, 3): -0.5399414364285111, (0, 2): -0.600995841284403, (1, 1): -0.5433793344469205, (2, 1): -0.5957400858389122, (0, 4): -0.5234786668258723, (0, 1): -0.5115320889537625, (2, 2): -0.4777712315599742, (1, 2): -0.5636804248982756, (1, 4): -0.5812277914193523, (2, 4): -0.5642235257904704, (2, 3): -0.589440325296514, (0, 3): -0.5555200032130736}\n",
      "decay: 0.2\n",
      "iteration 1\n"
     ]
    },
    {
     "name": "stderr",
     "output_type": "stream",
     "text": [
      "100%|██████████| 100000/100000 [00:01<00:00, 55550.03it/s]\n"
     ]
    },
    {
     "name": "stdout",
     "output_type": "stream",
     "text": [
      "Q values at start state: {(1, 1): -0.5482848076718377, (0, 1): -0.5399572386470608, (0, 3): -0.5653057601616669, (2, 2): -0.5521398962121761, (2, 3): -0.5732185453019694, (0, 4): -0.5519668844903685, (1, 4): -0.5317485801061211, (1, 2): -0.5933304497552363, (2, 4): -0.57833719522491, (0, 2): -0.6073163197427813, (1, 3): -0.6027175574422967, (2, 1): -0.5827907045606469}\n",
      "iteration 2\n"
     ]
    },
    {
     "name": "stderr",
     "output_type": "stream",
     "text": [
      "100%|██████████| 100000/100000 [00:01<00:00, 56022.03it/s]\n"
     ]
    },
    {
     "name": "stdout",
     "output_type": "stream",
     "text": [
      "Q values at start state: {(2, 4): -0.4939708211557573, (0, 4): -0.5843544742271847, (0, 3): -0.5367413011440592, (0, 1): -0.4834749031711827, (2, 3): -0.5950970764698973, (1, 3): -0.5527783700129593, (1, 4): -0.4608541552468055, (2, 2): -0.48903004784850235, (2, 1): -0.5899433344388884, (1, 1): -0.6175734145628548, (0, 2): -0.6398323197387411, (1, 2): -0.5669293214409327}\n",
      "iteration 3\n"
     ]
    },
    {
     "name": "stderr",
     "output_type": "stream",
     "text": [
      "100%|██████████| 100000/100000 [00:01<00:00, 56033.65it/s]\n"
     ]
    },
    {
     "name": "stdout",
     "output_type": "stream",
     "text": [
      "Q values at start state: {(1, 3): -0.5466774447677232, (2, 3): -0.5307902843645287, (1, 4): -0.6105472000586148, (2, 4): -0.5834861617728274, (1, 1): -0.5370790104626131, (1, 2): -0.5379975536905844, (2, 1): -0.5651171484704479, (0, 4): -0.57640786693962, (0, 1): -0.48152633830712965, (0, 3): -0.5924909735096047, (2, 2): -0.5572189606243196, (0, 2): -0.5618525973840944}\n",
      "decay: 0.30000000000000004\n",
      "iteration 1\n"
     ]
    },
    {
     "name": "stderr",
     "output_type": "stream",
     "text": [
      "100%|██████████| 100000/100000 [00:01<00:00, 55930.57it/s]\n"
     ]
    },
    {
     "name": "stdout",
     "output_type": "stream",
     "text": [
      "Q values at start state: {(1, 2): -0.5645218100561605, (0, 4): -0.5751714438651627, (2, 4): -0.4862054932099629, (0, 2): -0.5964755849475156, (1, 4): -0.5717331966407838, (0, 1): -0.6092146097512353, (2, 1): -0.5511856338872146, (1, 3): -0.4678889473456834, (0, 3): -0.6275075756228402, (1, 1): -0.5103609253125067, (2, 2): -0.5213042770526721, (2, 3): -0.5405396124822137}\n",
      "iteration 2\n"
     ]
    },
    {
     "name": "stderr",
     "output_type": "stream",
     "text": [
      "100%|██████████| 100000/100000 [00:01<00:00, 56168.78it/s]\n"
     ]
    },
    {
     "name": "stdout",
     "output_type": "stream",
     "text": [
      "Q values at start state: {(2, 1): -0.5881485061303281, (2, 3): -0.5821253398611647, (0, 2): -0.5827234068100617, (1, 3): -0.5683556277114834, (1, 1): -0.5448181501409057, (0, 1): -0.6204157675163934, (0, 4): -0.45855089372705987, (1, 2): -0.5061083456089556, (2, 4): -0.5263364601191399, (2, 2): -0.5045074706285431, (1, 4): -0.5756802542243956, (0, 3): -0.5579801283086702}\n",
      "iteration 3\n"
     ]
    },
    {
     "name": "stderr",
     "output_type": "stream",
     "text": [
      "100%|██████████| 100000/100000 [00:01<00:00, 55989.85it/s]\n"
     ]
    },
    {
     "name": "stdout",
     "output_type": "stream",
     "text": [
      "Q values at start state: {(0, 4): -0.4578435765884281, (0, 2): -0.5594330343174507, (2, 1): -0.4514055414890348, (1, 3): -0.6080316835342633, (2, 4): -0.5236914711288394, (0, 1): -0.4917978451395949, (1, 4): -0.5264582406695082, (2, 3): -0.5117520742052732, (2, 2): -0.5889777863954502, (0, 3): -0.6028796230462922, (1, 2): -0.5724542507545131, (1, 1): -0.5772113713911506}\n",
      "decay: 0.4\n",
      "iteration 1\n"
     ]
    },
    {
     "name": "stderr",
     "output_type": "stream",
     "text": [
      "100%|██████████| 100000/100000 [00:01<00:00, 56053.69it/s]\n"
     ]
    },
    {
     "name": "stdout",
     "output_type": "stream",
     "text": [
      "Q values at start state: {(0, 3): -0.6276125897785277, (0, 1): -0.595030715177528, (2, 2): -0.5286108924012398, (2, 1): -0.6206174073211428, (0, 2): -0.5745646343133001, (1, 4): -0.5186362179018362, (2, 4): -0.5434445916660733, (2, 3): -0.5099598732693303, (1, 3): -0.5682023595236515, (1, 2): -0.503010487058771, (0, 4): -0.6199627959859485, (1, 1): -0.5393802364687099}\n",
      "iteration 2\n"
     ]
    },
    {
     "name": "stderr",
     "output_type": "stream",
     "text": [
      "100%|██████████| 100000/100000 [00:01<00:00, 56163.72it/s]\n"
     ]
    },
    {
     "name": "stdout",
     "output_type": "stream",
     "text": [
      "Q values at start state: {(0, 2): -0.5790412511078287, (1, 2): -0.5324717513083311, (0, 3): -0.5616926458769843, (2, 4): -0.5856122680282585, (1, 4): -0.5068647438565629, (2, 3): -0.5971535077606518, (0, 1): -0.6028767969802191, (2, 2): -0.5285737087712404, (2, 1): -0.559267413378451, (1, 3): -0.5635008341684173, (0, 4): -0.4866248728285564, (1, 1): -0.494559200305844}\n",
      "iteration 3\n"
     ]
    },
    {
     "name": "stderr",
     "output_type": "stream",
     "text": [
      "100%|██████████| 100000/100000 [00:01<00:00, 56226.91it/s]\n"
     ]
    },
    {
     "name": "stdout",
     "output_type": "stream",
     "text": [
      "Q values at start state: {(0, 3): -0.5876264702728955, (1, 1): -0.47133681698634716, (1, 4): -0.4767395581194076, (0, 4): -0.517062668121696, (1, 2): -0.5213761033991339, (2, 3): -0.4761364872176166, (2, 2): -0.6183729335231992, (1, 3): -0.5673400408470191, (0, 1): -0.6539796387473175, (2, 4): -0.5594473658241176, (2, 1): -0.5229073466159795, (0, 2): -0.5584104750924799}\n",
      "decay: 0.5\n",
      "iteration 1\n"
     ]
    },
    {
     "name": "stderr",
     "output_type": "stream",
     "text": [
      "100%|██████████| 100000/100000 [00:01<00:00, 56073.97it/s]\n"
     ]
    },
    {
     "name": "stdout",
     "output_type": "stream",
     "text": [
      "Q values at start state: {(0, 1): -0.5725148594905052, (0, 3): -0.5743573177804926, (2, 4): -0.5637851410460619, (2, 1): -0.5648502031314104, (1, 4): -0.5797104222357844, (0, 2): -0.5932595369616276, (2, 3): -0.6137659085945728, (1, 1): -0.5187094980142347, (1, 2): -0.6168595780566197, (1, 3): -0.5718886469624938, (0, 4): -0.5242864811329081, (2, 2): -0.5219455401762867}\n",
      "iteration 2\n"
     ]
    },
    {
     "name": "stderr",
     "output_type": "stream",
     "text": [
      "100%|██████████| 100000/100000 [00:01<00:00, 54818.64it/s]\n"
     ]
    },
    {
     "name": "stdout",
     "output_type": "stream",
     "text": [
      "Q values at start state: {(2, 2): -0.40804119885595524, (0, 3): -0.5561387753784067, (0, 2): -0.555624813843569, (1, 1): -0.4973545322757307, (2, 4): -0.6008060387663847, (2, 1): -0.6129363437145894, (1, 3): -0.5667794070392014, (0, 1): -0.43052794832910507, (0, 4): -0.522850975124111, (1, 4): -0.5460137459853406, (2, 3): -0.4481088264859118, (1, 2): -0.6039294099708141}\n",
      "iteration 3\n"
     ]
    },
    {
     "name": "stderr",
     "output_type": "stream",
     "text": [
      "100%|██████████| 100000/100000 [00:01<00:00, 55897.09it/s]\n"
     ]
    },
    {
     "name": "stdout",
     "output_type": "stream",
     "text": [
      "Q values at start state: {(1, 3): -0.5567125908740944, (0, 4): -0.5100288379085599, (1, 4): -0.5383459679077579, (2, 2): -0.5611634659113739, (2, 1): -0.5414754583499529, (0, 1): -0.5439219759705441, (1, 1): -0.5830595532758758, (0, 2): -0.5146706852695252, (2, 4): -0.5681623194510037, (2, 3): -0.5567780356515849, (0, 3): -0.47647945868902825, (1, 2): -0.4899339389456778}\n",
      "decay: 0.6\n",
      "iteration 1\n"
     ]
    },
    {
     "name": "stderr",
     "output_type": "stream",
     "text": [
      "100%|██████████| 100000/100000 [00:01<00:00, 55826.69it/s]\n"
     ]
    },
    {
     "name": "stdout",
     "output_type": "stream",
     "text": [
      "Q values at start state: {(1, 3): -0.5780943575047796, (0, 3): -0.5635943200423904, (0, 1): -0.607257600967635, (1, 4): -0.5609038437737095, (2, 3): -0.4581967696378787, (1, 2): -0.4739591679581587, (2, 4): -0.4194784830243682, (0, 4): -0.543450024508315, (1, 1): -0.5794181488298309, (2, 1): -0.5545463946710688, (2, 2): -0.5707063349559874, (0, 2): -0.5361094116711284}\n",
      "iteration 2\n"
     ]
    },
    {
     "name": "stderr",
     "output_type": "stream",
     "text": [
      "100%|██████████| 100000/100000 [00:01<00:00, 55850.17it/s]\n"
     ]
    },
    {
     "name": "stdout",
     "output_type": "stream",
     "text": [
      "Q values at start state: {(2, 1): -0.591367670075842, (1, 2): -0.5978498390071886, (0, 4): -0.570073958422682, (1, 4): -0.532903791726029, (0, 2): -0.5444807227607361, (1, 1): -0.6084578716254758, (0, 3): -0.525163973769124, (2, 2): -0.5232810823209147, (2, 4): -0.5291076759329361, (2, 3): -0.4970620049275087, (0, 1): -0.639863523190683, (1, 3): -0.5709561680416662}\n",
      "iteration 3\n"
     ]
    },
    {
     "name": "stderr",
     "output_type": "stream",
     "text": [
      "100%|██████████| 100000/100000 [00:01<00:00, 56011.52it/s]\n"
     ]
    },
    {
     "name": "stdout",
     "output_type": "stream",
     "text": [
      "Q values at start state: {(1, 1): -0.46882327399036133, (1, 3): -0.5646840051651442, (2, 3): -0.5145763125516469, (2, 1): -0.5098450494934632, (0, 3): -0.5398107606572222, (1, 4): -0.5363901006923117, (0, 1): -0.550476021026353, (2, 4): -0.5072299886674826, (0, 4): -0.47269853052021293, (0, 2): -0.5043423974584944, (1, 2): -0.4825885746298599, (2, 2): -0.553984859868503}\n",
      "decay: 0.7000000000000001\n",
      "iteration 1\n"
     ]
    },
    {
     "name": "stderr",
     "output_type": "stream",
     "text": [
      "100%|██████████| 100000/100000 [00:01<00:00, 56044.92it/s]\n"
     ]
    },
    {
     "name": "stdout",
     "output_type": "stream",
     "text": [
      "Q values at start state: {(1, 3): -0.565328673148877, (2, 3): -0.502132873237733, (0, 1): -0.6087796684892282, (0, 3): -0.5753742499299437, (0, 2): -0.5974558021045459, (1, 1): -0.525414502370028, (0, 4): -0.5513075519710774, (2, 4): -0.5956922377434619, (2, 1): -0.5531271915435884, (1, 4): -0.5545302351836477, (1, 2): -0.5321995142018119, (2, 2): -0.5564725541441019}\n",
      "iteration 2\n"
     ]
    },
    {
     "name": "stderr",
     "output_type": "stream",
     "text": [
      "100%|██████████| 100000/100000 [00:01<00:00, 55925.10it/s]\n"
     ]
    },
    {
     "name": "stdout",
     "output_type": "stream",
     "text": [
      "Q values at start state: {(1, 1): -0.5742581869738436, (1, 2): -0.6092314375451856, (2, 4): -0.5592393433330415, (1, 4): -0.5044710139182046, (0, 3): -0.5654841687059803, (0, 2): -0.5077874149709736, (2, 2): -0.5460288489617985, (0, 4): -0.5688800228246128, (0, 1): -0.599277114497237, (2, 1): -0.5569254557507748, (1, 3): -0.5424528770108863, (2, 3): -0.6090322899833756}\n",
      "iteration 3\n"
     ]
    },
    {
     "name": "stderr",
     "output_type": "stream",
     "text": [
      "100%|██████████| 100000/100000 [00:01<00:00, 56256.20it/s]\n"
     ]
    },
    {
     "name": "stdout",
     "output_type": "stream",
     "text": [
      "Q values at start state: {(0, 2): -0.5798314527145748, (1, 2): -0.5429510247440006, (1, 4): -0.5971431897079107, (2, 2): -0.5400520507931661, (0, 1): -0.5455436209269173, (2, 1): -0.4539152632486184, (2, 3): -0.5384658771672827, (0, 3): -0.5781709294161839, (0, 4): -0.5967657201609252, (2, 4): -0.5615097065606348, (1, 3): -0.5550064478597642, (1, 1): -0.5857799367022027}\n",
      "decay: 0.8\n",
      "iteration 1\n"
     ]
    },
    {
     "name": "stderr",
     "output_type": "stream",
     "text": [
      "100%|██████████| 100000/100000 [00:01<00:00, 56094.88it/s]\n"
     ]
    },
    {
     "name": "stdout",
     "output_type": "stream",
     "text": [
      "Q values at start state: {(2, 2): -0.6281512365897898, (0, 4): -0.5815225358224169, (0, 1): -0.6209724760240116, (2, 4): -0.6080547357201677, (2, 1): -0.6137033647501889, (0, 2): -0.5693781993437347, (0, 3): -0.5570890915201108, (2, 3): -0.5623369589023519, (1, 4): -0.5753323701272754, (1, 3): -0.5387865912169065, (1, 2): -0.5373106493199793, (1, 1): -0.4340260849718127}\n",
      "iteration 2\n"
     ]
    },
    {
     "name": "stderr",
     "output_type": "stream",
     "text": [
      "100%|██████████| 100000/100000 [00:01<00:00, 56199.19it/s]\n"
     ]
    },
    {
     "name": "stdout",
     "output_type": "stream",
     "text": [
      "Q values at start state: {(2, 1): -0.549104555390962, (1, 1): -0.5728783485028426, (2, 2): -0.5715091095676321, (1, 3): -0.5956494391823063, (1, 2): -0.5714231173934301, (1, 4): -0.5472730300960176, (0, 2): -0.5070554757491849, (2, 3): -0.5688585719689649, (0, 4): -0.4831151322544124, (2, 4): -0.498292684188489, (0, 3): -0.5460431963731339, (0, 1): -0.5520075095006771}\n",
      "iteration 3\n"
     ]
    },
    {
     "name": "stderr",
     "output_type": "stream",
     "text": [
      "100%|██████████| 100000/100000 [00:01<00:00, 56234.20it/s]\n"
     ]
    },
    {
     "name": "stdout",
     "output_type": "stream",
     "text": [
      "Q values at start state: {(1, 2): -0.5938842281962858, (2, 1): -0.5431548001898147, (0, 1): -0.5477430287522962, (1, 1): -0.4822675124260494, (0, 2): -0.5678873888219076, (1, 4): -0.5225556171624399, (1, 3): -0.5642583039574356, (2, 2): -0.5916137091219984, (0, 4): -0.5572413991791392, (0, 3): -0.553677068650917, (2, 3): -0.6338639659508695, (2, 4): -0.5120313465188551}\n",
      "decay: 0.9\n",
      "iteration 1\n"
     ]
    },
    {
     "name": "stderr",
     "output_type": "stream",
     "text": [
      "100%|██████████| 100000/100000 [00:01<00:00, 56299.81it/s]\n"
     ]
    },
    {
     "name": "stdout",
     "output_type": "stream",
     "text": [
      "Q values at start state: {(0, 1): -0.5610520388433243, (2, 4): -0.5225247139470617, (2, 3): -0.520261084905232, (2, 1): -0.43432038880278623, (0, 4): -0.5035651618104938, (2, 2): -0.5512902527939362, (0, 3): -0.5555775589374202, (0, 2): -0.5392954945256855, (1, 3): -0.5960000683592604, (1, 2): -0.5661020178201883, (1, 4): -0.6059868756074867, (1, 1): -0.488361830525273}\n",
      "iteration 2\n"
     ]
    },
    {
     "name": "stderr",
     "output_type": "stream",
     "text": [
      "100%|██████████| 100000/100000 [00:01<00:00, 56169.57it/s]\n"
     ]
    },
    {
     "name": "stdout",
     "output_type": "stream",
     "text": [
      "Q values at start state: {(2, 3): -0.5457329472050416, (2, 2): -0.4666538810791253, (1, 2): -0.5939284867293584, (2, 4): -0.5621090581450823, (0, 4): -0.5784967370294714, (0, 3): -0.6237056316864706, (1, 3): -0.4803553150425076, (0, 2): -0.5483192530544079, (1, 4): -0.5637682892284853, (0, 1): -0.5037528267938651, (1, 1): -0.5768900901910785, (2, 1): -0.5735867699920122}\n",
      "iteration 3\n"
     ]
    },
    {
     "name": "stderr",
     "output_type": "stream",
     "text": [
      "100%|██████████| 100000/100000 [00:01<00:00, 56580.99it/s]"
     ]
    },
    {
     "name": "stdout",
     "output_type": "stream",
     "text": [
      "Q values at start state: {(2, 3): -0.6255701101957817, (0, 1): -0.5323264973901685, (1, 3): -0.5348424884262798, (0, 2): -0.5413864534298369, (2, 1): -0.6169342846107381, (0, 4): -0.5903734517946251, (1, 1): -0.45733844675074825, (2, 4): -0.5155692703543736, (1, 4): -0.5782851770602289, (0, 3): -0.5761396500682903, (1, 2): -0.6009664705922163, (2, 2): -0.5352370430521622}\n"
     ]
    },
    {
     "name": "stderr",
     "output_type": "stream",
     "text": [
      "\n"
     ]
    }
   ],
   "source": [
    "fumble_rate_by_decay = []\n",
    "decays = np.linspace(0.1, 0.9, 9)\n",
    "\n",
    "for decay in decays:\n",
    "    print(f'decay: {decay}')\n",
    "    num_iters = 3\n",
    "    total_fumbles, num_winning_pos = evaluate_using_fumbles_averaged(qlearning, num_iters=num_iters)\n",
    "\n",
    "    fumble_rate_by_decay.append(float(total_fumbles)/float(num_winning_pos*num_iters))"
   ]
  },
  {
   "cell_type": "code",
   "execution_count": 129,
   "id": "b6e2dc79",
   "metadata": {},
   "outputs": [
    {
     "data": {
      "image/png": "[encoded data removed]",
      "text/plain": [
       "<Figure size 640x480 with 1 Axes>"
      ]
     },
     "metadata": {},
     "output_type": "display_data"
    }
   ],
   "source": [
    "plt.plot(decays, fumble_rate_by_decay)\n",
    "plt.xlabel('Decay')\n",
    "plt.ylabel('Fumble Rate')\n",
    "plt.title('Fumble rate for geometrically decaying epsilon')\n",
    "plt.show()"
   ]
  },
  {
   "cell_type": "code",
   "execution_count": 130,
   "id": "94fd901a",
   "metadata": {},
   "outputs": [
    {
     "name": "stderr",
     "output_type": "stream",
     "text": [
      "100%|██████████| 100000/100000 [00:01<00:00, 54895.59it/s]"
     ]
    },
    {
     "name": "stdout",
     "output_type": "stream",
     "text": [
      "Q values at start state: {(2, 3): -0.5394766131849872, (1, 4): -0.563003743723944, (1, 1): -0.4945389914857441, (0, 2): -0.6487307239203345, (1, 2): -0.4943097812401191, (0, 3): -0.6914900569336447, (0, 4): -0.6551850251535646, (0, 1): -0.5939110128221705, (1, 3): -0.6285995537388657, (2, 4): -0.47398481084911925, (2, 1): -0.5638753738802417, (2, 2): -0.49910878714319107}\n",
      "number of fumbles: 7\n",
      "total number of winning positions: 48\n",
      "percentage of winning positions fumbled: 14.58 %\n"
     ]
    },
    {
     "name": "stderr",
     "output_type": "stream",
     "text": [
      "\n"
     ]
    }
   ],
   "source": [
    "policy, Q, history = qlearning(sample_step=sample_step_reward_negative_on_loss, epsilon_schedule=get_geometric_schedule(decay=0.6))\n",
    "evaluate_using_fumbles(policy, Q)"
   ]
  },
  {
   "cell_type": "code",
   "execution_count": 131,
   "id": "cba51b2e",
   "metadata": {},
   "outputs": [
    {
     "data": {
      "image/png": "[encoded data removed]",
      "text/plain": [
       "<Figure size 640x480 with 1 Axes>"
      ]
     },
     "metadata": {},
     "output_type": "display_data"
    }
   ],
   "source": [
    "plt.plot(history)\n",
    "plt.xlabel('Episodes')\n",
    "plt.ylabel('Q-value')\n",
    "plt.title('Q-value over episodes for Q-learning with geometric decay for epsilon')\n",
    "plt.show()"
   ]
  },
  {
   "cell_type": "code",
   "execution_count": 132,
   "id": "62245ef2",
   "metadata": {},
   "outputs": [],
   "source": [
    "def get_inverse_time_decay_step_size_schedule(initial_alpha=0.1, decay=0.01):\n",
    "    return [initial_alpha / (1.0 + decay * i) for i in range(max_episodes)]\n",
    "\n",
    "def get_exponential_step_size_schedule(initial_alpha=0.1, decay=0.99):\n",
    "    return [initial_alpha * (decay ** i) for i in range(max_episodes)]\n",
    "\n",
    "def get_step_wise_decay_schedule(initial_alpha=0.1, decay=0.9, num_steps=10):\n",
    "    return [initial_alpha * (decay ** (i // num_steps)) for i in range(max_episodes)]"
   ]
  },
  {
   "cell_type": "code",
   "execution_count": 133,
   "id": "ba0506d5",
   "metadata": {},
   "outputs": [
    {
     "name": "stdout",
     "output_type": "stream",
     "text": [
      "Using step size schedule: inverse time decay\n"
     ]
    },
    {
     "name": "stderr",
     "output_type": "stream",
     "text": [
      "100%|██████████| 100000/100000 [00:01<00:00, 54614.70it/s]\n"
     ]
    },
    {
     "name": "stdout",
     "output_type": "stream",
     "text": [
      "Q values at start state: {(0, 1): -0.0004663378573085578, (1, 3): -0.0014948797970410603, (1, 2): -0.0015161366717793576, (0, 4): -0.0033068945554243015, (0, 3): -0.0017786761675499807, (1, 4): -0.003457455496726769, (1, 1): -0.0011479172448439557, (2, 3): -0.0017052523536321034, (2, 2): -0.0022658655137254356, (2, 1): -0.0015525755489784528, (0, 2): -0.0006422303419821245, (2, 4): -0.001577934538815218}\n",
      "number of fumbles: 0\n",
      "total number of winning positions: 48\n",
      "percentage of winning positions fumbled: 0.00 %\n",
      "Using step size schedule: exponential decay\n"
     ]
    },
    {
     "name": "stderr",
     "output_type": "stream",
     "text": [
      "100%|██████████| 100000/100000 [00:01<00:00, 57544.12it/s]\n"
     ]
    },
    {
     "name": "stdout",
     "output_type": "stream",
     "text": [
      "Q values at start state: {(2, 3): -2.9792141008827172e-05, (2, 1): -0.00013827316455020225, (0, 3): -2.0428221169021016e-05, (1, 4): -3.395461658078525e-08, (2, 2): -4.308406512228956e-07, (0, 4): -1.7968917250773111e-09, (0, 2): -1.2330987287551644e-08, (1, 1): -1.5902768188097692e-13, (1, 3): -1.275311849028127e-13, (2, 4): -1.0888937828213905e-13, (1, 2): -4.396101613792146e-15, (0, 1): -8.080763739452127e-23}\n",
      "number of fumbles: 14\n",
      "total number of winning positions: 48\n",
      "percentage of winning positions fumbled: 29.17 %\n",
      "Using step size schedule: step-wise decay\n"
     ]
    },
    {
     "name": "stderr",
     "output_type": "stream",
     "text": [
      "100%|██████████| 100000/100000 [00:01<00:00, 56537.55it/s]"
     ]
    },
    {
     "name": "stdout",
     "output_type": "stream",
     "text": [
      "Q values at start state: {(0, 4): -0.004304672099999953, (0, 1): -1.8250792586101056e-11, (0, 2): -2.767184818428066e-05, (1, 4): -0.00016352800391637409, (2, 2): -1.038734927797753e-06, (1, 1): -1.4406801168770962e-06, (0, 3): -2.0082146321738283e-12, (2, 1): -1.3409624002536336e-12, (2, 4): -3.4784751761408125e-13, (2, 3): -1.2876081705584258e-14, (1, 3): -1.4599263240632797e-12, (1, 2): -6.287615221182475e-14}\n",
      "number of fumbles: 9\n",
      "total number of winning positions: 48\n",
      "percentage of winning positions fumbled: 18.75 %\n"
     ]
    },
    {
     "name": "stderr",
     "output_type": "stream",
     "text": [
      "\n"
     ]
    }
   ],
   "source": [
    "for step_size_schedule in [\n",
    "    ('inverse time decay', get_inverse_time_decay_step_size_schedule()),\n",
    "    ('exponential decay', get_exponential_step_size_schedule()),\n",
    "    ('step-wise decay', get_step_wise_decay_schedule())\n",
    "]:\n",
    "    print(\"Using step size schedule:\", step_size_schedule[0])\n",
    "    policy, Q, history = qlearning(sample_step=sample_step_reward_negative_on_loss, step_size_schedule=step_size_schedule[1], epsilon_schedule=get_geometric_schedule(decay=0.3))\n",
    "    evaluate_using_fumbles(policy, Q)"
   ]
  },
  {
   "cell_type": "code",
   "execution_count": 134,
   "id": "acd059e6",
   "metadata": {},
   "outputs": [
    {
     "name": "stderr",
     "output_type": "stream",
     "text": [
      "100%|██████████| 100000/100000 [00:02<00:00, 47669.65it/s]"
     ]
    },
    {
     "name": "stdout",
     "output_type": "stream",
     "text": [
      "Q values at start state: {(1, 2): -0.21755017423432232, (1, 3): -0.20356084445414527, (2, 1): -0.2124470243816247, (0, 1): -0.18287511644994078, (0, 2): -0.19820936624575722, (0, 3): -0.16436768203229435, (2, 4): -0.1705608132845155, (1, 1): -0.158817151810035, (1, 4): -0.23644916838761393, (2, 2): -0.21373060666254892, (0, 4): -0.13769688569968622, (2, 3): -0.20527292489881527}\n",
      "number of fumbles: 11\n",
      "total number of winning positions: 48\n",
      "percentage of winning positions fumbled: 22.92 %\n"
     ]
    },
    {
     "name": "stderr",
     "output_type": "stream",
     "text": [
      "\n"
     ]
    }
   ],
   "source": [
    "policy, Q, history = qlearning(sample_step=sample_step_reward_negative_on_loss, epsilon_schedule=get_geometric_schedule(decay=0.6), prob_optimal=0.6)\n",
    "evaluate_using_fumbles(policy, Q)"
   ]
  },
  {
   "cell_type": "code",
   "execution_count": 135,
   "id": "893c5c88",
   "metadata": {},
   "outputs": [
    {
     "data": {
      "image/png": "[encoded data removed]",
      "text/plain": [
       "<Figure size 640x480 with 1 Axes>"
      ]
     },
     "metadata": {},
     "output_type": "display_data"
    }
   ],
   "source": [
    "plt.plot(history)\n",
    "plt.xlabel('Episodes')\n",
    "plt.ylabel('Q-value')\n",
    "plt.title('Q-learning with opponent playing optimally with 0.6 probability')\n",
    "plt.show()"
   ]
  },
  {
   "cell_type": "code",
   "execution_count": 136,
   "id": "2189bfe4",
   "metadata": {},
   "outputs": [
    {
     "name": "stdout",
     "output_type": "stream",
     "text": [
      "probability of optimal play: 0.0\n",
      "iteration 1\n"
     ]
    },
    {
     "name": "stderr",
     "output_type": "stream",
     "text": [
      "100%|██████████| 100000/100000 [00:02<00:00, 43523.66it/s]\n"
     ]
    },
    {
     "name": "stdout",
     "output_type": "stream",
     "text": [
      "Q values at start state: {(0, 1): 0.16636805481157502, (1, 3): 0.2860286246896561, (1, 2): 0.25861539747168366, (2, 4): 0.2756164914253921, (1, 4): 0.26105365942406605, (0, 3): 0.0809707851528742, (0, 4): 0.22873101503687246, (2, 2): 0.21925084890567778, (2, 3): 0.22649507667223892, (1, 1): 0.18087056905282653, (0, 2): 0.1403516739751364, (2, 1): 0.14025387023005267}\n",
      "iteration 2\n"
     ]
    },
    {
     "name": "stderr",
     "output_type": "stream",
     "text": [
      "100%|██████████| 100000/100000 [00:02<00:00, 43128.06it/s]\n"
     ]
    },
    {
     "name": "stdout",
     "output_type": "stream",
     "text": [
      "Q values at start state: {(0, 2): 0.1800693197600599, (1, 3): 0.2226514802722139, (0, 4): 0.2719041016552197, (1, 2): 0.22382269132125948, (1, 4): 0.26036189853599306, (0, 1): 0.17097494241588634, (2, 3): 0.24523668993231446, (0, 3): 0.17562522862836777, (2, 4): 0.1882643595377178, (1, 1): 0.17566290257525297, (2, 2): 0.2678860763237469, (2, 1): 0.23472090417526392}\n",
      "iteration 3\n"
     ]
    },
    {
     "name": "stderr",
     "output_type": "stream",
     "text": [
      "100%|██████████| 100000/100000 [00:02<00:00, 43780.54it/s]\n"
     ]
    },
    {
     "name": "stdout",
     "output_type": "stream",
     "text": [
      "Q values at start state: {(1, 1): 0.23992360510345023, (0, 2): 0.17494861114453564, (1, 2): 0.2023636337243903, (0, 1): 0.15642409213573977, (1, 3): 0.18794349259265397, (2, 4): 0.1960328774003466, (1, 4): 0.17355927123437614, (0, 4): 0.12026731042028278, (2, 2): 0.19925345308673953, (0, 3): 0.11342069632214592, (2, 1): 0.20828965017069348, (2, 3): 0.26962996348497076}\n",
      "probability of optimal play: 0.1\n",
      "iteration 1\n"
     ]
    },
    {
     "name": "stderr",
     "output_type": "stream",
     "text": [
      "100%|██████████| 100000/100000 [00:02<00:00, 43925.21it/s]\n"
     ]
    },
    {
     "name": "stdout",
     "output_type": "stream",
     "text": [
      "Q values at start state: {(2, 4): 0.24030632262097562, (2, 3): 0.19051782999191091, (1, 2): 0.13635598041673136, (2, 2): 0.19288521017369284, (1, 4): 0.1942265649867124, (0, 2): 0.11084197025938934, (0, 1): 0.1529891549999819, (1, 3): 0.16262985870097044, (1, 1): 0.1501984320585699, (0, 3): 0.1301987861946182, (2, 1): 0.13651980089738266, (0, 4): 0.24521142287845193}\n",
      "iteration 2\n"
     ]
    },
    {
     "name": "stderr",
     "output_type": "stream",
     "text": [
      "100%|██████████| 100000/100000 [00:02<00:00, 44394.47it/s]\n"
     ]
    },
    {
     "name": "stdout",
     "output_type": "stream",
     "text": [
      "Q values at start state: {(2, 1): 0.12646303276951207, (0, 4): 0.2369787731017716, (2, 4): 0.13508653012675587, (0, 2): 0.09300286965382383, (2, 2): 0.14511274149365377, (1, 1): 0.13609125935399374, (0, 1): 0.08658844417607021, (1, 3): 0.1917588687219534, (1, 4): 0.21899794989012653, (2, 3): 0.13131282666498825, (0, 3): 0.13226777282635888, (1, 2): 0.13155055136979443}\n",
      "iteration 3\n"
     ]
    },
    {
     "name": "stderr",
     "output_type": "stream",
     "text": [
      "100%|██████████| 100000/100000 [00:02<00:00, 44160.76it/s]\n"
     ]
    },
    {
     "name": "stdout",
     "output_type": "stream",
     "text": [
      "Q values at start state: {(1, 4): 0.23744880781703073, (2, 3): 0.1566845258230882, (0, 4): 0.11190707263299945, (0, 2): 0.14016514345384473, (2, 2): 0.16142783817650724, (2, 4): 0.24709665390918847, (1, 3): 0.1405426903135243, (0, 3): 0.20684740379956174, (1, 1): 0.13902317831268468, (0, 1): 0.12520928231461495, (1, 2): 0.15919231317487886, (2, 1): 0.11716583236266921}\n",
      "probability of optimal play: 0.2\n",
      "iteration 1\n"
     ]
    },
    {
     "name": "stderr",
     "output_type": "stream",
     "text": [
      "100%|██████████| 100000/100000 [00:02<00:00, 44537.48it/s]\n"
     ]
    },
    {
     "name": "stdout",
     "output_type": "stream",
     "text": [
      "Q values at start state: {(0, 4): 0.10428352735804462, (1, 3): 0.13652943576420426, (0, 2): 0.0014873869234121539, (2, 4): 0.17975697319023015, (1, 4): 0.1298346737296416, (1, 1): 0.10810135793670601, (0, 1): 0.038538686651062505, (2, 1): 0.11270561523674281, (0, 3): 0.021367176758291456, (1, 2): 0.10937226983874536, (2, 3): 0.09199129661548223, (2, 2): 0.09967122428767859}\n",
      "iteration 2\n"
     ]
    },
    {
     "name": "stderr",
     "output_type": "stream",
     "text": [
      "100%|██████████| 100000/100000 [00:02<00:00, 43979.32it/s]\n"
     ]
    },
    {
     "name": "stdout",
     "output_type": "stream",
     "text": [
      "Q values at start state: {(1, 3): 0.12018889425167364, (0, 2): 0.012786019066667457, (2, 1): 0.10750571441996559, (0, 4): 0.19860487693547182, (0, 1): 0.06236546148784845, (1, 2): 0.11123708398862549, (1, 4): 0.13339497813057777, (2, 3): 0.1224218205050472, (2, 2): 0.10518750230721695, (0, 3): 0.04899664524862808, (1, 1): 0.11520665988711364, (2, 4): 0.14213516873389478}\n",
      "iteration 3\n"
     ]
    },
    {
     "name": "stderr",
     "output_type": "stream",
     "text": [
      "100%|██████████| 100000/100000 [00:02<00:00, 44573.59it/s]\n"
     ]
    },
    {
     "name": "stdout",
     "output_type": "stream",
     "text": [
      "Q values at start state: {(2, 1): 0.08023586419494091, (1, 4): 0.13586758067720986, (2, 2): 0.09480219669051905, (0, 2): 0.09306101040523054, (1, 3): 0.039516597879406874, (0, 1): 0.12166818026415827, (2, 3): 0.11967996199200931, (0, 3): 0.11096672091378325, (1, 1): 0.07756564073500409, (0, 4): 0.11883166244193574, (1, 2): 0.06359347947738865, (2, 4): 0.2180246216726618}\n",
      "probability of optimal play: 0.30000000000000004\n",
      "iteration 1\n"
     ]
    },
    {
     "name": "stderr",
     "output_type": "stream",
     "text": [
      "100%|██████████| 100000/100000 [00:02<00:00, 44903.66it/s]\n"
     ]
    },
    {
     "name": "stdout",
     "output_type": "stream",
     "text": [
      "Q values at start state: {(0, 1): 0.037849503204351695, (1, 2): 0.006556882369494098, (0, 2): -0.004364997489790565, (2, 3): 0.010973834784136213, (1, 3): 0.06089296319208246, (1, 4): 0.04813870163772206, (0, 3): 0.09817642493057058, (1, 1): 0.027748061994633956, (2, 4): 0.12959674805288054, (2, 1): -0.011125458748998111, (2, 2): 0.00753539209388371, (0, 4): 0.12018622783191575}\n",
      "iteration 2\n"
     ]
    },
    {
     "name": "stderr",
     "output_type": "stream",
     "text": [
      "100%|██████████| 100000/100000 [00:02<00:00, 45082.37it/s]\n"
     ]
    },
    {
     "name": "stdout",
     "output_type": "stream",
     "text": [
      "Q values at start state: {(2, 3): 0.008884692217267435, (0, 1): -0.00018992973449444734, (2, 2): 0.03887601710531889, (0, 3): -0.05045358430527847, (1, 4): -0.02122351117040114, (0, 2): -0.05087802895831401, (1, 3): -0.03245304729384461, (1, 2): -0.014539421425796662, (2, 4): 0.12439855612826758, (2, 1): 0.018797805022211674, (0, 4): 0.029908347950147716, (1, 1): -0.010339775657363047}\n",
      "iteration 3\n"
     ]
    },
    {
     "name": "stderr",
     "output_type": "stream",
     "text": [
      "100%|██████████| 100000/100000 [00:02<00:00, 45006.67it/s]\n"
     ]
    },
    {
     "name": "stdout",
     "output_type": "stream",
     "text": [
      "Q values at start state: {(0, 3): 0.05073491756572859, (2, 1): 0.016994392440546617, (2, 4): 0.07325520534446847, (2, 3): 0.02459407066200171, (1, 1): -0.004122773761096117, (0, 4): -0.0014342102874256011, (0, 1): 0.013578171559275924, (1, 3): -0.012071072627110133, (2, 2): 0.026528006077700273, (1, 4): 0.06330331879479709, (1, 2): -0.010939442529467212, (0, 2): -0.018373624695465246}\n",
      "probability of optimal play: 0.4\n",
      "iteration 1\n"
     ]
    },
    {
     "name": "stderr",
     "output_type": "stream",
     "text": [
      "100%|██████████| 100000/100000 [00:02<00:00, 45672.94it/s]\n"
     ]
    },
    {
     "name": "stdout",
     "output_type": "stream",
     "text": [
      "Q values at start state: {(2, 2): -0.0699615507135299, (2, 4): -0.06997643557914784, (1, 1): -0.04411813673808913, (0, 3): -0.11507456847955086, (0, 1): -0.03347278846560864, (0, 4): -0.13016017069198527, (1, 3): -0.08493633546501404, (1, 2): -0.07373925317204853, (0, 2): -0.07032196391428765, (2, 1): -0.05981426347705175, (2, 3): -0.09562309435229646, (1, 4): 0.02681418274281789}\n",
      "iteration 2\n"
     ]
    },
    {
     "name": "stderr",
     "output_type": "stream",
     "text": [
      "100%|██████████| 100000/100000 [00:02<00:00, 44954.06it/s]\n"
     ]
    },
    {
     "name": "stdout",
     "output_type": "stream",
     "text": [
      "Q values at start state: {(0, 4): -0.025568295982229858, (1, 4): 0.009436761028491315, (0, 3): -0.04746474159218986, (2, 3): -0.06729677703858107, (0, 2): -0.08885702576808424, (2, 2): -0.04007890146448842, (1, 3): 0.031201895628059508, (1, 2): -0.05065431456018159, (1, 1): -0.04296788608692004, (2, 1): -0.03421572213808323, (2, 4): -0.005880920710263473, (0, 1): -0.029017367918043623}\n",
      "iteration 3\n"
     ]
    },
    {
     "name": "stderr",
     "output_type": "stream",
     "text": [
      "100%|██████████| 100000/100000 [00:02<00:00, 45669.19it/s]\n"
     ]
    },
    {
     "name": "stdout",
     "output_type": "stream",
     "text": [
      "Q values at start state: {(1, 4): 0.0366327648203774, (0, 1): -0.0701269042460585, (2, 3): -0.08099782008157971, (2, 2): -0.07124615459418888, (2, 1): -0.0622540307794377, (0, 4): -0.030147501663449875, (1, 3): -0.060811928566049875, (2, 4): -0.03957893784934728, (1, 2): -0.07116626723304742, (0, 2): -0.07441491027583265, (1, 1): -0.06957088426732941, (0, 3): -0.07583576173280016}\n",
      "probability of optimal play: 0.5\n",
      "iteration 1\n"
     ]
    },
    {
     "name": "stderr",
     "output_type": "stream",
     "text": [
      "100%|██████████| 100000/100000 [00:02<00:00, 46438.08it/s]\n"
     ]
    },
    {
     "name": "stdout",
     "output_type": "stream",
     "text": [
      "Q values at start state: {(1, 3): -0.13508897744897477, (1, 1): -0.13635245926654394, (2, 3): -0.1382258413912722, (0, 3): -0.13888609499422533, (2, 1): -0.1227384366425051, (0, 2): -0.13967719151033375, (2, 4): -0.09845186169623572, (2, 2): -0.12726191715683804, (0, 4): -0.1025234557712648, (0, 1): -0.10867195688999927, (1, 2): -0.1363466584086757, (1, 4): -0.08966679245659148}\n",
      "iteration 2\n"
     ]
    },
    {
     "name": "stderr",
     "output_type": "stream",
     "text": [
      "100%|██████████| 100000/100000 [00:02<00:00, 46495.15it/s]\n"
     ]
    },
    {
     "name": "stdout",
     "output_type": "stream",
     "text": [
      "Q values at start state: {(1, 1): -0.09231633898699436, (2, 1): -0.15541181937271517, (0, 1): -0.1255749500062563, (1, 2): -0.09100650038944144, (1, 3): -0.042761688301647616, (1, 4): -0.07482500922039052, (0, 2): -0.14670582366398716, (0, 3): -0.1712237295623099, (0, 4): -0.1294270375016778, (2, 3): -0.21057633203416706, (2, 2): -0.17744437578588423, (2, 4): -0.009211109917416952}\n",
      "iteration 3\n"
     ]
    },
    {
     "name": "stderr",
     "output_type": "stream",
     "text": [
      "100%|██████████| 100000/100000 [00:02<00:00, 46526.73it/s]\n"
     ]
    },
    {
     "name": "stdout",
     "output_type": "stream",
     "text": [
      "Q values at start state: {(0, 2): -0.15817237209056356, (0, 3): -0.19536660894121913, (2, 1): -0.10276697569482982, (2, 3): -0.12750487654864112, (1, 3): -0.04010305468951197, (1, 1): -0.09963782431614061, (1, 2): -0.1056921219314304, (2, 4): -0.20310636085507808, (2, 2): -0.11649333825978121, (0, 4): -0.14989839199489027, (0, 1): -0.14662934845304829, (1, 4): -0.02346422574001962}\n",
      "probability of optimal play: 0.6000000000000001\n",
      "iteration 1\n"
     ]
    },
    {
     "name": "stderr",
     "output_type": "stream",
     "text": [
      "100%|██████████| 100000/100000 [00:02<00:00, 47450.71it/s]\n"
     ]
    },
    {
     "name": "stdout",
     "output_type": "stream",
     "text": [
      "Q values at start state: {(0, 2): -0.156597506582146, (1, 1): -0.16013121113116002, (1, 2): -0.17771010387399622, (0, 3): -0.1565424603150499, (2, 2): -0.19842283300281785, (2, 3): -0.19766268884729998, (1, 3): -0.1355953478633683, (0, 1): -0.13333687090439164, (0, 4): -0.17225628199012671, (2, 4): -0.17775524562503786, (2, 1): -0.20909091004090324, (1, 4): -0.22015361924858534}\n",
      "iteration 2\n"
     ]
    },
    {
     "name": "stderr",
     "output_type": "stream",
     "text": [
      "100%|██████████| 100000/100000 [00:02<00:00, 46458.64it/s]\n"
     ]
    },
    {
     "name": "stdout",
     "output_type": "stream",
     "text": [
      "Q values at start state: {(1, 3): -0.2023549194543121, (0, 1): -0.22163591154038526, (2, 3): -0.19695352668251598, (0, 3): -0.24207909166973712, (2, 2): -0.18053267070949008, (2, 1): -0.18093987786405566, (1, 4): -0.19624666875895355, (0, 2): -0.20934494353494504, (1, 1): -0.21497960787942574, (0, 4): -0.15219236280987158, (1, 2): -0.21548542729105669, (2, 4): -0.14728215693164087}\n",
      "iteration 3\n"
     ]
    },
    {
     "name": "stderr",
     "output_type": "stream",
     "text": [
      "100%|██████████| 100000/100000 [00:02<00:00, 46452.28it/s]\n"
     ]
    },
    {
     "name": "stdout",
     "output_type": "stream",
     "text": [
      "Q values at start state: {(2, 3): -0.26981195798615987, (1, 3): -0.20515549078389175, (2, 1): -0.23317218735099166, (1, 4): -0.12985345033870713, (0, 4): -0.1710457234227056, (2, 4): -0.12098289790177444, (0, 1): -0.13821160033718347, (1, 2): -0.21544561418083857, (0, 2): -0.16760461099075255, (1, 1): -0.18043871795748226, (0, 3): -0.1441503921975692, (2, 2): -0.24017622773489847}\n",
      "probability of optimal play: 0.7000000000000001\n",
      "iteration 1\n"
     ]
    },
    {
     "name": "stderr",
     "output_type": "stream",
     "text": [
      "100%|██████████| 100000/100000 [00:02<00:00, 46960.44it/s]\n"
     ]
    },
    {
     "name": "stdout",
     "output_type": "stream",
     "text": [
      "Q values at start state: {(1, 1): -0.35679545221950165, (0, 1): -0.28848890233116004, (1, 3): -0.30750235321180636, (2, 4): -0.23456768445793258, (0, 3): -0.26044575527459407, (2, 3): -0.31605006103953864, (1, 4): -0.17077503457969045, (0, 2): -0.26523911991723487, (2, 1): -0.31893704195922506, (0, 4): -0.2995291346990491, (1, 2): -0.2775737384438449, (2, 2): -0.32643687096840623}\n",
      "iteration 2\n"
     ]
    },
    {
     "name": "stderr",
     "output_type": "stream",
     "text": [
      "100%|██████████| 100000/100000 [00:02<00:00, 48060.38it/s]\n"
     ]
    },
    {
     "name": "stdout",
     "output_type": "stream",
     "text": [
      "Q values at start state: {(1, 3): -0.28648979366346444, (2, 3): -0.29460277229768334, (2, 2): -0.2769350955329612, (2, 1): -0.2750608915599375, (1, 4): -0.24444056197202188, (0, 2): -0.3262988581647711, (1, 1): -0.2686812897259654, (1, 2): -0.26492279646727895, (2, 4): -0.2740214383529065, (0, 1): -0.28648230517662615, (0, 4): -0.1602877122232048, (0, 3): -0.32429617133025085}\n",
      "iteration 3\n"
     ]
    },
    {
     "name": "stderr",
     "output_type": "stream",
     "text": [
      "100%|██████████| 100000/100000 [00:02<00:00, 48827.00it/s]\n"
     ]
    },
    {
     "name": "stdout",
     "output_type": "stream",
     "text": [
      "Q values at start state: {(2, 2): -0.37188751851142576, (1, 2): -0.3469985770490981, (0, 1): -0.30361764547185277, (2, 3): -0.3511770890617556, (0, 2): -0.29557476541205124, (2, 4): -0.32499829680320813, (1, 1): -0.3317179365981543, (0, 4): -0.23392379822087203, (1, 4): -0.245161225962999, (0, 3): -0.3160391782913507, (1, 3): -0.32084120211331135, (2, 1): -0.2967538178010275}\n",
      "probability of optimal play: 0.8\n",
      "iteration 1\n"
     ]
    },
    {
     "name": "stderr",
     "output_type": "stream",
     "text": [
      "100%|██████████| 100000/100000 [00:02<00:00, 49250.19it/s]\n"
     ]
    },
    {
     "name": "stdout",
     "output_type": "stream",
     "text": [
      "Q values at start state: {(1, 4): -0.2742112835732036, (2, 4): -0.37661039380699873, (2, 1): -0.44009744589100114, (0, 4): -0.3442727363221081, (1, 3): -0.38080585750286045, (1, 2): -0.33477934839640905, (2, 3): -0.43666472405052287, (0, 3): -0.3347241212552624, (0, 2): -0.33706081144457806, (2, 2): -0.44047164198671707, (1, 1): -0.3696958571874743, (0, 1): -0.3577299351607759}\n",
      "iteration 2\n"
     ]
    },
    {
     "name": "stderr",
     "output_type": "stream",
     "text": [
      "100%|██████████| 100000/100000 [00:01<00:00, 50042.23it/s]\n"
     ]
    },
    {
     "name": "stdout",
     "output_type": "stream",
     "text": [
      "Q values at start state: {(0, 2): -0.361823787191514, (0, 1): -0.34792192965618113, (2, 1): -0.35818757120634115, (2, 3): -0.37286512163873775, (0, 4): -0.30995142778998697, (2, 4): -0.41471905725819225, (1, 3): -0.37519001010397085, (1, 1): -0.31593686185413583, (1, 2): -0.3489936617115268, (1, 4): -0.31236586862823784, (0, 3): -0.3581083008670735, (2, 2): -0.3488828815200257}\n",
      "iteration 3\n"
     ]
    },
    {
     "name": "stderr",
     "output_type": "stream",
     "text": [
      "100%|██████████| 100000/100000 [00:02<00:00, 49961.85it/s]\n"
     ]
    },
    {
     "name": "stdout",
     "output_type": "stream",
     "text": [
      "Q values at start state: {(2, 1): -0.34562141617547304, (1, 3): -0.389544885243496, (0, 2): -0.42346707459614774, (2, 2): -0.35029240653273674, (0, 3): -0.4302405267631805, (0, 4): -0.37704044176543416, (2, 4): -0.3209311341965817, (1, 2): -0.3422772699038347, (2, 3): -0.38452331034304255, (0, 1): -0.4525445024538232, (1, 4): -0.43069957743656734, (1, 1): -0.352394052273357}\n",
      "probability of optimal play: 0.9\n",
      "iteration 1\n"
     ]
    },
    {
     "name": "stderr",
     "output_type": "stream",
     "text": [
      "100%|██████████| 100000/100000 [00:01<00:00, 51948.43it/s]\n"
     ]
    },
    {
     "name": "stdout",
     "output_type": "stream",
     "text": [
      "Q values at start state: {(0, 2): -0.43179717419472374, (0, 4): -0.4493943169127481, (1, 4): -0.4426330282988524, (1, 2): -0.4041452765235549, (1, 3): -0.5177939620285557, (0, 3): -0.43596402571674464, (2, 3): -0.47735118195917836, (2, 4): -0.4351089144244435, (0, 1): -0.4457358980505366, (2, 2): -0.4586721038048554, (1, 1): -0.4756903776047937, (2, 1): -0.42748597349205175}\n",
      "iteration 2\n"
     ]
    },
    {
     "name": "stderr",
     "output_type": "stream",
     "text": [
      "100%|██████████| 100000/100000 [00:01<00:00, 51870.25it/s]\n"
     ]
    },
    {
     "name": "stdout",
     "output_type": "stream",
     "text": [
      "Q values at start state: {(1, 3): -0.37507562810950784, (1, 2): -0.42709185269453637, (2, 3): -0.47678993084038135, (2, 4): -0.44065778677218337, (1, 4): -0.4271100880054013, (2, 1): -0.44919550457966134, (0, 1): -0.44584620998531327, (0, 4): -0.3820237901765096, (1, 1): -0.4969403936782054, (0, 3): -0.5072731651951276, (2, 2): -0.4989563906507907, (0, 2): -0.39387213838342444}\n",
      "iteration 3\n"
     ]
    },
    {
     "name": "stderr",
     "output_type": "stream",
     "text": [
      "100%|██████████| 100000/100000 [00:01<00:00, 52292.45it/s]\n"
     ]
    },
    {
     "name": "stdout",
     "output_type": "stream",
     "text": [
      "Q values at start state: {(1, 1): -0.4489313934423003, (2, 2): -0.4553523236994733, (1, 4): -0.4497825286951581, (2, 3): -0.5393808956114502, (2, 4): -0.4190856900988839, (1, 3): -0.47953708060213884, (0, 1): -0.47580192752387257, (1, 2): -0.4324925558686125, (0, 3): -0.41646401117174037, (2, 1): -0.464590487314415, (0, 2): -0.4855557588703787, (0, 4): -0.3252325112787116}\n",
      "probability of optimal play: 1.0\n",
      "iteration 1\n"
     ]
    },
    {
     "name": "stderr",
     "output_type": "stream",
     "text": [
      "100%|██████████| 100000/100000 [00:01<00:00, 54750.57it/s]\n"
     ]
    },
    {
     "name": "stdout",
     "output_type": "stream",
     "text": [
      "Q values at start state: {(0, 4): -0.6130270684148827, (1, 3): -0.6307659030880352, (0, 3): -0.6784049251824111, (2, 4): -0.5160318080499474, (0, 2): -0.5933859575380077, (1, 2): -0.565721161412839, (0, 1): -0.5540975180195402, (2, 2): -0.5867952245869517, (1, 4): -0.4314215216993577, (2, 3): -0.5484010696428899, (1, 1): -0.5548833275568555, (2, 1): -0.5838815875931317}\n",
      "iteration 2\n"
     ]
    },
    {
     "name": "stderr",
     "output_type": "stream",
     "text": [
      "100%|██████████| 100000/100000 [00:01<00:00, 55830.24it/s]\n"
     ]
    },
    {
     "name": "stdout",
     "output_type": "stream",
     "text": [
      "Q values at start state: {(1, 3): -0.5799704828907618, (0, 3): -0.554777444924042, (2, 1): -0.5246340866573119, (1, 1): -0.5536777260372354, (1, 4): -0.5524048397853467, (0, 1): -0.49773906377484456, (2, 4): -0.512236146515615, (0, 4): -0.4866103196790174, (2, 3): -0.5325337669501821, (1, 2): -0.6087836463510742, (2, 2): -0.5219929387869253, (0, 2): -0.5433955526474217}\n",
      "iteration 3\n"
     ]
    },
    {
     "name": "stderr",
     "output_type": "stream",
     "text": [
      "100%|██████████| 100000/100000 [00:01<00:00, 55535.47it/s]"
     ]
    },
    {
     "name": "stdout",
     "output_type": "stream",
     "text": [
      "Q values at start state: {(1, 3): -0.5771700427271232, (2, 1): -0.6198823935037567, (2, 4): -0.5764169547783211, (2, 3): -0.6419322871796024, (0, 1): -0.4863782139543274, (0, 2): -0.5656171100662021, (0, 4): -0.5910281217288094, (2, 2): -0.5361709577581425, (1, 1): -0.5758406981420087, (1, 4): -0.5323914569914667, (0, 3): -0.5926231673049467, (1, 2): -0.5857629941498801}\n"
     ]
    },
    {
     "name": "stderr",
     "output_type": "stream",
     "text": [
      "\n"
     ]
    }
   ],
   "source": [
    "# compare fumbles over different probabilities of optimal play\n",
    "prob_optimal_values = np.linspace(0.0, 1.0, 11)\n",
    "fumble_rate_by_prob_optimal = []\n",
    "\n",
    "for prob_optimal in prob_optimal_values:\n",
    "    print(f'probability of optimal play: {prob_optimal}')\n",
    "    num_iters = 3\n",
    "    total_fumbles, num_winning_pos = evaluate_using_fumbles_averaged(qlearning, num_iters=num_iters, prob_optimal=prob_optimal)\n",
    "\n",
    "    fumble_rate_by_prob_optimal.append(float(total_fumbles)/float(num_winning_pos*num_iters))"
   ]
  },
  {
   "cell_type": "code",
   "execution_count": 137,
   "id": "49c69087",
   "metadata": {},
   "outputs": [
    {
     "data": {
      "image/png": "[encoded data removed]",
      "text/plain": [
       "<Figure size 640x480 with 1 Axes>"
      ]
     },
     "metadata": {},
     "output_type": "display_data"
    }
   ],
   "source": [
    "plt.plot(prob_optimal_values, fumble_rate_by_prob_optimal)\n",
    "plt.xlabel('Probability of Optimal Play')\n",
    "plt.ylabel('Fumble Rate')\n",
    "plt.title('Fumble rate for different probabilities of optimal play')\n",
    "plt.show()"
   ]
  },
  {
   "cell_type": "markdown",
   "id": "58b929f5",
   "metadata": {},
   "source": [
    "### Sarsa($\\lambda$)"
   ]
  },
  {
   "cell_type": "code",
   "execution_count": 138,
   "id": "55aada7e",
   "metadata": {},
   "outputs": [],
   "source": [
    "# SARSA lambda\n",
    "def sarsa_lambda(lamb=0.2, gamma=1, policy=EpsilonGreedyPolicy(), step_size=0.02, exploring_starts=True, sample_step=sample_step_reward_negative_on_loss, epsilon_schedule=None, prob_optimal=1.0, epsilon_schedule_update=None):\n",
    "    Q = {} # take default to be zero\n",
    "    E = {} # eligibility traces\n",
    "\n",
    "    Q_history = []  # To keep track of the Q-value over episodes for plotting\n",
    "\n",
    "    if epsilon_schedule_update is None and epsilon_schedule is None: policy.update(0.05)\n",
    "\n",
    "    for i in tqdm(range(max_episodes)):\n",
    "        if exploring_starts:\n",
    "            # Start with a random state and action\n",
    "            S = tuple(np.random.randint(0, initial_pebbles + 1, num_heaps).tolist())\n",
    "            while all(pebble == 0 for pebble in S):\n",
    "                S = tuple(np.random.randint(0, initial_pebbles + 1, num_heaps).tolist())\n",
    "            heap_index = np.random.randint(0, num_heaps)\n",
    "            while S[heap_index] == 0:\n",
    "                heap_index = np.random.randint(0, num_heaps)\n",
    "            A = (heap_index, np.random.randint(1, S[heap_index] + 1))\n",
    "        else:\n",
    "            S = start_state\n",
    "            A = policy.policy(S, Q)\n",
    "\n",
    "        game = SimpleNim(list(S))\n",
    "\n",
    "        while not game.is_game_over():\n",
    "            R, S1 = sample_step(game, A, prob_optimal=prob_optimal)\n",
    "            if game.is_game_over():\n",
    "                A1 = (0,0)\n",
    "            else:\n",
    "                A1 = policy.policy(S1, Q)\n",
    "\n",
    "            if S1 not in Q:\n",
    "                Q[S1] = {}\n",
    "            if A1 not in Q[S1]:\n",
    "                Q[S1][A1] = 0\n",
    "            if S not in Q:\n",
    "                Q[S] = {}\n",
    "            if A not in Q[S]:\n",
    "                Q[S][A] = 0\n",
    "            target = R + gamma*Q[S1][A1]\n",
    "            delta = target-Q[S][A]\n",
    "\n",
    "            if S not in E:\n",
    "                E[S] = {}\n",
    "            if A not in E[S]:\n",
    "                E[S][A] = 0\n",
    "\n",
    "            E[S][A] += 1  # Increment eligibility trace for the current state-action pair\n",
    "\n",
    "            # Update all state-action pairs\n",
    "            for s in Q:\n",
    "                for a in Q[s]:\n",
    "                    if s not in E:\n",
    "                        E[s] = {}\n",
    "                    if a not in E[s]:\n",
    "                        E[s][a] = 0\n",
    "\n",
    "                    # Update Q-value using eligibility trace\n",
    "                    Q[s][a] += step_size * delta * E[s][a]\n",
    "\n",
    "                    # Decay eligibility traces\n",
    "                    E[s][a] *= lamb * gamma\n",
    "\n",
    "            A = A1\n",
    "            S = S1\n",
    "\n",
    "        # Reset eligibility traces for the next episode\n",
    "        E = {}\n",
    "\n",
    "        if epsilon_schedule is not None: policy.update(epsilon=epsilon_schedule[i])\n",
    "        if epsilon_schedule_update is not None: epsilon_schedule_update(policy, i)\n",
    "\n",
    "        # Track the Q-value for plotting\n",
    "        if Q:\n",
    "            toAdd = max(Q[start_state].values()) if start_state in Q and Q[start_state] else 0\n",
    "            Q_history.append(toAdd)\n",
    "\n",
    "    print(\"Q values at start state:\", Q.get(start_state, {}))\n",
    "\n",
    "    return policy, Q, Q_history"
   ]
  },
  {
   "cell_type": "code",
   "execution_count": 139,
   "id": "193eed2b",
   "metadata": {},
   "outputs": [
    {
     "name": "stdout",
     "output_type": "stream",
     "text": [
      "Lambda: 0.1\n",
      "iteration 1\n"
     ]
    },
    {
     "name": "stderr",
     "output_type": "stream",
     "text": [
      "100%|██████████| 100000/100000 [00:42<00:00, 2337.71it/s]\n"
     ]
    },
    {
     "name": "stdout",
     "output_type": "stream",
     "text": [
      "Q values at start state: {(0, 1): -0.5548015874962743, (1, 4): 0.5938996176954348, (1, 1): -0.5979992014708302, (2, 1): -0.4400192702723349, (0, 2): -0.6192527221455364, (1, 2): -0.6054248226535963, (1, 3): -0.6214428227508975, (2, 3): -0.625671166482092, (2, 4): 0.5894352232735143, (0, 4): 0.627381942994294, (2, 2): -0.5143722055645188, (0, 3): -0.6369609586050506}\n",
      "Average number of fumbles: 0.0\n",
      "Fumble rate: 0.00%\n",
      "Lambda: 0.2\n",
      "iteration 1\n"
     ]
    },
    {
     "name": "stderr",
     "output_type": "stream",
     "text": [
      "100%|██████████| 100000/100000 [00:42<00:00, 2374.24it/s]\n"
     ]
    },
    {
     "name": "stdout",
     "output_type": "stream",
     "text": [
      "Q values at start state: {(2, 1): -0.5544379496256181, (2, 3): -0.6010623028642669, (1, 4): 0.537683394687064, (1, 1): -0.5377503322798238, (1, 2): -0.6255755508064931, (0, 2): -0.5217772772108565, (0, 3): -0.6940104705156318, (0, 4): 0.580562726895731, (2, 4): 0.6308171070207355, (2, 2): -0.5920347547008961, (0, 1): -0.6200526279473313, (1, 3): -0.5184527745179116}\n",
      "Average number of fumbles: 0.0\n",
      "Fumble rate: 0.00%\n",
      "Lambda: 0.5\n",
      "iteration 1\n"
     ]
    },
    {
     "name": "stderr",
     "output_type": "stream",
     "text": [
      "100%|██████████| 100000/100000 [00:42<00:00, 2363.16it/s]\n"
     ]
    },
    {
     "name": "stdout",
     "output_type": "stream",
     "text": [
      "Q values at start state: {(0, 3): -0.6074225502819823, (0, 1): -0.5086856770968656, (1, 4): 0.6150656947023139, (0, 4): 0.4397167403550223, (2, 2): -0.6126640856292005, (1, 2): -0.6399629783034674, (1, 3): -0.6205970623064965, (2, 4): 0.5454274455338359, (1, 1): -0.5642304973795316, (0, 2): -0.5649399683672324, (2, 3): -0.5718116445893792, (2, 1): -0.5012568957429507}\n",
      "Average number of fumbles: 0.0\n",
      "Fumble rate: 0.00%\n",
      "Lambda: 0.8\n",
      "iteration 1\n"
     ]
    },
    {
     "name": "stderr",
     "output_type": "stream",
     "text": [
      "100%|██████████| 100000/100000 [00:42<00:00, 2358.81it/s]\n"
     ]
    },
    {
     "name": "stdout",
     "output_type": "stream",
     "text": [
      "Q values at start state: {(0, 1): -0.6042733251138643, (1, 1): -0.5899968929936219, (1, 2): -0.6118656548703755, (2, 4): 0.502741702632965, (1, 4): 0.6044372041801889, (2, 1): -0.5440633683085995, (2, 3): -0.6372163928130781, (0, 2): -0.6524718195847867, (1, 3): -0.6321193674528011, (0, 3): -0.50460099540739, (2, 2): -0.618831267311535, (0, 4): 0.5584088252604635}\n",
      "Average number of fumbles: 0.0\n",
      "Fumble rate: 0.00%\n"
     ]
    },
    {
     "data": {
      "image/png": "[encoded data removed]",
      "text/plain": [
       "<Figure size 640x480 with 1 Axes>"
      ]
     },
     "metadata": {},
     "output_type": "display_data"
    }
   ],
   "source": [
    "# plot the fumble rate for SARSA lambda for different lambdas\n",
    "lambdas = [0.1, 0.2, 0.5, 0.8]\n",
    "fumble_rates = []\n",
    "\n",
    "best_lambda = 0.0\n",
    "best_fumble_rate = float('inf')\n",
    "\n",
    "for lamb in lambdas:\n",
    "    print(f'Lambda: {lamb}')\n",
    "    num_iters = 1\n",
    "    total_fumbles, num_winning_pos = evaluate_using_fumbles_averaged(sarsa_lambda, num_iters=num_iters)\n",
    "    fumble_rates.append(float(total_fumbles) / float(num_winning_pos * num_iters))\n",
    "    print('Average number of fumbles:', total_fumbles / num_iters)\n",
    "    print('Fumble rate: {:.2f}%'.format(fumble_rates[-1] * 100))\n",
    "\n",
    "    if fumble_rates[-1] < best_fumble_rate:\n",
    "        best_fumble_rate = fumble_rates[-1]\n",
    "        best_lambda = lamb\n",
    "\n",
    "plt.plot(lambdas, fumble_rates)\n",
    "plt.xlabel('Lambda')\n",
    "plt.ylabel('Fumble Rate')\n",
    "plt.title('Fumble rate for different lambda values in SARSA(lambda)')\n",
    "plt.show()"
   ]
  },
  {
   "cell_type": "code",
   "execution_count": 140,
   "id": "55a8510c",
   "metadata": {},
   "outputs": [
    {
     "name": "stderr",
     "output_type": "stream",
     "text": [
      "100%|██████████| 100000/100000 [00:41<00:00, 2402.03it/s]"
     ]
    },
    {
     "name": "stdout",
     "output_type": "stream",
     "text": [
      "Q values at start state: {(2, 4): 0.5542400146810145, (2, 1): -0.4348175223084395, (2, 3): -0.6131850741156043, (1, 4): 0.6075644349539954, (0, 1): -0.5124263737824113, (1, 3): -0.5227190072979115, (1, 1): -0.6099647985795533, (0, 3): -0.43162505256647027, (2, 2): -0.5430221045964565, (0, 4): 0.5960952185947285, (0, 2): -0.6319643135360707, (1, 2): -0.585044647099032}\n",
      "number of fumbles: 0\n",
      "total number of winning positions: 48\n",
      "percentage of winning positions fumbled: 0.00 %\n"
     ]
    },
    {
     "name": "stderr",
     "output_type": "stream",
     "text": [
      "\n"
     ]
    }
   ],
   "source": [
    "policy, Q, history = sarsa_lambda(lamb=best_lambda)\n",
    "evaluate_using_fumbles(policy, Q)"
   ]
  },
  {
   "cell_type": "code",
   "execution_count": 141,
   "id": "56095050",
   "metadata": {},
   "outputs": [
    {
     "data": {
      "image/png": "[encoded data removed]",
      "text/plain": [
       "<Figure size 640x480 with 1 Axes>"
      ]
     },
     "metadata": {},
     "output_type": "display_data"
    }
   ],
   "source": [
    "plt.plot(history)\n",
    "plt.xlabel('Episodes')\n",
    "plt.ylabel('Q-value')\n",
    "plt.title('Q-value over episodes for Sarsa(lambda)')\n",
    "plt.show()"
   ]
  },
  {
   "cell_type": "code",
   "execution_count": 142,
   "id": "ea8680b3",
   "metadata": {},
   "outputs": [],
   "source": [
    "# Apply the new rewards model with negative rewards for losses\n",
    "def sample_step_reward_negative_on_loss_self_play(game, A, prob_optimal=1.0, Q_opponent=None):\n",
    "    if Q_opponent is None:\n",
    "        return play_optimal_random(game, prob_optimal=prob_optimal)\n",
    "    else:\n",
    "        game.make_move(A[0], A[1])\n",
    "\n",
    "        if game.is_game_over():\n",
    "            S_next = game.get_state()\n",
    "            if game.winner() == 0:\n",
    "                return 1, S_next\n",
    "            else:\n",
    "                return -1, S_next\n",
    "\n",
    "        # Get the current state of the game\n",
    "        curr_state = game.get_state()\n",
    "        # Use greedy policy for the opponent\n",
    "        if curr_state not in Q_opponent or len(Q_opponent[curr_state]) == 0:\n",
    "            # If no actions available, play randomly\n",
    "            play_random(game)\n",
    "        else:\n",
    "            # Choose the best action for the opponent based on Q values\n",
    "            opponent_action = max(Q_opponent[curr_state], key=Q_opponent[curr_state].get)\n",
    "            game.make_move(opponent_action[0], opponent_action[1])\n",
    "\n",
    "        S_next = game.get_state()\n",
    "        if game.is_game_over() and game.winner() == 0:\n",
    "            return 1, S_next\n",
    "        elif game.is_game_over():\n",
    "            return -1, S_next\n",
    "        else:\n",
    "            return 0, S_next"
   ]
  },
  {
   "cell_type": "code",
   "execution_count": 143,
   "id": "2c24d23e",
   "metadata": {},
   "outputs": [],
   "source": [
    "# Compare two Q-tables over a number of games.\n",
    "# If Q1 beats Q2 in 55% of the games, it is considered better\n",
    "def compareQ(Q1, Q2, num_games=1000):\n",
    "    wins1 = 0\n",
    "    for i in range(num_games):\n",
    "        game = SimpleNim([initial_pebbles] * num_heaps)\n",
    "        if i%2 == 0:\n",
    "            current_Q, opponent_Q = Q1, Q2\n",
    "        else:\n",
    "            current_Q, opponent_Q = Q2, Q1\n",
    "\n",
    "        while not game.is_game_over():\n",
    "            state = game.get_state()\n",
    "            if state not in current_Q or len(current_Q[state]) == 0:\n",
    "                action = play_random(game)\n",
    "            else:\n",
    "                action = max(current_Q[state], key=current_Q[state].get)\n",
    "                if action[1] == 0:\n",
    "                    action = play_random(game)\n",
    "                game.make_move(action[0], action[1])\n",
    "\n",
    "            if game.is_game_over():\n",
    "                break\n",
    "\n",
    "            # Opponent's turn\n",
    "            state = game.get_state()\n",
    "            if state not in opponent_Q or len(opponent_Q[state]) == 0:\n",
    "                play_random(game)\n",
    "            else:\n",
    "                action = max(opponent_Q[state], key=opponent_Q[state].get)\n",
    "                if action[1] == 0:\n",
    "                    action = play_random(game)\n",
    "                game.make_move(action[0], action[1])\n",
    "\n",
    "        if game.winner() == 0:\n",
    "            wins1 += 1\n",
    "\n",
    "        return Q1.copy() if wins1 > num_games * 0.55 else Q2"
   ]
  },
  {
   "cell_type": "code",
   "execution_count": 147,
   "id": "f9e2645b",
   "metadata": {},
   "outputs": [],
   "source": [
    "# Q-Learning\n",
    "def qlearning_self_play(gamma=1, policy=EpsilonGreedyPolicy(), step_size=0.02, exploring_starts=True, sample_step=sample_step_reward_zero_on_loss, epsilon_schedule=None, epsilon_schedule_update=None, step_size_schedule=None, play_against_optimal_until=100):\n",
    "    Q = {} # take default to be zero\n",
    "\n",
    "    Q_opponent = {}  # Q-values for the opponent\n",
    "\n",
    "    Q_history = []  # To keep track of the Q-value over episodes for plotting\n",
    "\n",
    "    if epsilon_schedule_update is None and epsilon_schedule is None: policy.update(0.05)\n",
    "\n",
    "    for i in tqdm(range(max_episodes)):\n",
    "        if exploring_starts:\n",
    "            # Start with a random state and action\n",
    "            S = tuple(np.random.randint(0, initial_pebbles + 1, num_heaps).tolist())\n",
    "            while all(pebble == 0 for pebble in S):\n",
    "                S = tuple(np.random.randint(0, initial_pebbles + 1, num_heaps).tolist())\n",
    "            heap_index = np.random.randint(0, num_heaps)\n",
    "            while S[heap_index] == 0:\n",
    "                heap_index = np.random.randint(0, num_heaps)\n",
    "            A = (heap_index, np.random.randint(1, S[heap_index] + 1))\n",
    "        else:\n",
    "            S = start_state\n",
    "            A = policy.policy(S, Q)\n",
    "\n",
    "        game = SimpleNim(list(S))  # Reset the game\n",
    "\n",
    "        while not game.is_game_over():\n",
    "            if i > play_against_optimal_until:\n",
    "                R, S1 = sample_step(game, A, Q_opponent=Q_opponent)\n",
    "            else:\n",
    "                R, S1 = sample_step(game, A, Q_opponent=None)\n",
    "            if game.is_game_over():\n",
    "                A1 = (0,0)\n",
    "            else:\n",
    "                A1 = policy.policy(S1, Q)\n",
    "\n",
    "            if S1 not in Q:\n",
    "                Q[S1] = {}\n",
    "\n",
    "            if len(Q[S1]) != 0: Q_max = Q[S1][max(Q[S1])]\n",
    "            else: Q_max = 0\n",
    "\n",
    "            if S not in Q:\n",
    "                Q[S] = {}\n",
    "            if A not in Q[S]:\n",
    "                Q[S][A] = 0\n",
    "            target = R + gamma*Q_max\n",
    "            delta = target-Q[S][A]\n",
    "            current_step_size = step_size_schedule[i] if step_size_schedule is not None else step_size\n",
    "            Q[S][A] = Q[S][A] + current_step_size*delta\n",
    "\n",
    "            A = A1\n",
    "            S = game.get_state()\n",
    "\n",
    "        if epsilon_schedule_update is not None: epsilon_schedule_update(policy, i)\n",
    "        if epsilon_schedule is not None: policy.update(epsilon_schedule[i])\n",
    "\n",
    "        # Update opponent's Q-values: Best policy until now\n",
    "        Q_opponent = compareQ(Q, Q_opponent, num_games=10000)\n",
    "\n",
    "        # Track the Q-value for plotting\n",
    "        if Q:\n",
    "            toAdd = max(Q[start_state].values()) if start_state in Q and Q[start_state] else 0\n",
    "            Q_history.append(toAdd)\n",
    "\n",
    "    return policy, Q, Q_history"
   ]
  },
  {
   "cell_type": "code",
   "execution_count": 145,
   "id": "0262eabd",
   "metadata": {},
   "outputs": [],
   "source": [
    "def sample_step_reward_negative_on_loss_self_play_unless_spec(game, A, Q_opponent=None, prob_optimal=1.0):\n",
    "    if Q_opponent is None:\n",
    "        return sample_step_reward_negative_on_loss(game, A, prob_optimal=prob_optimal)\n",
    "    else:\n",
    "        return sample_step_reward_negative_on_loss_self_play(game, A, Q_opponent=Q_opponent)"
   ]
  },
  {
   "cell_type": "markdown",
   "id": "45c2772f",
   "metadata": {},
   "source": [
    "#### Self play starting from scratch"
   ]
  },
  {
   "cell_type": "code",
   "execution_count": 148,
   "id": "173c319e",
   "metadata": {},
   "outputs": [
    {
     "name": "stderr",
     "output_type": "stream",
     "text": [
      "100%|██████████| 100000/100000 [00:03<00:00, 27462.90it/s]"
     ]
    },
    {
     "name": "stdout",
     "output_type": "stream",
     "text": [
      "number of fumbles: 15\n",
      "total number of winning positions: 48\n",
      "percentage of winning positions fumbled: 31.25 %\n"
     ]
    },
    {
     "name": "stderr",
     "output_type": "stream",
     "text": [
      "\n"
     ]
    }
   ],
   "source": [
    "policy, Q, history = qlearning_self_play(sample_step=sample_step_reward_negative_on_loss_self_play_unless_spec, epsilon_schedule=get_geometric_schedule(decay=0.3), play_against_optimal_until=0)\n",
    "evaluate_using_fumbles(policy, Q)"
   ]
  },
  {
   "cell_type": "code",
   "execution_count": 149,
   "id": "67315f3f",
   "metadata": {},
   "outputs": [
    {
     "data": {
      "image/png": "[encoded data removed]",
      "text/plain": [
       "<Figure size 640x480 with 1 Axes>"
      ]
     },
     "metadata": {},
     "output_type": "display_data"
    }
   ],
   "source": [
    "plt.plot(history)\n",
    "plt.xlabel('Episodes')\n",
    "plt.ylabel('Q-value')\n",
    "plt.title('Q-value over episodes for Q-learning with self-play')\n",
    "plt.show()"
   ]
  },
  {
   "cell_type": "markdown",
   "id": "4a349635",
   "metadata": {},
   "source": [
    "#### Observation:\n",
    "- Converges too quick to a local optimum\n",
    "- Because suboptimal moves don't get punished as much, maybe we should try to guide the strategies atleast initially"
   ]
  },
  {
   "cell_type": "markdown",
   "id": "031d0a61",
   "metadata": {},
   "source": [
    "### Self play with optimal opponent for a few iterations"
   ]
  },
  {
   "cell_type": "markdown",
   "id": "5b44c37b",
   "metadata": {},
   "source": [
    "- The optimal opponent acts as a guide or teacher for a few iterations just to show the agent a few tricks\n",
    "- For other games this can be changed to human experience if optimal strategies are not known\n",
    "- This is done to reduce the iterations wasted on exploring extremely bad policies\n",
    "\n",
    "- We must not use the optimal guide for too many iterations because that would be cheating, the goal is not to build an agent for Nim(which obviously never outperforms the known optimal strategy) but to look at methods to deal with building RL agents for games"
   ]
  },
  {
   "cell_type": "code",
   "execution_count": 150,
   "id": "4fe19f7b",
   "metadata": {},
   "outputs": [
    {
     "name": "stderr",
     "output_type": "stream",
     "text": [
      "100%|██████████| 100000/100000 [00:03<00:00, 27287.24it/s]"
     ]
    },
    {
     "name": "stdout",
     "output_type": "stream",
     "text": [
      "number of fumbles: 16\n",
      "total number of winning positions: 48\n",
      "percentage of winning positions fumbled: 33.33 %\n"
     ]
    },
    {
     "name": "stderr",
     "output_type": "stream",
     "text": [
      "\n"
     ]
    }
   ],
   "source": [
    "policy, Q, history = qlearning_self_play(sample_step=sample_step_reward_negative_on_loss_self_play_unless_spec, epsilon_schedule=get_geometric_schedule(decay=0.3), play_against_optimal_until=10000)\n",
    "evaluate_using_fumbles(policy, Q)"
   ]
  },
  {
   "cell_type": "code",
   "execution_count": 151,
   "id": "a7014f8e",
   "metadata": {},
   "outputs": [
    {
     "data": {
      "image/png": "[encoded data removed]",
      "text/plain": [
       "<Figure size 640x480 with 1 Axes>"
      ]
     },
     "metadata": {},
     "output_type": "display_data"
    }
   ],
   "source": [
    "plt.plot(history)\n",
    "plt.xlabel('Episodes')\n",
    "plt.ylabel('Q-value')\n",
    "plt.title('Q-value over episodes for Q-learning with self-play with mentor')\n",
    "plt.show()"
   ]
  },
  {
   "cell_type": "markdown",
   "id": "6ca7fe26",
   "metadata": {},
   "source": [
    "#### Note:\n",
    "- Self play seems to have a much smoother convergence even though the fumble rate stays quite high\n",
    "- When the optimal mentor was introduced we see the jaggedness in the plot again\n",
    "- Maybe the treatment of the optimal case has some issues"
   ]
  },
  {
   "cell_type": "markdown",
   "id": "32580463",
   "metadata": {},
   "source": [
    "## Discounting:\n",
    "- It seems that optimal play causes a lot of jaggedness in the Q-values\n",
    "- This seems to be because of how harshly sample paths are punished in case of a loss\n",
    "- So let's try discounting and see if that helps"
   ]
  },
  {
   "cell_type": "code",
   "execution_count": 152,
   "id": "032b4375",
   "metadata": {},
   "outputs": [
    {
     "name": "stdout",
     "output_type": "stream",
     "text": [
      "Discounting factor: 0.1\n",
      "iteration 1\n"
     ]
    },
    {
     "name": "stderr",
     "output_type": "stream",
     "text": [
      "100%|██████████| 100000/100000 [00:02<00:00, 46858.76it/s]\n"
     ]
    },
    {
     "name": "stdout",
     "output_type": "stream",
     "text": [
      "Q values at start state: {(1, 4): 0.6168833410833384, (0, 1): 0.279745887792338, (1, 3): 0.25976754339097596, (0, 3): 0.34524053973559854, (2, 4): 0.6155628180843179, (2, 1): 0.2665585682383764, (0, 4): 0.5900076594816076, (2, 2): 0.2762577589205396, (1, 2): 0.304568048742289, (1, 1): 0.261977064966429, (0, 2): 0.24169773280566864, (2, 3): 0.2588010429267532}\n",
      "Average number of fumbles: 0.0\n",
      "Fumble rate: 0.00%\n",
      "Training with discounting factor to get Q-value plot: 0.1\n"
     ]
    },
    {
     "name": "stderr",
     "output_type": "stream",
     "text": [
      "100%|██████████| 100000/100000 [00:02<00:00, 46969.28it/s]\n"
     ]
    },
    {
     "name": "stdout",
     "output_type": "stream",
     "text": [
      "Q values at start state: {(0, 1): 0.31755821238973364, (2, 4): 0.5673532971506698, (0, 4): 0.6139667924233367, (2, 1): 0.24867561059288584, (0, 3): 0.2646488066280289, (2, 2): 0.3185477392602715, (0, 2): 0.32064193669216123, (1, 4): 0.5953444358760139, (2, 3): 0.3708756507436764, (1, 2): 0.28337117504409876, (1, 3): 0.31346400659649837, (1, 1): 0.3038546332043772}\n",
      "Discounting factor: 0.2\n",
      "iteration 1\n"
     ]
    },
    {
     "name": "stderr",
     "output_type": "stream",
     "text": [
      "100%|██████████| 100000/100000 [00:02<00:00, 47298.17it/s]\n"
     ]
    },
    {
     "name": "stdout",
     "output_type": "stream",
     "text": [
      "Q values at start state: {(2, 2): 0.3170930203711927, (0, 1): 0.28961957451748416, (1, 1): 0.23173474703547906, (0, 2): 0.2497367767709035, (1, 4): 0.6651308525585714, (2, 4): 0.6255863153810162, (0, 4): 0.5503786446016233, (1, 3): 0.2523955736365777, (0, 3): 0.3073586283178997, (1, 2): 0.2946417392461484, (2, 1): 0.20559092279386082, (2, 3): 0.26357921410032986}\n",
      "Average number of fumbles: 0.0\n",
      "Fumble rate: 0.00%\n",
      "Training with discounting factor to get Q-value plot: 0.2\n"
     ]
    },
    {
     "name": "stderr",
     "output_type": "stream",
     "text": [
      "100%|██████████| 100000/100000 [00:02<00:00, 46738.97it/s]\n"
     ]
    },
    {
     "name": "stdout",
     "output_type": "stream",
     "text": [
      "Q values at start state: {(0, 4): 0.6112041924041227, (2, 1): 0.25657468949230655, (2, 3): 0.28878701541657037, (0, 1): 0.313689542080003, (2, 2): 0.37326949078777305, (1, 1): 0.30974069742425153, (1, 2): 0.33541166248006427, (0, 2): 0.2971779828882933, (1, 4): 0.6162814376611646, (1, 3): 0.2949239836907903, (2, 4): 0.620610574762326, (0, 3): 0.2417642192757078}\n",
      "Discounting factor: 0.30000000000000004\n",
      "iteration 1\n"
     ]
    },
    {
     "name": "stderr",
     "output_type": "stream",
     "text": [
      "100%|██████████| 100000/100000 [00:02<00:00, 47548.38it/s]\n"
     ]
    },
    {
     "name": "stdout",
     "output_type": "stream",
     "text": [
      "Q values at start state: {(1, 1): 0.35310132624963336, (0, 1): 0.33022205072067723, (2, 4): 0.606010143359523, (2, 2): 0.3477498509677045, (2, 3): 0.24858088711735465, (0, 4): 0.6213605146669132, (1, 3): 0.2861162991185198, (2, 1): 0.253647028262412, (1, 4): 0.6150366312018993, (0, 3): 0.2975619542545486, (0, 2): 0.23258247195272583, (1, 2): 0.28611566448225095}\n",
      "Average number of fumbles: 0.0\n",
      "Fumble rate: 0.00%\n",
      "Training with discounting factor to get Q-value plot: 0.30000000000000004\n"
     ]
    },
    {
     "name": "stderr",
     "output_type": "stream",
     "text": [
      "100%|██████████| 100000/100000 [00:02<00:00, 47500.57it/s]\n"
     ]
    },
    {
     "name": "stdout",
     "output_type": "stream",
     "text": [
      "Q values at start state: {(1, 1): 0.29179995128095715, (2, 1): 0.2998328740928221, (0, 3): 0.32268132268627286, (1, 2): 0.3088739141481515, (0, 1): 0.3051988993551946, (1, 4): 0.6446638922575606, (2, 4): 0.6242323258048488, (1, 3): 0.3121973707171861, (0, 4): 0.6062941566105161, (2, 3): 0.31655751883815497, (2, 2): 0.2845353647343848, (0, 2): 0.2639376835314778}\n",
      "Discounting factor: 0.4\n",
      "iteration 1\n"
     ]
    },
    {
     "name": "stderr",
     "output_type": "stream",
     "text": [
      "100%|██████████| 100000/100000 [00:02<00:00, 44947.50it/s]\n"
     ]
    },
    {
     "name": "stdout",
     "output_type": "stream",
     "text": [
      "Q values at start state: {(1, 2): 0.26404187375344873, (1, 1): 0.28722076418836373, (2, 1): 0.24592775307555723, (0, 1): 0.26792887779953234, (2, 3): 0.2599777453468199, (0, 2): 0.27768431102245267, (2, 4): 0.49598178905742185, (1, 3): 0.2517406335742716, (0, 4): 0.6278033795393095, (1, 4): 0.5049745546700527, (2, 2): 0.2784578569735565, (0, 3): 0.3028060001156873}\n",
      "Average number of fumbles: 0.0\n",
      "Fumble rate: 0.00%\n",
      "Training with discounting factor to get Q-value plot: 0.4\n"
     ]
    },
    {
     "name": "stderr",
     "output_type": "stream",
     "text": [
      "100%|██████████| 100000/100000 [00:02<00:00, 45193.94it/s]\n"
     ]
    },
    {
     "name": "stdout",
     "output_type": "stream",
     "text": [
      "Q values at start state: {(0, 2): 0.283959873595133, (1, 2): 0.2621012123360852, (0, 4): 0.6386272668096018, (2, 3): 0.28354578929568486, (1, 1): 0.28305347992798857, (0, 3): 0.2757271334550121, (2, 2): 0.289939531576971, (2, 1): 0.3228795669380806, (2, 4): 0.6367054996786475, (1, 4): 0.6155133242925527, (1, 3): 0.2631924578568845, (0, 1): 0.31001619873667957}\n",
      "Discounting factor: 0.5\n",
      "iteration 1\n"
     ]
    },
    {
     "name": "stderr",
     "output_type": "stream",
     "text": [
      "100%|██████████| 100000/100000 [00:02<00:00, 47084.66it/s]\n"
     ]
    },
    {
     "name": "stdout",
     "output_type": "stream",
     "text": [
      "Q values at start state: {(1, 1): 0.2645566230362998, (2, 2): 0.31667732078076516, (0, 2): 0.3051768189290156, (1, 2): 0.3460560489239112, (2, 3): 0.35183745683375395, (1, 4): 0.6403781869308147, (0, 3): 0.2781942922874464, (1, 3): 0.2577952197688873, (0, 4): 0.6212511570268648, (2, 4): 0.5241057108380889, (0, 1): 0.24459522410870316, (2, 1): 0.257983951696567}\n",
      "Average number of fumbles: 0.0\n",
      "Fumble rate: 0.00%\n",
      "Training with discounting factor to get Q-value plot: 0.5\n"
     ]
    },
    {
     "name": "stderr",
     "output_type": "stream",
     "text": [
      "100%|██████████| 100000/100000 [00:02<00:00, 46819.81it/s]\n"
     ]
    },
    {
     "name": "stdout",
     "output_type": "stream",
     "text": [
      "Q values at start state: {(0, 4): 0.6793371337857924, (2, 4): 0.5922492292867972, (0, 2): 0.3033370096822676, (0, 1): 0.33246681921194116, (1, 1): 0.26362594995557304, (2, 1): 0.2774955677039487, (1, 2): 0.2416672393867415, (0, 3): 0.3276933593624701, (2, 2): 0.26665586869898805, (1, 3): 0.23673449424421897, (1, 4): 0.6074479353091689, (2, 3): 0.28931138932687683}\n",
      "Discounting factor: 0.6\n",
      "iteration 1\n"
     ]
    },
    {
     "name": "stderr",
     "output_type": "stream",
     "text": [
      "100%|██████████| 100000/100000 [00:02<00:00, 46476.65it/s]\n"
     ]
    },
    {
     "name": "stdout",
     "output_type": "stream",
     "text": [
      "Q values at start state: {(1, 4): 0.5964360382249353, (2, 1): 0.2655609149338217, (1, 3): 0.24836733436501995, (2, 3): 0.23617112508967517, (0, 4): 0.5597129669836973, (0, 2): 0.31471414252758745, (2, 4): 0.6243533703797847, (1, 2): 0.2851853110958311, (2, 2): 0.28097115820389684, (0, 1): 0.2898883522770793, (1, 1): 0.3029469458501, (0, 3): 0.24835036362444488}\n",
      "Average number of fumbles: 0.0\n",
      "Fumble rate: 0.00%\n",
      "Training with discounting factor to get Q-value plot: 0.6\n"
     ]
    },
    {
     "name": "stderr",
     "output_type": "stream",
     "text": [
      "100%|██████████| 100000/100000 [00:02<00:00, 46402.39it/s]\n"
     ]
    },
    {
     "name": "stdout",
     "output_type": "stream",
     "text": [
      "Q values at start state: {(1, 4): 0.5673098175822692, (2, 1): 0.3458403343920952, (0, 1): 0.33731984331251147, (0, 3): 0.29268493714372407, (2, 2): 0.35009749989991357, (2, 3): 0.28402000273130873, (1, 1): 0.3122358193971637, (1, 3): 0.33077298174576397, (2, 4): 0.5308706034681668, (0, 2): 0.29547030295027893, (0, 4): 0.6507529881147814, (1, 2): 0.32151359933574547}\n",
      "Discounting factor: 0.7000000000000001\n",
      "iteration 1\n"
     ]
    },
    {
     "name": "stderr",
     "output_type": "stream",
     "text": [
      "100%|██████████| 100000/100000 [00:02<00:00, 47325.41it/s]\n"
     ]
    },
    {
     "name": "stdout",
     "output_type": "stream",
     "text": [
      "Q values at start state: {(2, 4): 0.5305040011483567, (1, 3): 0.24725035519595914, (0, 3): 0.3207916745984373, (2, 2): 0.28771292577439134, (1, 2): 0.3066509260362132, (0, 2): 0.29712719682269906, (1, 4): 0.5833040409875369, (2, 3): 0.34426332667172826, (0, 1): 0.30904034695507554, (0, 4): 0.5931247258718443, (2, 1): 0.3081702540638895, (1, 1): 0.35222591544173004}\n",
      "Average number of fumbles: 0.0\n",
      "Fumble rate: 0.00%\n",
      "Training with discounting factor to get Q-value plot: 0.7000000000000001\n"
     ]
    },
    {
     "name": "stderr",
     "output_type": "stream",
     "text": [
      "100%|██████████| 100000/100000 [00:02<00:00, 46128.80it/s]\n"
     ]
    },
    {
     "name": "stdout",
     "output_type": "stream",
     "text": [
      "Q values at start state: {(0, 1): 0.27720892520900764, (0, 3): 0.24024890604931953, (1, 1): 0.3170740736184588, (1, 3): 0.30457864950040536, (0, 4): 0.6160561586396496, (1, 4): 0.6446707182715976, (2, 2): 0.34394798218470574, (2, 1): 0.2725116713488405, (2, 3): 0.28352947952499397, (2, 4): 0.5624015123932646, (1, 2): 0.3289242959794193, (0, 2): 0.2755490696043386}\n",
      "Discounting factor: 0.8\n",
      "iteration 1\n"
     ]
    },
    {
     "name": "stderr",
     "output_type": "stream",
     "text": [
      "100%|██████████| 100000/100000 [00:02<00:00, 47087.30it/s]\n"
     ]
    },
    {
     "name": "stdout",
     "output_type": "stream",
     "text": [
      "Q values at start state: {(0, 4): 0.6598162302488347, (0, 2): 0.25804475077366035, (0, 3): 0.29249700749803237, (2, 2): 0.31019199360560845, (0, 1): 0.23480820346848705, (1, 3): 0.24381338862555488, (1, 2): 0.32136089120347316, (2, 1): 0.3047142183160209, (2, 3): 0.2812239766423587, (1, 1): 0.3141018515763485, (1, 4): 0.5563404088610372, (2, 4): 0.5418742366816781}\n",
      "Average number of fumbles: 0.0\n",
      "Fumble rate: 0.00%\n",
      "Training with discounting factor to get Q-value plot: 0.8\n"
     ]
    },
    {
     "name": "stderr",
     "output_type": "stream",
     "text": [
      "100%|██████████| 100000/100000 [00:02<00:00, 47126.31it/s]\n"
     ]
    },
    {
     "name": "stdout",
     "output_type": "stream",
     "text": [
      "Q values at start state: {(1, 3): 0.30450142736761737, (2, 3): 0.2652536324296893, (2, 4): 0.5988532765020231, (2, 1): 0.3263041941660184, (0, 4): 0.6185759656318511, (0, 3): 0.29867832691852525, (0, 2): 0.3359887227131375, (1, 1): 0.27454790467913903, (1, 2): 0.258895493111804, (1, 4): 0.4947641105961271, (0, 1): 0.30560888621513166, (2, 2): 0.306138988303314}\n",
      "Discounting factor: 0.9\n",
      "iteration 1\n"
     ]
    },
    {
     "name": "stderr",
     "output_type": "stream",
     "text": [
      "100%|██████████| 100000/100000 [00:02<00:00, 46391.83it/s]\n"
     ]
    },
    {
     "name": "stdout",
     "output_type": "stream",
     "text": [
      "Q values at start state: {(0, 1): 0.298894980645428, (1, 2): 0.319102494554117, (2, 3): 0.2060100986154407, (1, 4): 0.5748483311420707, (2, 2): 0.28505342348099005, (1, 1): 0.22585258644838213, (1, 3): 0.31584164095831857, (2, 4): 0.5921510932401037, (0, 4): 0.5750567357924395, (0, 2): 0.25868900899091307, (2, 1): 0.2615678427415092, (0, 3): 0.3240456210089198}\n",
      "Average number of fumbles: 0.0\n",
      "Fumble rate: 0.00%\n",
      "Training with discounting factor to get Q-value plot: 0.9\n"
     ]
    },
    {
     "name": "stderr",
     "output_type": "stream",
     "text": [
      "100%|██████████| 100000/100000 [00:02<00:00, 47151.77it/s]"
     ]
    },
    {
     "name": "stdout",
     "output_type": "stream",
     "text": [
      "Q values at start state: {(2, 1): 0.25600114728326817, (2, 4): 0.6745308619305056, (2, 3): 0.2621239255018744, (0, 4): 0.5844988990211295, (0, 1): 0.2418143037503965, (2, 2): 0.2634026451949571, (0, 3): 0.35830343839069867, (0, 2): 0.28704725818090254, (1, 2): 0.3138903877844912, (1, 4): 0.5021660708524937, (1, 3): 0.34578759159996375, (1, 1): 0.25540998182535}\n"
     ]
    },
    {
     "name": "stderr",
     "output_type": "stream",
     "text": [
      "\n"
     ]
    }
   ],
   "source": [
    "# Evaluate Sarsa with discounted rewards with respect to discounting factor\n",
    "discounting_factors = np.linspace(0.1, 0.9, 9)\n",
    "fumble_rate_by_discounting = []\n",
    "history_by_discounting = []\n",
    "for discounting_factor in discounting_factors:\n",
    "    print(f'Discounting factor: {discounting_factor}')\n",
    "    num_iters = 1\n",
    "    total_fumbles, num_winning_pos = evaluate_using_fumbles_averaged(sarsa, num_iters=num_iters, sample_step=sample_step_reward_negative_on_loss, prob_optimal=0.6)\n",
    "\n",
    "    fumble_rate_by_discounting.append(float(total_fumbles) / float(num_winning_pos * num_iters))\n",
    "    print('Average number of fumbles:', total_fumbles / num_iters)\n",
    "    print('Fumble rate: {:.2f}%'.format(fumble_rate_by_discounting[-1] * 100))\n",
    "    # Train the model with the current discounting factor\n",
    "    print(\"Training with discounting factor to get Q-value plot:\", discounting_factor)\n",
    "    policy, Q, history = sarsa(sample_step=sample_step_reward_negative_on_loss, prob_optimal=0.6)\n",
    "    history_by_discounting.append(history)"
   ]
  },
  {
   "cell_type": "code",
   "execution_count": 153,
   "id": "ac80cd2d",
   "metadata": {},
   "outputs": [
    {
     "data": {
      "image/png": "[encoded data removed]",
      "text/plain": [
       "<Figure size 640x480 with 1 Axes>"
      ]
     },
     "metadata": {},
     "output_type": "display_data"
    }
   ],
   "source": [
    "for i, discounting_factor in enumerate(discounting_factors):\n",
    "    plt.plot(history_by_discounting[i], label=f'DF: {discounting_factor:.1f}')\n",
    "plt.xlabel('Episodes')\n",
    "plt.ylabel('Q-value')\n",
    "plt.title('Q-value over episodes for Sarsa with different discounting factors')\n",
    "plt.legend()\n",
    "plt.show()"
   ]
  },
  {
   "cell_type": "code",
   "execution_count": 154,
   "id": "9e6228ff",
   "metadata": {},
   "outputs": [
    {
     "data": {
      "image/png": "[encoded data removed]",
      "text/plain": [
       "<Figure size 640x480 with 1 Axes>"
      ]
     },
     "metadata": {},
     "output_type": "display_data"
    }
   ],
   "source": [
    "plt.plot(fumble_rate_by_discounting)\n",
    "plt.xlabel('Discounting Factor')\n",
    "plt.ylabel('Fumble Rate')\n",
    "plt.title('Fumble rate for different discounting factors in Sarsa')\n",
    "plt.xticks(range(len(discounting_factors)), [f'{df:.1f}' for df in discounting_factors])\n",
    "plt.show()"
   ]
  },
  {
   "cell_type": "markdown",
   "id": "90f4eba0",
   "metadata": {},
   "source": [
    "#### Observation:\n",
    "- Significant improvement in convergence properties as well as fumble rate results\n",
    "\n",
    "So let's try it for the other methods too"
   ]
  },
  {
   "cell_type": "code",
   "execution_count": 155,
   "id": "0f5a799d",
   "metadata": {},
   "outputs": [
    {
     "name": "stdout",
     "output_type": "stream",
     "text": [
      "Discounting factor: 0.1\n",
      "iteration 1\n"
     ]
    },
    {
     "name": "stderr",
     "output_type": "stream",
     "text": [
      "  9%|▉         | 8755/100000 [00:03<00:37, 2445.03it/s]\n"
     ]
    },
    {
     "ename": "KeyboardInterrupt",
     "evalue": "",
     "output_type": "error",
     "traceback": [
      "\u001b[31m---------------------------------------------------------------------------\u001b[39m",
      "\u001b[31mKeyboardInterrupt\u001b[39m                         Traceback (most recent call last)",
      "\u001b[36mCell\u001b[39m\u001b[36m \u001b[39m\u001b[32mIn[155]\u001b[39m\u001b[32m, line 7\u001b[39m\n\u001b[32m      5\u001b[39m \u001b[38;5;28mprint\u001b[39m(\u001b[33mf\u001b[39m\u001b[33m'\u001b[39m\u001b[33mDiscounting factor: \u001b[39m\u001b[38;5;132;01m{\u001b[39;00mdiscounting_factor\u001b[38;5;132;01m}\u001b[39;00m\u001b[33m'\u001b[39m)\n\u001b[32m      6\u001b[39m num_iters = \u001b[32m3\u001b[39m\n\u001b[32m----> \u001b[39m\u001b[32m7\u001b[39m total_fumbles, num_winning_pos = \u001b[43mevaluate_using_fumbles_averaged\u001b[49m\u001b[43m(\u001b[49m\u001b[43msarsa_lambda\u001b[49m\u001b[43m,\u001b[49m\u001b[43m \u001b[49m\u001b[43mnum_iters\u001b[49m\u001b[43m=\u001b[49m\u001b[43mnum_iters\u001b[49m\u001b[43m,\u001b[49m\u001b[43m \u001b[49m\u001b[43msample_step\u001b[49m\u001b[43m=\u001b[49m\u001b[43msample_step_reward_negative_on_loss\u001b[49m\u001b[43m,\u001b[49m\u001b[43m \u001b[49m\u001b[43mprob_optimal\u001b[49m\u001b[43m=\u001b[49m\u001b[32;43m0.6\u001b[39;49m\u001b[43m)\u001b[49m\n\u001b[32m      9\u001b[39m fumble_rate_by_discounting_lambda.append(\u001b[38;5;28mfloat\u001b[39m(total_fumbles) / \u001b[38;5;28mfloat\u001b[39m(num_winning_pos * num_iters))\n\u001b[32m     10\u001b[39m \u001b[38;5;28mprint\u001b[39m(\u001b[33m'\u001b[39m\u001b[33mAverage number of fumbles:\u001b[39m\u001b[33m'\u001b[39m, total_fumbles / num_iters)\n",
      "\u001b[36mCell\u001b[39m\u001b[36m \u001b[39m\u001b[32mIn[117]\u001b[39m\u001b[32m, line 13\u001b[39m, in \u001b[36mevaluate_using_fumbles_averaged\u001b[39m\u001b[34m(train, num_iters, prob_optimal, sample_step, play_against_optimal_until, epsilon_schedule, epsilon_schedule_update)\u001b[39m\n\u001b[32m     11\u001b[39m         policy, Q, history = train(sample_step=sample_step, epsilon_schedule=epsilon_schedule, epsilon_schedule_update=epsilon_schedule_update)\n\u001b[32m     12\u001b[39m \u001b[38;5;28;01melse\u001b[39;00m:\n\u001b[32m---> \u001b[39m\u001b[32m13\u001b[39m     policy, Q, history = \u001b[43mtrain\u001b[49m\u001b[43m(\u001b[49m\u001b[43msample_step\u001b[49m\u001b[43m=\u001b[49m\u001b[43msample_step\u001b[49m\u001b[43m,\u001b[49m\u001b[43m \u001b[49m\u001b[43mprob_optimal\u001b[49m\u001b[43m=\u001b[49m\u001b[43mprob_optimal\u001b[49m\u001b[43m,\u001b[49m\u001b[43m \u001b[49m\u001b[43mepsilon_schedule\u001b[49m\u001b[43m=\u001b[49m\u001b[43mepsilon_schedule\u001b[49m\u001b[43m,\u001b[49m\u001b[43m \u001b[49m\u001b[43mepsilon_schedule_update\u001b[49m\u001b[43m=\u001b[49m\u001b[43mepsilon_schedule_update\u001b[49m\u001b[43m)\u001b[49m\n\u001b[32m     15\u001b[39m fumbles, num_winning_pos = evaluate_on_winning_positions(policy, Q)\n\u001b[32m     16\u001b[39m total_fumbles += fumbles\n",
      "\u001b[36mCell\u001b[39m\u001b[36m \u001b[39m\u001b[32mIn[138]\u001b[39m\u001b[32m, line 63\u001b[39m, in \u001b[36msarsa_lambda\u001b[39m\u001b[34m(lamb, gamma, policy, step_size, exploring_starts, sample_step, epsilon_schedule, prob_optimal, epsilon_schedule_update)\u001b[39m\n\u001b[32m     60\u001b[39m         Q[s][a] += step_size * delta * E[s][a]\n\u001b[32m     62\u001b[39m         \u001b[38;5;66;03m# Decay eligibility traces\u001b[39;00m\n\u001b[32m---> \u001b[39m\u001b[32m63\u001b[39m         E[s][a] *= lamb * gamma\n\u001b[32m     65\u001b[39m A = A1\n\u001b[32m     66\u001b[39m S = S1\n",
      "\u001b[31mKeyboardInterrupt\u001b[39m: "
     ]
    }
   ],
   "source": [
    "# Evaluate Sarsa lambda with respect to discounting factor\n",
    "fumble_rate_by_discounting_lambda = []\n",
    "history_by_discounting_lambda = []\n",
    "for discounting_factor in discounting_factors:\n",
    "    print(f'Discounting factor: {discounting_factor}')\n",
    "    num_iters = 3\n",
    "    total_fumbles, num_winning_pos = evaluate_using_fumbles_averaged(sarsa_lambda, num_iters=num_iters, sample_step=sample_step_reward_negative_on_loss, prob_optimal=0.6)\n",
    "\n",
    "    fumble_rate_by_discounting_lambda.append(float(total_fumbles) / float(num_winning_pos * num_iters))\n",
    "    print('Average number of fumbles:', total_fumbles / num_iters)\n",
    "    print('Fumble rate: {:.2f}%'.format(fumble_rate_by_discounting_lambda[-1] * 100))\n",
    "    # Train the model with the current discounting factor\n",
    "    print(\"Training with discounting factor to get Q-value plot:\", discounting_factor)\n",
    "    policy, Q, history = sarsa_lambda(sample_step=sample_step_reward_negative_on_loss, prob_optimal=0.6)\n",
    "    history_by_discounting_lambda.append(history)"
   ]
  },
  {
   "cell_type": "code",
   "execution_count": null,
   "id": "f03d34b1",
   "metadata": {},
   "outputs": [],
   "source": [
    "for i, discounting_factor in enumerate(discounting_factors):\n",
    "    plt.plot(history_by_discounting_lambda[i], label=f'DF: {discounting_factor:.1f}')\n",
    "plt.xlabel('Episodes')\n",
    "plt.ylabel('Q-value')\n",
    "plt.title('Q-value over episodes for Sarsa lambda with different discounting factors')\n",
    "plt.legend()\n",
    "plt.show()"
   ]
  },
  {
   "cell_type": "code",
   "execution_count": null,
   "id": "11063317",
   "metadata": {},
   "outputs": [],
   "source": [
    "plt.plot(fumble_rate_by_discounting_lambda)\n",
    "plt.xlabel('Discounting Factor')\n",
    "plt.ylabel('Fumble Rate')\n",
    "plt.title('Fumble rate for different discounting factors in Sarsa lambda')\n",
    "plt.xticks(range(len(discounting_factors)), [f'{df:.1f}' for df in discounting_factors])\n",
    "plt.show()"
   ]
  },
  {
   "cell_type": "code",
   "execution_count": null,
   "id": "27814d1a",
   "metadata": {},
   "outputs": [],
   "source": [
    "# Evaluate Q-learning with respect to discounting factor for optimal play with probability 0.6\n",
    "fumble_rate_by_discounting_qlearning = []\n",
    "history_by_discounting_qlearning = []\n",
    "for discounting_factor in discounting_factors:\n",
    "    print(f'Discounting factor: {discounting_factor}')\n",
    "    num_iters = 3\n",
    "    total_fumbles, num_winning_pos = evaluate_using_fumbles_averaged(qlearning, num_iters=num_iters, sample_step=sample_step_reward_negative_on_loss, prob_optimal=0.6, epsilon_schedule=get_geometric_schedule(decay=0.3))\n",
    "\n",
    "    fumble_rate_by_discounting_qlearning.append(float(total_fumbles) / float(num_winning_pos * num_iters))\n",
    "    print('Average number of fumbles:', total_fumbles / num_iters)\n",
    "    print('Fumble rate: {:.2f}%'.format(fumble_rate_by_discounting_qlearning[-1] * 100))\n",
    "    # Train the model with the current discounting factor\n",
    "    print(\"Training with discounting factor to get Q-value plot:\", discounting_factor)\n",
    "    policy, Q, history = qlearning(sample_step=sample_step_reward_negative_on_loss, prob_optimal=0.6)\n",
    "    history_by_discounting_qlearning.append(history)"
   ]
  },
  {
   "cell_type": "code",
   "execution_count": null,
   "id": "4017b09e",
   "metadata": {},
   "outputs": [],
   "source": [
    "for i, discounting_factor in enumerate(discounting_factors):\n",
    "    plt.plot(history_by_discounting_qlearning[i], label=f'DF: {discounting_factor:.1f}')\n",
    "plt.xlabel('Episodes')\n",
    "plt.ylabel('Q-value')\n",
    "plt.title('Q-value over episodes for Q-learning with different discounting factors')\n",
    "plt.legend()\n",
    "plt.show()"
   ]
  },
  {
   "cell_type": "code",
   "execution_count": null,
   "id": "b751fada",
   "metadata": {},
   "outputs": [],
   "source": [
    "plt.plot(fumble_rate_by_discounting_qlearning)\n",
    "plt.xlabel('Discounting Factor')\n",
    "plt.ylabel('Fumble Rate')\n",
    "plt.title('Fumble rate for different discounting factors in Q-learning')\n",
    "plt.xticks(range(len(discounting_factors)), [f'{df:.1f}' for df in discounting_factors])\n",
    "plt.show()"
   ]
  },
  {
   "cell_type": "code",
   "execution_count": null,
   "id": "636a6139",
   "metadata": {},
   "outputs": [],
   "source": [
    "# Same thing but change epsilon schedule to be 1/(i+1) for Q-learning\n",
    "fumble_rate_by_discounting_qlearning_inv_time_epsilon = []\n",
    "history_by_discounting_qlearning_inv_time_epsilon = []\n",
    "for discounting_factor in discounting_factors:\n",
    "    print(f'Discounting factor: {discounting_factor}')\n",
    "    num_iters = 3\n",
    "    total_fumbles, num_winning_pos = evaluate_using_fumbles_averaged(qlearning, num_iters=num_iters, sample_step=sample_step_reward_negative_on_loss, prob_optimal=0.6, epsilon_schedule_update=simplest_schedule)\n",
    "\n",
    "    fumble_rate_by_discounting_qlearning_inv_time_epsilon.append(float(total_fumbles) / float(num_winning_pos * num_iters))\n",
    "    print('Average number of fumbles:', total_fumbles / num_iters)\n",
    "    print('Fumble rate: {:.2f}%'.format(fumble_rate_by_discounting_qlearning_inv_time_epsilon[-1] * 100))\n",
    "    # Train the model with the current discounting factor\n",
    "    print(\"Training with discounting factor to get Q-value plot:\", discounting_factor)\n",
    "    policy, Q, history = qlearning(sample_step=sample_step_reward_negative_on_loss, prob_optimal=0.6, epsilon_schedule_update=simplest_schedule)\n",
    "    history_by_discounting_qlearning_inv_time_epsilon.append(history)"
   ]
  },
  {
   "cell_type": "code",
   "execution_count": null,
   "id": "bafdbb03",
   "metadata": {},
   "outputs": [],
   "source": [
    "for i, discounting_factor in enumerate(discounting_factors):\n",
    "    plt.plot(history_by_discounting_qlearning_inv_time_epsilon[i], label=f'DF: {discounting_factor:.1f}')\n",
    "plt.xlabel('Episodes')\n",
    "plt.ylabel('Q-value')\n",
    "plt.title('Q-value over episodes for Q-learning with different discounting factors and 1/(i+1) epsilon schedule')\n",
    "plt.legend()\n",
    "plt.show()"
   ]
  },
  {
   "cell_type": "code",
   "execution_count": null,
   "id": "f1e335dc",
   "metadata": {},
   "outputs": [],
   "source": [
    "plt.plot(fumble_rate_by_discounting_qlearning_inv_time_epsilon)\n",
    "plt.xlabel('Discounting Factor')\n",
    "plt.ylabel('Fumble Rate')\n",
    "plt.title('Fumble rate for different discounting factors in Q-learning with 1/(i+1) epsilon schedule')\n",
    "plt.xticks(range(len(discounting_factors)), [f'{df:.1f}' for df in discounting_factors])\n",
    "plt.show()"
   ]
  },
  {
   "cell_type": "code",
   "execution_count": null,
   "id": "41577ec9",
   "metadata": {},
   "outputs": [],
   "source": [
    "# Evaluate the performance of the self-play Q-learning policy with respect to discounting factor\n",
    "fumble_rate_by_discounting_self_play = []\n",
    "history_by_discounting_self_play = []\n",
    "for discounting_factor in discounting_factors:\n",
    "    print(f'Discounting factor: {discounting_factor}')\n",
    "    num_iters = 3\n",
    "    total_fumbles, num_winning_pos = evaluate_using_fumbles_averaged(qlearning_self_play, num_iters=num_iters, sample_step=sample_step_reward_negative_on_loss_self_play_unless_spec, epsilon_schedule=get_geometric_schedule(decay=0.3))\n",
    "\n",
    "    fumble_rate_by_discounting_self_play.append(float(total_fumbles) / float(num_winning_pos * num_iters))\n",
    "    print('Average number of fumbles:', total_fumbles / num_iters)\n",
    "    print('Fumble rate: {:.2f}%'.format(fumble_rate_by_discounting_self_play[-1] * 100))\n",
    "    # Train the model with the current discounting factor\n",
    "    print(\"Training with discounting factor to get Q-value plot:\", discounting_factor)\n",
    "    policy, Q, history = qlearning_self_play(sample_step=sample_step_reward_negative_on_loss_self_play_unless_spec)\n",
    "    history_by_discounting_self_play.append(history)"
   ]
  },
  {
   "cell_type": "code",
   "execution_count": null,
   "id": "a5119100",
   "metadata": {},
   "outputs": [],
   "source": [
    "for i, discounting_factor in enumerate(discounting_factors):\n",
    "    plt.plot(history_by_discounting_self_play[i], label=f'DF: {discounting_factor:.1f}')\n",
    "plt.xlabel('Episodes')\n",
    "plt.ylabel('Q-value')\n",
    "plt.title('Q-value over episodes for Self play Q-learning with different discounting factors')\n",
    "plt.legend()\n",
    "plt.show()"
   ]
  },
  {
   "cell_type": "code",
   "execution_count": null,
   "id": "6156948b",
   "metadata": {},
   "outputs": [],
   "source": [
    "plt.plot(fumble_rate_by_discounting_self_play)\n",
    "plt.xlabel('Discounting Factor')\n",
    "plt.ylabel('Fumble Rate')\n",
    "plt.title('Fumble rate for different discounting factors in Self play Q-learning')\n",
    "plt.xticks(range(len(discounting_factors)), [f'{df:.1f}' for df in discounting_factors])\n",
    "plt.show()"
   ]
  },
  {
   "cell_type": "code",
   "execution_count": null,
   "id": "f34b1de2",
   "metadata": {},
   "outputs": [],
   "source": [
    "# Evaluate the performance of the self-play Q-learning policy with respect to discounting factor\n",
    "fumble_rate_by_discounting_self_play_with_mentor = []\n",
    "history_by_discounting_self_play_with_mentor = []\n",
    "for discounting_factor in discounting_factors:\n",
    "    print(f'Discounting factor: {discounting_factor}')\n",
    "    num_iters = 3\n",
    "    total_fumbles, num_winning_pos = evaluate_using_fumbles_averaged(qlearning_self_play, num_iters=num_iters, sample_step=sample_step_reward_negative_on_loss_self_play_unless_spec, play_against_optimal_until=10000, epsilon_schedule=get_geometric_schedule(decay=0.3))\n",
    "\n",
    "    fumble_rate_by_discounting_self_play_with_mentor.append(float(total_fumbles) / float(num_winning_pos * num_iters))\n",
    "    print('Average number of fumbles:', total_fumbles / num_iters)\n",
    "    print('Fumble rate: {:.2f}%'.format(fumble_rate_by_discounting_self_play_with_mentor[-1] * 100))\n",
    "    # Train the model with the current discounting factor\n",
    "    print(\"Training with discounting factor to get Q-value plot:\", discounting_factor)\n",
    "    policy, Q, history = qlearning_self_play(sample_step=sample_step_reward_negative_on_loss_self_play_unless_spec)\n",
    "    history_by_discounting_self_play_with_mentor.append(history)"
   ]
  },
  {
   "cell_type": "code",
   "execution_count": null,
   "id": "16e58ead",
   "metadata": {},
   "outputs": [],
   "source": [
    "for i, discounting_factor in enumerate(discounting_factors):\n",
    "    plt.plot(history_by_discounting_self_play_with_mentor[i], label=f'DF: {discounting_factor:.1f}')\n",
    "plt.xlabel('Episodes')\n",
    "plt.ylabel('Q-value')\n",
    "plt.title('Q-value over episodes for Self play Q-learning with mentor with different discounting factors')\n",
    "plt.legend()\n",
    "plt.show()"
   ]
  },
  {
   "cell_type": "code",
   "execution_count": null,
   "id": "e957694d",
   "metadata": {},
   "outputs": [],
   "source": [
    "plt.plot(fumble_rate_by_discounting_self_play_with_mentor)\n",
    "plt.xlabel('Discounting Factor')\n",
    "plt.ylabel('Fumble Rate')\n",
    "plt.title('Fumble rate for different discounting factors in Self play Q-learning with mentor')\n",
    "plt.xticks(range(len(discounting_factors)), [f'{df:.1f}' for df in discounting_factors])\n",
    "plt.show()"
   ]
  }
 ],
 "metadata": {
  "kernelspec": {
   "display_name": "rl",
   "language": "python",
   "name": "python3"
  },
  "language_info": {
   "codemirror_mode": {
    "name": "ipython",
    "version": 3
   },
   "file_extension": ".py",
   "mimetype": "text/x-python",
   "name": "python",
   "nbconvert_exporter": "python",
   "pygments_lexer": "ipython3",
   "version": "3.13.4"
  }
 },
 "nbformat": 4,
 "nbformat_minor": 5
}
